{
 "cells": [
  {
   "metadata": {},
   "cell_type": "markdown",
   "source": "`Processors.xlsx`",
   "id": "85c246b3c39652c9"
  },
  {
   "cell_type": "code",
   "id": "initial_id",
   "metadata": {
    "collapsed": true,
    "ExecuteTime": {
     "end_time": "2025-06-09T05:37:03.731816Z",
     "start_time": "2025-06-09T05:37:03.653249Z"
    }
   },
   "source": "import pandas as pd, plotly.express as px",
   "outputs": [],
   "execution_count": 11
  },
  {
   "metadata": {},
   "cell_type": "code",
   "source": "df = pd.read_excel('Processors.xlsx')",
   "id": "2c5cc32a82636303",
   "outputs": [],
   "execution_count": null
  },
  {
   "metadata": {},
   "cell_type": "code",
   "source": [
    "dfN = df.drop_duplicates().drop(columns=['Codename','Address Bus Width','Special Features','Non-volatile Memory Data Bus Width',]).copy()\n",
    "dfN.info()"
   ],
   "id": "6e913f905a3f68a",
   "outputs": [],
   "execution_count": null
  },
  {
   "metadata": {
    "ExecuteTime": {
     "end_time": "2025-06-09T05:54:29.094880Z",
     "start_time": "2025-06-09T05:54:29.080508Z"
    }
   },
   "cell_type": "code",
   "source": [
    "dfN.info()\n",
    "df.nunique()"
   ],
   "id": "2c1f8238636b8540",
   "outputs": [
    {
     "name": "stdout",
     "output_type": "stream",
     "text": [
      "<class 'pandas.core.frame.DataFrame'>\n",
      "Index: 1020 entries, 0 to 1020\n",
      "Data columns (total 47 columns):\n",
      " #   Column                               Non-Null Count  Dtype  \n",
      "---  ------                               --------------  -----  \n",
      " 0   Designer                             1020 non-null   object \n",
      " 1   Serie                                676 non-null    object \n",
      " 2   Type                                 1020 non-null   object \n",
      " 3   Year Released                        1020 non-null   int64  \n",
      " 4   Function                             1020 non-null   object \n",
      " 5   Width of Machine Word                1020 non-null   object \n",
      " 6   Supported Instruction Set(s)         1019 non-null   object \n",
      " 7   Type of processor core(s)            1014 non-null   object \n",
      " 8   Number of processor core(s)          1020 non-null   int64  \n",
      " 9   Memory Interface(s)                  1020 non-null   object \n",
      " 10  Max. Clock Frequency of Memory IF    544 non-null    object \n",
      " 11  Data Bus Width                       885 non-null    object \n",
      " 12  Number of data bus channels          1003 non-null   object \n",
      " 13  Non-volatile Memory Interface        1019 non-null   object \n",
      " 14  DMA Channels                         34 non-null     object \n",
      " 15  Recommended Minimum Clock Frequency  218 non-null    object \n",
      " 16  Recommended Maximum Clock Frequency  836 non-null    object \n",
      " 17  Max. Data Rate                       519 non-null    object \n",
      " 18  L1 Instruction Cache per Core        451 non-null    object \n",
      " 19  L0 Instruction Cache per Core        32 non-null     object \n",
      " 20  Number of L1 Cache Ways              32 non-null     object \n",
      " 21  L1 Data Cache per Core               433 non-null    object \n",
      " 22  Number of L2 Cache Ways              26 non-null     object \n",
      " 23  Total L2 Cache                       348 non-null    object \n",
      " 24  Total L3 Cache                       115 non-null    object \n",
      " 25  Internal Systembus Clock             48 non-null     object \n",
      " 26  Pipeline Stages                      228 non-null    object \n",
      " 27  Instruction Execution Performance    11 non-null     object \n",
      " 28  Feature Size                         782 non-null    object \n",
      " 29  Semiconductor Technology             1020 non-null   object \n",
      " 30  Number of Transistors Integrated     91 non-null     float64\n",
      " 31  Pins                                 154 non-null    object \n",
      " 32  Fab                                  651 non-null    object \n",
      " 33  Embedded GPU                         722 non-null    object \n",
      " 34  Number of GPU cores                  420 non-null    object \n",
      " 35  GPU Clock                            476 non-null    object \n",
      " 36  Dedicated Graphics Memory            143 non-null    object \n",
      " 37  Supported Cellular Data Links        1018 non-null   object \n",
      " 38  Supported USB Specification          1018 non-null   object \n",
      " 39  Bluetooth support                    1018 non-null   object \n",
      " 40  Wireless LAN support                 1018 non-null   object \n",
      " 41  NFC support                          53 non-null     object \n",
      " 42  Supported Audio/Video Interface      1019 non-null   object \n",
      " 43  Supported GPS protocol(s)            1020 non-null   object \n",
      " 44  Supported Galileo service(s)         275 non-null    object \n",
      " 45  Supported GLONASS protocol(s)        430 non-null    object \n",
      " 46  Supported BeiDou system (BDS)        328 non-null    object \n",
      "dtypes: float64(1), int64(2), object(44)\n",
      "memory usage: 382.5+ KB\n"
     ]
    },
    {
     "data": {
      "text/plain": [
       "Designer                                 46\n",
       "Serie                                    40\n",
       "Type                                   1020\n",
       "Codename                                137\n",
       "Year Released                            45\n",
       "Function                                  6\n",
       "Width of Machine Word                     4\n",
       "Supported Instruction Set(s)             62\n",
       "Type of processor core(s)               243\n",
       "Number of processor core(s)              11\n",
       "Memory Interface(s)                      62\n",
       "Max. Clock Frequency of Memory IF        43\n",
       "Data Bus Width                            6\n",
       "Address Bus Width                         3\n",
       "Number of data bus channels               6\n",
       "Non-volatile Memory Data Bus Width        5\n",
       "Non-volatile Memory Interface            76\n",
       "DMA Channels                              8\n",
       "Recommended Minimum Clock Frequency      68\n",
       "Recommended Maximum Clock Frequency     186\n",
       "Max. Data Rate                           65\n",
       "L1 Instruction Cache per Core            10\n",
       "L0 Instruction Cache per Core             1\n",
       "Number of L1 Cache Ways                   4\n",
       "L1 Data Cache per Core                    9\n",
       "Number of L2 Cache Ways                   4\n",
       "Total L2 Cache                           28\n",
       "Total L3 Cache                           12\n",
       "Internal Systembus Clock                 25\n",
       "Pipeline Stages                           9\n",
       "Instruction Execution Performance        10\n",
       "Feature Size                             27\n",
       "Semiconductor Technology                  5\n",
       "Number of Transistors Integrated         49\n",
       "Pins                                     64\n",
       "Fab                                       7\n",
       "Embedded GPU                            172\n",
       "Number of GPU cores                      25\n",
       "GPU Clock                               124\n",
       "Dedicated Graphics Memory                 6\n",
       "Supported Cellular Data Links           271\n",
       "Supported USB Specification              11\n",
       "Bluetooth support                         9\n",
       "Wireless LAN support                      8\n",
       "NFC support                               3\n",
       "Supported Audio/Video Interface          25\n",
       "Supported GPS protocol(s)                 3\n",
       "Supported Galileo service(s)              5\n",
       "Supported GLONASS protocol(s)             4\n",
       "Supported BeiDou system (BDS)            11\n",
       "Special Features                        880\n",
       "dtype: int64"
      ]
     },
     "execution_count": 37,
     "metadata": {},
     "output_type": "execute_result"
    }
   ],
   "execution_count": 37
  },
  {
   "metadata": {
    "ExecuteTime": {
     "end_time": "2025-06-09T05:44:56.352187Z",
     "start_time": "2025-06-09T05:44:56.336044Z"
    }
   },
   "cell_type": "code",
   "source": [
    "col = dfN.columns.tolist()\n",
    "dfN2 = dfN.fillna(value='NA').copy()\n",
    "dfN2.info()"
   ],
   "id": "6a42151e3e11c4a5",
   "outputs": [
    {
     "name": "stdout",
     "output_type": "stream",
     "text": [
      "<class 'pandas.core.frame.DataFrame'>\n",
      "Index: 1020 entries, 0 to 1020\n",
      "Data columns (total 47 columns):\n",
      " #   Column                               Non-Null Count  Dtype \n",
      "---  ------                               --------------  ----- \n",
      " 0   Designer                             1020 non-null   object\n",
      " 1   Serie                                1020 non-null   object\n",
      " 2   Type                                 1020 non-null   object\n",
      " 3   Year Released                        1020 non-null   int64 \n",
      " 4   Function                             1020 non-null   object\n",
      " 5   Width of Machine Word                1020 non-null   object\n",
      " 6   Supported Instruction Set(s)         1020 non-null   object\n",
      " 7   Type of processor core(s)            1020 non-null   object\n",
      " 8   Number of processor core(s)          1020 non-null   int64 \n",
      " 9   Memory Interface(s)                  1020 non-null   object\n",
      " 10  Max. Clock Frequency of Memory IF    1020 non-null   object\n",
      " 11  Data Bus Width                       1020 non-null   object\n",
      " 12  Number of data bus channels          1020 non-null   object\n",
      " 13  Non-volatile Memory Interface        1020 non-null   object\n",
      " 14  DMA Channels                         1020 non-null   object\n",
      " 15  Recommended Minimum Clock Frequency  1020 non-null   object\n",
      " 16  Recommended Maximum Clock Frequency  1020 non-null   object\n",
      " 17  Max. Data Rate                       1020 non-null   object\n",
      " 18  L1 Instruction Cache per Core        1020 non-null   object\n",
      " 19  L0 Instruction Cache per Core        1020 non-null   object\n",
      " 20  Number of L1 Cache Ways              1020 non-null   object\n",
      " 21  L1 Data Cache per Core               1020 non-null   object\n",
      " 22  Number of L2 Cache Ways              1020 non-null   object\n",
      " 23  Total L2 Cache                       1020 non-null   object\n",
      " 24  Total L3 Cache                       1020 non-null   object\n",
      " 25  Internal Systembus Clock             1020 non-null   object\n",
      " 26  Pipeline Stages                      1020 non-null   object\n",
      " 27  Instruction Execution Performance    1020 non-null   object\n",
      " 28  Feature Size                         1020 non-null   object\n",
      " 29  Semiconductor Technology             1020 non-null   object\n",
      " 30  Number of Transistors Integrated     1020 non-null   object\n",
      " 31  Pins                                 1020 non-null   object\n",
      " 32  Fab                                  1020 non-null   object\n",
      " 33  Embedded GPU                         1020 non-null   object\n",
      " 34  Number of GPU cores                  1020 non-null   object\n",
      " 35  GPU Clock                            1020 non-null   object\n",
      " 36  Dedicated Graphics Memory            1020 non-null   object\n",
      " 37  Supported Cellular Data Links        1020 non-null   object\n",
      " 38  Supported USB Specification          1020 non-null   object\n",
      " 39  Bluetooth support                    1020 non-null   object\n",
      " 40  Wireless LAN support                 1020 non-null   object\n",
      " 41  NFC support                          1020 non-null   object\n",
      " 42  Supported Audio/Video Interface      1020 non-null   object\n",
      " 43  Supported GPS protocol(s)            1020 non-null   object\n",
      " 44  Supported Galileo service(s)         1020 non-null   object\n",
      " 45  Supported GLONASS protocol(s)        1020 non-null   object\n",
      " 46  Supported BeiDou system (BDS)        1020 non-null   object\n",
      "dtypes: int64(2), object(45)\n",
      "memory usage: 382.5+ KB\n"
     ]
    }
   ],
   "execution_count": 26
  },
  {
   "metadata": {},
   "cell_type": "markdown",
   "source": "## One of the most successful chips with respect to Special Features\n",
   "id": "24a878dfd8e5a766"
  },
  {
   "metadata": {},
   "cell_type": "code",
   "source": [
    "dfTemp = df['Special Features'].str.split(',', expand= True)\n",
    "dfTemp.dropna()\n",
    "df.iloc[231]"
   ],
   "id": "bae7b6048f0b0ea4",
   "outputs": [],
   "execution_count": null
  },
  {
   "metadata": {
    "ExecuteTime": {
     "end_time": "2025-06-09T06:00:13.108950Z",
     "start_time": "2025-06-09T06:00:13.060118Z"
    }
   },
   "cell_type": "code",
   "source": [
    "dfN['Data Bus Width'].value_counts()\n",
    "fig = px.pie(dfN, names='Data Bus Width')\n",
    "fig.show()\n",
    "fig1 = px.pie(dfN2, names=f'{col[41]}')"
   ],
   "id": "f4a826abeb252eb8",
   "outputs": [
    {
     "data": {
      "application/vnd.plotly.v1+json": {
       "data": [
        {
         "domain": {
          "x": [
           0.0,
           1.0
          ],
          "y": [
           0.0,
           1.0
          ]
         },
         "hovertemplate": "Data Bus Width=%{label}<extra></extra>",
         "labels": [
          "16 bit",
          "64 bit",
          "16 bit",
          null,
          "16 bit",
          "16 bit",
          "64 bit",
          "64 bit",
          "16 bit",
          "16 bit",
          "16 bit",
          "16 bit",
          "16 bit",
          "16 bit",
          "16 bit",
          "16 bit",
          "16 bit",
          "16 bit",
          "16 bit",
          "16 bit",
          "16 bit",
          "16 bit",
          "16 bit",
          "16 bit",
          "16 bit",
          "16 bit",
          "16 bit",
          "16 bit",
          "16 bit",
          "16 bit",
          "16 bit",
          "16 bit",
          "16 bit",
          "16 bit",
          "16 bit",
          "16 bit",
          "16 bit",
          "16 bit",
          "16 bit",
          "16 bit",
          "16 bit",
          null,
          "16 bit",
          "16 bit",
          "16 bit",
          null,
          "64 bit",
          "64 bit",
          "64 bit",
          "16 bit",
          "16 bit",
          "16 bit",
          "16 bit",
          "16 bit",
          "16 bit",
          "16 bit",
          "16 bit",
          "16 bit",
          "16 bit",
          "16 bit",
          "16 bit",
          "16 bit",
          "16 bit",
          "16 bit",
          "16 bit",
          "16 bit",
          "16 bit",
          "16 bit",
          "16 bit",
          "16 bit",
          "16 bit",
          "16 bit",
          "16 bit",
          "16 bit",
          null,
          "16 bit",
          "16 bit",
          "16 bit",
          "16 bit",
          null,
          "16 bit",
          "64 bit",
          "64 bit",
          null,
          "16 bit",
          "128 bit",
          "128 bit",
          "16 bit",
          "16 bit",
          "16 bit",
          "16 bit",
          "16 bit",
          "16 bit",
          "16 bit",
          "16 bit",
          "16 bit",
          "16 bit",
          "16 bit",
          "16 bit",
          "16 bit",
          "16 bit",
          "16 bit",
          "16 bit",
          "16 bit",
          "16 bit",
          "16 bit",
          "16 bit",
          "16 bit",
          "16 bit",
          "16 bit",
          "16 bit",
          "16 bit",
          "16 bit",
          "16 bit",
          "16 bit",
          "16 bit",
          "16 bit",
          "16 bit",
          "16 bit",
          "16 bit",
          "16 bit",
          "16 bit",
          null,
          "16 bit",
          "128 bit",
          "128 bit",
          "128 bit",
          "128 bit",
          "16 bit",
          "16 bit",
          "16 bit",
          null,
          null,
          "16 bit",
          "16 bit",
          "16 bit",
          "16 bit",
          "16 bit",
          "16 bit",
          "16 bit",
          "16 bit",
          "16 bit",
          "16 bit",
          "16 bit",
          "16 bit",
          "16 bit",
          "16 bit",
          "16 bit",
          "16 bit",
          "16 bit",
          "16 bit",
          "16 bit",
          "16 bit",
          "16 bit",
          "16 bit",
          "16 bit",
          null,
          "16 bit",
          "16 bit",
          "16 bit",
          "16 bit",
          "16 bit",
          "16 bit",
          null,
          "64 bit",
          "64 bit",
          "16 bit",
          "64 bit",
          "16 bit",
          "16 bit",
          "32 bit",
          "16 bit",
          null,
          "16 bit",
          "16 bit",
          "16 bit",
          "16 bit",
          "16 bit",
          "16 bit",
          "16 bit",
          "16 bit",
          null,
          "16 bit",
          "16 bit",
          "32 bit",
          "16 bit",
          "16 bit",
          "16 bit",
          "16 bit",
          "16 bit",
          "16 bit",
          "16 bit",
          "32 bit",
          "16 bit",
          "32 bit",
          "16 bit",
          "16 bit",
          "16 bit",
          "16 bit",
          "16 bit",
          "16 bit",
          "16 bit",
          "16 bit",
          "16 bit",
          "16 bit",
          "16 bit",
          "16 bit",
          "32 bit",
          "16 bit",
          "16 bit",
          "16 bit",
          "16 bit",
          "16 bit",
          null,
          "16 bit",
          "16 bit",
          "16 bit",
          "16 bit",
          null,
          null,
          null,
          "16 bit",
          "16 bit",
          "16 bit",
          "16 bit",
          "16 bit",
          "32 bit",
          "16 bit",
          "16 bit",
          "16 bit",
          "16 bit",
          "16 bit",
          "16 bit",
          "16 bit",
          "16 bit",
          "16 bit",
          "16 bit",
          "16 bit",
          "16 bit",
          "16 bit",
          "64 bit",
          null,
          "16 bit",
          "16 bit",
          "32 bit",
          null,
          "16 bit",
          "32 bit",
          "32 bit",
          "32 bit",
          "16 bit",
          "32 bit",
          "2 bit",
          "16 bit",
          "16 bit",
          "16 bit",
          "32 bit",
          "16 bit",
          "32 bit",
          "32 bit",
          "32 bit",
          "32 bit",
          "16 bit",
          "16 bit",
          "32 bit",
          "32 bit",
          "16 bit",
          "32 bit",
          "16 bit",
          "16 bit",
          null,
          null,
          null,
          null,
          "16 bit",
          "64 bit",
          "16 bit",
          "32 bit",
          "32 bit",
          "64 bit",
          "64 bit",
          "32 bit",
          null,
          null,
          "16 bit",
          "16 bit",
          "32 bit",
          "16 bit",
          "32 bit",
          "32 bit",
          "32 bit",
          "32 bit",
          "16 bit",
          "32 bit",
          "32 bit",
          "32 bit",
          "32 bit",
          "16 bit",
          "16 bit",
          null,
          "32 bit",
          null,
          null,
          "32 bit",
          "32 bit",
          null,
          null,
          "64 bit",
          "32 bit",
          "16 bit",
          "32 bit",
          "32 bit",
          "64 bit",
          "64 bit",
          "64 bit",
          "64 bit",
          "64 bit",
          "64 bit",
          "64 bit",
          "64 bit",
          "64 bit",
          "32 bit",
          "32 bit",
          "32 bit",
          null,
          "32 bit",
          "32 bit",
          "32 bit",
          "32 bit",
          "32 bit",
          "32 bit",
          "32 bit",
          "32 bit",
          "32 bit",
          "32 bit",
          "32 bit",
          "32 bit",
          "32 bit",
          "32 bit",
          "32 bit",
          "32 bit",
          "32 bit",
          "32 bit",
          "32 bit",
          "32 bit",
          "32 bit",
          "32 bit",
          null,
          "32 bit",
          "32 bit",
          "32 bit",
          "32 bit",
          "32 bit",
          "32 bit",
          "32 bit",
          "32 bit",
          "64 bit",
          "64 bit",
          "32 bit",
          null,
          "32 bit",
          "32 bit",
          "32 bit",
          "32 bit",
          "32 bit",
          "32 bit",
          "64 bit",
          "64 bit",
          "64 bit",
          "64 bit",
          "64 bit",
          "32 bit",
          "64 bit",
          "64 bit",
          "64 bit",
          "64 bit",
          "64 bit",
          "32 bit",
          "32 bit",
          "64 bit",
          null,
          "32 bit",
          "32 bit",
          "32 bit",
          "32 bit",
          "32 bit",
          null,
          "32 bit",
          "32 bit",
          "32 bit",
          null,
          null,
          "32 bit",
          null,
          "32 bit",
          null,
          "32 bit",
          "32 bit",
          null,
          "32 bit",
          "32 bit",
          "64 bit",
          "32 bit",
          "32 bit",
          "32 bit",
          "32 bit",
          "32 bit",
          "32 bit",
          "32 bit",
          "32 bit",
          "32 bit",
          "32 bit",
          "64 bit",
          "32 bit",
          "64 bit",
          "32 bit",
          "32 bit",
          "32 bit",
          "32 bit",
          null,
          "32 bit",
          "32 bit",
          "32 bit",
          "32 bit",
          "32 bit",
          "32 bit",
          "64 bit",
          "64 bit",
          "32 bit",
          "32 bit",
          "16 bit",
          "32 bit",
          "32 bit",
          "64 bit",
          "64 bit",
          "32 bit",
          "64 bit",
          "64 bit",
          "64 bit",
          "64 bit",
          "64 bit",
          "64 bit",
          "64 bit",
          "64 bit",
          "64 bit",
          "64 bit",
          "64 bit",
          "32 bit",
          "64 bit",
          "64 bit",
          "64 bit",
          "64 bit",
          null,
          null,
          "32 bit",
          null,
          "32 bit",
          "32 bit",
          "32 bit",
          null,
          "32 bit",
          "32 bit",
          null,
          null,
          null,
          null,
          null,
          null,
          "32 bit",
          "32 bit",
          "32 bit",
          "32 bit",
          null,
          "32 bit",
          "32 bit",
          "64 bit",
          "64 bit",
          "32 bit",
          "32 bit",
          "32 bit",
          "32 bit",
          "32 bit",
          "32 bit",
          "32 bit",
          "32 bit",
          "16 bit",
          "32 bit",
          "32 bit",
          "32 bit",
          "32 bit",
          "32 bit",
          "32 bit",
          "32 bit",
          "32 bit",
          "32 bit",
          "32 bit",
          "32 bit",
          "16 bit",
          "32 bit",
          "32 bit",
          "32 bit",
          "32 bit",
          "32 bit",
          "32 bit",
          "32 bit",
          "32 bit",
          null,
          "32 bit",
          "32 bit",
          "32 bit",
          "32 bit",
          "32 bit",
          "32 bit",
          "32 bit",
          "32 bit",
          "64 bit",
          "32 bit",
          null,
          "32 bit",
          "32 bit",
          "32 bit",
          "32 bit",
          "64 bit",
          "64 bit",
          "128 bit",
          "32 bit",
          "16 bit",
          "64 bit",
          "64 bit",
          "64 bit",
          "64 bit",
          "64 bit",
          "64 bit",
          "64 bit",
          "64 bit",
          "64 bit",
          "64 bit",
          "64 bit",
          "64 bit",
          "64 bit",
          "64 bit",
          "64 bit",
          "64 bit",
          "64 bit",
          "32 bit",
          "32 bit",
          "32 bit",
          "32 bit",
          "32 bit",
          null,
          null,
          null,
          "32 bit",
          null,
          null,
          null,
          null,
          null,
          null,
          "32 bit",
          "32 bit",
          null,
          "32 bit",
          "32 bit",
          "32 bit",
          null,
          "32 bit",
          null,
          "32 bit",
          null,
          null,
          "32 bit",
          "32 bit",
          "32 bit",
          "32 bit",
          "32 bit",
          "32 bit",
          "32 bit",
          "32 bit",
          "32 bit",
          "32 bit",
          "32 bit",
          "32 bit",
          "32 bit",
          "32 bit",
          "32 bit",
          "32 bit",
          "32 bit",
          "32 bit",
          "32 bit",
          "32 bit",
          "32 bit",
          "32 bit",
          "32 bit",
          "32 bit",
          "32 bit",
          "32 bit",
          "32 bit",
          "32 bit",
          "32 bit",
          "32 bit",
          "32 bit",
          "32 bit",
          "32 bit",
          "32 bit",
          "32 bit",
          "32 bit",
          "32 bit",
          "32 bit",
          "32 bit",
          "32 bit",
          "32 bit",
          null,
          "32 bit",
          "32 bit",
          null,
          null,
          "32 bit",
          "32 bit",
          "32 bit",
          "16 bit",
          null,
          null,
          "32 bit",
          null,
          "16 bit",
          null,
          "32 bit",
          "32 bit",
          "32 bit",
          "32 bit",
          "64 bit",
          "32 bit",
          "32 bit",
          "32 bit",
          "32 bit",
          "32 bit",
          "32 bit",
          "32 bit",
          "32 bit",
          "64 bit",
          "32 bit",
          "32 bit",
          null,
          "32 bit",
          null,
          null,
          null,
          null,
          "32 bit",
          null,
          null,
          null,
          "32 bit",
          null,
          "32 bit",
          "32 bit",
          "32 bit",
          "32 bit",
          "32 bit",
          null,
          "32 bit",
          "32 bit",
          "32 bit",
          "32 bit",
          "32 bit",
          "32 bit",
          "32 bit",
          "32 bit",
          "32 bit",
          "32 bit",
          "32 bit",
          null,
          "32 bit",
          "32 bit",
          "32 bit",
          "32 bit",
          "32 bit",
          "32 bit",
          null,
          null,
          null,
          null,
          null,
          null,
          "32 bit",
          null,
          null,
          "16 bit",
          "32 bit",
          null,
          "32 bit",
          "32 bit",
          null,
          null,
          "32 bit",
          "32 bit",
          "32 bit",
          "32 bit",
          "32 bit",
          "32 bit",
          "32 bit",
          "32 bit",
          "32 bit",
          "32 bit",
          "32 bit",
          "32 bit",
          "32 bit",
          "32 bit",
          "32 bit",
          "32 bit",
          "32 bit",
          null,
          "32 bit",
          "32 bit",
          null,
          "32 bit",
          "32 bit",
          "32 bit",
          "32 bit",
          "32 bit",
          "128 bit",
          null,
          "32 bit",
          null,
          "32 bit",
          "32 bit",
          "32 bit",
          null,
          "32 bit",
          "32 bit",
          null,
          "32 bit",
          "32 bit",
          "32 bit",
          "32 bit",
          "32 bit",
          "32 bit",
          "32 bit",
          null,
          "64 bit",
          "32 bit",
          "32 bit",
          "64 bit",
          null,
          null,
          null,
          null,
          null,
          null,
          null,
          null,
          null,
          null,
          "32 bit",
          "32 bit",
          "32 bit",
          "32 bit",
          "32 bit",
          null,
          "64 bit",
          "16 bit",
          "32 bit",
          null,
          "32 bit",
          null,
          null,
          "32 bit",
          "32 bit",
          "32 bit",
          "32 bit",
          "32 bit",
          null,
          "32 bit",
          "32 bit",
          "32 bit",
          "32 bit",
          "16 bit",
          "64 bit",
          "64 bit",
          "32 bit",
          "32 bit",
          "32 bit",
          "32 bit",
          "32 bit",
          "32 bit",
          "32 bit",
          "32 bit",
          "32 bit",
          "64 bit",
          "64 bit",
          null,
          null,
          null,
          "32 bit",
          "32 bit",
          "32 bit",
          "32 bit",
          "32 bit",
          "32 bit",
          "32 bit",
          "32 bit",
          "32 bit",
          "32 bit",
          "32 bit",
          "32 bit",
          "32 bit",
          "32 bit",
          "32 bit",
          null,
          "32 bit",
          "32 bit",
          "64 bit",
          "32 bit",
          "16 bit",
          "16 bit",
          "16 bit",
          "32 bit",
          "32 bit",
          "32 bit",
          "32 bit",
          "32 bit",
          "32 bit",
          "32 bit",
          "32 bit",
          "32 bit",
          "32 bit",
          "32 bit",
          "32 bit",
          "16 bit",
          "16 bit",
          null,
          null,
          "32 bit",
          "32 bit",
          "32 bit",
          "32 bit",
          "32 bit",
          "32 bit",
          "32 bit",
          "32 bit",
          "32 bit",
          "16 bit",
          "32 bit",
          "32 bit",
          "64 bit",
          "16 bit",
          "32 bit",
          "32 bit",
          "32 bit",
          "32 bit",
          "32 bit",
          "32 bit",
          "32 bit",
          "32 bit",
          null,
          null,
          "32 bit",
          "32 bit",
          "32 bit",
          "32 bit",
          "32 bit",
          "32 bit",
          "32 bit",
          "32 bit",
          "32 bit",
          null,
          "32 bit",
          "32 bit",
          "16 bit",
          "16 bit",
          "32 bit",
          null,
          "32 bit",
          "32 bit",
          "32 bit",
          "32 bit",
          "32 bit",
          "32 bit",
          "32 bit",
          "32 bit",
          "32 bit",
          "32 bit",
          "32 bit",
          "32 bit",
          "32 bit",
          "32 bit",
          "32 bit",
          "32 bit",
          "32 bit",
          "32 bit",
          "32 bit",
          "32 bit",
          "32 bit",
          "32 bit",
          "32 bit",
          "32 bit",
          "32 bit",
          "32 bit",
          "32 bit",
          "32 bit",
          "32 bit",
          "32 bit",
          null,
          "64 bit",
          "32 bit",
          "32 bit",
          "32 bit",
          "32 bit",
          "32 bit",
          "32 bit",
          "32 bit",
          "32 bit",
          "32 bit",
          "32 bit",
          "32 bit",
          "32 bit",
          "32 bit",
          "32 bit",
          "32 bit",
          "32 bit",
          "64 bit",
          "64 bit",
          "32 bit",
          "32 bit",
          "32 bit",
          "32 bit",
          "64 bit",
          "64 bit",
          "32 bit",
          "32 bit",
          "64 bit",
          "64 bit",
          "64 bit",
          "32 bit",
          "32 bit",
          "64 bit",
          "32 bit",
          "32 bit",
          "32 bit",
          "32 bit",
          "32 bit",
          "32 bit",
          null,
          "64 bit",
          "32 bit",
          "32 bit",
          "32 bit",
          "32 bit",
          "32 bit",
          null,
          null,
          "64 bit",
          "64 bit",
          "32 bit",
          "32 bit",
          "32 bit",
          "32 bit",
          "32 bit",
          "32 bit",
          null,
          "64 bit",
          "32 bit",
          "64 bit",
          "64 bit",
          "32 bit",
          "32 bit",
          "32 bit",
          "32 bit",
          "32 bit",
          "32 bit",
          "32 bit",
          "32 bit",
          "32 bit",
          "32 bit",
          "32 bit",
          "32 bit",
          "64 bit",
          "32 bit",
          "32 bit",
          "32 bit",
          "32 bit",
          "32 bit",
          "64 bit",
          "64 bit",
          "64 bit",
          "32 bit",
          "32 bit",
          "32 bit",
          null,
          "16 bit",
          "32 bit",
          "32 bit",
          "32 bit",
          "32 bit",
          "32 bit",
          "64 bit",
          "32 bit",
          "32 bit",
          "64 bit",
          "32 bit",
          "32 bit",
          "32 bit",
          "32 bit",
          "32 bit",
          "32 bit",
          "16 bit",
          "32 bit",
          "32 bit",
          "8 bit",
          "32 bit",
          "32 bit",
          "8 bit",
          "16 bit",
          "16 bit",
          "16 bit",
          "8 bit",
          "8 bit",
          "8 bit",
          "32 bit"
         ],
         "legendgroup": "",
         "name": "",
         "showlegend": true,
         "type": "pie"
        }
       ],
       "layout": {
        "template": {
         "data": {
          "histogram2dcontour": [
           {
            "type": "histogram2dcontour",
            "colorbar": {
             "outlinewidth": 0,
             "ticks": ""
            },
            "colorscale": [
             [
              0.0,
              "#0d0887"
             ],
             [
              0.1111111111111111,
              "#46039f"
             ],
             [
              0.2222222222222222,
              "#7201a8"
             ],
             [
              0.3333333333333333,
              "#9c179e"
             ],
             [
              0.4444444444444444,
              "#bd3786"
             ],
             [
              0.5555555555555556,
              "#d8576b"
             ],
             [
              0.6666666666666666,
              "#ed7953"
             ],
             [
              0.7777777777777778,
              "#fb9f3a"
             ],
             [
              0.8888888888888888,
              "#fdca26"
             ],
             [
              1.0,
              "#f0f921"
             ]
            ]
           }
          ],
          "choropleth": [
           {
            "type": "choropleth",
            "colorbar": {
             "outlinewidth": 0,
             "ticks": ""
            }
           }
          ],
          "histogram2d": [
           {
            "type": "histogram2d",
            "colorbar": {
             "outlinewidth": 0,
             "ticks": ""
            },
            "colorscale": [
             [
              0.0,
              "#0d0887"
             ],
             [
              0.1111111111111111,
              "#46039f"
             ],
             [
              0.2222222222222222,
              "#7201a8"
             ],
             [
              0.3333333333333333,
              "#9c179e"
             ],
             [
              0.4444444444444444,
              "#bd3786"
             ],
             [
              0.5555555555555556,
              "#d8576b"
             ],
             [
              0.6666666666666666,
              "#ed7953"
             ],
             [
              0.7777777777777778,
              "#fb9f3a"
             ],
             [
              0.8888888888888888,
              "#fdca26"
             ],
             [
              1.0,
              "#f0f921"
             ]
            ]
           }
          ],
          "heatmap": [
           {
            "type": "heatmap",
            "colorbar": {
             "outlinewidth": 0,
             "ticks": ""
            },
            "colorscale": [
             [
              0.0,
              "#0d0887"
             ],
             [
              0.1111111111111111,
              "#46039f"
             ],
             [
              0.2222222222222222,
              "#7201a8"
             ],
             [
              0.3333333333333333,
              "#9c179e"
             ],
             [
              0.4444444444444444,
              "#bd3786"
             ],
             [
              0.5555555555555556,
              "#d8576b"
             ],
             [
              0.6666666666666666,
              "#ed7953"
             ],
             [
              0.7777777777777778,
              "#fb9f3a"
             ],
             [
              0.8888888888888888,
              "#fdca26"
             ],
             [
              1.0,
              "#f0f921"
             ]
            ]
           }
          ],
          "contourcarpet": [
           {
            "type": "contourcarpet",
            "colorbar": {
             "outlinewidth": 0,
             "ticks": ""
            }
           }
          ],
          "contour": [
           {
            "type": "contour",
            "colorbar": {
             "outlinewidth": 0,
             "ticks": ""
            },
            "colorscale": [
             [
              0.0,
              "#0d0887"
             ],
             [
              0.1111111111111111,
              "#46039f"
             ],
             [
              0.2222222222222222,
              "#7201a8"
             ],
             [
              0.3333333333333333,
              "#9c179e"
             ],
             [
              0.4444444444444444,
              "#bd3786"
             ],
             [
              0.5555555555555556,
              "#d8576b"
             ],
             [
              0.6666666666666666,
              "#ed7953"
             ],
             [
              0.7777777777777778,
              "#fb9f3a"
             ],
             [
              0.8888888888888888,
              "#fdca26"
             ],
             [
              1.0,
              "#f0f921"
             ]
            ]
           }
          ],
          "surface": [
           {
            "type": "surface",
            "colorbar": {
             "outlinewidth": 0,
             "ticks": ""
            },
            "colorscale": [
             [
              0.0,
              "#0d0887"
             ],
             [
              0.1111111111111111,
              "#46039f"
             ],
             [
              0.2222222222222222,
              "#7201a8"
             ],
             [
              0.3333333333333333,
              "#9c179e"
             ],
             [
              0.4444444444444444,
              "#bd3786"
             ],
             [
              0.5555555555555556,
              "#d8576b"
             ],
             [
              0.6666666666666666,
              "#ed7953"
             ],
             [
              0.7777777777777778,
              "#fb9f3a"
             ],
             [
              0.8888888888888888,
              "#fdca26"
             ],
             [
              1.0,
              "#f0f921"
             ]
            ]
           }
          ],
          "mesh3d": [
           {
            "type": "mesh3d",
            "colorbar": {
             "outlinewidth": 0,
             "ticks": ""
            }
           }
          ],
          "scatter": [
           {
            "marker": {
             "line": {
              "color": "#283442"
             }
            },
            "type": "scatter"
           }
          ],
          "parcoords": [
           {
            "type": "parcoords",
            "line": {
             "colorbar": {
              "outlinewidth": 0,
              "ticks": ""
             }
            }
           }
          ],
          "scatterpolargl": [
           {
            "type": "scatterpolargl",
            "marker": {
             "colorbar": {
              "outlinewidth": 0,
              "ticks": ""
             }
            }
           }
          ],
          "bar": [
           {
            "error_x": {
             "color": "#f2f5fa"
            },
            "error_y": {
             "color": "#f2f5fa"
            },
            "marker": {
             "line": {
              "color": "rgb(17,17,17)",
              "width": 0.5
             },
             "pattern": {
              "fillmode": "overlay",
              "size": 10,
              "solidity": 0.2
             }
            },
            "type": "bar"
           }
          ],
          "scattergeo": [
           {
            "type": "scattergeo",
            "marker": {
             "colorbar": {
              "outlinewidth": 0,
              "ticks": ""
             }
            }
           }
          ],
          "scatterpolar": [
           {
            "type": "scatterpolar",
            "marker": {
             "colorbar": {
              "outlinewidth": 0,
              "ticks": ""
             }
            }
           }
          ],
          "histogram": [
           {
            "marker": {
             "pattern": {
              "fillmode": "overlay",
              "size": 10,
              "solidity": 0.2
             }
            },
            "type": "histogram"
           }
          ],
          "scattergl": [
           {
            "marker": {
             "line": {
              "color": "#283442"
             }
            },
            "type": "scattergl"
           }
          ],
          "scatter3d": [
           {
            "type": "scatter3d",
            "line": {
             "colorbar": {
              "outlinewidth": 0,
              "ticks": ""
             }
            },
            "marker": {
             "colorbar": {
              "outlinewidth": 0,
              "ticks": ""
             }
            }
           }
          ],
          "scattermap": [
           {
            "type": "scattermap",
            "marker": {
             "colorbar": {
              "outlinewidth": 0,
              "ticks": ""
             }
            }
           }
          ],
          "scattermapbox": [
           {
            "type": "scattermapbox",
            "marker": {
             "colorbar": {
              "outlinewidth": 0,
              "ticks": ""
             }
            }
           }
          ],
          "scatterternary": [
           {
            "type": "scatterternary",
            "marker": {
             "colorbar": {
              "outlinewidth": 0,
              "ticks": ""
             }
            }
           }
          ],
          "scattercarpet": [
           {
            "type": "scattercarpet",
            "marker": {
             "colorbar": {
              "outlinewidth": 0,
              "ticks": ""
             }
            }
           }
          ],
          "carpet": [
           {
            "aaxis": {
             "endlinecolor": "#A2B1C6",
             "gridcolor": "#506784",
             "linecolor": "#506784",
             "minorgridcolor": "#506784",
             "startlinecolor": "#A2B1C6"
            },
            "baxis": {
             "endlinecolor": "#A2B1C6",
             "gridcolor": "#506784",
             "linecolor": "#506784",
             "minorgridcolor": "#506784",
             "startlinecolor": "#A2B1C6"
            },
            "type": "carpet"
           }
          ],
          "table": [
           {
            "cells": {
             "fill": {
              "color": "#506784"
             },
             "line": {
              "color": "rgb(17,17,17)"
             }
            },
            "header": {
             "fill": {
              "color": "#2a3f5f"
             },
             "line": {
              "color": "rgb(17,17,17)"
             }
            },
            "type": "table"
           }
          ],
          "barpolar": [
           {
            "marker": {
             "line": {
              "color": "rgb(17,17,17)",
              "width": 0.5
             },
             "pattern": {
              "fillmode": "overlay",
              "size": 10,
              "solidity": 0.2
             }
            },
            "type": "barpolar"
           }
          ],
          "pie": [
           {
            "automargin": true,
            "type": "pie"
           }
          ]
         },
         "layout": {
          "autotypenumbers": "strict",
          "colorway": [
           "#636efa",
           "#EF553B",
           "#00cc96",
           "#ab63fa",
           "#FFA15A",
           "#19d3f3",
           "#FF6692",
           "#B6E880",
           "#FF97FF",
           "#FECB52"
          ],
          "font": {
           "color": "#f2f5fa"
          },
          "hovermode": "closest",
          "hoverlabel": {
           "align": "left"
          },
          "paper_bgcolor": "rgb(17,17,17)",
          "plot_bgcolor": "rgb(17,17,17)",
          "polar": {
           "bgcolor": "rgb(17,17,17)",
           "angularaxis": {
            "gridcolor": "#506784",
            "linecolor": "#506784",
            "ticks": ""
           },
           "radialaxis": {
            "gridcolor": "#506784",
            "linecolor": "#506784",
            "ticks": ""
           }
          },
          "ternary": {
           "bgcolor": "rgb(17,17,17)",
           "aaxis": {
            "gridcolor": "#506784",
            "linecolor": "#506784",
            "ticks": ""
           },
           "baxis": {
            "gridcolor": "#506784",
            "linecolor": "#506784",
            "ticks": ""
           },
           "caxis": {
            "gridcolor": "#506784",
            "linecolor": "#506784",
            "ticks": ""
           }
          },
          "coloraxis": {
           "colorbar": {
            "outlinewidth": 0,
            "ticks": ""
           }
          },
          "colorscale": {
           "sequential": [
            [
             0.0,
             "#0d0887"
            ],
            [
             0.1111111111111111,
             "#46039f"
            ],
            [
             0.2222222222222222,
             "#7201a8"
            ],
            [
             0.3333333333333333,
             "#9c179e"
            ],
            [
             0.4444444444444444,
             "#bd3786"
            ],
            [
             0.5555555555555556,
             "#d8576b"
            ],
            [
             0.6666666666666666,
             "#ed7953"
            ],
            [
             0.7777777777777778,
             "#fb9f3a"
            ],
            [
             0.8888888888888888,
             "#fdca26"
            ],
            [
             1.0,
             "#f0f921"
            ]
           ],
           "sequentialminus": [
            [
             0.0,
             "#0d0887"
            ],
            [
             0.1111111111111111,
             "#46039f"
            ],
            [
             0.2222222222222222,
             "#7201a8"
            ],
            [
             0.3333333333333333,
             "#9c179e"
            ],
            [
             0.4444444444444444,
             "#bd3786"
            ],
            [
             0.5555555555555556,
             "#d8576b"
            ],
            [
             0.6666666666666666,
             "#ed7953"
            ],
            [
             0.7777777777777778,
             "#fb9f3a"
            ],
            [
             0.8888888888888888,
             "#fdca26"
            ],
            [
             1.0,
             "#f0f921"
            ]
           ],
           "diverging": [
            [
             0,
             "#8e0152"
            ],
            [
             0.1,
             "#c51b7d"
            ],
            [
             0.2,
             "#de77ae"
            ],
            [
             0.3,
             "#f1b6da"
            ],
            [
             0.4,
             "#fde0ef"
            ],
            [
             0.5,
             "#f7f7f7"
            ],
            [
             0.6,
             "#e6f5d0"
            ],
            [
             0.7,
             "#b8e186"
            ],
            [
             0.8,
             "#7fbc41"
            ],
            [
             0.9,
             "#4d9221"
            ],
            [
             1,
             "#276419"
            ]
           ]
          },
          "xaxis": {
           "gridcolor": "#283442",
           "linecolor": "#506784",
           "ticks": "",
           "title": {
            "standoff": 15
           },
           "zerolinecolor": "#283442",
           "automargin": true,
           "zerolinewidth": 2
          },
          "yaxis": {
           "gridcolor": "#283442",
           "linecolor": "#506784",
           "ticks": "",
           "title": {
            "standoff": 15
           },
           "zerolinecolor": "#283442",
           "automargin": true,
           "zerolinewidth": 2
          },
          "scene": {
           "xaxis": {
            "backgroundcolor": "rgb(17,17,17)",
            "gridcolor": "#506784",
            "linecolor": "#506784",
            "showbackground": true,
            "ticks": "",
            "zerolinecolor": "#C8D4E3",
            "gridwidth": 2
           },
           "yaxis": {
            "backgroundcolor": "rgb(17,17,17)",
            "gridcolor": "#506784",
            "linecolor": "#506784",
            "showbackground": true,
            "ticks": "",
            "zerolinecolor": "#C8D4E3",
            "gridwidth": 2
           },
           "zaxis": {
            "backgroundcolor": "rgb(17,17,17)",
            "gridcolor": "#506784",
            "linecolor": "#506784",
            "showbackground": true,
            "ticks": "",
            "zerolinecolor": "#C8D4E3",
            "gridwidth": 2
           }
          },
          "shapedefaults": {
           "line": {
            "color": "#f2f5fa"
           }
          },
          "annotationdefaults": {
           "arrowcolor": "#f2f5fa",
           "arrowhead": 0,
           "arrowwidth": 1
          },
          "geo": {
           "bgcolor": "rgb(17,17,17)",
           "landcolor": "rgb(17,17,17)",
           "subunitcolor": "#506784",
           "showland": true,
           "showlakes": true,
           "lakecolor": "rgb(17,17,17)"
          },
          "title": {
           "x": 0.05
          },
          "updatemenudefaults": {
           "bgcolor": "#506784",
           "borderwidth": 0
          },
          "sliderdefaults": {
           "bgcolor": "#C8D4E3",
           "borderwidth": 1,
           "bordercolor": "rgb(17,17,17)",
           "tickwidth": 0
          },
          "mapbox": {
           "style": "dark"
          }
         }
        },
        "legend": {
         "tracegroupgap": 0
        },
        "margin": {
         "t": 60
        }
       },
       "config": {
        "plotlyServerURL": "https://plot.ly"
       }
      }
     },
     "metadata": {},
     "output_type": "display_data"
    }
   ],
   "execution_count": 45
  },
  {
   "metadata": {},
   "cell_type": "code",
   "source": "df['Designer'].value_counts().head(10)",
   "id": "5f834b10d069b81a",
   "outputs": [],
   "execution_count": null
  },
  {
   "metadata": {},
   "cell_type": "code",
   "source": "df",
   "id": "ec6a1b4892e1e5c4",
   "outputs": [],
   "execution_count": null
  },
  {
   "metadata": {},
   "cell_type": "code",
   "source": "",
   "id": "b26fa31e997f03dc",
   "outputs": [],
   "execution_count": null
  }
 ],
 "metadata": {
  "kernelspec": {
   "display_name": "Python 3",
   "language": "python",
   "name": "python3"
  },
  "language_info": {
   "codemirror_mode": {
    "name": "ipython",
    "version": 2
   },
   "file_extension": ".py",
   "mimetype": "text/x-python",
   "name": "python",
   "nbconvert_exporter": "python",
   "pygments_lexer": "ipython2",
   "version": "2.7.6"
  }
 },
 "nbformat": 4,
 "nbformat_minor": 5
}
