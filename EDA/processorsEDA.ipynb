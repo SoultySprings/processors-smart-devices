{
 "cells": [
  {
   "metadata": {},
   "cell_type": "markdown",
   "source": [
    "## Processors EDA\n",
    "`Processors.xlsx`"
   ],
   "id": "5ff5df9a1479127b"
  },
  {
   "metadata": {},
   "cell_type": "markdown",
   "source": "### Importing libraries for the project",
   "id": "9af9e0750fb460a6"
  },
  {
   "metadata": {
    "trusted": true,
    "execution": {
     "iopub.status.busy": "2025-06-09T10:55:57.589069Z",
     "iopub.execute_input": "2025-06-09T10:55:57.589430Z",
     "iopub.status.idle": "2025-06-09T10:55:59.392826Z",
     "shell.execute_reply.started": "2025-06-09T10:55:57.589403Z",
     "shell.execute_reply": "2025-06-09T10:55:59.391619Z"
    },
    "ExecuteTime": {
     "end_time": "2025-06-09T11:04:05.399526Z",
     "start_time": "2025-06-09T11:04:05.393158Z"
    }
   },
   "cell_type": "code",
   "source": "import pandas as pd, plotly.express as px",
   "id": "a4b1c5d6158314e1",
   "outputs": [],
   "execution_count": 33
  },
  {
   "metadata": {},
   "cell_type": "markdown",
   "source": "### Reading Dataset through Excel as CSV isn't in proper format",
   "id": "3d5aea82a4cc7ea8"
  },
  {
   "metadata": {
    "trusted": true,
    "execution": {
     "iopub.status.busy": "2025-06-09T10:56:07.621517Z",
     "iopub.execute_input": "2025-06-09T10:56:07.622066Z",
     "iopub.status.idle": "2025-06-09T10:56:08.706642Z",
     "shell.execute_reply.started": "2025-06-09T10:56:07.622023Z",
     "shell.execute_reply": "2025-06-09T10:56:08.705452Z"
    },
    "ExecuteTime": {
     "end_time": "2025-06-09T11:04:05.669659Z",
     "start_time": "2025-06-09T11:04:05.428188Z"
    }
   },
   "cell_type": "code",
   "source": "df = pd.read_excel('Processors.xlsx')",
   "id": "6d01bf425e0cbbf8",
   "outputs": [],
   "execution_count": 34
  },
  {
   "metadata": {},
   "cell_type": "markdown",
   "source": "#### Removing columns that either have a lot of null data or are irrelevant to the analysis",
   "id": "b20e8f60da3462f8"
  },
  {
   "metadata": {
    "trusted": true,
    "execution": {
     "iopub.status.busy": "2025-06-09T10:45:28.441075Z",
     "iopub.execute_input": "2025-06-09T10:45:28.441397Z",
     "iopub.status.idle": "2025-06-09T10:45:28.495193Z",
     "shell.execute_reply.started": "2025-06-09T10:45:28.441371Z",
     "shell.execute_reply": "2025-06-09T10:45:28.494089Z"
    },
    "ExecuteTime": {
     "end_time": "2025-06-09T11:04:05.705772Z",
     "start_time": "2025-06-09T11:04:05.676702Z"
    }
   },
   "cell_type": "code",
   "source": [
    "dfN = df.drop_duplicates().drop(columns=['Codename','Address Bus Width','Non-volatile Memory Data Bus Width',]).copy()\n",
    "col = dfN.columns.tolist()\n",
    "dfN.info()\n",
    "print(col)"
   ],
   "id": "fba321aa223ea1b2",
   "outputs": [
    {
     "name": "stdout",
     "output_type": "stream",
     "text": [
      "<class 'pandas.core.frame.DataFrame'>\n",
      "Index: 1020 entries, 0 to 1020\n",
      "Data columns (total 48 columns):\n",
      " #   Column                               Non-Null Count  Dtype  \n",
      "---  ------                               --------------  -----  \n",
      " 0   Designer                             1020 non-null   object \n",
      " 1   Serie                                676 non-null    object \n",
      " 2   Type                                 1020 non-null   object \n",
      " 3   Year Released                        1020 non-null   int64  \n",
      " 4   Function                             1020 non-null   object \n",
      " 5   Width of Machine Word                1020 non-null   object \n",
      " 6   Supported Instruction Set(s)         1019 non-null   object \n",
      " 7   Type of processor core(s)            1014 non-null   object \n",
      " 8   Number of processor core(s)          1020 non-null   int64  \n",
      " 9   Memory Interface(s)                  1020 non-null   object \n",
      " 10  Max. Clock Frequency of Memory IF    544 non-null    object \n",
      " 11  Data Bus Width                       885 non-null    object \n",
      " 12  Number of data bus channels          1003 non-null   object \n",
      " 13  Non-volatile Memory Interface        1019 non-null   object \n",
      " 14  DMA Channels                         34 non-null     object \n",
      " 15  Recommended Minimum Clock Frequency  218 non-null    object \n",
      " 16  Recommended Maximum Clock Frequency  836 non-null    object \n",
      " 17  Max. Data Rate                       519 non-null    object \n",
      " 18  L1 Instruction Cache per Core        451 non-null    object \n",
      " 19  L0 Instruction Cache per Core        32 non-null     object \n",
      " 20  Number of L1 Cache Ways              32 non-null     object \n",
      " 21  L1 Data Cache per Core               433 non-null    object \n",
      " 22  Number of L2 Cache Ways              26 non-null     object \n",
      " 23  Total L2 Cache                       348 non-null    object \n",
      " 24  Total L3 Cache                       115 non-null    object \n",
      " 25  Internal Systembus Clock             48 non-null     object \n",
      " 26  Pipeline Stages                      228 non-null    object \n",
      " 27  Instruction Execution Performance    11 non-null     object \n",
      " 28  Feature Size                         782 non-null    object \n",
      " 29  Semiconductor Technology             1020 non-null   object \n",
      " 30  Number of Transistors Integrated     91 non-null     float64\n",
      " 31  Pins                                 154 non-null    object \n",
      " 32  Fab                                  651 non-null    object \n",
      " 33  Embedded GPU                         722 non-null    object \n",
      " 34  Number of GPU cores                  420 non-null    object \n",
      " 35  GPU Clock                            476 non-null    object \n",
      " 36  Dedicated Graphics Memory            143 non-null    object \n",
      " 37  Supported Cellular Data Links        1018 non-null   object \n",
      " 38  Supported USB Specification          1018 non-null   object \n",
      " 39  Bluetooth support                    1018 non-null   object \n",
      " 40  Wireless LAN support                 1018 non-null   object \n",
      " 41  NFC support                          53 non-null     object \n",
      " 42  Supported Audio/Video Interface      1019 non-null   object \n",
      " 43  Supported GPS protocol(s)            1020 non-null   object \n",
      " 44  Supported Galileo service(s)         275 non-null    object \n",
      " 45  Supported GLONASS protocol(s)        430 non-null    object \n",
      " 46  Supported BeiDou system (BDS)        328 non-null    object \n",
      " 47  Special Features                     979 non-null    object \n",
      "dtypes: float64(1), int64(2), object(45)\n",
      "memory usage: 390.5+ KB\n",
      "['Designer', 'Serie', 'Type', 'Year Released', 'Function', 'Width of Machine Word', 'Supported Instruction Set(s)', 'Type of processor core(s)', 'Number of processor core(s)', 'Memory Interface(s)', 'Max. Clock Frequency of Memory IF', 'Data Bus Width', 'Number of data bus channels', 'Non-volatile Memory Interface', 'DMA Channels', 'Recommended Minimum Clock Frequency', 'Recommended Maximum Clock Frequency', 'Max. Data Rate', 'L1 Instruction Cache per Core', 'L0 Instruction Cache per Core', 'Number of L1 Cache Ways', 'L1 Data Cache per Core', 'Number of L2 Cache Ways', 'Total L2 Cache', 'Total L3 Cache', 'Internal Systembus Clock', 'Pipeline Stages', 'Instruction Execution Performance', 'Feature Size', 'Semiconductor Technology', 'Number of Transistors Integrated', 'Pins', 'Fab', 'Embedded GPU', 'Number of GPU cores', 'GPU Clock', 'Dedicated Graphics Memory', 'Supported Cellular Data Links', 'Supported USB Specification', 'Bluetooth support', 'Wireless LAN support', 'NFC support', 'Supported Audio/Video Interface', 'Supported GPS protocol(s)', 'Supported Galileo service(s)', 'Supported GLONASS protocol(s)', 'Supported BeiDou system (BDS)', 'Special Features']\n"
     ]
    }
   ],
   "execution_count": 35
  },
  {
   "metadata": {},
   "cell_type": "markdown",
   "source": "### Counting the number of unique quantities per column to their total to use for further Data Visualization",
   "id": "d12794d6af60ace5"
  },
  {
   "metadata": {
    "trusted": true,
    "execution": {
     "iopub.status.busy": "2025-06-09T10:57:29.440798Z",
     "iopub.execute_input": "2025-06-09T10:57:29.441162Z",
     "iopub.status.idle": "2025-06-09T10:57:29.448555Z",
     "shell.execute_reply.started": "2025-06-09T10:57:29.441136Z",
     "shell.execute_reply": "2025-06-09T10:57:29.447302Z"
    },
    "ExecuteTime": {
     "end_time": "2025-06-09T11:04:05.756057Z",
     "start_time": "2025-06-09T11:04:05.734510Z"
    }
   },
   "cell_type": "code",
   "source": [
    "n=0\n",
    "for value in col:\n",
    "    unqiuePercentage = round(100-((dfN[f'{value}'].nunique())/(dfN[f'{value}'].count()))*100, 5)\n",
    "    print(f'{value:<40} : {dfN[f'{value}'].nunique() :<10} : {dfN[f'{value}'].count() :<10} : {unqiuePercentage}')\n",
    "    col.append(f'{value}')\n",
    "    n+=1\n",
    "    if n==48:\n",
    "        break"
   ],
   "id": "c7e5506ee31421e9",
   "outputs": [
    {
     "name": "stdout",
     "output_type": "stream",
     "text": [
      "Designer                                 : 46         : 1020       : 95.4902\n",
      "Serie                                    : 40         : 676        : 94.08284\n",
      "Type                                     : 1020       : 1020       : 0.0\n",
      "Year Released                            : 45         : 1020       : 95.58824\n",
      "Function                                 : 6          : 1020       : 99.41176\n",
      "Width of Machine Word                    : 4          : 1020       : 99.60784\n",
      "Supported Instruction Set(s)             : 62         : 1019       : 93.9156\n",
      "Type of processor core(s)                : 243        : 1014       : 76.0355\n",
      "Number of processor core(s)              : 11         : 1020       : 98.92157\n",
      "Memory Interface(s)                      : 62         : 1020       : 93.92157\n",
      "Max. Clock Frequency of Memory IF        : 43         : 544        : 92.09559\n",
      "Data Bus Width                           : 6          : 885        : 99.32203\n",
      "Number of data bus channels              : 6          : 1003       : 99.40179\n",
      "Non-volatile Memory Interface            : 76         : 1019       : 92.54171\n",
      "DMA Channels                             : 8          : 34         : 76.47059\n",
      "Recommended Minimum Clock Frequency      : 68         : 218        : 68.80734\n",
      "Recommended Maximum Clock Frequency      : 186        : 836        : 77.7512\n",
      "Max. Data Rate                           : 65         : 519        : 87.47592\n",
      "L1 Instruction Cache per Core            : 10         : 451        : 97.78271\n",
      "L0 Instruction Cache per Core            : 1          : 32         : 96.875\n",
      "Number of L1 Cache Ways                  : 4          : 32         : 87.5\n",
      "L1 Data Cache per Core                   : 9          : 433        : 97.92148\n",
      "Number of L2 Cache Ways                  : 4          : 26         : 84.61538\n",
      "Total L2 Cache                           : 28         : 348        : 91.95402\n",
      "Total L3 Cache                           : 12         : 115        : 89.56522\n",
      "Internal Systembus Clock                 : 25         : 48         : 47.91667\n",
      "Pipeline Stages                          : 9          : 228        : 96.05263\n",
      "Instruction Execution Performance        : 10         : 11         : 9.09091\n",
      "Feature Size                             : 27         : 782        : 96.54731\n",
      "Semiconductor Technology                 : 5          : 1020       : 99.5098\n",
      "Number of Transistors Integrated         : 49         : 91         : 46.15385\n",
      "Pins                                     : 64         : 154        : 58.44156\n",
      "Fab                                      : 7          : 651        : 98.92473\n",
      "Embedded GPU                             : 172        : 722        : 76.17729\n",
      "Number of GPU cores                      : 25         : 420        : 94.04762\n",
      "GPU Clock                                : 124        : 476        : 73.94958\n",
      "Dedicated Graphics Memory                : 6          : 143        : 95.8042\n",
      "Supported Cellular Data Links            : 271        : 1018       : 73.37917\n",
      "Supported USB Specification              : 11         : 1018       : 98.91945\n",
      "Bluetooth support                        : 9          : 1018       : 99.11591\n",
      "Wireless LAN support                     : 8          : 1018       : 99.21415\n",
      "NFC support                              : 3          : 53         : 94.33962\n",
      "Supported Audio/Video Interface          : 25         : 1019       : 97.54661\n",
      "Supported GPS protocol(s)                : 3          : 1020       : 99.70588\n",
      "Supported Galileo service(s)             : 5          : 275        : 98.18182\n",
      "Supported GLONASS protocol(s)            : 4          : 430        : 99.06977\n",
      "Supported BeiDou system (BDS)            : 11         : 328        : 96.64634\n",
      "Special Features                         : 880        : 979        : 10.11236\n"
     ]
    }
   ],
   "execution_count": 36
  },
  {
   "metadata": {},
   "cell_type": "markdown",
   "source": "### Shortening it down to the ones which have higher uniquity to non-null data",
   "id": "dfa33acb57957e85"
  },
  {
   "metadata": {
    "trusted": true,
    "execution": {
     "iopub.status.busy": "2025-06-09T10:47:02.547627Z",
     "iopub.execute_input": "2025-06-09T10:47:02.547956Z",
     "iopub.status.idle": "2025-06-09T10:47:02.556145Z",
     "shell.execute_reply.started": "2025-06-09T10:47:02.547933Z",
     "shell.execute_reply": "2025-06-09T10:47:02.554416Z"
    },
    "ExecuteTime": {
     "end_time": "2025-06-09T11:04:05.886369Z",
     "start_time": "2025-06-09T11:04:05.848749Z"
    }
   },
   "cell_type": "code",
   "source": [
    "dfTemp = dfN.fillna(value='N/A').copy()\n",
    "col2 = []\n",
    "for value in col:\n",
    "    if dfN[f'{value}'].count() > 1000 and (round(100-((dfN[f'{value}'].nunique())/(dfN[f'{value}'].count()))*100, 5)) > 90:\n",
    "        unqiuePercentage = round(100-((dfN[f'{value}'].nunique())/(dfN[f'{value}'].count()))*100, 5)\n",
    "        print(f'{value:<40} : {dfN[f'{value}'].nunique() :<10} : {dfN[f'{value}'].count()} : {unqiuePercentage}')\n",
    "        col2.append(f'{value}')\n",
    "\n",
    "print(f'\\n{col2}')"
   ],
   "id": "1684a1628966b99b",
   "outputs": [
    {
     "name": "stdout",
     "output_type": "stream",
     "text": [
      "Designer                                 : 46         : 1020 : 95.4902\n",
      "Year Released                            : 45         : 1020 : 95.58824\n",
      "Function                                 : 6          : 1020 : 99.41176\n",
      "Width of Machine Word                    : 4          : 1020 : 99.60784\n",
      "Supported Instruction Set(s)             : 62         : 1019 : 93.9156\n",
      "Number of processor core(s)              : 11         : 1020 : 98.92157\n",
      "Memory Interface(s)                      : 62         : 1020 : 93.92157\n",
      "Number of data bus channels              : 6          : 1003 : 99.40179\n",
      "Non-volatile Memory Interface            : 76         : 1019 : 92.54171\n",
      "Semiconductor Technology                 : 5          : 1020 : 99.5098\n",
      "Supported USB Specification              : 11         : 1018 : 98.91945\n",
      "Bluetooth support                        : 9          : 1018 : 99.11591\n",
      "Wireless LAN support                     : 8          : 1018 : 99.21415\n",
      "Supported Audio/Video Interface          : 25         : 1019 : 97.54661\n",
      "Supported GPS protocol(s)                : 3          : 1020 : 99.70588\n",
      "Designer                                 : 46         : 1020 : 95.4902\n",
      "Year Released                            : 45         : 1020 : 95.58824\n",
      "Function                                 : 6          : 1020 : 99.41176\n",
      "Width of Machine Word                    : 4          : 1020 : 99.60784\n",
      "Supported Instruction Set(s)             : 62         : 1019 : 93.9156\n",
      "Number of processor core(s)              : 11         : 1020 : 98.92157\n",
      "Memory Interface(s)                      : 62         : 1020 : 93.92157\n",
      "Number of data bus channels              : 6          : 1003 : 99.40179\n",
      "Non-volatile Memory Interface            : 76         : 1019 : 92.54171\n",
      "Semiconductor Technology                 : 5          : 1020 : 99.5098\n",
      "Supported USB Specification              : 11         : 1018 : 98.91945\n",
      "Bluetooth support                        : 9          : 1018 : 99.11591\n",
      "Wireless LAN support                     : 8          : 1018 : 99.21415\n",
      "Supported Audio/Video Interface          : 25         : 1019 : 97.54661\n",
      "Supported GPS protocol(s)                : 3          : 1020 : 99.70588\n",
      "\n",
      "['Designer', 'Year Released', 'Function', 'Width of Machine Word', 'Supported Instruction Set(s)', 'Number of processor core(s)', 'Memory Interface(s)', 'Number of data bus channels', 'Non-volatile Memory Interface', 'Semiconductor Technology', 'Supported USB Specification', 'Bluetooth support', 'Wireless LAN support', 'Supported Audio/Video Interface', 'Supported GPS protocol(s)', 'Designer', 'Year Released', 'Function', 'Width of Machine Word', 'Supported Instruction Set(s)', 'Number of processor core(s)', 'Memory Interface(s)', 'Number of data bus channels', 'Non-volatile Memory Interface', 'Semiconductor Technology', 'Supported USB Specification', 'Bluetooth support', 'Wireless LAN support', 'Supported Audio/Video Interface', 'Supported GPS protocol(s)']\n"
     ]
    }
   ],
   "execution_count": 37
  },
  {
   "metadata": {},
   "cell_type": "markdown",
   "source": "### Figuring the chips that have the highest Special Features and maybe successfull as well\n",
   "id": "b58c049b92ac859d"
  },
  {
   "metadata": {
    "collapsed": true,
    "jupyter": {
     "outputs_hidden": true
    },
    "ExecuteTime": {
     "end_time": "2025-06-09T11:04:05.940339Z",
     "start_time": "2025-06-09T11:04:05.905480Z"
    }
   },
   "cell_type": "code",
   "source": [
    "dfTemp = dfN['Special Features'].str.split(',', expand= True)\n",
    "dfTemp.dropna(thresh=39).head(10)"
   ],
   "id": "8298ef8f2fe42e46",
   "outputs": [
    {
     "data": {
      "text/plain": [
       "                                                    0   \\\n",
       "71   single Qualcomm Kryo Prime (1x ARM Cortex-X3 u...   \n",
       "117  single Qualcomm Kryo Prime (1x ARM Cortex-X2 u...   \n",
       "144  single Qualcomm Kryo Prime (1x ARM Cortex-X2 u...   \n",
       "153  quad Qualcomm Kryo 485 Gold Harvard Superscala...   \n",
       "154  quad Qualcomm Kryo 585 Gold Harvard Superscala...   \n",
       "199  quad Qualcomm Kryo 585 Gold Harvard Superscala...   \n",
       "204  quad Qualcomm Kryo 585 Gold Harvard Superscala...   \n",
       "228                                            SDM855+   \n",
       "231                                             SDM855   \n",
       "256  quad Qualcomm Kryo 385 Gold Harvard Superscala...   \n",
       "\n",
       "                                                    1   \\\n",
       "71    1 Mbyte L2 cache) + dual Qualcomm Kryo Gold (...   \n",
       "117   1 Mbyte L2 cache) + triple Qualcomm Kryo Gold...   \n",
       "144   1 Mbyte L2 cache) + triple Qualcomm Kryo Gold...   \n",
       "153                   3x ARM Cortex-A76 up to 2419 MHz   \n",
       "154                    3x ARM Cortex-A77 up to 2.4 GHz   \n",
       "199                    3x ARM Cortex-A77 up to 2.4 GHz   \n",
       "204                   3x ARM Cortex-A77 up to 2.42 GHz   \n",
       "228   quad Qualcomm Kryo 485 Gold Harvard Superscal...   \n",
       "231   quad Qualcomm Kryo 485 Gold Harvard Superscal...   \n",
       "256   1 Mbyte L2 cluster cache) + quad Qualcomm Kry...   \n",
       "\n",
       "                                                    2   \\\n",
       "71    512 Kbyte L2 cache per core) + dual Qualcomm ...   \n",
       "117   512 Kbyte L2 cache per core) + quad Qualcomm ...   \n",
       "144   512 Kbyte L2 cache per core) + quad Qualcomm ...   \n",
       "153   1280 Kbyte L2 cluster cache) + quad Qualcomm ...   \n",
       "154   1 Mbyte L2 cluster cache) + quad Qualcomm Kry...   \n",
       "199   1 Mbyte L2 cluster cache) + quad Qualcomm Kry...   \n",
       "204   1 Mbyte L2 cluster cache) + quad Qualcomm Kry...   \n",
       "228                   3x ARM Cortex-A76 up to 2419 MHz   \n",
       "231                   3x ARM Cortex-A76 up to 2419 MHz   \n",
       "256   512 Kbyte L2 cluster cache) Harvard Superscal...   \n",
       "\n",
       "                                                    3   \\\n",
       "71    512 Kbyte L2 cache per core) + triple Qualcom...   \n",
       "117                                                HMP   \n",
       "144                                                HMP   \n",
       "153   512 Kbyte L2 cluster cache) Harvard Superscal...   \n",
       "154   512 Kbyte L2 cluster cache) Harvard Superscal...   \n",
       "199   512 Kbyte L2 cluster cache) Harvard Superscal...   \n",
       "204   512 Kbyte L2 cluster cache) Harvard Superscal...   \n",
       "228   1 Mbyte L2 cluster cache) + quad Qualcomm Kry...   \n",
       "231   1280 Kbyte L2 cluster cache) + quad Qualcomm ...   \n",
       "256                                                HMP   \n",
       "\n",
       "                                                    4                     5   \\\n",
       "71                                                 HMP            big.LITTLE   \n",
       "117                                         big.LITTLE   up to 16 GiB of RAM   \n",
       "144                                         big.LITTLE   up to 16 GiB of RAM   \n",
       "153                                                HMP            big.LITTLE   \n",
       "154                               3 Mbyte System cache                   HMP   \n",
       "199                               3 Mbyte System cache                   HMP   \n",
       "204                               3 Mbyte System cache                   HMP   \n",
       "228   512 Kbyte L2 cluster cache) Harvard Superscal...                   HMP   \n",
       "231   512 Kbyte L2 cluster cache) Harvard Superscal...                   HMP   \n",
       "256                                         big.LITTLE    eMMC 5.1 interface   \n",
       "\n",
       "                       6                                                  7   \\\n",
       "71    up to 16 GiB of RAM                                 4 GiB system cache   \n",
       "117    4 GiB system cache                                        Hexagon DSP   \n",
       "144    4 GiB system cache                                        Hexagon DSP   \n",
       "153      up to 16 GiB RAM                                    Hexagon 690 DSP   \n",
       "154            big.LITTLE   quad-channel 16-bit 2133 MHz LPDDR4X / 2750 M...   \n",
       "199            big.LITTLE   quad-channel 16-bit 2133 MHz LPDDR4X / 2750 M...   \n",
       "204            big.LITTLE   quad-channel 16-bit 2133 MHz LPDDR4X / 2750 M...   \n",
       "228            big.LITTLE                                   up to 12 GiB RAM   \n",
       "231            big.LITTLE                                   up to 16 GiB RAM   \n",
       "256       Hexagon 685 DSP                             Qualcomm X20 LTE Modem   \n",
       "\n",
       "                               8                             9   ...  \\\n",
       "71                    Hexagon DSP      Qualcomm X70 5G NR Modem  ...   \n",
       "117      Qualcomm X65 5G NR Modem   CDMA 2000 1x Adv./DO Rel 0.  ...   \n",
       "144      Qualcomm X65 5G NR Modem   CDMA 2000 1x Adv./DO Rel 0.  ...   \n",
       "153        Qualcomm X24 LTE Modem    CDMA 2000 1x Adv./DO Rel 0  ...   \n",
       "154               Hexagon 698 DSP      Qualcomm X55 5G NR Modem  ...   \n",
       "199               Hexagon 698 DSP      Qualcomm X55 5G NR Modem  ...   \n",
       "204               Hexagon 698 DSP      Qualcomm X55 5G NR Modem  ...   \n",
       "228               Hexagon 690 DSP        Qualcomm X24 LTE Modem  ...   \n",
       "231               Hexagon 690 DSP        Qualcomm X24 LTE Modem  ...   \n",
       "256   CDMA 2000 1x Adv./DO Rel 0.                      Rev. A/B  ...   \n",
       "\n",
       "                                                  34  \\\n",
       "71    18-bit triple Qualcomm Image Signal Processors   \n",
       "117   18-bit triple Qualcomm Image Signal Processors   \n",
       "144   18-bit triple Qualcomm Image Signal Processors   \n",
       "153                             Renderscript Compute   \n",
       "154                                       Vulkan 1.1   \n",
       "199                                       Vulkan 1.1   \n",
       "204                                       Vulkan 1.1   \n",
       "228                  Qualcomm VIVE 802.11ac/802.11ad   \n",
       "231                                       Vulkan 1.1   \n",
       "256                             Renderscript Compute   \n",
       "\n",
       "                                                    35  \\\n",
       "71                               200 MP camera support   \n",
       "117                              200 MP camera support   \n",
       "144                              200 MP camera support   \n",
       "153                                 FlexRender support   \n",
       "154   Qualcomm Spectra 14-bit dual Qualcomm Spectra...   \n",
       "199   Qualcomm Spectra 14-bit dual Qualcomm Spectra...   \n",
       "204   Qualcomm Spectra 14-bit dual Qualcomm Spectra...   \n",
       "228                               Renderscript Compute   \n",
       "231                    Qualcomm VIVE 802.11ac/802.11ad   \n",
       "256                                 FlexRender support   \n",
       "\n",
       "                                                    36  \\\n",
       "71              64 MP + 36 MP dual lens camera support   \n",
       "117             64 MP + 36 MP dual lens camera support   \n",
       "144             64 MP + 36 MP dual lens camera support   \n",
       "153   Qualcomm Spectra 14-bit dual Qualcomm Spectra...   \n",
       "154                               64 MP camera support   \n",
       "199                               64 MP camera support   \n",
       "204                               64 MP camera support   \n",
       "228                                 FlexRender support   \n",
       "231                               Renderscript Compute   \n",
       "256   Qualcomm Spectra 14-bit dual Qualcomm Spectra...   \n",
       "\n",
       "                                                    37  \\\n",
       "71                                             EIS 3.0   \n",
       "117                                            EIS 3.0   \n",
       "144                                            EIS 3.0   \n",
       "153                               48 MP camera support   \n",
       "154             25 MP + 25 MP dual lens camera support   \n",
       "199             25 MP + 25 MP dual lens camera support   \n",
       "204             25 MP + 25 MP dual lens camera support   \n",
       "228   Qualcomm Spectra 14-bit dual Qualcomm Spectra...   \n",
       "231                                 FlexRender support   \n",
       "256                                            EIS 3.0   \n",
       "\n",
       "                                                    38  \\\n",
       "71                             Qualcomm Quick Charge 5   \n",
       "117                                           HDMI 2.0   \n",
       "144                                           HDMI 2.0   \n",
       "153             24 MP + 24 MP dual lens camera support   \n",
       "154                                            EIS 3.0   \n",
       "199                                            EIS 3.0   \n",
       "204                                            EIS 3.0   \n",
       "228                               48 MP camera support   \n",
       "231   Qualcomm Spectra 14-bit dual Qualcomm Spectra...   \n",
       "256                                           HDMI 2.0   \n",
       "\n",
       "                                          39  \\\n",
       "71                                      None   \n",
       "117                                     None   \n",
       "144                                     None   \n",
       "153                                  EIS 3.0   \n",
       "154                                 HDMI 2.0   \n",
       "199                                 HDMI 2.0   \n",
       "204                                 HDMI 2.0   \n",
       "228   24 MP + 24 MP dual lens camera support   \n",
       "231                     48 MP camera support   \n",
       "256           Qualcomm Quick Charge 4.0/4.0+   \n",
       "\n",
       "                                          40                               41  \\\n",
       "71                                      None                             None   \n",
       "117                                     None                             None   \n",
       "144                                     None                             None   \n",
       "153                                 HDMI 2.0   Qualcomm Quick Charge 4.0/4.0+   \n",
       "154           Qualcomm Quick Charge 4.0/4.0+                             None   \n",
       "199           Qualcomm Quick Charge 4.0/4.0+                             None   \n",
       "204           Qualcomm Quick Charge 4.0/4.0+                             None   \n",
       "228                                  EIS 3.0                         HDMI 2.0   \n",
       "231   24 MP + 24 MP dual lens camera support                          EIS 3.0   \n",
       "256                       Qualcomm AI Engine                             None   \n",
       "\n",
       "                                  42                               43  \n",
       "71                              None                             None  \n",
       "117                             None                             None  \n",
       "144                             None                             None  \n",
       "153                             None                             None  \n",
       "154                             None                             None  \n",
       "199                             None                             None  \n",
       "204                             None                             None  \n",
       "228   Qualcomm Quick Charge 4.0/4.0+                             None  \n",
       "231                         HDMI 2.0   Qualcomm Quick Charge 4.0/4.0+  \n",
       "256                             None                             None  \n",
       "\n",
       "[10 rows x 44 columns]"
      ],
      "text/html": [
       "<div>\n",
       "<style scoped>\n",
       "    .dataframe tbody tr th:only-of-type {\n",
       "        vertical-align: middle;\n",
       "    }\n",
       "\n",
       "    .dataframe tbody tr th {\n",
       "        vertical-align: top;\n",
       "    }\n",
       "\n",
       "    .dataframe thead th {\n",
       "        text-align: right;\n",
       "    }\n",
       "</style>\n",
       "<table border=\"1\" class=\"dataframe\">\n",
       "  <thead>\n",
       "    <tr style=\"text-align: right;\">\n",
       "      <th></th>\n",
       "      <th>0</th>\n",
       "      <th>1</th>\n",
       "      <th>2</th>\n",
       "      <th>3</th>\n",
       "      <th>4</th>\n",
       "      <th>5</th>\n",
       "      <th>6</th>\n",
       "      <th>7</th>\n",
       "      <th>8</th>\n",
       "      <th>9</th>\n",
       "      <th>...</th>\n",
       "      <th>34</th>\n",
       "      <th>35</th>\n",
       "      <th>36</th>\n",
       "      <th>37</th>\n",
       "      <th>38</th>\n",
       "      <th>39</th>\n",
       "      <th>40</th>\n",
       "      <th>41</th>\n",
       "      <th>42</th>\n",
       "      <th>43</th>\n",
       "    </tr>\n",
       "  </thead>\n",
       "  <tbody>\n",
       "    <tr>\n",
       "      <th>71</th>\n",
       "      <td>single Qualcomm Kryo Prime (1x ARM Cortex-X3 u...</td>\n",
       "      <td>1 Mbyte L2 cache) + dual Qualcomm Kryo Gold (...</td>\n",
       "      <td>512 Kbyte L2 cache per core) + dual Qualcomm ...</td>\n",
       "      <td>512 Kbyte L2 cache per core) + triple Qualcom...</td>\n",
       "      <td>HMP</td>\n",
       "      <td>big.LITTLE</td>\n",
       "      <td>up to 16 GiB of RAM</td>\n",
       "      <td>4 GiB system cache</td>\n",
       "      <td>Hexagon DSP</td>\n",
       "      <td>Qualcomm X70 5G NR Modem</td>\n",
       "      <td>...</td>\n",
       "      <td>18-bit triple Qualcomm Image Signal Processors</td>\n",
       "      <td>200 MP camera support</td>\n",
       "      <td>64 MP + 36 MP dual lens camera support</td>\n",
       "      <td>EIS 3.0</td>\n",
       "      <td>Qualcomm Quick Charge 5</td>\n",
       "      <td>None</td>\n",
       "      <td>None</td>\n",
       "      <td>None</td>\n",
       "      <td>None</td>\n",
       "      <td>None</td>\n",
       "    </tr>\n",
       "    <tr>\n",
       "      <th>117</th>\n",
       "      <td>single Qualcomm Kryo Prime (1x ARM Cortex-X2 u...</td>\n",
       "      <td>1 Mbyte L2 cache) + triple Qualcomm Kryo Gold...</td>\n",
       "      <td>512 Kbyte L2 cache per core) + quad Qualcomm ...</td>\n",
       "      <td>HMP</td>\n",
       "      <td>big.LITTLE</td>\n",
       "      <td>up to 16 GiB of RAM</td>\n",
       "      <td>4 GiB system cache</td>\n",
       "      <td>Hexagon DSP</td>\n",
       "      <td>Qualcomm X65 5G NR Modem</td>\n",
       "      <td>CDMA 2000 1x Adv./DO Rel 0.</td>\n",
       "      <td>...</td>\n",
       "      <td>18-bit triple Qualcomm Image Signal Processors</td>\n",
       "      <td>200 MP camera support</td>\n",
       "      <td>64 MP + 36 MP dual lens camera support</td>\n",
       "      <td>EIS 3.0</td>\n",
       "      <td>HDMI 2.0</td>\n",
       "      <td>None</td>\n",
       "      <td>None</td>\n",
       "      <td>None</td>\n",
       "      <td>None</td>\n",
       "      <td>None</td>\n",
       "    </tr>\n",
       "    <tr>\n",
       "      <th>144</th>\n",
       "      <td>single Qualcomm Kryo Prime (1x ARM Cortex-X2 u...</td>\n",
       "      <td>1 Mbyte L2 cache) + triple Qualcomm Kryo Gold...</td>\n",
       "      <td>512 Kbyte L2 cache per core) + quad Qualcomm ...</td>\n",
       "      <td>HMP</td>\n",
       "      <td>big.LITTLE</td>\n",
       "      <td>up to 16 GiB of RAM</td>\n",
       "      <td>4 GiB system cache</td>\n",
       "      <td>Hexagon DSP</td>\n",
       "      <td>Qualcomm X65 5G NR Modem</td>\n",
       "      <td>CDMA 2000 1x Adv./DO Rel 0.</td>\n",
       "      <td>...</td>\n",
       "      <td>18-bit triple Qualcomm Image Signal Processors</td>\n",
       "      <td>200 MP camera support</td>\n",
       "      <td>64 MP + 36 MP dual lens camera support</td>\n",
       "      <td>EIS 3.0</td>\n",
       "      <td>HDMI 2.0</td>\n",
       "      <td>None</td>\n",
       "      <td>None</td>\n",
       "      <td>None</td>\n",
       "      <td>None</td>\n",
       "      <td>None</td>\n",
       "    </tr>\n",
       "    <tr>\n",
       "      <th>153</th>\n",
       "      <td>quad Qualcomm Kryo 485 Gold Harvard Superscala...</td>\n",
       "      <td>3x ARM Cortex-A76 up to 2419 MHz</td>\n",
       "      <td>1280 Kbyte L2 cluster cache) + quad Qualcomm ...</td>\n",
       "      <td>512 Kbyte L2 cluster cache) Harvard Superscal...</td>\n",
       "      <td>HMP</td>\n",
       "      <td>big.LITTLE</td>\n",
       "      <td>up to 16 GiB RAM</td>\n",
       "      <td>Hexagon 690 DSP</td>\n",
       "      <td>Qualcomm X24 LTE Modem</td>\n",
       "      <td>CDMA 2000 1x Adv./DO Rel 0</td>\n",
       "      <td>...</td>\n",
       "      <td>Renderscript Compute</td>\n",
       "      <td>FlexRender support</td>\n",
       "      <td>Qualcomm Spectra 14-bit dual Qualcomm Spectra...</td>\n",
       "      <td>48 MP camera support</td>\n",
       "      <td>24 MP + 24 MP dual lens camera support</td>\n",
       "      <td>EIS 3.0</td>\n",
       "      <td>HDMI 2.0</td>\n",
       "      <td>Qualcomm Quick Charge 4.0/4.0+</td>\n",
       "      <td>None</td>\n",
       "      <td>None</td>\n",
       "    </tr>\n",
       "    <tr>\n",
       "      <th>154</th>\n",
       "      <td>quad Qualcomm Kryo 585 Gold Harvard Superscala...</td>\n",
       "      <td>3x ARM Cortex-A77 up to 2.4 GHz</td>\n",
       "      <td>1 Mbyte L2 cluster cache) + quad Qualcomm Kry...</td>\n",
       "      <td>512 Kbyte L2 cluster cache) Harvard Superscal...</td>\n",
       "      <td>3 Mbyte System cache</td>\n",
       "      <td>HMP</td>\n",
       "      <td>big.LITTLE</td>\n",
       "      <td>quad-channel 16-bit 2133 MHz LPDDR4X / 2750 M...</td>\n",
       "      <td>Hexagon 698 DSP</td>\n",
       "      <td>Qualcomm X55 5G NR Modem</td>\n",
       "      <td>...</td>\n",
       "      <td>Vulkan 1.1</td>\n",
       "      <td>Qualcomm Spectra 14-bit dual Qualcomm Spectra...</td>\n",
       "      <td>64 MP camera support</td>\n",
       "      <td>25 MP + 25 MP dual lens camera support</td>\n",
       "      <td>EIS 3.0</td>\n",
       "      <td>HDMI 2.0</td>\n",
       "      <td>Qualcomm Quick Charge 4.0/4.0+</td>\n",
       "      <td>None</td>\n",
       "      <td>None</td>\n",
       "      <td>None</td>\n",
       "    </tr>\n",
       "    <tr>\n",
       "      <th>199</th>\n",
       "      <td>quad Qualcomm Kryo 585 Gold Harvard Superscala...</td>\n",
       "      <td>3x ARM Cortex-A77 up to 2.4 GHz</td>\n",
       "      <td>1 Mbyte L2 cluster cache) + quad Qualcomm Kry...</td>\n",
       "      <td>512 Kbyte L2 cluster cache) Harvard Superscal...</td>\n",
       "      <td>3 Mbyte System cache</td>\n",
       "      <td>HMP</td>\n",
       "      <td>big.LITTLE</td>\n",
       "      <td>quad-channel 16-bit 2133 MHz LPDDR4X / 2750 M...</td>\n",
       "      <td>Hexagon 698 DSP</td>\n",
       "      <td>Qualcomm X55 5G NR Modem</td>\n",
       "      <td>...</td>\n",
       "      <td>Vulkan 1.1</td>\n",
       "      <td>Qualcomm Spectra 14-bit dual Qualcomm Spectra...</td>\n",
       "      <td>64 MP camera support</td>\n",
       "      <td>25 MP + 25 MP dual lens camera support</td>\n",
       "      <td>EIS 3.0</td>\n",
       "      <td>HDMI 2.0</td>\n",
       "      <td>Qualcomm Quick Charge 4.0/4.0+</td>\n",
       "      <td>None</td>\n",
       "      <td>None</td>\n",
       "      <td>None</td>\n",
       "    </tr>\n",
       "    <tr>\n",
       "      <th>204</th>\n",
       "      <td>quad Qualcomm Kryo 585 Gold Harvard Superscala...</td>\n",
       "      <td>3x ARM Cortex-A77 up to 2.42 GHz</td>\n",
       "      <td>1 Mbyte L2 cluster cache) + quad Qualcomm Kry...</td>\n",
       "      <td>512 Kbyte L2 cluster cache) Harvard Superscal...</td>\n",
       "      <td>3 Mbyte System cache</td>\n",
       "      <td>HMP</td>\n",
       "      <td>big.LITTLE</td>\n",
       "      <td>quad-channel 16-bit 2133 MHz LPDDR4X / 2750 M...</td>\n",
       "      <td>Hexagon 698 DSP</td>\n",
       "      <td>Qualcomm X55 5G NR Modem</td>\n",
       "      <td>...</td>\n",
       "      <td>Vulkan 1.1</td>\n",
       "      <td>Qualcomm Spectra 14-bit dual Qualcomm Spectra...</td>\n",
       "      <td>64 MP camera support</td>\n",
       "      <td>25 MP + 25 MP dual lens camera support</td>\n",
       "      <td>EIS 3.0</td>\n",
       "      <td>HDMI 2.0</td>\n",
       "      <td>Qualcomm Quick Charge 4.0/4.0+</td>\n",
       "      <td>None</td>\n",
       "      <td>None</td>\n",
       "      <td>None</td>\n",
       "    </tr>\n",
       "    <tr>\n",
       "      <th>228</th>\n",
       "      <td>SDM855+</td>\n",
       "      <td>quad Qualcomm Kryo 485 Gold Harvard Superscal...</td>\n",
       "      <td>3x ARM Cortex-A76 up to 2419 MHz</td>\n",
       "      <td>1 Mbyte L2 cluster cache) + quad Qualcomm Kry...</td>\n",
       "      <td>512 Kbyte L2 cluster cache) Harvard Superscal...</td>\n",
       "      <td>HMP</td>\n",
       "      <td>big.LITTLE</td>\n",
       "      <td>up to 12 GiB RAM</td>\n",
       "      <td>Hexagon 690 DSP</td>\n",
       "      <td>Qualcomm X24 LTE Modem</td>\n",
       "      <td>...</td>\n",
       "      <td>Qualcomm VIVE 802.11ac/802.11ad</td>\n",
       "      <td>Renderscript Compute</td>\n",
       "      <td>FlexRender support</td>\n",
       "      <td>Qualcomm Spectra 14-bit dual Qualcomm Spectra...</td>\n",
       "      <td>48 MP camera support</td>\n",
       "      <td>24 MP + 24 MP dual lens camera support</td>\n",
       "      <td>EIS 3.0</td>\n",
       "      <td>HDMI 2.0</td>\n",
       "      <td>Qualcomm Quick Charge 4.0/4.0+</td>\n",
       "      <td>None</td>\n",
       "    </tr>\n",
       "    <tr>\n",
       "      <th>231</th>\n",
       "      <td>SDM855</td>\n",
       "      <td>quad Qualcomm Kryo 485 Gold Harvard Superscal...</td>\n",
       "      <td>3x ARM Cortex-A76 up to 2419 MHz</td>\n",
       "      <td>1280 Kbyte L2 cluster cache) + quad Qualcomm ...</td>\n",
       "      <td>512 Kbyte L2 cluster cache) Harvard Superscal...</td>\n",
       "      <td>HMP</td>\n",
       "      <td>big.LITTLE</td>\n",
       "      <td>up to 16 GiB RAM</td>\n",
       "      <td>Hexagon 690 DSP</td>\n",
       "      <td>Qualcomm X24 LTE Modem</td>\n",
       "      <td>...</td>\n",
       "      <td>Vulkan 1.1</td>\n",
       "      <td>Qualcomm VIVE 802.11ac/802.11ad</td>\n",
       "      <td>Renderscript Compute</td>\n",
       "      <td>FlexRender support</td>\n",
       "      <td>Qualcomm Spectra 14-bit dual Qualcomm Spectra...</td>\n",
       "      <td>48 MP camera support</td>\n",
       "      <td>24 MP + 24 MP dual lens camera support</td>\n",
       "      <td>EIS 3.0</td>\n",
       "      <td>HDMI 2.0</td>\n",
       "      <td>Qualcomm Quick Charge 4.0/4.0+</td>\n",
       "    </tr>\n",
       "    <tr>\n",
       "      <th>256</th>\n",
       "      <td>quad Qualcomm Kryo 385 Gold Harvard Superscala...</td>\n",
       "      <td>1 Mbyte L2 cluster cache) + quad Qualcomm Kry...</td>\n",
       "      <td>512 Kbyte L2 cluster cache) Harvard Superscal...</td>\n",
       "      <td>HMP</td>\n",
       "      <td>big.LITTLE</td>\n",
       "      <td>eMMC 5.1 interface</td>\n",
       "      <td>Hexagon 685 DSP</td>\n",
       "      <td>Qualcomm X20 LTE Modem</td>\n",
       "      <td>CDMA 2000 1x Adv./DO Rel 0.</td>\n",
       "      <td>Rev. A/B</td>\n",
       "      <td>...</td>\n",
       "      <td>Renderscript Compute</td>\n",
       "      <td>FlexRender support</td>\n",
       "      <td>Qualcomm Spectra 14-bit dual Qualcomm Spectra...</td>\n",
       "      <td>EIS 3.0</td>\n",
       "      <td>HDMI 2.0</td>\n",
       "      <td>Qualcomm Quick Charge 4.0/4.0+</td>\n",
       "      <td>Qualcomm AI Engine</td>\n",
       "      <td>None</td>\n",
       "      <td>None</td>\n",
       "      <td>None</td>\n",
       "    </tr>\n",
       "  </tbody>\n",
       "</table>\n",
       "<p>10 rows × 44 columns</p>\n",
       "</div>"
      ]
     },
     "execution_count": 38,
     "metadata": {},
     "output_type": "execute_result"
    }
   ],
   "execution_count": 38
  },
  {
   "metadata": {},
   "cell_type": "markdown",
   "source": "### Graphing, however check github as kaggle doesn't allow proper rendering",
   "id": "d46135468d48ab0f"
  },
  {
   "metadata": {
    "trusted": true,
    "execution": {
     "iopub.status.busy": "2025-06-09T10:57:20.233806Z",
     "iopub.execute_input": "2025-06-09T10:57:20.235074Z",
     "iopub.status.idle": "2025-06-09T10:57:20.255749Z",
     "shell.execute_reply.started": "2025-06-09T10:57:20.235027Z",
     "shell.execute_reply": "2025-06-09T10:57:20.254465Z"
    },
    "ExecuteTime": {
     "end_time": "2025-06-09T11:04:06.611419Z",
     "start_time": "2025-06-09T11:04:05.993480Z"
    }
   },
   "cell_type": "code",
   "source": [
    "dfTemp = dfN.drop(columns=['Wireless LAN support','Supported Instruction Set(s)','Memory Interface(s)','Supported Audio/Video Interface','Supported USB Specification', 'Non-volatile Memory Interface'])\n",
    "temp = ['Wireless LAN support','Supported USB Specification', 'Supported Instruction Set(s)','Memory Interface(s)','Supported Audio/Video Interface','Non-volatile Memory Interface']\n",
    "col2 = set(col2) - set(temp)\n",
    "for value in col2:\n",
    "    if value == 'Year Released' or value == 'Number of processor core(s)':\n",
    "        dictTemp = dfTemp[f'{value}'].value_counts().to_dict()\n",
    "        figBar = px.bar(x=dictTemp.keys(), y=dictTemp.values(), color=dictTemp.keys(), color_continuous_scale=px.colors.sequential.Peach, title=f'{value}')\n",
    "        figBar.update_layout(height=750).show()\n",
    "    else:\n",
    "        dictTemp = dfTemp[f'{value}'].value_counts().to_dict()\n",
    "        figHist = px.histogram(x=dictTemp.keys(), y=dictTemp.values(), color=dictTemp.keys(), color_discrete_sequence=px.colors.qualitative.Vivid, title=f'{value}')\n",
    "        figHist.update_layout(height=750).show()"
   ],
   "id": "51bc591706b6335b",
   "outputs": [
    {
     "data": {
      "application/vnd.plotly.v1+json": {
       "data": [
        {
         "hovertemplate": "x=%{x}<br>y=%{y}<br>color=%{marker.color}<extra></extra>",
         "legendgroup": "",
         "marker": {
          "color": {
           "dtype": "i2",
           "bdata": "3QfeB98H3AfgB+QH6AfmB+UH2gfnB+IH4QfbB9kH2AfjB9cH0wfSB9QH1QfOB80H1gfQB8wH0QfPB8sHygfHB8kHvgfBB+kHxQfCB8gHxgfDB8AHvwe8B7sH"
          },
          "coloraxis": "coloraxis",
          "pattern": {
           "shape": ""
          }
         },
         "name": "",
         "orientation": "v",
         "showlegend": false,
         "textposition": "auto",
         "x": {
          "dtype": "i2",
          "bdata": "3QfeB98H3AfgB+QH6AfmB+UH2gfnB+IH4QfbB9kH2AfjB9cH0wfSB9QH1QfOB80H1gfQB8wH0QfPB8sHygfHB8kHvgfBB+kHxQfCB8gHxgfDB8AHvwe8B7sH"
         },
         "xaxis": "x",
         "y": {
          "dtype": "i1",
          "bdata": "a1pFQjMyKykpJyQhICAgHhsbGg8ODg0NDAkICAgFBAMDAwMCAgIBAQEBAQEB"
         },
         "yaxis": "y",
         "type": "bar"
        }
       ],
       "layout": {
        "template": {
         "data": {
          "histogram2dcontour": [
           {
            "type": "histogram2dcontour",
            "colorbar": {
             "outlinewidth": 0,
             "ticks": ""
            },
            "colorscale": [
             [
              0.0,
              "#0d0887"
             ],
             [
              0.1111111111111111,
              "#46039f"
             ],
             [
              0.2222222222222222,
              "#7201a8"
             ],
             [
              0.3333333333333333,
              "#9c179e"
             ],
             [
              0.4444444444444444,
              "#bd3786"
             ],
             [
              0.5555555555555556,
              "#d8576b"
             ],
             [
              0.6666666666666666,
              "#ed7953"
             ],
             [
              0.7777777777777778,
              "#fb9f3a"
             ],
             [
              0.8888888888888888,
              "#fdca26"
             ],
             [
              1.0,
              "#f0f921"
             ]
            ]
           }
          ],
          "choropleth": [
           {
            "type": "choropleth",
            "colorbar": {
             "outlinewidth": 0,
             "ticks": ""
            }
           }
          ],
          "histogram2d": [
           {
            "type": "histogram2d",
            "colorbar": {
             "outlinewidth": 0,
             "ticks": ""
            },
            "colorscale": [
             [
              0.0,
              "#0d0887"
             ],
             [
              0.1111111111111111,
              "#46039f"
             ],
             [
              0.2222222222222222,
              "#7201a8"
             ],
             [
              0.3333333333333333,
              "#9c179e"
             ],
             [
              0.4444444444444444,
              "#bd3786"
             ],
             [
              0.5555555555555556,
              "#d8576b"
             ],
             [
              0.6666666666666666,
              "#ed7953"
             ],
             [
              0.7777777777777778,
              "#fb9f3a"
             ],
             [
              0.8888888888888888,
              "#fdca26"
             ],
             [
              1.0,
              "#f0f921"
             ]
            ]
           }
          ],
          "heatmap": [
           {
            "type": "heatmap",
            "colorbar": {
             "outlinewidth": 0,
             "ticks": ""
            },
            "colorscale": [
             [
              0.0,
              "#0d0887"
             ],
             [
              0.1111111111111111,
              "#46039f"
             ],
             [
              0.2222222222222222,
              "#7201a8"
             ],
             [
              0.3333333333333333,
              "#9c179e"
             ],
             [
              0.4444444444444444,
              "#bd3786"
             ],
             [
              0.5555555555555556,
              "#d8576b"
             ],
             [
              0.6666666666666666,
              "#ed7953"
             ],
             [
              0.7777777777777778,
              "#fb9f3a"
             ],
             [
              0.8888888888888888,
              "#fdca26"
             ],
             [
              1.0,
              "#f0f921"
             ]
            ]
           }
          ],
          "contourcarpet": [
           {
            "type": "contourcarpet",
            "colorbar": {
             "outlinewidth": 0,
             "ticks": ""
            }
           }
          ],
          "contour": [
           {
            "type": "contour",
            "colorbar": {
             "outlinewidth": 0,
             "ticks": ""
            },
            "colorscale": [
             [
              0.0,
              "#0d0887"
             ],
             [
              0.1111111111111111,
              "#46039f"
             ],
             [
              0.2222222222222222,
              "#7201a8"
             ],
             [
              0.3333333333333333,
              "#9c179e"
             ],
             [
              0.4444444444444444,
              "#bd3786"
             ],
             [
              0.5555555555555556,
              "#d8576b"
             ],
             [
              0.6666666666666666,
              "#ed7953"
             ],
             [
              0.7777777777777778,
              "#fb9f3a"
             ],
             [
              0.8888888888888888,
              "#fdca26"
             ],
             [
              1.0,
              "#f0f921"
             ]
            ]
           }
          ],
          "surface": [
           {
            "type": "surface",
            "colorbar": {
             "outlinewidth": 0,
             "ticks": ""
            },
            "colorscale": [
             [
              0.0,
              "#0d0887"
             ],
             [
              0.1111111111111111,
              "#46039f"
             ],
             [
              0.2222222222222222,
              "#7201a8"
             ],
             [
              0.3333333333333333,
              "#9c179e"
             ],
             [
              0.4444444444444444,
              "#bd3786"
             ],
             [
              0.5555555555555556,
              "#d8576b"
             ],
             [
              0.6666666666666666,
              "#ed7953"
             ],
             [
              0.7777777777777778,
              "#fb9f3a"
             ],
             [
              0.8888888888888888,
              "#fdca26"
             ],
             [
              1.0,
              "#f0f921"
             ]
            ]
           }
          ],
          "mesh3d": [
           {
            "type": "mesh3d",
            "colorbar": {
             "outlinewidth": 0,
             "ticks": ""
            }
           }
          ],
          "scatter": [
           {
            "marker": {
             "line": {
              "color": "#283442"
             }
            },
            "type": "scatter"
           }
          ],
          "parcoords": [
           {
            "type": "parcoords",
            "line": {
             "colorbar": {
              "outlinewidth": 0,
              "ticks": ""
             }
            }
           }
          ],
          "scatterpolargl": [
           {
            "type": "scatterpolargl",
            "marker": {
             "colorbar": {
              "outlinewidth": 0,
              "ticks": ""
             }
            }
           }
          ],
          "bar": [
           {
            "error_x": {
             "color": "#f2f5fa"
            },
            "error_y": {
             "color": "#f2f5fa"
            },
            "marker": {
             "line": {
              "color": "rgb(17,17,17)",
              "width": 0.5
             },
             "pattern": {
              "fillmode": "overlay",
              "size": 10,
              "solidity": 0.2
             }
            },
            "type": "bar"
           }
          ],
          "scattergeo": [
           {
            "type": "scattergeo",
            "marker": {
             "colorbar": {
              "outlinewidth": 0,
              "ticks": ""
             }
            }
           }
          ],
          "scatterpolar": [
           {
            "type": "scatterpolar",
            "marker": {
             "colorbar": {
              "outlinewidth": 0,
              "ticks": ""
             }
            }
           }
          ],
          "histogram": [
           {
            "marker": {
             "pattern": {
              "fillmode": "overlay",
              "size": 10,
              "solidity": 0.2
             }
            },
            "type": "histogram"
           }
          ],
          "scattergl": [
           {
            "marker": {
             "line": {
              "color": "#283442"
             }
            },
            "type": "scattergl"
           }
          ],
          "scatter3d": [
           {
            "type": "scatter3d",
            "line": {
             "colorbar": {
              "outlinewidth": 0,
              "ticks": ""
             }
            },
            "marker": {
             "colorbar": {
              "outlinewidth": 0,
              "ticks": ""
             }
            }
           }
          ],
          "scattermap": [
           {
            "type": "scattermap",
            "marker": {
             "colorbar": {
              "outlinewidth": 0,
              "ticks": ""
             }
            }
           }
          ],
          "scattermapbox": [
           {
            "type": "scattermapbox",
            "marker": {
             "colorbar": {
              "outlinewidth": 0,
              "ticks": ""
             }
            }
           }
          ],
          "scatterternary": [
           {
            "type": "scatterternary",
            "marker": {
             "colorbar": {
              "outlinewidth": 0,
              "ticks": ""
             }
            }
           }
          ],
          "scattercarpet": [
           {
            "type": "scattercarpet",
            "marker": {
             "colorbar": {
              "outlinewidth": 0,
              "ticks": ""
             }
            }
           }
          ],
          "carpet": [
           {
            "aaxis": {
             "endlinecolor": "#A2B1C6",
             "gridcolor": "#506784",
             "linecolor": "#506784",
             "minorgridcolor": "#506784",
             "startlinecolor": "#A2B1C6"
            },
            "baxis": {
             "endlinecolor": "#A2B1C6",
             "gridcolor": "#506784",
             "linecolor": "#506784",
             "minorgridcolor": "#506784",
             "startlinecolor": "#A2B1C6"
            },
            "type": "carpet"
           }
          ],
          "table": [
           {
            "cells": {
             "fill": {
              "color": "#506784"
             },
             "line": {
              "color": "rgb(17,17,17)"
             }
            },
            "header": {
             "fill": {
              "color": "#2a3f5f"
             },
             "line": {
              "color": "rgb(17,17,17)"
             }
            },
            "type": "table"
           }
          ],
          "barpolar": [
           {
            "marker": {
             "line": {
              "color": "rgb(17,17,17)",
              "width": 0.5
             },
             "pattern": {
              "fillmode": "overlay",
              "size": 10,
              "solidity": 0.2
             }
            },
            "type": "barpolar"
           }
          ],
          "pie": [
           {
            "automargin": true,
            "type": "pie"
           }
          ]
         },
         "layout": {
          "autotypenumbers": "strict",
          "colorway": [
           "#636efa",
           "#EF553B",
           "#00cc96",
           "#ab63fa",
           "#FFA15A",
           "#19d3f3",
           "#FF6692",
           "#B6E880",
           "#FF97FF",
           "#FECB52"
          ],
          "font": {
           "color": "#f2f5fa"
          },
          "hovermode": "closest",
          "hoverlabel": {
           "align": "left"
          },
          "paper_bgcolor": "rgb(17,17,17)",
          "plot_bgcolor": "rgb(17,17,17)",
          "polar": {
           "bgcolor": "rgb(17,17,17)",
           "angularaxis": {
            "gridcolor": "#506784",
            "linecolor": "#506784",
            "ticks": ""
           },
           "radialaxis": {
            "gridcolor": "#506784",
            "linecolor": "#506784",
            "ticks": ""
           }
          },
          "ternary": {
           "bgcolor": "rgb(17,17,17)",
           "aaxis": {
            "gridcolor": "#506784",
            "linecolor": "#506784",
            "ticks": ""
           },
           "baxis": {
            "gridcolor": "#506784",
            "linecolor": "#506784",
            "ticks": ""
           },
           "caxis": {
            "gridcolor": "#506784",
            "linecolor": "#506784",
            "ticks": ""
           }
          },
          "coloraxis": {
           "colorbar": {
            "outlinewidth": 0,
            "ticks": ""
           }
          },
          "colorscale": {
           "sequential": [
            [
             0.0,
             "#0d0887"
            ],
            [
             0.1111111111111111,
             "#46039f"
            ],
            [
             0.2222222222222222,
             "#7201a8"
            ],
            [
             0.3333333333333333,
             "#9c179e"
            ],
            [
             0.4444444444444444,
             "#bd3786"
            ],
            [
             0.5555555555555556,
             "#d8576b"
            ],
            [
             0.6666666666666666,
             "#ed7953"
            ],
            [
             0.7777777777777778,
             "#fb9f3a"
            ],
            [
             0.8888888888888888,
             "#fdca26"
            ],
            [
             1.0,
             "#f0f921"
            ]
           ],
           "sequentialminus": [
            [
             0.0,
             "#0d0887"
            ],
            [
             0.1111111111111111,
             "#46039f"
            ],
            [
             0.2222222222222222,
             "#7201a8"
            ],
            [
             0.3333333333333333,
             "#9c179e"
            ],
            [
             0.4444444444444444,
             "#bd3786"
            ],
            [
             0.5555555555555556,
             "#d8576b"
            ],
            [
             0.6666666666666666,
             "#ed7953"
            ],
            [
             0.7777777777777778,
             "#fb9f3a"
            ],
            [
             0.8888888888888888,
             "#fdca26"
            ],
            [
             1.0,
             "#f0f921"
            ]
           ],
           "diverging": [
            [
             0,
             "#8e0152"
            ],
            [
             0.1,
             "#c51b7d"
            ],
            [
             0.2,
             "#de77ae"
            ],
            [
             0.3,
             "#f1b6da"
            ],
            [
             0.4,
             "#fde0ef"
            ],
            [
             0.5,
             "#f7f7f7"
            ],
            [
             0.6,
             "#e6f5d0"
            ],
            [
             0.7,
             "#b8e186"
            ],
            [
             0.8,
             "#7fbc41"
            ],
            [
             0.9,
             "#4d9221"
            ],
            [
             1,
             "#276419"
            ]
           ]
          },
          "xaxis": {
           "gridcolor": "#283442",
           "linecolor": "#506784",
           "ticks": "",
           "title": {
            "standoff": 15
           },
           "zerolinecolor": "#283442",
           "automargin": true,
           "zerolinewidth": 2
          },
          "yaxis": {
           "gridcolor": "#283442",
           "linecolor": "#506784",
           "ticks": "",
           "title": {
            "standoff": 15
           },
           "zerolinecolor": "#283442",
           "automargin": true,
           "zerolinewidth": 2
          },
          "scene": {
           "xaxis": {
            "backgroundcolor": "rgb(17,17,17)",
            "gridcolor": "#506784",
            "linecolor": "#506784",
            "showbackground": true,
            "ticks": "",
            "zerolinecolor": "#C8D4E3",
            "gridwidth": 2
           },
           "yaxis": {
            "backgroundcolor": "rgb(17,17,17)",
            "gridcolor": "#506784",
            "linecolor": "#506784",
            "showbackground": true,
            "ticks": "",
            "zerolinecolor": "#C8D4E3",
            "gridwidth": 2
           },
           "zaxis": {
            "backgroundcolor": "rgb(17,17,17)",
            "gridcolor": "#506784",
            "linecolor": "#506784",
            "showbackground": true,
            "ticks": "",
            "zerolinecolor": "#C8D4E3",
            "gridwidth": 2
           }
          },
          "shapedefaults": {
           "line": {
            "color": "#f2f5fa"
           }
          },
          "annotationdefaults": {
           "arrowcolor": "#f2f5fa",
           "arrowhead": 0,
           "arrowwidth": 1
          },
          "geo": {
           "bgcolor": "rgb(17,17,17)",
           "landcolor": "rgb(17,17,17)",
           "subunitcolor": "#506784",
           "showland": true,
           "showlakes": true,
           "lakecolor": "rgb(17,17,17)"
          },
          "title": {
           "x": 0.05
          },
          "updatemenudefaults": {
           "bgcolor": "#506784",
           "borderwidth": 0
          },
          "sliderdefaults": {
           "bgcolor": "#C8D4E3",
           "borderwidth": 1,
           "bordercolor": "rgb(17,17,17)",
           "tickwidth": 0
          },
          "mapbox": {
           "style": "dark"
          }
         }
        },
        "xaxis": {
         "anchor": "y",
         "domain": [
          0.0,
          1.0
         ],
         "title": {
          "text": "x"
         }
        },
        "yaxis": {
         "anchor": "x",
         "domain": [
          0.0,
          1.0
         ],
         "title": {
          "text": "y"
         }
        },
        "coloraxis": {
         "colorbar": {
          "title": {
           "text": "color"
          }
         },
         "colorscale": [
          [
           0.0,
           "rgb(253, 224, 197)"
          ],
          [
           0.16666666666666666,
           "rgb(250, 203, 166)"
          ],
          [
           0.3333333333333333,
           "rgb(248, 181, 139)"
          ],
          [
           0.5,
           "rgb(245, 158, 114)"
          ],
          [
           0.6666666666666666,
           "rgb(242, 133, 93)"
          ],
          [
           0.8333333333333334,
           "rgb(239, 106, 76)"
          ],
          [
           1.0,
           "rgb(235, 74, 64)"
          ]
         ]
        },
        "legend": {
         "tracegroupgap": 0
        },
        "title": {
         "text": "Year Released"
        },
        "barmode": "relative",
        "height": 750
       },
       "config": {
        "plotlyServerURL": "https://plot.ly"
       }
      }
     },
     "metadata": {},
     "output_type": "display_data"
    },
    {
     "data": {
      "application/vnd.plotly.v1+json": {
       "data": [
        {
         "bingroup": "x",
         "histfunc": "sum",
         "hovertemplate": "color=32 bit<br>x=%{x}<br>sum of y=%{y}<extra></extra>",
         "legendgroup": "32 bit",
         "marker": {
          "color": "rgb(229, 134, 6)",
          "pattern": {
           "shape": ""
          }
         },
         "name": "32 bit",
         "orientation": "v",
         "showlegend": true,
         "x": [
          "32 bit"
         ],
         "xaxis": "x",
         "y": {
          "dtype": "i2",
          "bdata": "CwI="
         },
         "yaxis": "y",
         "type": "histogram"
        },
        {
         "bingroup": "x",
         "histfunc": "sum",
         "hovertemplate": "color=64 bit<br>x=%{x}<br>sum of y=%{y}<extra></extra>",
         "legendgroup": "64 bit",
         "marker": {
          "color": "rgb(93, 105, 177)",
          "pattern": {
           "shape": ""
          }
         },
         "name": "64 bit",
         "orientation": "v",
         "showlegend": true,
         "x": [
          "64 bit"
         ],
         "xaxis": "x",
         "y": {
          "dtype": "i2",
          "bdata": "5wE="
         },
         "yaxis": "y",
         "type": "histogram"
        },
        {
         "bingroup": "x",
         "histfunc": "sum",
         "hovertemplate": "color=16 bit<br>x=%{x}<br>sum of y=%{y}<extra></extra>",
         "legendgroup": "16 bit",
         "marker": {
          "color": "rgb(82, 188, 163)",
          "pattern": {
           "shape": ""
          }
         },
         "name": "16 bit",
         "orientation": "v",
         "showlegend": true,
         "x": [
          "16 bit"
         ],
         "xaxis": "x",
         "y": {
          "dtype": "i1",
          "bdata": "Bw=="
         },
         "yaxis": "y",
         "type": "histogram"
        },
        {
         "bingroup": "x",
         "histfunc": "sum",
         "hovertemplate": "color=8 bit<br>x=%{x}<br>sum of y=%{y}<extra></extra>",
         "legendgroup": "8 bit",
         "marker": {
          "color": "rgb(153, 201, 69)",
          "pattern": {
           "shape": ""
          }
         },
         "name": "8 bit",
         "orientation": "v",
         "showlegend": true,
         "x": [
          "8 bit"
         ],
         "xaxis": "x",
         "y": {
          "dtype": "i1",
          "bdata": "Aw=="
         },
         "yaxis": "y",
         "type": "histogram"
        }
       ],
       "layout": {
        "template": {
         "data": {
          "histogram2dcontour": [
           {
            "type": "histogram2dcontour",
            "colorbar": {
             "outlinewidth": 0,
             "ticks": ""
            },
            "colorscale": [
             [
              0.0,
              "#0d0887"
             ],
             [
              0.1111111111111111,
              "#46039f"
             ],
             [
              0.2222222222222222,
              "#7201a8"
             ],
             [
              0.3333333333333333,
              "#9c179e"
             ],
             [
              0.4444444444444444,
              "#bd3786"
             ],
             [
              0.5555555555555556,
              "#d8576b"
             ],
             [
              0.6666666666666666,
              "#ed7953"
             ],
             [
              0.7777777777777778,
              "#fb9f3a"
             ],
             [
              0.8888888888888888,
              "#fdca26"
             ],
             [
              1.0,
              "#f0f921"
             ]
            ]
           }
          ],
          "choropleth": [
           {
            "type": "choropleth",
            "colorbar": {
             "outlinewidth": 0,
             "ticks": ""
            }
           }
          ],
          "histogram2d": [
           {
            "type": "histogram2d",
            "colorbar": {
             "outlinewidth": 0,
             "ticks": ""
            },
            "colorscale": [
             [
              0.0,
              "#0d0887"
             ],
             [
              0.1111111111111111,
              "#46039f"
             ],
             [
              0.2222222222222222,
              "#7201a8"
             ],
             [
              0.3333333333333333,
              "#9c179e"
             ],
             [
              0.4444444444444444,
              "#bd3786"
             ],
             [
              0.5555555555555556,
              "#d8576b"
             ],
             [
              0.6666666666666666,
              "#ed7953"
             ],
             [
              0.7777777777777778,
              "#fb9f3a"
             ],
             [
              0.8888888888888888,
              "#fdca26"
             ],
             [
              1.0,
              "#f0f921"
             ]
            ]
           }
          ],
          "heatmap": [
           {
            "type": "heatmap",
            "colorbar": {
             "outlinewidth": 0,
             "ticks": ""
            },
            "colorscale": [
             [
              0.0,
              "#0d0887"
             ],
             [
              0.1111111111111111,
              "#46039f"
             ],
             [
              0.2222222222222222,
              "#7201a8"
             ],
             [
              0.3333333333333333,
              "#9c179e"
             ],
             [
              0.4444444444444444,
              "#bd3786"
             ],
             [
              0.5555555555555556,
              "#d8576b"
             ],
             [
              0.6666666666666666,
              "#ed7953"
             ],
             [
              0.7777777777777778,
              "#fb9f3a"
             ],
             [
              0.8888888888888888,
              "#fdca26"
             ],
             [
              1.0,
              "#f0f921"
             ]
            ]
           }
          ],
          "contourcarpet": [
           {
            "type": "contourcarpet",
            "colorbar": {
             "outlinewidth": 0,
             "ticks": ""
            }
           }
          ],
          "contour": [
           {
            "type": "contour",
            "colorbar": {
             "outlinewidth": 0,
             "ticks": ""
            },
            "colorscale": [
             [
              0.0,
              "#0d0887"
             ],
             [
              0.1111111111111111,
              "#46039f"
             ],
             [
              0.2222222222222222,
              "#7201a8"
             ],
             [
              0.3333333333333333,
              "#9c179e"
             ],
             [
              0.4444444444444444,
              "#bd3786"
             ],
             [
              0.5555555555555556,
              "#d8576b"
             ],
             [
              0.6666666666666666,
              "#ed7953"
             ],
             [
              0.7777777777777778,
              "#fb9f3a"
             ],
             [
              0.8888888888888888,
              "#fdca26"
             ],
             [
              1.0,
              "#f0f921"
             ]
            ]
           }
          ],
          "surface": [
           {
            "type": "surface",
            "colorbar": {
             "outlinewidth": 0,
             "ticks": ""
            },
            "colorscale": [
             [
              0.0,
              "#0d0887"
             ],
             [
              0.1111111111111111,
              "#46039f"
             ],
             [
              0.2222222222222222,
              "#7201a8"
             ],
             [
              0.3333333333333333,
              "#9c179e"
             ],
             [
              0.4444444444444444,
              "#bd3786"
             ],
             [
              0.5555555555555556,
              "#d8576b"
             ],
             [
              0.6666666666666666,
              "#ed7953"
             ],
             [
              0.7777777777777778,
              "#fb9f3a"
             ],
             [
              0.8888888888888888,
              "#fdca26"
             ],
             [
              1.0,
              "#f0f921"
             ]
            ]
           }
          ],
          "mesh3d": [
           {
            "type": "mesh3d",
            "colorbar": {
             "outlinewidth": 0,
             "ticks": ""
            }
           }
          ],
          "scatter": [
           {
            "marker": {
             "line": {
              "color": "#283442"
             }
            },
            "type": "scatter"
           }
          ],
          "parcoords": [
           {
            "type": "parcoords",
            "line": {
             "colorbar": {
              "outlinewidth": 0,
              "ticks": ""
             }
            }
           }
          ],
          "scatterpolargl": [
           {
            "type": "scatterpolargl",
            "marker": {
             "colorbar": {
              "outlinewidth": 0,
              "ticks": ""
             }
            }
           }
          ],
          "bar": [
           {
            "error_x": {
             "color": "#f2f5fa"
            },
            "error_y": {
             "color": "#f2f5fa"
            },
            "marker": {
             "line": {
              "color": "rgb(17,17,17)",
              "width": 0.5
             },
             "pattern": {
              "fillmode": "overlay",
              "size": 10,
              "solidity": 0.2
             }
            },
            "type": "bar"
           }
          ],
          "scattergeo": [
           {
            "type": "scattergeo",
            "marker": {
             "colorbar": {
              "outlinewidth": 0,
              "ticks": ""
             }
            }
           }
          ],
          "scatterpolar": [
           {
            "type": "scatterpolar",
            "marker": {
             "colorbar": {
              "outlinewidth": 0,
              "ticks": ""
             }
            }
           }
          ],
          "histogram": [
           {
            "marker": {
             "pattern": {
              "fillmode": "overlay",
              "size": 10,
              "solidity": 0.2
             }
            },
            "type": "histogram"
           }
          ],
          "scattergl": [
           {
            "marker": {
             "line": {
              "color": "#283442"
             }
            },
            "type": "scattergl"
           }
          ],
          "scatter3d": [
           {
            "type": "scatter3d",
            "line": {
             "colorbar": {
              "outlinewidth": 0,
              "ticks": ""
             }
            },
            "marker": {
             "colorbar": {
              "outlinewidth": 0,
              "ticks": ""
             }
            }
           }
          ],
          "scattermap": [
           {
            "type": "scattermap",
            "marker": {
             "colorbar": {
              "outlinewidth": 0,
              "ticks": ""
             }
            }
           }
          ],
          "scattermapbox": [
           {
            "type": "scattermapbox",
            "marker": {
             "colorbar": {
              "outlinewidth": 0,
              "ticks": ""
             }
            }
           }
          ],
          "scatterternary": [
           {
            "type": "scatterternary",
            "marker": {
             "colorbar": {
              "outlinewidth": 0,
              "ticks": ""
             }
            }
           }
          ],
          "scattercarpet": [
           {
            "type": "scattercarpet",
            "marker": {
             "colorbar": {
              "outlinewidth": 0,
              "ticks": ""
             }
            }
           }
          ],
          "carpet": [
           {
            "aaxis": {
             "endlinecolor": "#A2B1C6",
             "gridcolor": "#506784",
             "linecolor": "#506784",
             "minorgridcolor": "#506784",
             "startlinecolor": "#A2B1C6"
            },
            "baxis": {
             "endlinecolor": "#A2B1C6",
             "gridcolor": "#506784",
             "linecolor": "#506784",
             "minorgridcolor": "#506784",
             "startlinecolor": "#A2B1C6"
            },
            "type": "carpet"
           }
          ],
          "table": [
           {
            "cells": {
             "fill": {
              "color": "#506784"
             },
             "line": {
              "color": "rgb(17,17,17)"
             }
            },
            "header": {
             "fill": {
              "color": "#2a3f5f"
             },
             "line": {
              "color": "rgb(17,17,17)"
             }
            },
            "type": "table"
           }
          ],
          "barpolar": [
           {
            "marker": {
             "line": {
              "color": "rgb(17,17,17)",
              "width": 0.5
             },
             "pattern": {
              "fillmode": "overlay",
              "size": 10,
              "solidity": 0.2
             }
            },
            "type": "barpolar"
           }
          ],
          "pie": [
           {
            "automargin": true,
            "type": "pie"
           }
          ]
         },
         "layout": {
          "autotypenumbers": "strict",
          "colorway": [
           "#636efa",
           "#EF553B",
           "#00cc96",
           "#ab63fa",
           "#FFA15A",
           "#19d3f3",
           "#FF6692",
           "#B6E880",
           "#FF97FF",
           "#FECB52"
          ],
          "font": {
           "color": "#f2f5fa"
          },
          "hovermode": "closest",
          "hoverlabel": {
           "align": "left"
          },
          "paper_bgcolor": "rgb(17,17,17)",
          "plot_bgcolor": "rgb(17,17,17)",
          "polar": {
           "bgcolor": "rgb(17,17,17)",
           "angularaxis": {
            "gridcolor": "#506784",
            "linecolor": "#506784",
            "ticks": ""
           },
           "radialaxis": {
            "gridcolor": "#506784",
            "linecolor": "#506784",
            "ticks": ""
           }
          },
          "ternary": {
           "bgcolor": "rgb(17,17,17)",
           "aaxis": {
            "gridcolor": "#506784",
            "linecolor": "#506784",
            "ticks": ""
           },
           "baxis": {
            "gridcolor": "#506784",
            "linecolor": "#506784",
            "ticks": ""
           },
           "caxis": {
            "gridcolor": "#506784",
            "linecolor": "#506784",
            "ticks": ""
           }
          },
          "coloraxis": {
           "colorbar": {
            "outlinewidth": 0,
            "ticks": ""
           }
          },
          "colorscale": {
           "sequential": [
            [
             0.0,
             "#0d0887"
            ],
            [
             0.1111111111111111,
             "#46039f"
            ],
            [
             0.2222222222222222,
             "#7201a8"
            ],
            [
             0.3333333333333333,
             "#9c179e"
            ],
            [
             0.4444444444444444,
             "#bd3786"
            ],
            [
             0.5555555555555556,
             "#d8576b"
            ],
            [
             0.6666666666666666,
             "#ed7953"
            ],
            [
             0.7777777777777778,
             "#fb9f3a"
            ],
            [
             0.8888888888888888,
             "#fdca26"
            ],
            [
             1.0,
             "#f0f921"
            ]
           ],
           "sequentialminus": [
            [
             0.0,
             "#0d0887"
            ],
            [
             0.1111111111111111,
             "#46039f"
            ],
            [
             0.2222222222222222,
             "#7201a8"
            ],
            [
             0.3333333333333333,
             "#9c179e"
            ],
            [
             0.4444444444444444,
             "#bd3786"
            ],
            [
             0.5555555555555556,
             "#d8576b"
            ],
            [
             0.6666666666666666,
             "#ed7953"
            ],
            [
             0.7777777777777778,
             "#fb9f3a"
            ],
            [
             0.8888888888888888,
             "#fdca26"
            ],
            [
             1.0,
             "#f0f921"
            ]
           ],
           "diverging": [
            [
             0,
             "#8e0152"
            ],
            [
             0.1,
             "#c51b7d"
            ],
            [
             0.2,
             "#de77ae"
            ],
            [
             0.3,
             "#f1b6da"
            ],
            [
             0.4,
             "#fde0ef"
            ],
            [
             0.5,
             "#f7f7f7"
            ],
            [
             0.6,
             "#e6f5d0"
            ],
            [
             0.7,
             "#b8e186"
            ],
            [
             0.8,
             "#7fbc41"
            ],
            [
             0.9,
             "#4d9221"
            ],
            [
             1,
             "#276419"
            ]
           ]
          },
          "xaxis": {
           "gridcolor": "#283442",
           "linecolor": "#506784",
           "ticks": "",
           "title": {
            "standoff": 15
           },
           "zerolinecolor": "#283442",
           "automargin": true,
           "zerolinewidth": 2
          },
          "yaxis": {
           "gridcolor": "#283442",
           "linecolor": "#506784",
           "ticks": "",
           "title": {
            "standoff": 15
           },
           "zerolinecolor": "#283442",
           "automargin": true,
           "zerolinewidth": 2
          },
          "scene": {
           "xaxis": {
            "backgroundcolor": "rgb(17,17,17)",
            "gridcolor": "#506784",
            "linecolor": "#506784",
            "showbackground": true,
            "ticks": "",
            "zerolinecolor": "#C8D4E3",
            "gridwidth": 2
           },
           "yaxis": {
            "backgroundcolor": "rgb(17,17,17)",
            "gridcolor": "#506784",
            "linecolor": "#506784",
            "showbackground": true,
            "ticks": "",
            "zerolinecolor": "#C8D4E3",
            "gridwidth": 2
           },
           "zaxis": {
            "backgroundcolor": "rgb(17,17,17)",
            "gridcolor": "#506784",
            "linecolor": "#506784",
            "showbackground": true,
            "ticks": "",
            "zerolinecolor": "#C8D4E3",
            "gridwidth": 2
           }
          },
          "shapedefaults": {
           "line": {
            "color": "#f2f5fa"
           }
          },
          "annotationdefaults": {
           "arrowcolor": "#f2f5fa",
           "arrowhead": 0,
           "arrowwidth": 1
          },
          "geo": {
           "bgcolor": "rgb(17,17,17)",
           "landcolor": "rgb(17,17,17)",
           "subunitcolor": "#506784",
           "showland": true,
           "showlakes": true,
           "lakecolor": "rgb(17,17,17)"
          },
          "title": {
           "x": 0.05
          },
          "updatemenudefaults": {
           "bgcolor": "#506784",
           "borderwidth": 0
          },
          "sliderdefaults": {
           "bgcolor": "#C8D4E3",
           "borderwidth": 1,
           "bordercolor": "rgb(17,17,17)",
           "tickwidth": 0
          },
          "mapbox": {
           "style": "dark"
          }
         }
        },
        "xaxis": {
         "anchor": "y",
         "domain": [
          0.0,
          1.0
         ],
         "title": {
          "text": "x"
         }
        },
        "yaxis": {
         "anchor": "x",
         "domain": [
          0.0,
          1.0
         ],
         "title": {
          "text": "sum of y"
         }
        },
        "legend": {
         "title": {
          "text": "color"
         },
         "tracegroupgap": 0
        },
        "title": {
         "text": "Width of Machine Word"
        },
        "barmode": "relative",
        "height": 750
       },
       "config": {
        "plotlyServerURL": "https://plot.ly"
       }
      }
     },
     "metadata": {},
     "output_type": "display_data"
    },
    {
     "data": {
      "application/vnd.plotly.v1+json": {
       "data": [
        {
         "bingroup": "x",
         "histfunc": "sum",
         "hovertemplate": "color=CMOS<br>x=%{x}<br>sum of y=%{y}<extra></extra>",
         "legendgroup": "CMOS",
         "marker": {
          "color": "rgb(229, 134, 6)",
          "pattern": {
           "shape": ""
          }
         },
         "name": "CMOS",
         "orientation": "v",
         "showlegend": true,
         "x": [
          "CMOS"
         ],
         "xaxis": "x",
         "y": {
          "dtype": "i2",
          "bdata": "YwM="
         },
         "yaxis": "y",
         "type": "histogram"
        },
        {
         "bingroup": "x",
         "histfunc": "sum",
         "hovertemplate": "color=FinFET<br>x=%{x}<br>sum of y=%{y}<extra></extra>",
         "legendgroup": "FinFET",
         "marker": {
          "color": "rgb(93, 105, 177)",
          "pattern": {
           "shape": ""
          }
         },
         "name": "FinFET",
         "orientation": "v",
         "showlegend": true,
         "x": [
          "FinFET"
         ],
         "xaxis": "x",
         "y": {
          "dtype": "i2",
          "bdata": "kQA="
         },
         "yaxis": "y",
         "type": "histogram"
        },
        {
         "bingroup": "x",
         "histfunc": "sum",
         "hovertemplate": "color=HMOS<br>x=%{x}<br>sum of y=%{y}<extra></extra>",
         "legendgroup": "HMOS",
         "marker": {
          "color": "rgb(82, 188, 163)",
          "pattern": {
           "shape": ""
          }
         },
         "name": "HMOS",
         "orientation": "v",
         "showlegend": true,
         "x": [
          "HMOS"
         ],
         "xaxis": "x",
         "y": {
          "dtype": "i1",
          "bdata": "BQ=="
         },
         "yaxis": "y",
         "type": "histogram"
        },
        {
         "bingroup": "x",
         "histfunc": "sum",
         "hovertemplate": "color=Yes<br>x=%{x}<br>sum of y=%{y}<extra></extra>",
         "legendgroup": "Yes",
         "marker": {
          "color": "rgb(153, 201, 69)",
          "pattern": {
           "shape": ""
          }
         },
         "name": "Yes",
         "orientation": "v",
         "showlegend": true,
         "x": [
          "Yes"
         ],
         "xaxis": "x",
         "y": {
          "dtype": "i1",
          "bdata": "Ag=="
         },
         "yaxis": "y",
         "type": "histogram"
        },
        {
         "bingroup": "x",
         "histfunc": "sum",
         "hovertemplate": "color=No<br>x=%{x}<br>sum of y=%{y}<extra></extra>",
         "legendgroup": "No",
         "marker": {
          "color": "rgb(204, 97, 176)",
          "pattern": {
           "shape": ""
          }
         },
         "name": "No",
         "orientation": "v",
         "showlegend": true,
         "x": [
          "No"
         ],
         "xaxis": "x",
         "y": {
          "dtype": "i1",
          "bdata": "AQ=="
         },
         "yaxis": "y",
         "type": "histogram"
        }
       ],
       "layout": {
        "template": {
         "data": {
          "histogram2dcontour": [
           {
            "type": "histogram2dcontour",
            "colorbar": {
             "outlinewidth": 0,
             "ticks": ""
            },
            "colorscale": [
             [
              0.0,
              "#0d0887"
             ],
             [
              0.1111111111111111,
              "#46039f"
             ],
             [
              0.2222222222222222,
              "#7201a8"
             ],
             [
              0.3333333333333333,
              "#9c179e"
             ],
             [
              0.4444444444444444,
              "#bd3786"
             ],
             [
              0.5555555555555556,
              "#d8576b"
             ],
             [
              0.6666666666666666,
              "#ed7953"
             ],
             [
              0.7777777777777778,
              "#fb9f3a"
             ],
             [
              0.8888888888888888,
              "#fdca26"
             ],
             [
              1.0,
              "#f0f921"
             ]
            ]
           }
          ],
          "choropleth": [
           {
            "type": "choropleth",
            "colorbar": {
             "outlinewidth": 0,
             "ticks": ""
            }
           }
          ],
          "histogram2d": [
           {
            "type": "histogram2d",
            "colorbar": {
             "outlinewidth": 0,
             "ticks": ""
            },
            "colorscale": [
             [
              0.0,
              "#0d0887"
             ],
             [
              0.1111111111111111,
              "#46039f"
             ],
             [
              0.2222222222222222,
              "#7201a8"
             ],
             [
              0.3333333333333333,
              "#9c179e"
             ],
             [
              0.4444444444444444,
              "#bd3786"
             ],
             [
              0.5555555555555556,
              "#d8576b"
             ],
             [
              0.6666666666666666,
              "#ed7953"
             ],
             [
              0.7777777777777778,
              "#fb9f3a"
             ],
             [
              0.8888888888888888,
              "#fdca26"
             ],
             [
              1.0,
              "#f0f921"
             ]
            ]
           }
          ],
          "heatmap": [
           {
            "type": "heatmap",
            "colorbar": {
             "outlinewidth": 0,
             "ticks": ""
            },
            "colorscale": [
             [
              0.0,
              "#0d0887"
             ],
             [
              0.1111111111111111,
              "#46039f"
             ],
             [
              0.2222222222222222,
              "#7201a8"
             ],
             [
              0.3333333333333333,
              "#9c179e"
             ],
             [
              0.4444444444444444,
              "#bd3786"
             ],
             [
              0.5555555555555556,
              "#d8576b"
             ],
             [
              0.6666666666666666,
              "#ed7953"
             ],
             [
              0.7777777777777778,
              "#fb9f3a"
             ],
             [
              0.8888888888888888,
              "#fdca26"
             ],
             [
              1.0,
              "#f0f921"
             ]
            ]
           }
          ],
          "contourcarpet": [
           {
            "type": "contourcarpet",
            "colorbar": {
             "outlinewidth": 0,
             "ticks": ""
            }
           }
          ],
          "contour": [
           {
            "type": "contour",
            "colorbar": {
             "outlinewidth": 0,
             "ticks": ""
            },
            "colorscale": [
             [
              0.0,
              "#0d0887"
             ],
             [
              0.1111111111111111,
              "#46039f"
             ],
             [
              0.2222222222222222,
              "#7201a8"
             ],
             [
              0.3333333333333333,
              "#9c179e"
             ],
             [
              0.4444444444444444,
              "#bd3786"
             ],
             [
              0.5555555555555556,
              "#d8576b"
             ],
             [
              0.6666666666666666,
              "#ed7953"
             ],
             [
              0.7777777777777778,
              "#fb9f3a"
             ],
             [
              0.8888888888888888,
              "#fdca26"
             ],
             [
              1.0,
              "#f0f921"
             ]
            ]
           }
          ],
          "surface": [
           {
            "type": "surface",
            "colorbar": {
             "outlinewidth": 0,
             "ticks": ""
            },
            "colorscale": [
             [
              0.0,
              "#0d0887"
             ],
             [
              0.1111111111111111,
              "#46039f"
             ],
             [
              0.2222222222222222,
              "#7201a8"
             ],
             [
              0.3333333333333333,
              "#9c179e"
             ],
             [
              0.4444444444444444,
              "#bd3786"
             ],
             [
              0.5555555555555556,
              "#d8576b"
             ],
             [
              0.6666666666666666,
              "#ed7953"
             ],
             [
              0.7777777777777778,
              "#fb9f3a"
             ],
             [
              0.8888888888888888,
              "#fdca26"
             ],
             [
              1.0,
              "#f0f921"
             ]
            ]
           }
          ],
          "mesh3d": [
           {
            "type": "mesh3d",
            "colorbar": {
             "outlinewidth": 0,
             "ticks": ""
            }
           }
          ],
          "scatter": [
           {
            "marker": {
             "line": {
              "color": "#283442"
             }
            },
            "type": "scatter"
           }
          ],
          "parcoords": [
           {
            "type": "parcoords",
            "line": {
             "colorbar": {
              "outlinewidth": 0,
              "ticks": ""
             }
            }
           }
          ],
          "scatterpolargl": [
           {
            "type": "scatterpolargl",
            "marker": {
             "colorbar": {
              "outlinewidth": 0,
              "ticks": ""
             }
            }
           }
          ],
          "bar": [
           {
            "error_x": {
             "color": "#f2f5fa"
            },
            "error_y": {
             "color": "#f2f5fa"
            },
            "marker": {
             "line": {
              "color": "rgb(17,17,17)",
              "width": 0.5
             },
             "pattern": {
              "fillmode": "overlay",
              "size": 10,
              "solidity": 0.2
             }
            },
            "type": "bar"
           }
          ],
          "scattergeo": [
           {
            "type": "scattergeo",
            "marker": {
             "colorbar": {
              "outlinewidth": 0,
              "ticks": ""
             }
            }
           }
          ],
          "scatterpolar": [
           {
            "type": "scatterpolar",
            "marker": {
             "colorbar": {
              "outlinewidth": 0,
              "ticks": ""
             }
            }
           }
          ],
          "histogram": [
           {
            "marker": {
             "pattern": {
              "fillmode": "overlay",
              "size": 10,
              "solidity": 0.2
             }
            },
            "type": "histogram"
           }
          ],
          "scattergl": [
           {
            "marker": {
             "line": {
              "color": "#283442"
             }
            },
            "type": "scattergl"
           }
          ],
          "scatter3d": [
           {
            "type": "scatter3d",
            "line": {
             "colorbar": {
              "outlinewidth": 0,
              "ticks": ""
             }
            },
            "marker": {
             "colorbar": {
              "outlinewidth": 0,
              "ticks": ""
             }
            }
           }
          ],
          "scattermap": [
           {
            "type": "scattermap",
            "marker": {
             "colorbar": {
              "outlinewidth": 0,
              "ticks": ""
             }
            }
           }
          ],
          "scattermapbox": [
           {
            "type": "scattermapbox",
            "marker": {
             "colorbar": {
              "outlinewidth": 0,
              "ticks": ""
             }
            }
           }
          ],
          "scatterternary": [
           {
            "type": "scatterternary",
            "marker": {
             "colorbar": {
              "outlinewidth": 0,
              "ticks": ""
             }
            }
           }
          ],
          "scattercarpet": [
           {
            "type": "scattercarpet",
            "marker": {
             "colorbar": {
              "outlinewidth": 0,
              "ticks": ""
             }
            }
           }
          ],
          "carpet": [
           {
            "aaxis": {
             "endlinecolor": "#A2B1C6",
             "gridcolor": "#506784",
             "linecolor": "#506784",
             "minorgridcolor": "#506784",
             "startlinecolor": "#A2B1C6"
            },
            "baxis": {
             "endlinecolor": "#A2B1C6",
             "gridcolor": "#506784",
             "linecolor": "#506784",
             "minorgridcolor": "#506784",
             "startlinecolor": "#A2B1C6"
            },
            "type": "carpet"
           }
          ],
          "table": [
           {
            "cells": {
             "fill": {
              "color": "#506784"
             },
             "line": {
              "color": "rgb(17,17,17)"
             }
            },
            "header": {
             "fill": {
              "color": "#2a3f5f"
             },
             "line": {
              "color": "rgb(17,17,17)"
             }
            },
            "type": "table"
           }
          ],
          "barpolar": [
           {
            "marker": {
             "line": {
              "color": "rgb(17,17,17)",
              "width": 0.5
             },
             "pattern": {
              "fillmode": "overlay",
              "size": 10,
              "solidity": 0.2
             }
            },
            "type": "barpolar"
           }
          ],
          "pie": [
           {
            "automargin": true,
            "type": "pie"
           }
          ]
         },
         "layout": {
          "autotypenumbers": "strict",
          "colorway": [
           "#636efa",
           "#EF553B",
           "#00cc96",
           "#ab63fa",
           "#FFA15A",
           "#19d3f3",
           "#FF6692",
           "#B6E880",
           "#FF97FF",
           "#FECB52"
          ],
          "font": {
           "color": "#f2f5fa"
          },
          "hovermode": "closest",
          "hoverlabel": {
           "align": "left"
          },
          "paper_bgcolor": "rgb(17,17,17)",
          "plot_bgcolor": "rgb(17,17,17)",
          "polar": {
           "bgcolor": "rgb(17,17,17)",
           "angularaxis": {
            "gridcolor": "#506784",
            "linecolor": "#506784",
            "ticks": ""
           },
           "radialaxis": {
            "gridcolor": "#506784",
            "linecolor": "#506784",
            "ticks": ""
           }
          },
          "ternary": {
           "bgcolor": "rgb(17,17,17)",
           "aaxis": {
            "gridcolor": "#506784",
            "linecolor": "#506784",
            "ticks": ""
           },
           "baxis": {
            "gridcolor": "#506784",
            "linecolor": "#506784",
            "ticks": ""
           },
           "caxis": {
            "gridcolor": "#506784",
            "linecolor": "#506784",
            "ticks": ""
           }
          },
          "coloraxis": {
           "colorbar": {
            "outlinewidth": 0,
            "ticks": ""
           }
          },
          "colorscale": {
           "sequential": [
            [
             0.0,
             "#0d0887"
            ],
            [
             0.1111111111111111,
             "#46039f"
            ],
            [
             0.2222222222222222,
             "#7201a8"
            ],
            [
             0.3333333333333333,
             "#9c179e"
            ],
            [
             0.4444444444444444,
             "#bd3786"
            ],
            [
             0.5555555555555556,
             "#d8576b"
            ],
            [
             0.6666666666666666,
             "#ed7953"
            ],
            [
             0.7777777777777778,
             "#fb9f3a"
            ],
            [
             0.8888888888888888,
             "#fdca26"
            ],
            [
             1.0,
             "#f0f921"
            ]
           ],
           "sequentialminus": [
            [
             0.0,
             "#0d0887"
            ],
            [
             0.1111111111111111,
             "#46039f"
            ],
            [
             0.2222222222222222,
             "#7201a8"
            ],
            [
             0.3333333333333333,
             "#9c179e"
            ],
            [
             0.4444444444444444,
             "#bd3786"
            ],
            [
             0.5555555555555556,
             "#d8576b"
            ],
            [
             0.6666666666666666,
             "#ed7953"
            ],
            [
             0.7777777777777778,
             "#fb9f3a"
            ],
            [
             0.8888888888888888,
             "#fdca26"
            ],
            [
             1.0,
             "#f0f921"
            ]
           ],
           "diverging": [
            [
             0,
             "#8e0152"
            ],
            [
             0.1,
             "#c51b7d"
            ],
            [
             0.2,
             "#de77ae"
            ],
            [
             0.3,
             "#f1b6da"
            ],
            [
             0.4,
             "#fde0ef"
            ],
            [
             0.5,
             "#f7f7f7"
            ],
            [
             0.6,
             "#e6f5d0"
            ],
            [
             0.7,
             "#b8e186"
            ],
            [
             0.8,
             "#7fbc41"
            ],
            [
             0.9,
             "#4d9221"
            ],
            [
             1,
             "#276419"
            ]
           ]
          },
          "xaxis": {
           "gridcolor": "#283442",
           "linecolor": "#506784",
           "ticks": "",
           "title": {
            "standoff": 15
           },
           "zerolinecolor": "#283442",
           "automargin": true,
           "zerolinewidth": 2
          },
          "yaxis": {
           "gridcolor": "#283442",
           "linecolor": "#506784",
           "ticks": "",
           "title": {
            "standoff": 15
           },
           "zerolinecolor": "#283442",
           "automargin": true,
           "zerolinewidth": 2
          },
          "scene": {
           "xaxis": {
            "backgroundcolor": "rgb(17,17,17)",
            "gridcolor": "#506784",
            "linecolor": "#506784",
            "showbackground": true,
            "ticks": "",
            "zerolinecolor": "#C8D4E3",
            "gridwidth": 2
           },
           "yaxis": {
            "backgroundcolor": "rgb(17,17,17)",
            "gridcolor": "#506784",
            "linecolor": "#506784",
            "showbackground": true,
            "ticks": "",
            "zerolinecolor": "#C8D4E3",
            "gridwidth": 2
           },
           "zaxis": {
            "backgroundcolor": "rgb(17,17,17)",
            "gridcolor": "#506784",
            "linecolor": "#506784",
            "showbackground": true,
            "ticks": "",
            "zerolinecolor": "#C8D4E3",
            "gridwidth": 2
           }
          },
          "shapedefaults": {
           "line": {
            "color": "#f2f5fa"
           }
          },
          "annotationdefaults": {
           "arrowcolor": "#f2f5fa",
           "arrowhead": 0,
           "arrowwidth": 1
          },
          "geo": {
           "bgcolor": "rgb(17,17,17)",
           "landcolor": "rgb(17,17,17)",
           "subunitcolor": "#506784",
           "showland": true,
           "showlakes": true,
           "lakecolor": "rgb(17,17,17)"
          },
          "title": {
           "x": 0.05
          },
          "updatemenudefaults": {
           "bgcolor": "#506784",
           "borderwidth": 0
          },
          "sliderdefaults": {
           "bgcolor": "#C8D4E3",
           "borderwidth": 1,
           "bordercolor": "rgb(17,17,17)",
           "tickwidth": 0
          },
          "mapbox": {
           "style": "dark"
          }
         }
        },
        "xaxis": {
         "anchor": "y",
         "domain": [
          0.0,
          1.0
         ],
         "title": {
          "text": "x"
         }
        },
        "yaxis": {
         "anchor": "x",
         "domain": [
          0.0,
          1.0
         ],
         "title": {
          "text": "sum of y"
         }
        },
        "legend": {
         "title": {
          "text": "color"
         },
         "tracegroupgap": 0
        },
        "title": {
         "text": "Semiconductor Technology"
        },
        "barmode": "relative",
        "height": 750
       },
       "config": {
        "plotlyServerURL": "https://plot.ly"
       }
      }
     },
     "metadata": {},
     "output_type": "display_data"
    },
    {
     "data": {
      "application/vnd.plotly.v1+json": {
       "data": [
        {
         "bingroup": "x",
         "histfunc": "sum",
         "hovertemplate": "color=No<br>x=%{x}<br>sum of y=%{y}<extra></extra>",
         "legendgroup": "No",
         "marker": {
          "color": "rgb(229, 134, 6)",
          "pattern": {
           "shape": ""
          }
         },
         "name": "No",
         "orientation": "v",
         "showlegend": true,
         "x": [
          "No"
         ],
         "xaxis": "x",
         "y": {
          "dtype": "i2",
          "bdata": "dQM="
         },
         "yaxis": "y",
         "type": "histogram"
        },
        {
         "bingroup": "x",
         "histfunc": "sum",
         "hovertemplate": "color=Bluetooth 5.2<br>x=%{x}<br>sum of y=%{y}<extra></extra>",
         "legendgroup": "Bluetooth 5.2",
         "marker": {
          "color": "rgb(93, 105, 177)",
          "pattern": {
           "shape": ""
          }
         },
         "name": "Bluetooth 5.2",
         "orientation": "v",
         "showlegend": true,
         "x": [
          "Bluetooth 5.2"
         ],
         "xaxis": "x",
         "y": {
          "dtype": "i1",
          "bdata": "KA=="
         },
         "yaxis": "y",
         "type": "histogram"
        },
        {
         "bingroup": "x",
         "histfunc": "sum",
         "hovertemplate": "color=Bluetooth 5.0<br>x=%{x}<br>sum of y=%{y}<extra></extra>",
         "legendgroup": "Bluetooth 5.0",
         "marker": {
          "color": "rgb(82, 188, 163)",
          "pattern": {
           "shape": ""
          }
         },
         "name": "Bluetooth 5.0",
         "orientation": "v",
         "showlegend": true,
         "x": [
          "Bluetooth 5.0"
         ],
         "xaxis": "x",
         "y": {
          "dtype": "i1",
          "bdata": "Gg=="
         },
         "yaxis": "y",
         "type": "histogram"
        },
        {
         "bingroup": "x",
         "histfunc": "sum",
         "hovertemplate": "color=Bluetooth 5.3<br>x=%{x}<br>sum of y=%{y}<extra></extra>",
         "legendgroup": "Bluetooth 5.3",
         "marker": {
          "color": "rgb(153, 201, 69)",
          "pattern": {
           "shape": ""
          }
         },
         "name": "Bluetooth 5.3",
         "orientation": "v",
         "showlegend": true,
         "x": [
          "Bluetooth 5.3"
         ],
         "xaxis": "x",
         "y": {
          "dtype": "i1",
          "bdata": "GQ=="
         },
         "yaxis": "y",
         "type": "histogram"
        },
        {
         "bingroup": "x",
         "histfunc": "sum",
         "hovertemplate": "color=Bluetooth 5.4<br>x=%{x}<br>sum of y=%{y}<extra></extra>",
         "legendgroup": "Bluetooth 5.4",
         "marker": {
          "color": "rgb(204, 97, 176)",
          "pattern": {
           "shape": ""
          }
         },
         "name": "Bluetooth 5.4",
         "orientation": "v",
         "showlegend": true,
         "x": [
          "Bluetooth 5.4"
         ],
         "xaxis": "x",
         "y": {
          "dtype": "i1",
          "bdata": "Ew=="
         },
         "yaxis": "y",
         "type": "histogram"
        },
        {
         "bingroup": "x",
         "histfunc": "sum",
         "hovertemplate": "color=Bluetooth 5.1<br>x=%{x}<br>sum of y=%{y}<extra></extra>",
         "legendgroup": "Bluetooth 5.1",
         "marker": {
          "color": "rgb(36, 121, 108)",
          "pattern": {
           "shape": ""
          }
         },
         "name": "Bluetooth 5.1",
         "orientation": "v",
         "showlegend": true,
         "x": [
          "Bluetooth 5.1"
         ],
         "xaxis": "x",
         "y": {
          "dtype": "i1",
          "bdata": "CA=="
         },
         "yaxis": "y",
         "type": "histogram"
        },
        {
         "bingroup": "x",
         "histfunc": "sum",
         "hovertemplate": "color=Bluetooth 4.2<br>x=%{x}<br>sum of y=%{y}<extra></extra>",
         "legendgroup": "Bluetooth 4.2",
         "marker": {
          "color": "rgb(218, 165, 27)",
          "pattern": {
           "shape": ""
          }
         },
         "name": "Bluetooth 4.2",
         "orientation": "v",
         "showlegend": true,
         "x": [
          "Bluetooth 4.2"
         ],
         "xaxis": "x",
         "y": {
          "dtype": "i1",
          "bdata": "Bw=="
         },
         "yaxis": "y",
         "type": "histogram"
        },
        {
         "bingroup": "x",
         "histfunc": "sum",
         "hovertemplate": "color=Bluetooth 6.0<br>x=%{x}<br>sum of y=%{y}<extra></extra>",
         "legendgroup": "Bluetooth 6.0",
         "marker": {
          "color": "rgb(47, 138, 196)",
          "pattern": {
           "shape": ""
          }
         },
         "name": "Bluetooth 6.0",
         "orientation": "v",
         "showlegend": true,
         "x": [
          "Bluetooth 6.0"
         ],
         "xaxis": "x",
         "y": {
          "dtype": "i1",
          "bdata": "BA=="
         },
         "yaxis": "y",
         "type": "histogram"
        },
        {
         "bingroup": "x",
         "histfunc": "sum",
         "hovertemplate": "color=Bluetooth 4.1<br>x=%{x}<br>sum of y=%{y}<extra></extra>",
         "legendgroup": "Bluetooth 4.1",
         "marker": {
          "color": "rgb(118, 78, 159)",
          "pattern": {
           "shape": ""
          }
         },
         "name": "Bluetooth 4.1",
         "orientation": "v",
         "showlegend": true,
         "x": [
          "Bluetooth 4.1"
         ],
         "xaxis": "x",
         "y": {
          "dtype": "i1",
          "bdata": "BA=="
         },
         "yaxis": "y",
         "type": "histogram"
        }
       ],
       "layout": {
        "template": {
         "data": {
          "histogram2dcontour": [
           {
            "type": "histogram2dcontour",
            "colorbar": {
             "outlinewidth": 0,
             "ticks": ""
            },
            "colorscale": [
             [
              0.0,
              "#0d0887"
             ],
             [
              0.1111111111111111,
              "#46039f"
             ],
             [
              0.2222222222222222,
              "#7201a8"
             ],
             [
              0.3333333333333333,
              "#9c179e"
             ],
             [
              0.4444444444444444,
              "#bd3786"
             ],
             [
              0.5555555555555556,
              "#d8576b"
             ],
             [
              0.6666666666666666,
              "#ed7953"
             ],
             [
              0.7777777777777778,
              "#fb9f3a"
             ],
             [
              0.8888888888888888,
              "#fdca26"
             ],
             [
              1.0,
              "#f0f921"
             ]
            ]
           }
          ],
          "choropleth": [
           {
            "type": "choropleth",
            "colorbar": {
             "outlinewidth": 0,
             "ticks": ""
            }
           }
          ],
          "histogram2d": [
           {
            "type": "histogram2d",
            "colorbar": {
             "outlinewidth": 0,
             "ticks": ""
            },
            "colorscale": [
             [
              0.0,
              "#0d0887"
             ],
             [
              0.1111111111111111,
              "#46039f"
             ],
             [
              0.2222222222222222,
              "#7201a8"
             ],
             [
              0.3333333333333333,
              "#9c179e"
             ],
             [
              0.4444444444444444,
              "#bd3786"
             ],
             [
              0.5555555555555556,
              "#d8576b"
             ],
             [
              0.6666666666666666,
              "#ed7953"
             ],
             [
              0.7777777777777778,
              "#fb9f3a"
             ],
             [
              0.8888888888888888,
              "#fdca26"
             ],
             [
              1.0,
              "#f0f921"
             ]
            ]
           }
          ],
          "heatmap": [
           {
            "type": "heatmap",
            "colorbar": {
             "outlinewidth": 0,
             "ticks": ""
            },
            "colorscale": [
             [
              0.0,
              "#0d0887"
             ],
             [
              0.1111111111111111,
              "#46039f"
             ],
             [
              0.2222222222222222,
              "#7201a8"
             ],
             [
              0.3333333333333333,
              "#9c179e"
             ],
             [
              0.4444444444444444,
              "#bd3786"
             ],
             [
              0.5555555555555556,
              "#d8576b"
             ],
             [
              0.6666666666666666,
              "#ed7953"
             ],
             [
              0.7777777777777778,
              "#fb9f3a"
             ],
             [
              0.8888888888888888,
              "#fdca26"
             ],
             [
              1.0,
              "#f0f921"
             ]
            ]
           }
          ],
          "contourcarpet": [
           {
            "type": "contourcarpet",
            "colorbar": {
             "outlinewidth": 0,
             "ticks": ""
            }
           }
          ],
          "contour": [
           {
            "type": "contour",
            "colorbar": {
             "outlinewidth": 0,
             "ticks": ""
            },
            "colorscale": [
             [
              0.0,
              "#0d0887"
             ],
             [
              0.1111111111111111,
              "#46039f"
             ],
             [
              0.2222222222222222,
              "#7201a8"
             ],
             [
              0.3333333333333333,
              "#9c179e"
             ],
             [
              0.4444444444444444,
              "#bd3786"
             ],
             [
              0.5555555555555556,
              "#d8576b"
             ],
             [
              0.6666666666666666,
              "#ed7953"
             ],
             [
              0.7777777777777778,
              "#fb9f3a"
             ],
             [
              0.8888888888888888,
              "#fdca26"
             ],
             [
              1.0,
              "#f0f921"
             ]
            ]
           }
          ],
          "surface": [
           {
            "type": "surface",
            "colorbar": {
             "outlinewidth": 0,
             "ticks": ""
            },
            "colorscale": [
             [
              0.0,
              "#0d0887"
             ],
             [
              0.1111111111111111,
              "#46039f"
             ],
             [
              0.2222222222222222,
              "#7201a8"
             ],
             [
              0.3333333333333333,
              "#9c179e"
             ],
             [
              0.4444444444444444,
              "#bd3786"
             ],
             [
              0.5555555555555556,
              "#d8576b"
             ],
             [
              0.6666666666666666,
              "#ed7953"
             ],
             [
              0.7777777777777778,
              "#fb9f3a"
             ],
             [
              0.8888888888888888,
              "#fdca26"
             ],
             [
              1.0,
              "#f0f921"
             ]
            ]
           }
          ],
          "mesh3d": [
           {
            "type": "mesh3d",
            "colorbar": {
             "outlinewidth": 0,
             "ticks": ""
            }
           }
          ],
          "scatter": [
           {
            "marker": {
             "line": {
              "color": "#283442"
             }
            },
            "type": "scatter"
           }
          ],
          "parcoords": [
           {
            "type": "parcoords",
            "line": {
             "colorbar": {
              "outlinewidth": 0,
              "ticks": ""
             }
            }
           }
          ],
          "scatterpolargl": [
           {
            "type": "scatterpolargl",
            "marker": {
             "colorbar": {
              "outlinewidth": 0,
              "ticks": ""
             }
            }
           }
          ],
          "bar": [
           {
            "error_x": {
             "color": "#f2f5fa"
            },
            "error_y": {
             "color": "#f2f5fa"
            },
            "marker": {
             "line": {
              "color": "rgb(17,17,17)",
              "width": 0.5
             },
             "pattern": {
              "fillmode": "overlay",
              "size": 10,
              "solidity": 0.2
             }
            },
            "type": "bar"
           }
          ],
          "scattergeo": [
           {
            "type": "scattergeo",
            "marker": {
             "colorbar": {
              "outlinewidth": 0,
              "ticks": ""
             }
            }
           }
          ],
          "scatterpolar": [
           {
            "type": "scatterpolar",
            "marker": {
             "colorbar": {
              "outlinewidth": 0,
              "ticks": ""
             }
            }
           }
          ],
          "histogram": [
           {
            "marker": {
             "pattern": {
              "fillmode": "overlay",
              "size": 10,
              "solidity": 0.2
             }
            },
            "type": "histogram"
           }
          ],
          "scattergl": [
           {
            "marker": {
             "line": {
              "color": "#283442"
             }
            },
            "type": "scattergl"
           }
          ],
          "scatter3d": [
           {
            "type": "scatter3d",
            "line": {
             "colorbar": {
              "outlinewidth": 0,
              "ticks": ""
             }
            },
            "marker": {
             "colorbar": {
              "outlinewidth": 0,
              "ticks": ""
             }
            }
           }
          ],
          "scattermap": [
           {
            "type": "scattermap",
            "marker": {
             "colorbar": {
              "outlinewidth": 0,
              "ticks": ""
             }
            }
           }
          ],
          "scattermapbox": [
           {
            "type": "scattermapbox",
            "marker": {
             "colorbar": {
              "outlinewidth": 0,
              "ticks": ""
             }
            }
           }
          ],
          "scatterternary": [
           {
            "type": "scatterternary",
            "marker": {
             "colorbar": {
              "outlinewidth": 0,
              "ticks": ""
             }
            }
           }
          ],
          "scattercarpet": [
           {
            "type": "scattercarpet",
            "marker": {
             "colorbar": {
              "outlinewidth": 0,
              "ticks": ""
             }
            }
           }
          ],
          "carpet": [
           {
            "aaxis": {
             "endlinecolor": "#A2B1C6",
             "gridcolor": "#506784",
             "linecolor": "#506784",
             "minorgridcolor": "#506784",
             "startlinecolor": "#A2B1C6"
            },
            "baxis": {
             "endlinecolor": "#A2B1C6",
             "gridcolor": "#506784",
             "linecolor": "#506784",
             "minorgridcolor": "#506784",
             "startlinecolor": "#A2B1C6"
            },
            "type": "carpet"
           }
          ],
          "table": [
           {
            "cells": {
             "fill": {
              "color": "#506784"
             },
             "line": {
              "color": "rgb(17,17,17)"
             }
            },
            "header": {
             "fill": {
              "color": "#2a3f5f"
             },
             "line": {
              "color": "rgb(17,17,17)"
             }
            },
            "type": "table"
           }
          ],
          "barpolar": [
           {
            "marker": {
             "line": {
              "color": "rgb(17,17,17)",
              "width": 0.5
             },
             "pattern": {
              "fillmode": "overlay",
              "size": 10,
              "solidity": 0.2
             }
            },
            "type": "barpolar"
           }
          ],
          "pie": [
           {
            "automargin": true,
            "type": "pie"
           }
          ]
         },
         "layout": {
          "autotypenumbers": "strict",
          "colorway": [
           "#636efa",
           "#EF553B",
           "#00cc96",
           "#ab63fa",
           "#FFA15A",
           "#19d3f3",
           "#FF6692",
           "#B6E880",
           "#FF97FF",
           "#FECB52"
          ],
          "font": {
           "color": "#f2f5fa"
          },
          "hovermode": "closest",
          "hoverlabel": {
           "align": "left"
          },
          "paper_bgcolor": "rgb(17,17,17)",
          "plot_bgcolor": "rgb(17,17,17)",
          "polar": {
           "bgcolor": "rgb(17,17,17)",
           "angularaxis": {
            "gridcolor": "#506784",
            "linecolor": "#506784",
            "ticks": ""
           },
           "radialaxis": {
            "gridcolor": "#506784",
            "linecolor": "#506784",
            "ticks": ""
           }
          },
          "ternary": {
           "bgcolor": "rgb(17,17,17)",
           "aaxis": {
            "gridcolor": "#506784",
            "linecolor": "#506784",
            "ticks": ""
           },
           "baxis": {
            "gridcolor": "#506784",
            "linecolor": "#506784",
            "ticks": ""
           },
           "caxis": {
            "gridcolor": "#506784",
            "linecolor": "#506784",
            "ticks": ""
           }
          },
          "coloraxis": {
           "colorbar": {
            "outlinewidth": 0,
            "ticks": ""
           }
          },
          "colorscale": {
           "sequential": [
            [
             0.0,
             "#0d0887"
            ],
            [
             0.1111111111111111,
             "#46039f"
            ],
            [
             0.2222222222222222,
             "#7201a8"
            ],
            [
             0.3333333333333333,
             "#9c179e"
            ],
            [
             0.4444444444444444,
             "#bd3786"
            ],
            [
             0.5555555555555556,
             "#d8576b"
            ],
            [
             0.6666666666666666,
             "#ed7953"
            ],
            [
             0.7777777777777778,
             "#fb9f3a"
            ],
            [
             0.8888888888888888,
             "#fdca26"
            ],
            [
             1.0,
             "#f0f921"
            ]
           ],
           "sequentialminus": [
            [
             0.0,
             "#0d0887"
            ],
            [
             0.1111111111111111,
             "#46039f"
            ],
            [
             0.2222222222222222,
             "#7201a8"
            ],
            [
             0.3333333333333333,
             "#9c179e"
            ],
            [
             0.4444444444444444,
             "#bd3786"
            ],
            [
             0.5555555555555556,
             "#d8576b"
            ],
            [
             0.6666666666666666,
             "#ed7953"
            ],
            [
             0.7777777777777778,
             "#fb9f3a"
            ],
            [
             0.8888888888888888,
             "#fdca26"
            ],
            [
             1.0,
             "#f0f921"
            ]
           ],
           "diverging": [
            [
             0,
             "#8e0152"
            ],
            [
             0.1,
             "#c51b7d"
            ],
            [
             0.2,
             "#de77ae"
            ],
            [
             0.3,
             "#f1b6da"
            ],
            [
             0.4,
             "#fde0ef"
            ],
            [
             0.5,
             "#f7f7f7"
            ],
            [
             0.6,
             "#e6f5d0"
            ],
            [
             0.7,
             "#b8e186"
            ],
            [
             0.8,
             "#7fbc41"
            ],
            [
             0.9,
             "#4d9221"
            ],
            [
             1,
             "#276419"
            ]
           ]
          },
          "xaxis": {
           "gridcolor": "#283442",
           "linecolor": "#506784",
           "ticks": "",
           "title": {
            "standoff": 15
           },
           "zerolinecolor": "#283442",
           "automargin": true,
           "zerolinewidth": 2
          },
          "yaxis": {
           "gridcolor": "#283442",
           "linecolor": "#506784",
           "ticks": "",
           "title": {
            "standoff": 15
           },
           "zerolinecolor": "#283442",
           "automargin": true,
           "zerolinewidth": 2
          },
          "scene": {
           "xaxis": {
            "backgroundcolor": "rgb(17,17,17)",
            "gridcolor": "#506784",
            "linecolor": "#506784",
            "showbackground": true,
            "ticks": "",
            "zerolinecolor": "#C8D4E3",
            "gridwidth": 2
           },
           "yaxis": {
            "backgroundcolor": "rgb(17,17,17)",
            "gridcolor": "#506784",
            "linecolor": "#506784",
            "showbackground": true,
            "ticks": "",
            "zerolinecolor": "#C8D4E3",
            "gridwidth": 2
           },
           "zaxis": {
            "backgroundcolor": "rgb(17,17,17)",
            "gridcolor": "#506784",
            "linecolor": "#506784",
            "showbackground": true,
            "ticks": "",
            "zerolinecolor": "#C8D4E3",
            "gridwidth": 2
           }
          },
          "shapedefaults": {
           "line": {
            "color": "#f2f5fa"
           }
          },
          "annotationdefaults": {
           "arrowcolor": "#f2f5fa",
           "arrowhead": 0,
           "arrowwidth": 1
          },
          "geo": {
           "bgcolor": "rgb(17,17,17)",
           "landcolor": "rgb(17,17,17)",
           "subunitcolor": "#506784",
           "showland": true,
           "showlakes": true,
           "lakecolor": "rgb(17,17,17)"
          },
          "title": {
           "x": 0.05
          },
          "updatemenudefaults": {
           "bgcolor": "#506784",
           "borderwidth": 0
          },
          "sliderdefaults": {
           "bgcolor": "#C8D4E3",
           "borderwidth": 1,
           "bordercolor": "rgb(17,17,17)",
           "tickwidth": 0
          },
          "mapbox": {
           "style": "dark"
          }
         }
        },
        "xaxis": {
         "anchor": "y",
         "domain": [
          0.0,
          1.0
         ],
         "title": {
          "text": "x"
         }
        },
        "yaxis": {
         "anchor": "x",
         "domain": [
          0.0,
          1.0
         ],
         "title": {
          "text": "sum of y"
         }
        },
        "legend": {
         "title": {
          "text": "color"
         },
         "tracegroupgap": 0
        },
        "title": {
         "text": "Bluetooth support"
        },
        "barmode": "relative",
        "height": 750
       },
       "config": {
        "plotlyServerURL": "https://plot.ly"
       }
      }
     },
     "metadata": {},
     "output_type": "display_data"
    },
    {
     "data": {
      "application/vnd.plotly.v1+json": {
       "data": [
        {
         "bingroup": "x",
         "histfunc": "sum",
         "hovertemplate": "color=Yes<br>x=%{x}<br>sum of y=%{y}<extra></extra>",
         "legendgroup": "Yes",
         "marker": {
          "color": "rgb(229, 134, 6)",
          "pattern": {
           "shape": ""
          }
         },
         "name": "Yes",
         "orientation": "v",
         "showlegend": true,
         "x": [
          "Yes"
         ],
         "xaxis": "x",
         "y": {
          "dtype": "i2",
          "bdata": "8gE="
         },
         "yaxis": "y",
         "type": "histogram"
        },
        {
         "bingroup": "x",
         "histfunc": "sum",
         "hovertemplate": "color=No<br>x=%{x}<br>sum of y=%{y}<extra></extra>",
         "legendgroup": "No",
         "marker": {
          "color": "rgb(93, 105, 177)",
          "pattern": {
           "shape": ""
          }
         },
         "name": "No",
         "orientation": "v",
         "showlegend": true,
         "x": [
          "No"
         ],
         "xaxis": "x",
         "y": {
          "dtype": "i2",
          "bdata": "sQE="
         },
         "yaxis": "y",
         "type": "histogram"
        },
        {
         "bingroup": "x",
         "histfunc": "sum",
         "hovertemplate": "color=GPS (NMEA 0183)<br>x=%{x}<br>sum of y=%{y}<extra></extra>",
         "legendgroup": "GPS (NMEA 0183)",
         "marker": {
          "color": "rgb(82, 188, 163)",
          "pattern": {
           "shape": ""
          }
         },
         "name": "GPS (NMEA 0183)",
         "orientation": "v",
         "showlegend": true,
         "x": [
          "GPS (NMEA 0183)"
         ],
         "xaxis": "x",
         "y": {
          "dtype": "i1",
          "bdata": "WQ=="
         },
         "yaxis": "y",
         "type": "histogram"
        }
       ],
       "layout": {
        "template": {
         "data": {
          "histogram2dcontour": [
           {
            "type": "histogram2dcontour",
            "colorbar": {
             "outlinewidth": 0,
             "ticks": ""
            },
            "colorscale": [
             [
              0.0,
              "#0d0887"
             ],
             [
              0.1111111111111111,
              "#46039f"
             ],
             [
              0.2222222222222222,
              "#7201a8"
             ],
             [
              0.3333333333333333,
              "#9c179e"
             ],
             [
              0.4444444444444444,
              "#bd3786"
             ],
             [
              0.5555555555555556,
              "#d8576b"
             ],
             [
              0.6666666666666666,
              "#ed7953"
             ],
             [
              0.7777777777777778,
              "#fb9f3a"
             ],
             [
              0.8888888888888888,
              "#fdca26"
             ],
             [
              1.0,
              "#f0f921"
             ]
            ]
           }
          ],
          "choropleth": [
           {
            "type": "choropleth",
            "colorbar": {
             "outlinewidth": 0,
             "ticks": ""
            }
           }
          ],
          "histogram2d": [
           {
            "type": "histogram2d",
            "colorbar": {
             "outlinewidth": 0,
             "ticks": ""
            },
            "colorscale": [
             [
              0.0,
              "#0d0887"
             ],
             [
              0.1111111111111111,
              "#46039f"
             ],
             [
              0.2222222222222222,
              "#7201a8"
             ],
             [
              0.3333333333333333,
              "#9c179e"
             ],
             [
              0.4444444444444444,
              "#bd3786"
             ],
             [
              0.5555555555555556,
              "#d8576b"
             ],
             [
              0.6666666666666666,
              "#ed7953"
             ],
             [
              0.7777777777777778,
              "#fb9f3a"
             ],
             [
              0.8888888888888888,
              "#fdca26"
             ],
             [
              1.0,
              "#f0f921"
             ]
            ]
           }
          ],
          "heatmap": [
           {
            "type": "heatmap",
            "colorbar": {
             "outlinewidth": 0,
             "ticks": ""
            },
            "colorscale": [
             [
              0.0,
              "#0d0887"
             ],
             [
              0.1111111111111111,
              "#46039f"
             ],
             [
              0.2222222222222222,
              "#7201a8"
             ],
             [
              0.3333333333333333,
              "#9c179e"
             ],
             [
              0.4444444444444444,
              "#bd3786"
             ],
             [
              0.5555555555555556,
              "#d8576b"
             ],
             [
              0.6666666666666666,
              "#ed7953"
             ],
             [
              0.7777777777777778,
              "#fb9f3a"
             ],
             [
              0.8888888888888888,
              "#fdca26"
             ],
             [
              1.0,
              "#f0f921"
             ]
            ]
           }
          ],
          "contourcarpet": [
           {
            "type": "contourcarpet",
            "colorbar": {
             "outlinewidth": 0,
             "ticks": ""
            }
           }
          ],
          "contour": [
           {
            "type": "contour",
            "colorbar": {
             "outlinewidth": 0,
             "ticks": ""
            },
            "colorscale": [
             [
              0.0,
              "#0d0887"
             ],
             [
              0.1111111111111111,
              "#46039f"
             ],
             [
              0.2222222222222222,
              "#7201a8"
             ],
             [
              0.3333333333333333,
              "#9c179e"
             ],
             [
              0.4444444444444444,
              "#bd3786"
             ],
             [
              0.5555555555555556,
              "#d8576b"
             ],
             [
              0.6666666666666666,
              "#ed7953"
             ],
             [
              0.7777777777777778,
              "#fb9f3a"
             ],
             [
              0.8888888888888888,
              "#fdca26"
             ],
             [
              1.0,
              "#f0f921"
             ]
            ]
           }
          ],
          "surface": [
           {
            "type": "surface",
            "colorbar": {
             "outlinewidth": 0,
             "ticks": ""
            },
            "colorscale": [
             [
              0.0,
              "#0d0887"
             ],
             [
              0.1111111111111111,
              "#46039f"
             ],
             [
              0.2222222222222222,
              "#7201a8"
             ],
             [
              0.3333333333333333,
              "#9c179e"
             ],
             [
              0.4444444444444444,
              "#bd3786"
             ],
             [
              0.5555555555555556,
              "#d8576b"
             ],
             [
              0.6666666666666666,
              "#ed7953"
             ],
             [
              0.7777777777777778,
              "#fb9f3a"
             ],
             [
              0.8888888888888888,
              "#fdca26"
             ],
             [
              1.0,
              "#f0f921"
             ]
            ]
           }
          ],
          "mesh3d": [
           {
            "type": "mesh3d",
            "colorbar": {
             "outlinewidth": 0,
             "ticks": ""
            }
           }
          ],
          "scatter": [
           {
            "marker": {
             "line": {
              "color": "#283442"
             }
            },
            "type": "scatter"
           }
          ],
          "parcoords": [
           {
            "type": "parcoords",
            "line": {
             "colorbar": {
              "outlinewidth": 0,
              "ticks": ""
             }
            }
           }
          ],
          "scatterpolargl": [
           {
            "type": "scatterpolargl",
            "marker": {
             "colorbar": {
              "outlinewidth": 0,
              "ticks": ""
             }
            }
           }
          ],
          "bar": [
           {
            "error_x": {
             "color": "#f2f5fa"
            },
            "error_y": {
             "color": "#f2f5fa"
            },
            "marker": {
             "line": {
              "color": "rgb(17,17,17)",
              "width": 0.5
             },
             "pattern": {
              "fillmode": "overlay",
              "size": 10,
              "solidity": 0.2
             }
            },
            "type": "bar"
           }
          ],
          "scattergeo": [
           {
            "type": "scattergeo",
            "marker": {
             "colorbar": {
              "outlinewidth": 0,
              "ticks": ""
             }
            }
           }
          ],
          "scatterpolar": [
           {
            "type": "scatterpolar",
            "marker": {
             "colorbar": {
              "outlinewidth": 0,
              "ticks": ""
             }
            }
           }
          ],
          "histogram": [
           {
            "marker": {
             "pattern": {
              "fillmode": "overlay",
              "size": 10,
              "solidity": 0.2
             }
            },
            "type": "histogram"
           }
          ],
          "scattergl": [
           {
            "marker": {
             "line": {
              "color": "#283442"
             }
            },
            "type": "scattergl"
           }
          ],
          "scatter3d": [
           {
            "type": "scatter3d",
            "line": {
             "colorbar": {
              "outlinewidth": 0,
              "ticks": ""
             }
            },
            "marker": {
             "colorbar": {
              "outlinewidth": 0,
              "ticks": ""
             }
            }
           }
          ],
          "scattermap": [
           {
            "type": "scattermap",
            "marker": {
             "colorbar": {
              "outlinewidth": 0,
              "ticks": ""
             }
            }
           }
          ],
          "scattermapbox": [
           {
            "type": "scattermapbox",
            "marker": {
             "colorbar": {
              "outlinewidth": 0,
              "ticks": ""
             }
            }
           }
          ],
          "scatterternary": [
           {
            "type": "scatterternary",
            "marker": {
             "colorbar": {
              "outlinewidth": 0,
              "ticks": ""
             }
            }
           }
          ],
          "scattercarpet": [
           {
            "type": "scattercarpet",
            "marker": {
             "colorbar": {
              "outlinewidth": 0,
              "ticks": ""
             }
            }
           }
          ],
          "carpet": [
           {
            "aaxis": {
             "endlinecolor": "#A2B1C6",
             "gridcolor": "#506784",
             "linecolor": "#506784",
             "minorgridcolor": "#506784",
             "startlinecolor": "#A2B1C6"
            },
            "baxis": {
             "endlinecolor": "#A2B1C6",
             "gridcolor": "#506784",
             "linecolor": "#506784",
             "minorgridcolor": "#506784",
             "startlinecolor": "#A2B1C6"
            },
            "type": "carpet"
           }
          ],
          "table": [
           {
            "cells": {
             "fill": {
              "color": "#506784"
             },
             "line": {
              "color": "rgb(17,17,17)"
             }
            },
            "header": {
             "fill": {
              "color": "#2a3f5f"
             },
             "line": {
              "color": "rgb(17,17,17)"
             }
            },
            "type": "table"
           }
          ],
          "barpolar": [
           {
            "marker": {
             "line": {
              "color": "rgb(17,17,17)",
              "width": 0.5
             },
             "pattern": {
              "fillmode": "overlay",
              "size": 10,
              "solidity": 0.2
             }
            },
            "type": "barpolar"
           }
          ],
          "pie": [
           {
            "automargin": true,
            "type": "pie"
           }
          ]
         },
         "layout": {
          "autotypenumbers": "strict",
          "colorway": [
           "#636efa",
           "#EF553B",
           "#00cc96",
           "#ab63fa",
           "#FFA15A",
           "#19d3f3",
           "#FF6692",
           "#B6E880",
           "#FF97FF",
           "#FECB52"
          ],
          "font": {
           "color": "#f2f5fa"
          },
          "hovermode": "closest",
          "hoverlabel": {
           "align": "left"
          },
          "paper_bgcolor": "rgb(17,17,17)",
          "plot_bgcolor": "rgb(17,17,17)",
          "polar": {
           "bgcolor": "rgb(17,17,17)",
           "angularaxis": {
            "gridcolor": "#506784",
            "linecolor": "#506784",
            "ticks": ""
           },
           "radialaxis": {
            "gridcolor": "#506784",
            "linecolor": "#506784",
            "ticks": ""
           }
          },
          "ternary": {
           "bgcolor": "rgb(17,17,17)",
           "aaxis": {
            "gridcolor": "#506784",
            "linecolor": "#506784",
            "ticks": ""
           },
           "baxis": {
            "gridcolor": "#506784",
            "linecolor": "#506784",
            "ticks": ""
           },
           "caxis": {
            "gridcolor": "#506784",
            "linecolor": "#506784",
            "ticks": ""
           }
          },
          "coloraxis": {
           "colorbar": {
            "outlinewidth": 0,
            "ticks": ""
           }
          },
          "colorscale": {
           "sequential": [
            [
             0.0,
             "#0d0887"
            ],
            [
             0.1111111111111111,
             "#46039f"
            ],
            [
             0.2222222222222222,
             "#7201a8"
            ],
            [
             0.3333333333333333,
             "#9c179e"
            ],
            [
             0.4444444444444444,
             "#bd3786"
            ],
            [
             0.5555555555555556,
             "#d8576b"
            ],
            [
             0.6666666666666666,
             "#ed7953"
            ],
            [
             0.7777777777777778,
             "#fb9f3a"
            ],
            [
             0.8888888888888888,
             "#fdca26"
            ],
            [
             1.0,
             "#f0f921"
            ]
           ],
           "sequentialminus": [
            [
             0.0,
             "#0d0887"
            ],
            [
             0.1111111111111111,
             "#46039f"
            ],
            [
             0.2222222222222222,
             "#7201a8"
            ],
            [
             0.3333333333333333,
             "#9c179e"
            ],
            [
             0.4444444444444444,
             "#bd3786"
            ],
            [
             0.5555555555555556,
             "#d8576b"
            ],
            [
             0.6666666666666666,
             "#ed7953"
            ],
            [
             0.7777777777777778,
             "#fb9f3a"
            ],
            [
             0.8888888888888888,
             "#fdca26"
            ],
            [
             1.0,
             "#f0f921"
            ]
           ],
           "diverging": [
            [
             0,
             "#8e0152"
            ],
            [
             0.1,
             "#c51b7d"
            ],
            [
             0.2,
             "#de77ae"
            ],
            [
             0.3,
             "#f1b6da"
            ],
            [
             0.4,
             "#fde0ef"
            ],
            [
             0.5,
             "#f7f7f7"
            ],
            [
             0.6,
             "#e6f5d0"
            ],
            [
             0.7,
             "#b8e186"
            ],
            [
             0.8,
             "#7fbc41"
            ],
            [
             0.9,
             "#4d9221"
            ],
            [
             1,
             "#276419"
            ]
           ]
          },
          "xaxis": {
           "gridcolor": "#283442",
           "linecolor": "#506784",
           "ticks": "",
           "title": {
            "standoff": 15
           },
           "zerolinecolor": "#283442",
           "automargin": true,
           "zerolinewidth": 2
          },
          "yaxis": {
           "gridcolor": "#283442",
           "linecolor": "#506784",
           "ticks": "",
           "title": {
            "standoff": 15
           },
           "zerolinecolor": "#283442",
           "automargin": true,
           "zerolinewidth": 2
          },
          "scene": {
           "xaxis": {
            "backgroundcolor": "rgb(17,17,17)",
            "gridcolor": "#506784",
            "linecolor": "#506784",
            "showbackground": true,
            "ticks": "",
            "zerolinecolor": "#C8D4E3",
            "gridwidth": 2
           },
           "yaxis": {
            "backgroundcolor": "rgb(17,17,17)",
            "gridcolor": "#506784",
            "linecolor": "#506784",
            "showbackground": true,
            "ticks": "",
            "zerolinecolor": "#C8D4E3",
            "gridwidth": 2
           },
           "zaxis": {
            "backgroundcolor": "rgb(17,17,17)",
            "gridcolor": "#506784",
            "linecolor": "#506784",
            "showbackground": true,
            "ticks": "",
            "zerolinecolor": "#C8D4E3",
            "gridwidth": 2
           }
          },
          "shapedefaults": {
           "line": {
            "color": "#f2f5fa"
           }
          },
          "annotationdefaults": {
           "arrowcolor": "#f2f5fa",
           "arrowhead": 0,
           "arrowwidth": 1
          },
          "geo": {
           "bgcolor": "rgb(17,17,17)",
           "landcolor": "rgb(17,17,17)",
           "subunitcolor": "#506784",
           "showland": true,
           "showlakes": true,
           "lakecolor": "rgb(17,17,17)"
          },
          "title": {
           "x": 0.05
          },
          "updatemenudefaults": {
           "bgcolor": "#506784",
           "borderwidth": 0
          },
          "sliderdefaults": {
           "bgcolor": "#C8D4E3",
           "borderwidth": 1,
           "bordercolor": "rgb(17,17,17)",
           "tickwidth": 0
          },
          "mapbox": {
           "style": "dark"
          }
         }
        },
        "xaxis": {
         "anchor": "y",
         "domain": [
          0.0,
          1.0
         ],
         "title": {
          "text": "x"
         }
        },
        "yaxis": {
         "anchor": "x",
         "domain": [
          0.0,
          1.0
         ],
         "title": {
          "text": "sum of y"
         }
        },
        "legend": {
         "title": {
          "text": "color"
         },
         "tracegroupgap": 0
        },
        "title": {
         "text": "Supported GPS protocol(s)"
        },
        "barmode": "relative",
        "height": 750
       },
       "config": {
        "plotlyServerURL": "https://plot.ly"
       }
      }
     },
     "metadata": {},
     "output_type": "display_data"
    },
    {
     "data": {
      "application/vnd.plotly.v1+json": {
       "data": [
        {
         "bingroup": "x",
         "histfunc": "sum",
         "hovertemplate": "color=Qualcomm<br>x=%{x}<br>sum of y=%{y}<extra></extra>",
         "legendgroup": "Qualcomm",
         "marker": {
          "color": "rgb(229, 134, 6)",
          "pattern": {
           "shape": ""
          }
         },
         "name": "Qualcomm",
         "orientation": "v",
         "showlegend": true,
         "x": [
          "Qualcomm"
         ],
         "xaxis": "x",
         "y": {
          "dtype": "i2",
          "bdata": "2AA="
         },
         "yaxis": "y",
         "type": "histogram"
        },
        {
         "bingroup": "x",
         "histfunc": "sum",
         "hovertemplate": "color=MediaTek<br>x=%{x}<br>sum of y=%{y}<extra></extra>",
         "legendgroup": "MediaTek",
         "marker": {
          "color": "rgb(93, 105, 177)",
          "pattern": {
           "shape": ""
          }
         },
         "name": "MediaTek",
         "orientation": "v",
         "showlegend": true,
         "x": [
          "MediaTek"
         ],
         "xaxis": "x",
         "y": {
          "dtype": "i2",
          "bdata": "sgA="
         },
         "yaxis": "y",
         "type": "histogram"
        },
        {
         "bingroup": "x",
         "histfunc": "sum",
         "hovertemplate": "color=Intel<br>x=%{x}<br>sum of y=%{y}<extra></extra>",
         "legendgroup": "Intel",
         "marker": {
          "color": "rgb(82, 188, 163)",
          "pattern": {
           "shape": ""
          }
         },
         "name": "Intel",
         "orientation": "v",
         "showlegend": true,
         "x": [
          "Intel"
         ],
         "xaxis": "x",
         "y": {
          "dtype": "i1",
          "bdata": "Ww=="
         },
         "yaxis": "y",
         "type": "histogram"
        },
        {
         "bingroup": "x",
         "histfunc": "sum",
         "hovertemplate": "color=Samsung<br>x=%{x}<br>sum of y=%{y}<extra></extra>",
         "legendgroup": "Samsung",
         "marker": {
          "color": "rgb(153, 201, 69)",
          "pattern": {
           "shape": ""
          }
         },
         "name": "Samsung",
         "orientation": "v",
         "showlegend": true,
         "x": [
          "Samsung"
         ],
         "xaxis": "x",
         "y": {
          "dtype": "i1",
          "bdata": "UQ=="
         },
         "yaxis": "y",
         "type": "histogram"
        },
        {
         "bingroup": "x",
         "histfunc": "sum",
         "hovertemplate": "color=Apple<br>x=%{x}<br>sum of y=%{y}<extra></extra>",
         "legendgroup": "Apple",
         "marker": {
          "color": "rgb(204, 97, 176)",
          "pattern": {
           "shape": ""
          }
         },
         "name": "Apple",
         "orientation": "v",
         "showlegend": true,
         "x": [
          "Apple"
         ],
         "xaxis": "x",
         "y": {
          "dtype": "i1",
          "bdata": "Nw=="
         },
         "yaxis": "y",
         "type": "histogram"
        },
        {
         "bingroup": "x",
         "histfunc": "sum",
         "hovertemplate": "color=ARM<br>x=%{x}<br>sum of y=%{y}<extra></extra>",
         "legendgroup": "ARM",
         "marker": {
          "color": "rgb(36, 121, 108)",
          "pattern": {
           "shape": ""
          }
         },
         "name": "ARM",
         "orientation": "v",
         "showlegend": true,
         "x": [
          "ARM"
         ],
         "xaxis": "x",
         "y": {
          "dtype": "i1",
          "bdata": "Mw=="
         },
         "yaxis": "y",
         "type": "histogram"
        },
        {
         "bingroup": "x",
         "histfunc": "sum",
         "hovertemplate": "color=HiSilicon<br>x=%{x}<br>sum of y=%{y}<extra></extra>",
         "legendgroup": "HiSilicon",
         "marker": {
          "color": "rgb(218, 165, 27)",
          "pattern": {
           "shape": ""
          }
         },
         "name": "HiSilicon",
         "orientation": "v",
         "showlegend": true,
         "x": [
          "HiSilicon"
         ],
         "xaxis": "x",
         "y": {
          "dtype": "i1",
          "bdata": "Lw=="
         },
         "yaxis": "y",
         "type": "histogram"
        },
        {
         "bingroup": "x",
         "histfunc": "sum",
         "hovertemplate": "color=Texas Instruments<br>x=%{x}<br>sum of y=%{y}<extra></extra>",
         "legendgroup": "Texas Instruments",
         "marker": {
          "color": "rgb(47, 138, 196)",
          "pattern": {
           "shape": ""
          }
         },
         "name": "Texas Instruments",
         "orientation": "v",
         "showlegend": true,
         "x": [
          "Texas Instruments"
         ],
         "xaxis": "x",
         "y": {
          "dtype": "i1",
          "bdata": "Kw=="
         },
         "yaxis": "y",
         "type": "histogram"
        },
        {
         "bingroup": "x",
         "histfunc": "sum",
         "hovertemplate": "color=NEC<br>x=%{x}<br>sum of y=%{y}<extra></extra>",
         "legendgroup": "NEC",
         "marker": {
          "color": "rgb(118, 78, 159)",
          "pattern": {
           "shape": ""
          }
         },
         "name": "NEC",
         "orientation": "v",
         "showlegend": true,
         "x": [
          "NEC"
         ],
         "xaxis": "x",
         "y": {
          "dtype": "i1",
          "bdata": "Gg=="
         },
         "yaxis": "y",
         "type": "histogram"
        },
        {
         "bingroup": "x",
         "histfunc": "sum",
         "hovertemplate": "color=Marvell<br>x=%{x}<br>sum of y=%{y}<extra></extra>",
         "legendgroup": "Marvell",
         "marker": {
          "color": "rgb(237, 100, 90)",
          "pattern": {
           "shape": ""
          }
         },
         "name": "Marvell",
         "orientation": "v",
         "showlegend": true,
         "x": [
          "Marvell"
         ],
         "xaxis": "x",
         "y": {
          "dtype": "i1",
          "bdata": "GQ=="
         },
         "yaxis": "y",
         "type": "histogram"
        },
        {
         "bingroup": "x",
         "histfunc": "sum",
         "hovertemplate": "color=NVIDIA<br>x=%{x}<br>sum of y=%{y}<extra></extra>",
         "legendgroup": "NVIDIA",
         "marker": {
          "color": "rgb(165, 170, 153)",
          "pattern": {
           "shape": ""
          }
         },
         "name": "NVIDIA",
         "orientation": "v",
         "showlegend": true,
         "x": [
          "NVIDIA"
         ],
         "xaxis": "x",
         "y": {
          "dtype": "i1",
          "bdata": "Fg=="
         },
         "yaxis": "y",
         "type": "histogram"
        },
        {
         "bingroup": "x",
         "histfunc": "sum",
         "hovertemplate": "color=Spreadtrum<br>x=%{x}<br>sum of y=%{y}<extra></extra>",
         "legendgroup": "Spreadtrum",
         "marker": {
          "color": "rgb(229, 134, 6)",
          "pattern": {
           "shape": ""
          }
         },
         "name": "Spreadtrum",
         "orientation": "v",
         "showlegend": true,
         "x": [
          "Spreadtrum"
         ],
         "xaxis": "x",
         "y": {
          "dtype": "i1",
          "bdata": "FA=="
         },
         "yaxis": "y",
         "type": "histogram"
        },
        {
         "bingroup": "x",
         "histfunc": "sum",
         "hovertemplate": "color=UNISOC<br>x=%{x}<br>sum of y=%{y}<extra></extra>",
         "legendgroup": "UNISOC",
         "marker": {
          "color": "rgb(93, 105, 177)",
          "pattern": {
           "shape": ""
          }
         },
         "name": "UNISOC",
         "orientation": "v",
         "showlegend": true,
         "x": [
          "UNISOC"
         ],
         "xaxis": "x",
         "y": {
          "dtype": "i1",
          "bdata": "Dw=="
         },
         "yaxis": "y",
         "type": "histogram"
        },
        {
         "bingroup": "x",
         "histfunc": "sum",
         "hovertemplate": "color=Rockchip<br>x=%{x}<br>sum of y=%{y}<extra></extra>",
         "legendgroup": "Rockchip",
         "marker": {
          "color": "rgb(82, 188, 163)",
          "pattern": {
           "shape": ""
          }
         },
         "name": "Rockchip",
         "orientation": "v",
         "showlegend": true,
         "x": [
          "Rockchip"
         ],
         "xaxis": "x",
         "y": {
          "dtype": "i1",
          "bdata": "Cw=="
         },
         "yaxis": "y",
         "type": "histogram"
        },
        {
         "bingroup": "x",
         "histfunc": "sum",
         "hovertemplate": "color=ST-Ericsson<br>x=%{x}<br>sum of y=%{y}<extra></extra>",
         "legendgroup": "ST-Ericsson",
         "marker": {
          "color": "rgb(153, 201, 69)",
          "pattern": {
           "shape": ""
          }
         },
         "name": "ST-Ericsson",
         "orientation": "v",
         "showlegend": true,
         "x": [
          "ST-Ericsson"
         ],
         "xaxis": "x",
         "y": {
          "dtype": "i1",
          "bdata": "Cw=="
         },
         "yaxis": "y",
         "type": "histogram"
        },
        {
         "bingroup": "x",
         "histfunc": "sum",
         "hovertemplate": "color=NXP<br>x=%{x}<br>sum of y=%{y}<extra></extra>",
         "legendgroup": "NXP",
         "marker": {
          "color": "rgb(204, 97, 176)",
          "pattern": {
           "shape": ""
          }
         },
         "name": "NXP",
         "orientation": "v",
         "showlegend": true,
         "x": [
          "NXP"
         ],
         "xaxis": "x",
         "y": {
          "dtype": "i1",
          "bdata": "Cg=="
         },
         "yaxis": "y",
         "type": "histogram"
        },
        {
         "bingroup": "x",
         "histfunc": "sum",
         "hovertemplate": "color=STMicroelectronics<br>x=%{x}<br>sum of y=%{y}<extra></extra>",
         "legendgroup": "STMicroelectronics",
         "marker": {
          "color": "rgb(36, 121, 108)",
          "pattern": {
           "shape": ""
          }
         },
         "name": "STMicroelectronics",
         "orientation": "v",
         "showlegend": true,
         "x": [
          "STMicroelectronics"
         ],
         "xaxis": "x",
         "y": {
          "dtype": "i1",
          "bdata": "CQ=="
         },
         "yaxis": "y",
         "type": "histogram"
        },
        {
         "bingroup": "x",
         "histfunc": "sum",
         "hovertemplate": "color=Broadcom<br>x=%{x}<br>sum of y=%{y}<extra></extra>",
         "legendgroup": "Broadcom",
         "marker": {
          "color": "rgb(218, 165, 27)",
          "pattern": {
           "shape": ""
          }
         },
         "name": "Broadcom",
         "orientation": "v",
         "showlegend": true,
         "x": [
          "Broadcom"
         ],
         "xaxis": "x",
         "y": {
          "dtype": "i1",
          "bdata": "CQ=="
         },
         "yaxis": "y",
         "type": "histogram"
        },
        {
         "bingroup": "x",
         "histfunc": "sum",
         "hovertemplate": "color=Philips<br>x=%{x}<br>sum of y=%{y}<extra></extra>",
         "legendgroup": "Philips",
         "marker": {
          "color": "rgb(47, 138, 196)",
          "pattern": {
           "shape": ""
          }
         },
         "name": "Philips",
         "orientation": "v",
         "showlegend": true,
         "x": [
          "Philips"
         ],
         "xaxis": "x",
         "y": {
          "dtype": "i1",
          "bdata": "Bw=="
         },
         "yaxis": "y",
         "type": "histogram"
        },
        {
         "bingroup": "x",
         "histfunc": "sum",
         "hovertemplate": "color=Motorola<br>x=%{x}<br>sum of y=%{y}<extra></extra>",
         "legendgroup": "Motorola",
         "marker": {
          "color": "rgb(118, 78, 159)",
          "pattern": {
           "shape": ""
          }
         },
         "name": "Motorola",
         "orientation": "v",
         "showlegend": true,
         "x": [
          "Motorola"
         ],
         "xaxis": "x",
         "y": {
          "dtype": "i1",
          "bdata": "Bw=="
         },
         "yaxis": "y",
         "type": "histogram"
        },
        {
         "bingroup": "x",
         "histfunc": "sum",
         "hovertemplate": "color=Ingenic<br>x=%{x}<br>sum of y=%{y}<extra></extra>",
         "legendgroup": "Ingenic",
         "marker": {
          "color": "rgb(237, 100, 90)",
          "pattern": {
           "shape": ""
          }
         },
         "name": "Ingenic",
         "orientation": "v",
         "showlegend": true,
         "x": [
          "Ingenic"
         ],
         "xaxis": "x",
         "y": {
          "dtype": "i1",
          "bdata": "Bg=="
         },
         "yaxis": "y",
         "type": "histogram"
        },
        {
         "bingroup": "x",
         "histfunc": "sum",
         "hovertemplate": "color=Toshiba<br>x=%{x}<br>sum of y=%{y}<extra></extra>",
         "legendgroup": "Toshiba",
         "marker": {
          "color": "rgb(165, 170, 153)",
          "pattern": {
           "shape": ""
          }
         },
         "name": "Toshiba",
         "orientation": "v",
         "showlegend": true,
         "x": [
          "Toshiba"
         ],
         "xaxis": "x",
         "y": {
          "dtype": "i1",
          "bdata": "Bg=="
         },
         "yaxis": "y",
         "type": "histogram"
        },
        {
         "bingroup": "x",
         "histfunc": "sum",
         "hovertemplate": "color=Telechip<br>x=%{x}<br>sum of y=%{y}<extra></extra>",
         "legendgroup": "Telechip",
         "marker": {
          "color": "rgb(229, 134, 6)",
          "pattern": {
           "shape": ""
          }
         },
         "name": "Telechip",
         "orientation": "v",
         "showlegend": true,
         "x": [
          "Telechip"
         ],
         "xaxis": "x",
         "y": {
          "dtype": "i1",
          "bdata": "Bg=="
         },
         "yaxis": "y",
         "type": "histogram"
        },
        {
         "bingroup": "x",
         "histfunc": "sum",
         "hovertemplate": "color=Allwinner<br>x=%{x}<br>sum of y=%{y}<extra></extra>",
         "legendgroup": "Allwinner",
         "marker": {
          "color": "rgb(93, 105, 177)",
          "pattern": {
           "shape": ""
          }
         },
         "name": "Allwinner",
         "orientation": "v",
         "showlegend": true,
         "x": [
          "Allwinner"
         ],
         "xaxis": "x",
         "y": {
          "dtype": "i1",
          "bdata": "BQ=="
         },
         "yaxis": "y",
         "type": "histogram"
        },
        {
         "bingroup": "x",
         "histfunc": "sum",
         "hovertemplate": "color=SiRF<br>x=%{x}<br>sum of y=%{y}<extra></extra>",
         "legendgroup": "SiRF",
         "marker": {
          "color": "rgb(82, 188, 163)",
          "pattern": {
           "shape": ""
          }
         },
         "name": "SiRF",
         "orientation": "v",
         "showlegend": true,
         "x": [
          "SiRF"
         ],
         "xaxis": "x",
         "y": {
          "dtype": "i1",
          "bdata": "BQ=="
         },
         "yaxis": "y",
         "type": "histogram"
        },
        {
         "bingroup": "x",
         "histfunc": "sum",
         "hovertemplate": "color=Centrality<br>x=%{x}<br>sum of y=%{y}<extra></extra>",
         "legendgroup": "Centrality",
         "marker": {
          "color": "rgb(153, 201, 69)",
          "pattern": {
           "shape": ""
          }
         },
         "name": "Centrality",
         "orientation": "v",
         "showlegend": true,
         "x": [
          "Centrality"
         ],
         "xaxis": "x",
         "y": {
          "dtype": "i1",
          "bdata": "BQ=="
         },
         "yaxis": "y",
         "type": "histogram"
        },
        {
         "bingroup": "x",
         "histfunc": "sum",
         "hovertemplate": "color=AMD<br>x=%{x}<br>sum of y=%{y}<extra></extra>",
         "legendgroup": "AMD",
         "marker": {
          "color": "rgb(204, 97, 176)",
          "pattern": {
           "shape": ""
          }
         },
         "name": "AMD",
         "orientation": "v",
         "showlegend": true,
         "x": [
          "AMD"
         ],
         "xaxis": "x",
         "y": {
          "dtype": "i1",
          "bdata": "BQ=="
         },
         "yaxis": "y",
         "type": "histogram"
        },
        {
         "bingroup": "x",
         "histfunc": "sum",
         "hovertemplate": "color=Amlogic<br>x=%{x}<br>sum of y=%{y}<extra></extra>",
         "legendgroup": "Amlogic",
         "marker": {
          "color": "rgb(36, 121, 108)",
          "pattern": {
           "shape": ""
          }
         },
         "name": "Amlogic",
         "orientation": "v",
         "showlegend": true,
         "x": [
          "Amlogic"
         ],
         "xaxis": "x",
         "y": {
          "dtype": "i1",
          "bdata": "BA=="
         },
         "yaxis": "y",
         "type": "histogram"
        },
        {
         "bingroup": "x",
         "histfunc": "sum",
         "hovertemplate": "color=VIA<br>x=%{x}<br>sum of y=%{y}<extra></extra>",
         "legendgroup": "VIA",
         "marker": {
          "color": "rgb(218, 165, 27)",
          "pattern": {
           "shape": ""
          }
         },
         "name": "VIA",
         "orientation": "v",
         "showlegend": true,
         "x": [
          "VIA"
         ],
         "xaxis": "x",
         "y": {
          "dtype": "i1",
          "bdata": "BA=="
         },
         "yaxis": "y",
         "type": "histogram"
        },
        {
         "bingroup": "x",
         "histfunc": "sum",
         "hovertemplate": "color=Leadcore<br>x=%{x}<br>sum of y=%{y}<extra></extra>",
         "legendgroup": "Leadcore",
         "marker": {
          "color": "rgb(47, 138, 196)",
          "pattern": {
           "shape": ""
          }
         },
         "name": "Leadcore",
         "orientation": "v",
         "showlegend": true,
         "x": [
          "Leadcore"
         ],
         "xaxis": "x",
         "y": {
          "dtype": "i1",
          "bdata": "BA=="
         },
         "yaxis": "y",
         "type": "histogram"
        },
        {
         "bingroup": "x",
         "histfunc": "sum",
         "hovertemplate": "color=Nokia<br>x=%{x}<br>sum of y=%{y}<extra></extra>",
         "legendgroup": "Nokia",
         "marker": {
          "color": "rgb(118, 78, 159)",
          "pattern": {
           "shape": ""
          }
         },
         "name": "Nokia",
         "orientation": "v",
         "showlegend": true,
         "x": [
          "Nokia"
         ],
         "xaxis": "x",
         "y": {
          "dtype": "i1",
          "bdata": "BA=="
         },
         "yaxis": "y",
         "type": "histogram"
        },
        {
         "bingroup": "x",
         "histfunc": "sum",
         "hovertemplate": "color=Samsung-Intrinsity<br>x=%{x}<br>sum of y=%{y}<extra></extra>",
         "legendgroup": "Samsung-Intrinsity",
         "marker": {
          "color": "rgb(237, 100, 90)",
          "pattern": {
           "shape": ""
          }
         },
         "name": "Samsung-Intrinsity",
         "orientation": "v",
         "showlegend": true,
         "x": [
          "Samsung-Intrinsity"
         ],
         "xaxis": "x",
         "y": {
          "dtype": "i1",
          "bdata": "BA=="
         },
         "yaxis": "y",
         "type": "histogram"
        },
        {
         "bingroup": "x",
         "histfunc": "sum",
         "hovertemplate": "color=Acorn<br>x=%{x}<br>sum of y=%{y}<extra></extra>",
         "legendgroup": "Acorn",
         "marker": {
          "color": "rgb(165, 170, 153)",
          "pattern": {
           "shape": ""
          }
         },
         "name": "Acorn",
         "orientation": "v",
         "showlegend": true,
         "x": [
          "Acorn"
         ],
         "xaxis": "x",
         "y": {
          "dtype": "i1",
          "bdata": "BA=="
         },
         "yaxis": "y",
         "type": "histogram"
        },
        {
         "bingroup": "x",
         "histfunc": "sum",
         "hovertemplate": "color=Hitachi<br>x=%{x}<br>sum of y=%{y}<extra></extra>",
         "legendgroup": "Hitachi",
         "marker": {
          "color": "rgb(229, 134, 6)",
          "pattern": {
           "shape": ""
          }
         },
         "name": "Hitachi",
         "orientation": "v",
         "showlegend": true,
         "x": [
          "Hitachi"
         ],
         "xaxis": "x",
         "y": {
          "dtype": "i1",
          "bdata": "Aw=="
         },
         "yaxis": "y",
         "type": "histogram"
        },
        {
         "bingroup": "x",
         "histfunc": "sum",
         "hovertemplate": "color=Actions Semiconductor<br>x=%{x}<br>sum of y=%{y}<extra></extra>",
         "legendgroup": "Actions Semiconductor",
         "marker": {
          "color": "rgb(93, 105, 177)",
          "pattern": {
           "shape": ""
          }
         },
         "name": "Actions Semiconductor",
         "orientation": "v",
         "showlegend": true,
         "x": [
          "Actions Semiconductor"
         ],
         "xaxis": "x",
         "y": {
          "dtype": "i1",
          "bdata": "Aw=="
         },
         "yaxis": "y",
         "type": "histogram"
        },
        {
         "bingroup": "x",
         "histfunc": "sum",
         "hovertemplate": "color=MagicEyes<br>x=%{x}<br>sum of y=%{y}<extra></extra>",
         "legendgroup": "MagicEyes",
         "marker": {
          "color": "rgb(82, 188, 163)",
          "pattern": {
           "shape": ""
          }
         },
         "name": "MagicEyes",
         "orientation": "v",
         "showlegend": true,
         "x": [
          "MagicEyes"
         ],
         "xaxis": "x",
         "y": {
          "dtype": "i1",
          "bdata": "Aw=="
         },
         "yaxis": "y",
         "type": "histogram"
        },
        {
         "bingroup": "x",
         "histfunc": "sum",
         "hovertemplate": "color=DEC<br>x=%{x}<br>sum of y=%{y}<extra></extra>",
         "legendgroup": "DEC",
         "marker": {
          "color": "rgb(153, 201, 69)",
          "pattern": {
           "shape": ""
          }
         },
         "name": "DEC",
         "orientation": "v",
         "showlegend": true,
         "x": [
          "DEC"
         ],
         "xaxis": "x",
         "y": {
          "dtype": "i1",
          "bdata": "Ag=="
         },
         "yaxis": "y",
         "type": "histogram"
        },
        {
         "bingroup": "x",
         "histfunc": "sum",
         "hovertemplate": "color=Xiaomi<br>x=%{x}<br>sum of y=%{y}<extra></extra>",
         "legendgroup": "Xiaomi",
         "marker": {
          "color": "rgb(204, 97, 176)",
          "pattern": {
           "shape": ""
          }
         },
         "name": "Xiaomi",
         "orientation": "v",
         "showlegend": true,
         "x": [
          "Xiaomi"
         ],
         "xaxis": "x",
         "y": {
          "dtype": "i1",
          "bdata": "Ag=="
         },
         "yaxis": "y",
         "type": "histogram"
        },
        {
         "bingroup": "x",
         "histfunc": "sum",
         "hovertemplate": "color=RMI<br>x=%{x}<br>sum of y=%{y}<extra></extra>",
         "legendgroup": "RMI",
         "marker": {
          "color": "rgb(36, 121, 108)",
          "pattern": {
           "shape": ""
          }
         },
         "name": "RMI",
         "orientation": "v",
         "showlegend": true,
         "x": [
          "RMI"
         ],
         "xaxis": "x",
         "y": {
          "dtype": "i1",
          "bdata": "Ag=="
         },
         "yaxis": "y",
         "type": "histogram"
        },
        {
         "bingroup": "x",
         "histfunc": "sum",
         "hovertemplate": "color=Cirrus Logic<br>x=%{x}<br>sum of y=%{y}<extra></extra>",
         "legendgroup": "Cirrus Logic",
         "marker": {
          "color": "rgb(218, 165, 27)",
          "pattern": {
           "shape": ""
          }
         },
         "name": "Cirrus Logic",
         "orientation": "v",
         "showlegend": true,
         "x": [
          "Cirrus Logic"
         ],
         "xaxis": "x",
         "y": {
          "dtype": "i1",
          "bdata": "Ag=="
         },
         "yaxis": "y",
         "type": "histogram"
        },
        {
         "bingroup": "x",
         "histfunc": "sum",
         "hovertemplate": "color=ZiiLABS<br>x=%{x}<br>sum of y=%{y}<extra></extra>",
         "legendgroup": "ZiiLABS",
         "marker": {
          "color": "rgb(47, 138, 196)",
          "pattern": {
           "shape": ""
          }
         },
         "name": "ZiiLABS",
         "orientation": "v",
         "showlegend": true,
         "x": [
          "ZiiLABS"
         ],
         "xaxis": "x",
         "y": {
          "dtype": "i1",
          "bdata": "Ag=="
         },
         "yaxis": "y",
         "type": "histogram"
        },
        {
         "bingroup": "x",
         "histfunc": "sum",
         "hovertemplate": "color=JLQ<br>x=%{x}<br>sum of y=%{y}<extra></extra>",
         "legendgroup": "JLQ",
         "marker": {
          "color": "rgb(118, 78, 159)",
          "pattern": {
           "shape": ""
          }
         },
         "name": "JLQ",
         "orientation": "v",
         "showlegend": true,
         "x": [
          "JLQ"
         ],
         "xaxis": "x",
         "y": {
          "dtype": "i1",
          "bdata": "AQ=="
         },
         "yaxis": "y",
         "type": "histogram"
        },
        {
         "bingroup": "x",
         "histfunc": "sum",
         "hovertemplate": "color=Nufront<br>x=%{x}<br>sum of y=%{y}<extra></extra>",
         "legendgroup": "Nufront",
         "marker": {
          "color": "rgb(237, 100, 90)",
          "pattern": {
           "shape": ""
          }
         },
         "name": "Nufront",
         "orientation": "v",
         "showlegend": true,
         "x": [
          "Nufront"
         ],
         "xaxis": "x",
         "y": {
          "dtype": "i1",
          "bdata": "AQ=="
         },
         "yaxis": "y",
         "type": "histogram"
        },
        {
         "bingroup": "x",
         "histfunc": "sum",
         "hovertemplate": "color=LG<br>x=%{x}<br>sum of y=%{y}<extra></extra>",
         "legendgroup": "LG",
         "marker": {
          "color": "rgb(165, 170, 153)",
          "pattern": {
           "shape": ""
          }
         },
         "name": "LG",
         "orientation": "v",
         "showlegend": true,
         "x": [
          "LG"
         ],
         "xaxis": "x",
         "y": {
          "dtype": "i1",
          "bdata": "AQ=="
         },
         "yaxis": "y",
         "type": "histogram"
        },
        {
         "bingroup": "x",
         "histfunc": "sum",
         "hovertemplate": "color=Renesas<br>x=%{x}<br>sum of y=%{y}<extra></extra>",
         "legendgroup": "Renesas",
         "marker": {
          "color": "rgb(229, 134, 6)",
          "pattern": {
           "shape": ""
          }
         },
         "name": "Renesas",
         "orientation": "v",
         "showlegend": true,
         "x": [
          "Renesas"
         ],
         "xaxis": "x",
         "y": {
          "dtype": "i1",
          "bdata": "AQ=="
         },
         "yaxis": "y",
         "type": "histogram"
        },
        {
         "bingroup": "x",
         "histfunc": "sum",
         "hovertemplate": "color=Sony<br>x=%{x}<br>sum of y=%{y}<extra></extra>",
         "legendgroup": "Sony",
         "marker": {
          "color": "rgb(93, 105, 177)",
          "pattern": {
           "shape": ""
          }
         },
         "name": "Sony",
         "orientation": "v",
         "showlegend": true,
         "x": [
          "Sony"
         ],
         "xaxis": "x",
         "y": {
          "dtype": "i1",
          "bdata": "AQ=="
         },
         "yaxis": "y",
         "type": "histogram"
        }
       ],
       "layout": {
        "template": {
         "data": {
          "histogram2dcontour": [
           {
            "type": "histogram2dcontour",
            "colorbar": {
             "outlinewidth": 0,
             "ticks": ""
            },
            "colorscale": [
             [
              0.0,
              "#0d0887"
             ],
             [
              0.1111111111111111,
              "#46039f"
             ],
             [
              0.2222222222222222,
              "#7201a8"
             ],
             [
              0.3333333333333333,
              "#9c179e"
             ],
             [
              0.4444444444444444,
              "#bd3786"
             ],
             [
              0.5555555555555556,
              "#d8576b"
             ],
             [
              0.6666666666666666,
              "#ed7953"
             ],
             [
              0.7777777777777778,
              "#fb9f3a"
             ],
             [
              0.8888888888888888,
              "#fdca26"
             ],
             [
              1.0,
              "#f0f921"
             ]
            ]
           }
          ],
          "choropleth": [
           {
            "type": "choropleth",
            "colorbar": {
             "outlinewidth": 0,
             "ticks": ""
            }
           }
          ],
          "histogram2d": [
           {
            "type": "histogram2d",
            "colorbar": {
             "outlinewidth": 0,
             "ticks": ""
            },
            "colorscale": [
             [
              0.0,
              "#0d0887"
             ],
             [
              0.1111111111111111,
              "#46039f"
             ],
             [
              0.2222222222222222,
              "#7201a8"
             ],
             [
              0.3333333333333333,
              "#9c179e"
             ],
             [
              0.4444444444444444,
              "#bd3786"
             ],
             [
              0.5555555555555556,
              "#d8576b"
             ],
             [
              0.6666666666666666,
              "#ed7953"
             ],
             [
              0.7777777777777778,
              "#fb9f3a"
             ],
             [
              0.8888888888888888,
              "#fdca26"
             ],
             [
              1.0,
              "#f0f921"
             ]
            ]
           }
          ],
          "heatmap": [
           {
            "type": "heatmap",
            "colorbar": {
             "outlinewidth": 0,
             "ticks": ""
            },
            "colorscale": [
             [
              0.0,
              "#0d0887"
             ],
             [
              0.1111111111111111,
              "#46039f"
             ],
             [
              0.2222222222222222,
              "#7201a8"
             ],
             [
              0.3333333333333333,
              "#9c179e"
             ],
             [
              0.4444444444444444,
              "#bd3786"
             ],
             [
              0.5555555555555556,
              "#d8576b"
             ],
             [
              0.6666666666666666,
              "#ed7953"
             ],
             [
              0.7777777777777778,
              "#fb9f3a"
             ],
             [
              0.8888888888888888,
              "#fdca26"
             ],
             [
              1.0,
              "#f0f921"
             ]
            ]
           }
          ],
          "contourcarpet": [
           {
            "type": "contourcarpet",
            "colorbar": {
             "outlinewidth": 0,
             "ticks": ""
            }
           }
          ],
          "contour": [
           {
            "type": "contour",
            "colorbar": {
             "outlinewidth": 0,
             "ticks": ""
            },
            "colorscale": [
             [
              0.0,
              "#0d0887"
             ],
             [
              0.1111111111111111,
              "#46039f"
             ],
             [
              0.2222222222222222,
              "#7201a8"
             ],
             [
              0.3333333333333333,
              "#9c179e"
             ],
             [
              0.4444444444444444,
              "#bd3786"
             ],
             [
              0.5555555555555556,
              "#d8576b"
             ],
             [
              0.6666666666666666,
              "#ed7953"
             ],
             [
              0.7777777777777778,
              "#fb9f3a"
             ],
             [
              0.8888888888888888,
              "#fdca26"
             ],
             [
              1.0,
              "#f0f921"
             ]
            ]
           }
          ],
          "surface": [
           {
            "type": "surface",
            "colorbar": {
             "outlinewidth": 0,
             "ticks": ""
            },
            "colorscale": [
             [
              0.0,
              "#0d0887"
             ],
             [
              0.1111111111111111,
              "#46039f"
             ],
             [
              0.2222222222222222,
              "#7201a8"
             ],
             [
              0.3333333333333333,
              "#9c179e"
             ],
             [
              0.4444444444444444,
              "#bd3786"
             ],
             [
              0.5555555555555556,
              "#d8576b"
             ],
             [
              0.6666666666666666,
              "#ed7953"
             ],
             [
              0.7777777777777778,
              "#fb9f3a"
             ],
             [
              0.8888888888888888,
              "#fdca26"
             ],
             [
              1.0,
              "#f0f921"
             ]
            ]
           }
          ],
          "mesh3d": [
           {
            "type": "mesh3d",
            "colorbar": {
             "outlinewidth": 0,
             "ticks": ""
            }
           }
          ],
          "scatter": [
           {
            "marker": {
             "line": {
              "color": "#283442"
             }
            },
            "type": "scatter"
           }
          ],
          "parcoords": [
           {
            "type": "parcoords",
            "line": {
             "colorbar": {
              "outlinewidth": 0,
              "ticks": ""
             }
            }
           }
          ],
          "scatterpolargl": [
           {
            "type": "scatterpolargl",
            "marker": {
             "colorbar": {
              "outlinewidth": 0,
              "ticks": ""
             }
            }
           }
          ],
          "bar": [
           {
            "error_x": {
             "color": "#f2f5fa"
            },
            "error_y": {
             "color": "#f2f5fa"
            },
            "marker": {
             "line": {
              "color": "rgb(17,17,17)",
              "width": 0.5
             },
             "pattern": {
              "fillmode": "overlay",
              "size": 10,
              "solidity": 0.2
             }
            },
            "type": "bar"
           }
          ],
          "scattergeo": [
           {
            "type": "scattergeo",
            "marker": {
             "colorbar": {
              "outlinewidth": 0,
              "ticks": ""
             }
            }
           }
          ],
          "scatterpolar": [
           {
            "type": "scatterpolar",
            "marker": {
             "colorbar": {
              "outlinewidth": 0,
              "ticks": ""
             }
            }
           }
          ],
          "histogram": [
           {
            "marker": {
             "pattern": {
              "fillmode": "overlay",
              "size": 10,
              "solidity": 0.2
             }
            },
            "type": "histogram"
           }
          ],
          "scattergl": [
           {
            "marker": {
             "line": {
              "color": "#283442"
             }
            },
            "type": "scattergl"
           }
          ],
          "scatter3d": [
           {
            "type": "scatter3d",
            "line": {
             "colorbar": {
              "outlinewidth": 0,
              "ticks": ""
             }
            },
            "marker": {
             "colorbar": {
              "outlinewidth": 0,
              "ticks": ""
             }
            }
           }
          ],
          "scattermap": [
           {
            "type": "scattermap",
            "marker": {
             "colorbar": {
              "outlinewidth": 0,
              "ticks": ""
             }
            }
           }
          ],
          "scattermapbox": [
           {
            "type": "scattermapbox",
            "marker": {
             "colorbar": {
              "outlinewidth": 0,
              "ticks": ""
             }
            }
           }
          ],
          "scatterternary": [
           {
            "type": "scatterternary",
            "marker": {
             "colorbar": {
              "outlinewidth": 0,
              "ticks": ""
             }
            }
           }
          ],
          "scattercarpet": [
           {
            "type": "scattercarpet",
            "marker": {
             "colorbar": {
              "outlinewidth": 0,
              "ticks": ""
             }
            }
           }
          ],
          "carpet": [
           {
            "aaxis": {
             "endlinecolor": "#A2B1C6",
             "gridcolor": "#506784",
             "linecolor": "#506784",
             "minorgridcolor": "#506784",
             "startlinecolor": "#A2B1C6"
            },
            "baxis": {
             "endlinecolor": "#A2B1C6",
             "gridcolor": "#506784",
             "linecolor": "#506784",
             "minorgridcolor": "#506784",
             "startlinecolor": "#A2B1C6"
            },
            "type": "carpet"
           }
          ],
          "table": [
           {
            "cells": {
             "fill": {
              "color": "#506784"
             },
             "line": {
              "color": "rgb(17,17,17)"
             }
            },
            "header": {
             "fill": {
              "color": "#2a3f5f"
             },
             "line": {
              "color": "rgb(17,17,17)"
             }
            },
            "type": "table"
           }
          ],
          "barpolar": [
           {
            "marker": {
             "line": {
              "color": "rgb(17,17,17)",
              "width": 0.5
             },
             "pattern": {
              "fillmode": "overlay",
              "size": 10,
              "solidity": 0.2
             }
            },
            "type": "barpolar"
           }
          ],
          "pie": [
           {
            "automargin": true,
            "type": "pie"
           }
          ]
         },
         "layout": {
          "autotypenumbers": "strict",
          "colorway": [
           "#636efa",
           "#EF553B",
           "#00cc96",
           "#ab63fa",
           "#FFA15A",
           "#19d3f3",
           "#FF6692",
           "#B6E880",
           "#FF97FF",
           "#FECB52"
          ],
          "font": {
           "color": "#f2f5fa"
          },
          "hovermode": "closest",
          "hoverlabel": {
           "align": "left"
          },
          "paper_bgcolor": "rgb(17,17,17)",
          "plot_bgcolor": "rgb(17,17,17)",
          "polar": {
           "bgcolor": "rgb(17,17,17)",
           "angularaxis": {
            "gridcolor": "#506784",
            "linecolor": "#506784",
            "ticks": ""
           },
           "radialaxis": {
            "gridcolor": "#506784",
            "linecolor": "#506784",
            "ticks": ""
           }
          },
          "ternary": {
           "bgcolor": "rgb(17,17,17)",
           "aaxis": {
            "gridcolor": "#506784",
            "linecolor": "#506784",
            "ticks": ""
           },
           "baxis": {
            "gridcolor": "#506784",
            "linecolor": "#506784",
            "ticks": ""
           },
           "caxis": {
            "gridcolor": "#506784",
            "linecolor": "#506784",
            "ticks": ""
           }
          },
          "coloraxis": {
           "colorbar": {
            "outlinewidth": 0,
            "ticks": ""
           }
          },
          "colorscale": {
           "sequential": [
            [
             0.0,
             "#0d0887"
            ],
            [
             0.1111111111111111,
             "#46039f"
            ],
            [
             0.2222222222222222,
             "#7201a8"
            ],
            [
             0.3333333333333333,
             "#9c179e"
            ],
            [
             0.4444444444444444,
             "#bd3786"
            ],
            [
             0.5555555555555556,
             "#d8576b"
            ],
            [
             0.6666666666666666,
             "#ed7953"
            ],
            [
             0.7777777777777778,
             "#fb9f3a"
            ],
            [
             0.8888888888888888,
             "#fdca26"
            ],
            [
             1.0,
             "#f0f921"
            ]
           ],
           "sequentialminus": [
            [
             0.0,
             "#0d0887"
            ],
            [
             0.1111111111111111,
             "#46039f"
            ],
            [
             0.2222222222222222,
             "#7201a8"
            ],
            [
             0.3333333333333333,
             "#9c179e"
            ],
            [
             0.4444444444444444,
             "#bd3786"
            ],
            [
             0.5555555555555556,
             "#d8576b"
            ],
            [
             0.6666666666666666,
             "#ed7953"
            ],
            [
             0.7777777777777778,
             "#fb9f3a"
            ],
            [
             0.8888888888888888,
             "#fdca26"
            ],
            [
             1.0,
             "#f0f921"
            ]
           ],
           "diverging": [
            [
             0,
             "#8e0152"
            ],
            [
             0.1,
             "#c51b7d"
            ],
            [
             0.2,
             "#de77ae"
            ],
            [
             0.3,
             "#f1b6da"
            ],
            [
             0.4,
             "#fde0ef"
            ],
            [
             0.5,
             "#f7f7f7"
            ],
            [
             0.6,
             "#e6f5d0"
            ],
            [
             0.7,
             "#b8e186"
            ],
            [
             0.8,
             "#7fbc41"
            ],
            [
             0.9,
             "#4d9221"
            ],
            [
             1,
             "#276419"
            ]
           ]
          },
          "xaxis": {
           "gridcolor": "#283442",
           "linecolor": "#506784",
           "ticks": "",
           "title": {
            "standoff": 15
           },
           "zerolinecolor": "#283442",
           "automargin": true,
           "zerolinewidth": 2
          },
          "yaxis": {
           "gridcolor": "#283442",
           "linecolor": "#506784",
           "ticks": "",
           "title": {
            "standoff": 15
           },
           "zerolinecolor": "#283442",
           "automargin": true,
           "zerolinewidth": 2
          },
          "scene": {
           "xaxis": {
            "backgroundcolor": "rgb(17,17,17)",
            "gridcolor": "#506784",
            "linecolor": "#506784",
            "showbackground": true,
            "ticks": "",
            "zerolinecolor": "#C8D4E3",
            "gridwidth": 2
           },
           "yaxis": {
            "backgroundcolor": "rgb(17,17,17)",
            "gridcolor": "#506784",
            "linecolor": "#506784",
            "showbackground": true,
            "ticks": "",
            "zerolinecolor": "#C8D4E3",
            "gridwidth": 2
           },
           "zaxis": {
            "backgroundcolor": "rgb(17,17,17)",
            "gridcolor": "#506784",
            "linecolor": "#506784",
            "showbackground": true,
            "ticks": "",
            "zerolinecolor": "#C8D4E3",
            "gridwidth": 2
           }
          },
          "shapedefaults": {
           "line": {
            "color": "#f2f5fa"
           }
          },
          "annotationdefaults": {
           "arrowcolor": "#f2f5fa",
           "arrowhead": 0,
           "arrowwidth": 1
          },
          "geo": {
           "bgcolor": "rgb(17,17,17)",
           "landcolor": "rgb(17,17,17)",
           "subunitcolor": "#506784",
           "showland": true,
           "showlakes": true,
           "lakecolor": "rgb(17,17,17)"
          },
          "title": {
           "x": 0.05
          },
          "updatemenudefaults": {
           "bgcolor": "#506784",
           "borderwidth": 0
          },
          "sliderdefaults": {
           "bgcolor": "#C8D4E3",
           "borderwidth": 1,
           "bordercolor": "rgb(17,17,17)",
           "tickwidth": 0
          },
          "mapbox": {
           "style": "dark"
          }
         }
        },
        "xaxis": {
         "anchor": "y",
         "domain": [
          0.0,
          1.0
         ],
         "title": {
          "text": "x"
         }
        },
        "yaxis": {
         "anchor": "x",
         "domain": [
          0.0,
          1.0
         ],
         "title": {
          "text": "sum of y"
         }
        },
        "legend": {
         "title": {
          "text": "color"
         },
         "tracegroupgap": 0
        },
        "title": {
         "text": "Designer"
        },
        "barmode": "relative",
        "height": 750
       },
       "config": {
        "plotlyServerURL": "https://plot.ly"
       }
      }
     },
     "metadata": {},
     "output_type": "display_data"
    },
    {
     "data": {
      "application/vnd.plotly.v1+json": {
       "data": [
        {
         "bingroup": "x",
         "histfunc": "sum",
         "hovertemplate": "color=1 ch<br>x=%{x}<br>sum of y=%{y}<extra></extra>",
         "legendgroup": "1 ch",
         "marker": {
          "color": "rgb(229, 134, 6)",
          "pattern": {
           "shape": ""
          }
         },
         "name": "1 ch",
         "orientation": "v",
         "showlegend": true,
         "x": [
          "1 ch"
         ],
         "xaxis": "x",
         "y": {
          "dtype": "i2",
          "bdata": "QAI="
         },
         "yaxis": "y",
         "type": "histogram"
        },
        {
         "bingroup": "x",
         "histfunc": "sum",
         "hovertemplate": "color=2 ch<br>x=%{x}<br>sum of y=%{y}<extra></extra>",
         "legendgroup": "2 ch",
         "marker": {
          "color": "rgb(93, 105, 177)",
          "pattern": {
           "shape": ""
          }
         },
         "name": "2 ch",
         "orientation": "v",
         "showlegend": true,
         "x": [
          "2 ch"
         ],
         "xaxis": "x",
         "y": {
          "dtype": "i2",
          "bdata": "IQE="
         },
         "yaxis": "y",
         "type": "histogram"
        },
        {
         "bingroup": "x",
         "histfunc": "sum",
         "hovertemplate": "color=4 ch<br>x=%{x}<br>sum of y=%{y}<extra></extra>",
         "legendgroup": "4 ch",
         "marker": {
          "color": "rgb(82, 188, 163)",
          "pattern": {
           "shape": ""
          }
         },
         "name": "4 ch",
         "orientation": "v",
         "showlegend": true,
         "x": [
          "4 ch"
         ],
         "xaxis": "x",
         "y": {
          "dtype": "i2",
          "bdata": "hQA="
         },
         "yaxis": "y",
         "type": "histogram"
        },
        {
         "bingroup": "x",
         "histfunc": "sum",
         "hovertemplate": "color=3 ch<br>x=%{x}<br>sum of y=%{y}<extra></extra>",
         "legendgroup": "3 ch",
         "marker": {
          "color": "rgb(153, 201, 69)",
          "pattern": {
           "shape": ""
          }
         },
         "name": "3 ch",
         "orientation": "v",
         "showlegend": true,
         "x": [
          "3 ch"
         ],
         "xaxis": "x",
         "y": {
          "dtype": "i1",
          "bdata": "Ag=="
         },
         "yaxis": "y",
         "type": "histogram"
        },
        {
         "bingroup": "x",
         "histfunc": "sum",
         "hovertemplate": "color=8 ch<br>x=%{x}<br>sum of y=%{y}<extra></extra>",
         "legendgroup": "8 ch",
         "marker": {
          "color": "rgb(204, 97, 176)",
          "pattern": {
           "shape": ""
          }
         },
         "name": "8 ch",
         "orientation": "v",
         "showlegend": true,
         "x": [
          "8 ch"
         ],
         "xaxis": "x",
         "y": {
          "dtype": "i1",
          "bdata": "Ag=="
         },
         "yaxis": "y",
         "type": "histogram"
        },
        {
         "bingroup": "x",
         "histfunc": "sum",
         "hovertemplate": "color=16 ch<br>x=%{x}<br>sum of y=%{y}<extra></extra>",
         "legendgroup": "16 ch",
         "marker": {
          "color": "rgb(36, 121, 108)",
          "pattern": {
           "shape": ""
          }
         },
         "name": "16 ch",
         "orientation": "v",
         "showlegend": true,
         "x": [
          "16 ch"
         ],
         "xaxis": "x",
         "y": {
          "dtype": "i1",
          "bdata": "AQ=="
         },
         "yaxis": "y",
         "type": "histogram"
        }
       ],
       "layout": {
        "template": {
         "data": {
          "histogram2dcontour": [
           {
            "type": "histogram2dcontour",
            "colorbar": {
             "outlinewidth": 0,
             "ticks": ""
            },
            "colorscale": [
             [
              0.0,
              "#0d0887"
             ],
             [
              0.1111111111111111,
              "#46039f"
             ],
             [
              0.2222222222222222,
              "#7201a8"
             ],
             [
              0.3333333333333333,
              "#9c179e"
             ],
             [
              0.4444444444444444,
              "#bd3786"
             ],
             [
              0.5555555555555556,
              "#d8576b"
             ],
             [
              0.6666666666666666,
              "#ed7953"
             ],
             [
              0.7777777777777778,
              "#fb9f3a"
             ],
             [
              0.8888888888888888,
              "#fdca26"
             ],
             [
              1.0,
              "#f0f921"
             ]
            ]
           }
          ],
          "choropleth": [
           {
            "type": "choropleth",
            "colorbar": {
             "outlinewidth": 0,
             "ticks": ""
            }
           }
          ],
          "histogram2d": [
           {
            "type": "histogram2d",
            "colorbar": {
             "outlinewidth": 0,
             "ticks": ""
            },
            "colorscale": [
             [
              0.0,
              "#0d0887"
             ],
             [
              0.1111111111111111,
              "#46039f"
             ],
             [
              0.2222222222222222,
              "#7201a8"
             ],
             [
              0.3333333333333333,
              "#9c179e"
             ],
             [
              0.4444444444444444,
              "#bd3786"
             ],
             [
              0.5555555555555556,
              "#d8576b"
             ],
             [
              0.6666666666666666,
              "#ed7953"
             ],
             [
              0.7777777777777778,
              "#fb9f3a"
             ],
             [
              0.8888888888888888,
              "#fdca26"
             ],
             [
              1.0,
              "#f0f921"
             ]
            ]
           }
          ],
          "heatmap": [
           {
            "type": "heatmap",
            "colorbar": {
             "outlinewidth": 0,
             "ticks": ""
            },
            "colorscale": [
             [
              0.0,
              "#0d0887"
             ],
             [
              0.1111111111111111,
              "#46039f"
             ],
             [
              0.2222222222222222,
              "#7201a8"
             ],
             [
              0.3333333333333333,
              "#9c179e"
             ],
             [
              0.4444444444444444,
              "#bd3786"
             ],
             [
              0.5555555555555556,
              "#d8576b"
             ],
             [
              0.6666666666666666,
              "#ed7953"
             ],
             [
              0.7777777777777778,
              "#fb9f3a"
             ],
             [
              0.8888888888888888,
              "#fdca26"
             ],
             [
              1.0,
              "#f0f921"
             ]
            ]
           }
          ],
          "contourcarpet": [
           {
            "type": "contourcarpet",
            "colorbar": {
             "outlinewidth": 0,
             "ticks": ""
            }
           }
          ],
          "contour": [
           {
            "type": "contour",
            "colorbar": {
             "outlinewidth": 0,
             "ticks": ""
            },
            "colorscale": [
             [
              0.0,
              "#0d0887"
             ],
             [
              0.1111111111111111,
              "#46039f"
             ],
             [
              0.2222222222222222,
              "#7201a8"
             ],
             [
              0.3333333333333333,
              "#9c179e"
             ],
             [
              0.4444444444444444,
              "#bd3786"
             ],
             [
              0.5555555555555556,
              "#d8576b"
             ],
             [
              0.6666666666666666,
              "#ed7953"
             ],
             [
              0.7777777777777778,
              "#fb9f3a"
             ],
             [
              0.8888888888888888,
              "#fdca26"
             ],
             [
              1.0,
              "#f0f921"
             ]
            ]
           }
          ],
          "surface": [
           {
            "type": "surface",
            "colorbar": {
             "outlinewidth": 0,
             "ticks": ""
            },
            "colorscale": [
             [
              0.0,
              "#0d0887"
             ],
             [
              0.1111111111111111,
              "#46039f"
             ],
             [
              0.2222222222222222,
              "#7201a8"
             ],
             [
              0.3333333333333333,
              "#9c179e"
             ],
             [
              0.4444444444444444,
              "#bd3786"
             ],
             [
              0.5555555555555556,
              "#d8576b"
             ],
             [
              0.6666666666666666,
              "#ed7953"
             ],
             [
              0.7777777777777778,
              "#fb9f3a"
             ],
             [
              0.8888888888888888,
              "#fdca26"
             ],
             [
              1.0,
              "#f0f921"
             ]
            ]
           }
          ],
          "mesh3d": [
           {
            "type": "mesh3d",
            "colorbar": {
             "outlinewidth": 0,
             "ticks": ""
            }
           }
          ],
          "scatter": [
           {
            "marker": {
             "line": {
              "color": "#283442"
             }
            },
            "type": "scatter"
           }
          ],
          "parcoords": [
           {
            "type": "parcoords",
            "line": {
             "colorbar": {
              "outlinewidth": 0,
              "ticks": ""
             }
            }
           }
          ],
          "scatterpolargl": [
           {
            "type": "scatterpolargl",
            "marker": {
             "colorbar": {
              "outlinewidth": 0,
              "ticks": ""
             }
            }
           }
          ],
          "bar": [
           {
            "error_x": {
             "color": "#f2f5fa"
            },
            "error_y": {
             "color": "#f2f5fa"
            },
            "marker": {
             "line": {
              "color": "rgb(17,17,17)",
              "width": 0.5
             },
             "pattern": {
              "fillmode": "overlay",
              "size": 10,
              "solidity": 0.2
             }
            },
            "type": "bar"
           }
          ],
          "scattergeo": [
           {
            "type": "scattergeo",
            "marker": {
             "colorbar": {
              "outlinewidth": 0,
              "ticks": ""
             }
            }
           }
          ],
          "scatterpolar": [
           {
            "type": "scatterpolar",
            "marker": {
             "colorbar": {
              "outlinewidth": 0,
              "ticks": ""
             }
            }
           }
          ],
          "histogram": [
           {
            "marker": {
             "pattern": {
              "fillmode": "overlay",
              "size": 10,
              "solidity": 0.2
             }
            },
            "type": "histogram"
           }
          ],
          "scattergl": [
           {
            "marker": {
             "line": {
              "color": "#283442"
             }
            },
            "type": "scattergl"
           }
          ],
          "scatter3d": [
           {
            "type": "scatter3d",
            "line": {
             "colorbar": {
              "outlinewidth": 0,
              "ticks": ""
             }
            },
            "marker": {
             "colorbar": {
              "outlinewidth": 0,
              "ticks": ""
             }
            }
           }
          ],
          "scattermap": [
           {
            "type": "scattermap",
            "marker": {
             "colorbar": {
              "outlinewidth": 0,
              "ticks": ""
             }
            }
           }
          ],
          "scattermapbox": [
           {
            "type": "scattermapbox",
            "marker": {
             "colorbar": {
              "outlinewidth": 0,
              "ticks": ""
             }
            }
           }
          ],
          "scatterternary": [
           {
            "type": "scatterternary",
            "marker": {
             "colorbar": {
              "outlinewidth": 0,
              "ticks": ""
             }
            }
           }
          ],
          "scattercarpet": [
           {
            "type": "scattercarpet",
            "marker": {
             "colorbar": {
              "outlinewidth": 0,
              "ticks": ""
             }
            }
           }
          ],
          "carpet": [
           {
            "aaxis": {
             "endlinecolor": "#A2B1C6",
             "gridcolor": "#506784",
             "linecolor": "#506784",
             "minorgridcolor": "#506784",
             "startlinecolor": "#A2B1C6"
            },
            "baxis": {
             "endlinecolor": "#A2B1C6",
             "gridcolor": "#506784",
             "linecolor": "#506784",
             "minorgridcolor": "#506784",
             "startlinecolor": "#A2B1C6"
            },
            "type": "carpet"
           }
          ],
          "table": [
           {
            "cells": {
             "fill": {
              "color": "#506784"
             },
             "line": {
              "color": "rgb(17,17,17)"
             }
            },
            "header": {
             "fill": {
              "color": "#2a3f5f"
             },
             "line": {
              "color": "rgb(17,17,17)"
             }
            },
            "type": "table"
           }
          ],
          "barpolar": [
           {
            "marker": {
             "line": {
              "color": "rgb(17,17,17)",
              "width": 0.5
             },
             "pattern": {
              "fillmode": "overlay",
              "size": 10,
              "solidity": 0.2
             }
            },
            "type": "barpolar"
           }
          ],
          "pie": [
           {
            "automargin": true,
            "type": "pie"
           }
          ]
         },
         "layout": {
          "autotypenumbers": "strict",
          "colorway": [
           "#636efa",
           "#EF553B",
           "#00cc96",
           "#ab63fa",
           "#FFA15A",
           "#19d3f3",
           "#FF6692",
           "#B6E880",
           "#FF97FF",
           "#FECB52"
          ],
          "font": {
           "color": "#f2f5fa"
          },
          "hovermode": "closest",
          "hoverlabel": {
           "align": "left"
          },
          "paper_bgcolor": "rgb(17,17,17)",
          "plot_bgcolor": "rgb(17,17,17)",
          "polar": {
           "bgcolor": "rgb(17,17,17)",
           "angularaxis": {
            "gridcolor": "#506784",
            "linecolor": "#506784",
            "ticks": ""
           },
           "radialaxis": {
            "gridcolor": "#506784",
            "linecolor": "#506784",
            "ticks": ""
           }
          },
          "ternary": {
           "bgcolor": "rgb(17,17,17)",
           "aaxis": {
            "gridcolor": "#506784",
            "linecolor": "#506784",
            "ticks": ""
           },
           "baxis": {
            "gridcolor": "#506784",
            "linecolor": "#506784",
            "ticks": ""
           },
           "caxis": {
            "gridcolor": "#506784",
            "linecolor": "#506784",
            "ticks": ""
           }
          },
          "coloraxis": {
           "colorbar": {
            "outlinewidth": 0,
            "ticks": ""
           }
          },
          "colorscale": {
           "sequential": [
            [
             0.0,
             "#0d0887"
            ],
            [
             0.1111111111111111,
             "#46039f"
            ],
            [
             0.2222222222222222,
             "#7201a8"
            ],
            [
             0.3333333333333333,
             "#9c179e"
            ],
            [
             0.4444444444444444,
             "#bd3786"
            ],
            [
             0.5555555555555556,
             "#d8576b"
            ],
            [
             0.6666666666666666,
             "#ed7953"
            ],
            [
             0.7777777777777778,
             "#fb9f3a"
            ],
            [
             0.8888888888888888,
             "#fdca26"
            ],
            [
             1.0,
             "#f0f921"
            ]
           ],
           "sequentialminus": [
            [
             0.0,
             "#0d0887"
            ],
            [
             0.1111111111111111,
             "#46039f"
            ],
            [
             0.2222222222222222,
             "#7201a8"
            ],
            [
             0.3333333333333333,
             "#9c179e"
            ],
            [
             0.4444444444444444,
             "#bd3786"
            ],
            [
             0.5555555555555556,
             "#d8576b"
            ],
            [
             0.6666666666666666,
             "#ed7953"
            ],
            [
             0.7777777777777778,
             "#fb9f3a"
            ],
            [
             0.8888888888888888,
             "#fdca26"
            ],
            [
             1.0,
             "#f0f921"
            ]
           ],
           "diverging": [
            [
             0,
             "#8e0152"
            ],
            [
             0.1,
             "#c51b7d"
            ],
            [
             0.2,
             "#de77ae"
            ],
            [
             0.3,
             "#f1b6da"
            ],
            [
             0.4,
             "#fde0ef"
            ],
            [
             0.5,
             "#f7f7f7"
            ],
            [
             0.6,
             "#e6f5d0"
            ],
            [
             0.7,
             "#b8e186"
            ],
            [
             0.8,
             "#7fbc41"
            ],
            [
             0.9,
             "#4d9221"
            ],
            [
             1,
             "#276419"
            ]
           ]
          },
          "xaxis": {
           "gridcolor": "#283442",
           "linecolor": "#506784",
           "ticks": "",
           "title": {
            "standoff": 15
           },
           "zerolinecolor": "#283442",
           "automargin": true,
           "zerolinewidth": 2
          },
          "yaxis": {
           "gridcolor": "#283442",
           "linecolor": "#506784",
           "ticks": "",
           "title": {
            "standoff": 15
           },
           "zerolinecolor": "#283442",
           "automargin": true,
           "zerolinewidth": 2
          },
          "scene": {
           "xaxis": {
            "backgroundcolor": "rgb(17,17,17)",
            "gridcolor": "#506784",
            "linecolor": "#506784",
            "showbackground": true,
            "ticks": "",
            "zerolinecolor": "#C8D4E3",
            "gridwidth": 2
           },
           "yaxis": {
            "backgroundcolor": "rgb(17,17,17)",
            "gridcolor": "#506784",
            "linecolor": "#506784",
            "showbackground": true,
            "ticks": "",
            "zerolinecolor": "#C8D4E3",
            "gridwidth": 2
           },
           "zaxis": {
            "backgroundcolor": "rgb(17,17,17)",
            "gridcolor": "#506784",
            "linecolor": "#506784",
            "showbackground": true,
            "ticks": "",
            "zerolinecolor": "#C8D4E3",
            "gridwidth": 2
           }
          },
          "shapedefaults": {
           "line": {
            "color": "#f2f5fa"
           }
          },
          "annotationdefaults": {
           "arrowcolor": "#f2f5fa",
           "arrowhead": 0,
           "arrowwidth": 1
          },
          "geo": {
           "bgcolor": "rgb(17,17,17)",
           "landcolor": "rgb(17,17,17)",
           "subunitcolor": "#506784",
           "showland": true,
           "showlakes": true,
           "lakecolor": "rgb(17,17,17)"
          },
          "title": {
           "x": 0.05
          },
          "updatemenudefaults": {
           "bgcolor": "#506784",
           "borderwidth": 0
          },
          "sliderdefaults": {
           "bgcolor": "#C8D4E3",
           "borderwidth": 1,
           "bordercolor": "rgb(17,17,17)",
           "tickwidth": 0
          },
          "mapbox": {
           "style": "dark"
          }
         }
        },
        "xaxis": {
         "anchor": "y",
         "domain": [
          0.0,
          1.0
         ],
         "title": {
          "text": "x"
         }
        },
        "yaxis": {
         "anchor": "x",
         "domain": [
          0.0,
          1.0
         ],
         "title": {
          "text": "sum of y"
         }
        },
        "legend": {
         "title": {
          "text": "color"
         },
         "tracegroupgap": 0
        },
        "title": {
         "text": "Number of data bus channels"
        },
        "barmode": "relative",
        "height": 750
       },
       "config": {
        "plotlyServerURL": "https://plot.ly"
       }
      }
     },
     "metadata": {},
     "output_type": "display_data"
    },
    {
     "data": {
      "application/vnd.plotly.v1+json": {
       "data": [
        {
         "bingroup": "x",
         "histfunc": "sum",
         "hovertemplate": "color=Multi-core Application Processor with Modem<br>x=%{x}<br>sum of y=%{y}<extra></extra>",
         "legendgroup": "Multi-core Application Processor with Modem",
         "marker": {
          "color": "rgb(229, 134, 6)",
          "pattern": {
           "shape": ""
          }
         },
         "name": "Multi-core Application Processor with Modem",
         "orientation": "v",
         "showlegend": true,
         "x": [
          "Multi-core Application Processor with Modem"
         ],
         "xaxis": "x",
         "y": {
          "dtype": "i2",
          "bdata": "qgE="
         },
         "yaxis": "y",
         "type": "histogram"
        },
        {
         "bingroup": "x",
         "histfunc": "sum",
         "hovertemplate": "color=Multi-core Application Processor<br>x=%{x}<br>sum of y=%{y}<extra></extra>",
         "legendgroup": "Multi-core Application Processor",
         "marker": {
          "color": "rgb(93, 105, 177)",
          "pattern": {
           "shape": ""
          }
         },
         "name": "Multi-core Application Processor",
         "orientation": "v",
         "showlegend": true,
         "x": [
          "Multi-core Application Processor"
         ],
         "xaxis": "x",
         "y": {
          "dtype": "i2",
          "bdata": "8QA="
         },
         "yaxis": "y",
         "type": "histogram"
        },
        {
         "bingroup": "x",
         "histfunc": "sum",
         "hovertemplate": "color=Application Processor<br>x=%{x}<br>sum of y=%{y}<extra></extra>",
         "legendgroup": "Application Processor",
         "marker": {
          "color": "rgb(82, 188, 163)",
          "pattern": {
           "shape": ""
          }
         },
         "name": "Application Processor",
         "orientation": "v",
         "showlegend": true,
         "x": [
          "Application Processor"
         ],
         "xaxis": "x",
         "y": {
          "dtype": "i2",
          "bdata": "2wA="
         },
         "yaxis": "y",
         "type": "histogram"
        },
        {
         "bingroup": "x",
         "histfunc": "sum",
         "hovertemplate": "color=Application Processor with Modem<br>x=%{x}<br>sum of y=%{y}<extra></extra>",
         "legendgroup": "Application Processor with Modem",
         "marker": {
          "color": "rgb(153, 201, 69)",
          "pattern": {
           "shape": ""
          }
         },
         "name": "Application Processor with Modem",
         "orientation": "v",
         "showlegend": true,
         "x": [
          "Application Processor with Modem"
         ],
         "xaxis": "x",
         "y": {
          "dtype": "i1",
          "bdata": "Vg=="
         },
         "yaxis": "y",
         "type": "histogram"
        },
        {
         "bingroup": "x",
         "histfunc": "sum",
         "hovertemplate": "color=System-On-a-Chip<br>x=%{x}<br>sum of y=%{y}<extra></extra>",
         "legendgroup": "System-On-a-Chip",
         "marker": {
          "color": "rgb(204, 97, 176)",
          "pattern": {
           "shape": ""
          }
         },
         "name": "System-On-a-Chip",
         "orientation": "v",
         "showlegend": true,
         "x": [
          "System-On-a-Chip"
         ],
         "xaxis": "x",
         "y": {
          "dtype": "i1",
          "bdata": "Jw=="
         },
         "yaxis": "y",
         "type": "histogram"
        },
        {
         "bingroup": "x",
         "histfunc": "sum",
         "hovertemplate": "color=Microcontroller<br>x=%{x}<br>sum of y=%{y}<extra></extra>",
         "legendgroup": "Microcontroller",
         "marker": {
          "color": "rgb(36, 121, 108)",
          "pattern": {
           "shape": ""
          }
         },
         "name": "Microcontroller",
         "orientation": "v",
         "showlegend": true,
         "x": [
          "Microcontroller"
         ],
         "xaxis": "x",
         "y": {
          "dtype": "i1",
          "bdata": "CQ=="
         },
         "yaxis": "y",
         "type": "histogram"
        }
       ],
       "layout": {
        "template": {
         "data": {
          "histogram2dcontour": [
           {
            "type": "histogram2dcontour",
            "colorbar": {
             "outlinewidth": 0,
             "ticks": ""
            },
            "colorscale": [
             [
              0.0,
              "#0d0887"
             ],
             [
              0.1111111111111111,
              "#46039f"
             ],
             [
              0.2222222222222222,
              "#7201a8"
             ],
             [
              0.3333333333333333,
              "#9c179e"
             ],
             [
              0.4444444444444444,
              "#bd3786"
             ],
             [
              0.5555555555555556,
              "#d8576b"
             ],
             [
              0.6666666666666666,
              "#ed7953"
             ],
             [
              0.7777777777777778,
              "#fb9f3a"
             ],
             [
              0.8888888888888888,
              "#fdca26"
             ],
             [
              1.0,
              "#f0f921"
             ]
            ]
           }
          ],
          "choropleth": [
           {
            "type": "choropleth",
            "colorbar": {
             "outlinewidth": 0,
             "ticks": ""
            }
           }
          ],
          "histogram2d": [
           {
            "type": "histogram2d",
            "colorbar": {
             "outlinewidth": 0,
             "ticks": ""
            },
            "colorscale": [
             [
              0.0,
              "#0d0887"
             ],
             [
              0.1111111111111111,
              "#46039f"
             ],
             [
              0.2222222222222222,
              "#7201a8"
             ],
             [
              0.3333333333333333,
              "#9c179e"
             ],
             [
              0.4444444444444444,
              "#bd3786"
             ],
             [
              0.5555555555555556,
              "#d8576b"
             ],
             [
              0.6666666666666666,
              "#ed7953"
             ],
             [
              0.7777777777777778,
              "#fb9f3a"
             ],
             [
              0.8888888888888888,
              "#fdca26"
             ],
             [
              1.0,
              "#f0f921"
             ]
            ]
           }
          ],
          "heatmap": [
           {
            "type": "heatmap",
            "colorbar": {
             "outlinewidth": 0,
             "ticks": ""
            },
            "colorscale": [
             [
              0.0,
              "#0d0887"
             ],
             [
              0.1111111111111111,
              "#46039f"
             ],
             [
              0.2222222222222222,
              "#7201a8"
             ],
             [
              0.3333333333333333,
              "#9c179e"
             ],
             [
              0.4444444444444444,
              "#bd3786"
             ],
             [
              0.5555555555555556,
              "#d8576b"
             ],
             [
              0.6666666666666666,
              "#ed7953"
             ],
             [
              0.7777777777777778,
              "#fb9f3a"
             ],
             [
              0.8888888888888888,
              "#fdca26"
             ],
             [
              1.0,
              "#f0f921"
             ]
            ]
           }
          ],
          "contourcarpet": [
           {
            "type": "contourcarpet",
            "colorbar": {
             "outlinewidth": 0,
             "ticks": ""
            }
           }
          ],
          "contour": [
           {
            "type": "contour",
            "colorbar": {
             "outlinewidth": 0,
             "ticks": ""
            },
            "colorscale": [
             [
              0.0,
              "#0d0887"
             ],
             [
              0.1111111111111111,
              "#46039f"
             ],
             [
              0.2222222222222222,
              "#7201a8"
             ],
             [
              0.3333333333333333,
              "#9c179e"
             ],
             [
              0.4444444444444444,
              "#bd3786"
             ],
             [
              0.5555555555555556,
              "#d8576b"
             ],
             [
              0.6666666666666666,
              "#ed7953"
             ],
             [
              0.7777777777777778,
              "#fb9f3a"
             ],
             [
              0.8888888888888888,
              "#fdca26"
             ],
             [
              1.0,
              "#f0f921"
             ]
            ]
           }
          ],
          "surface": [
           {
            "type": "surface",
            "colorbar": {
             "outlinewidth": 0,
             "ticks": ""
            },
            "colorscale": [
             [
              0.0,
              "#0d0887"
             ],
             [
              0.1111111111111111,
              "#46039f"
             ],
             [
              0.2222222222222222,
              "#7201a8"
             ],
             [
              0.3333333333333333,
              "#9c179e"
             ],
             [
              0.4444444444444444,
              "#bd3786"
             ],
             [
              0.5555555555555556,
              "#d8576b"
             ],
             [
              0.6666666666666666,
              "#ed7953"
             ],
             [
              0.7777777777777778,
              "#fb9f3a"
             ],
             [
              0.8888888888888888,
              "#fdca26"
             ],
             [
              1.0,
              "#f0f921"
             ]
            ]
           }
          ],
          "mesh3d": [
           {
            "type": "mesh3d",
            "colorbar": {
             "outlinewidth": 0,
             "ticks": ""
            }
           }
          ],
          "scatter": [
           {
            "marker": {
             "line": {
              "color": "#283442"
             }
            },
            "type": "scatter"
           }
          ],
          "parcoords": [
           {
            "type": "parcoords",
            "line": {
             "colorbar": {
              "outlinewidth": 0,
              "ticks": ""
             }
            }
           }
          ],
          "scatterpolargl": [
           {
            "type": "scatterpolargl",
            "marker": {
             "colorbar": {
              "outlinewidth": 0,
              "ticks": ""
             }
            }
           }
          ],
          "bar": [
           {
            "error_x": {
             "color": "#f2f5fa"
            },
            "error_y": {
             "color": "#f2f5fa"
            },
            "marker": {
             "line": {
              "color": "rgb(17,17,17)",
              "width": 0.5
             },
             "pattern": {
              "fillmode": "overlay",
              "size": 10,
              "solidity": 0.2
             }
            },
            "type": "bar"
           }
          ],
          "scattergeo": [
           {
            "type": "scattergeo",
            "marker": {
             "colorbar": {
              "outlinewidth": 0,
              "ticks": ""
             }
            }
           }
          ],
          "scatterpolar": [
           {
            "type": "scatterpolar",
            "marker": {
             "colorbar": {
              "outlinewidth": 0,
              "ticks": ""
             }
            }
           }
          ],
          "histogram": [
           {
            "marker": {
             "pattern": {
              "fillmode": "overlay",
              "size": 10,
              "solidity": 0.2
             }
            },
            "type": "histogram"
           }
          ],
          "scattergl": [
           {
            "marker": {
             "line": {
              "color": "#283442"
             }
            },
            "type": "scattergl"
           }
          ],
          "scatter3d": [
           {
            "type": "scatter3d",
            "line": {
             "colorbar": {
              "outlinewidth": 0,
              "ticks": ""
             }
            },
            "marker": {
             "colorbar": {
              "outlinewidth": 0,
              "ticks": ""
             }
            }
           }
          ],
          "scattermap": [
           {
            "type": "scattermap",
            "marker": {
             "colorbar": {
              "outlinewidth": 0,
              "ticks": ""
             }
            }
           }
          ],
          "scattermapbox": [
           {
            "type": "scattermapbox",
            "marker": {
             "colorbar": {
              "outlinewidth": 0,
              "ticks": ""
             }
            }
           }
          ],
          "scatterternary": [
           {
            "type": "scatterternary",
            "marker": {
             "colorbar": {
              "outlinewidth": 0,
              "ticks": ""
             }
            }
           }
          ],
          "scattercarpet": [
           {
            "type": "scattercarpet",
            "marker": {
             "colorbar": {
              "outlinewidth": 0,
              "ticks": ""
             }
            }
           }
          ],
          "carpet": [
           {
            "aaxis": {
             "endlinecolor": "#A2B1C6",
             "gridcolor": "#506784",
             "linecolor": "#506784",
             "minorgridcolor": "#506784",
             "startlinecolor": "#A2B1C6"
            },
            "baxis": {
             "endlinecolor": "#A2B1C6",
             "gridcolor": "#506784",
             "linecolor": "#506784",
             "minorgridcolor": "#506784",
             "startlinecolor": "#A2B1C6"
            },
            "type": "carpet"
           }
          ],
          "table": [
           {
            "cells": {
             "fill": {
              "color": "#506784"
             },
             "line": {
              "color": "rgb(17,17,17)"
             }
            },
            "header": {
             "fill": {
              "color": "#2a3f5f"
             },
             "line": {
              "color": "rgb(17,17,17)"
             }
            },
            "type": "table"
           }
          ],
          "barpolar": [
           {
            "marker": {
             "line": {
              "color": "rgb(17,17,17)",
              "width": 0.5
             },
             "pattern": {
              "fillmode": "overlay",
              "size": 10,
              "solidity": 0.2
             }
            },
            "type": "barpolar"
           }
          ],
          "pie": [
           {
            "automargin": true,
            "type": "pie"
           }
          ]
         },
         "layout": {
          "autotypenumbers": "strict",
          "colorway": [
           "#636efa",
           "#EF553B",
           "#00cc96",
           "#ab63fa",
           "#FFA15A",
           "#19d3f3",
           "#FF6692",
           "#B6E880",
           "#FF97FF",
           "#FECB52"
          ],
          "font": {
           "color": "#f2f5fa"
          },
          "hovermode": "closest",
          "hoverlabel": {
           "align": "left"
          },
          "paper_bgcolor": "rgb(17,17,17)",
          "plot_bgcolor": "rgb(17,17,17)",
          "polar": {
           "bgcolor": "rgb(17,17,17)",
           "angularaxis": {
            "gridcolor": "#506784",
            "linecolor": "#506784",
            "ticks": ""
           },
           "radialaxis": {
            "gridcolor": "#506784",
            "linecolor": "#506784",
            "ticks": ""
           }
          },
          "ternary": {
           "bgcolor": "rgb(17,17,17)",
           "aaxis": {
            "gridcolor": "#506784",
            "linecolor": "#506784",
            "ticks": ""
           },
           "baxis": {
            "gridcolor": "#506784",
            "linecolor": "#506784",
            "ticks": ""
           },
           "caxis": {
            "gridcolor": "#506784",
            "linecolor": "#506784",
            "ticks": ""
           }
          },
          "coloraxis": {
           "colorbar": {
            "outlinewidth": 0,
            "ticks": ""
           }
          },
          "colorscale": {
           "sequential": [
            [
             0.0,
             "#0d0887"
            ],
            [
             0.1111111111111111,
             "#46039f"
            ],
            [
             0.2222222222222222,
             "#7201a8"
            ],
            [
             0.3333333333333333,
             "#9c179e"
            ],
            [
             0.4444444444444444,
             "#bd3786"
            ],
            [
             0.5555555555555556,
             "#d8576b"
            ],
            [
             0.6666666666666666,
             "#ed7953"
            ],
            [
             0.7777777777777778,
             "#fb9f3a"
            ],
            [
             0.8888888888888888,
             "#fdca26"
            ],
            [
             1.0,
             "#f0f921"
            ]
           ],
           "sequentialminus": [
            [
             0.0,
             "#0d0887"
            ],
            [
             0.1111111111111111,
             "#46039f"
            ],
            [
             0.2222222222222222,
             "#7201a8"
            ],
            [
             0.3333333333333333,
             "#9c179e"
            ],
            [
             0.4444444444444444,
             "#bd3786"
            ],
            [
             0.5555555555555556,
             "#d8576b"
            ],
            [
             0.6666666666666666,
             "#ed7953"
            ],
            [
             0.7777777777777778,
             "#fb9f3a"
            ],
            [
             0.8888888888888888,
             "#fdca26"
            ],
            [
             1.0,
             "#f0f921"
            ]
           ],
           "diverging": [
            [
             0,
             "#8e0152"
            ],
            [
             0.1,
             "#c51b7d"
            ],
            [
             0.2,
             "#de77ae"
            ],
            [
             0.3,
             "#f1b6da"
            ],
            [
             0.4,
             "#fde0ef"
            ],
            [
             0.5,
             "#f7f7f7"
            ],
            [
             0.6,
             "#e6f5d0"
            ],
            [
             0.7,
             "#b8e186"
            ],
            [
             0.8,
             "#7fbc41"
            ],
            [
             0.9,
             "#4d9221"
            ],
            [
             1,
             "#276419"
            ]
           ]
          },
          "xaxis": {
           "gridcolor": "#283442",
           "linecolor": "#506784",
           "ticks": "",
           "title": {
            "standoff": 15
           },
           "zerolinecolor": "#283442",
           "automargin": true,
           "zerolinewidth": 2
          },
          "yaxis": {
           "gridcolor": "#283442",
           "linecolor": "#506784",
           "ticks": "",
           "title": {
            "standoff": 15
           },
           "zerolinecolor": "#283442",
           "automargin": true,
           "zerolinewidth": 2
          },
          "scene": {
           "xaxis": {
            "backgroundcolor": "rgb(17,17,17)",
            "gridcolor": "#506784",
            "linecolor": "#506784",
            "showbackground": true,
            "ticks": "",
            "zerolinecolor": "#C8D4E3",
            "gridwidth": 2
           },
           "yaxis": {
            "backgroundcolor": "rgb(17,17,17)",
            "gridcolor": "#506784",
            "linecolor": "#506784",
            "showbackground": true,
            "ticks": "",
            "zerolinecolor": "#C8D4E3",
            "gridwidth": 2
           },
           "zaxis": {
            "backgroundcolor": "rgb(17,17,17)",
            "gridcolor": "#506784",
            "linecolor": "#506784",
            "showbackground": true,
            "ticks": "",
            "zerolinecolor": "#C8D4E3",
            "gridwidth": 2
           }
          },
          "shapedefaults": {
           "line": {
            "color": "#f2f5fa"
           }
          },
          "annotationdefaults": {
           "arrowcolor": "#f2f5fa",
           "arrowhead": 0,
           "arrowwidth": 1
          },
          "geo": {
           "bgcolor": "rgb(17,17,17)",
           "landcolor": "rgb(17,17,17)",
           "subunitcolor": "#506784",
           "showland": true,
           "showlakes": true,
           "lakecolor": "rgb(17,17,17)"
          },
          "title": {
           "x": 0.05
          },
          "updatemenudefaults": {
           "bgcolor": "#506784",
           "borderwidth": 0
          },
          "sliderdefaults": {
           "bgcolor": "#C8D4E3",
           "borderwidth": 1,
           "bordercolor": "rgb(17,17,17)",
           "tickwidth": 0
          },
          "mapbox": {
           "style": "dark"
          }
         }
        },
        "xaxis": {
         "anchor": "y",
         "domain": [
          0.0,
          1.0
         ],
         "title": {
          "text": "x"
         }
        },
        "yaxis": {
         "anchor": "x",
         "domain": [
          0.0,
          1.0
         ],
         "title": {
          "text": "sum of y"
         }
        },
        "legend": {
         "title": {
          "text": "color"
         },
         "tracegroupgap": 0
        },
        "title": {
         "text": "Function"
        },
        "barmode": "relative",
        "height": 750
       },
       "config": {
        "plotlyServerURL": "https://plot.ly"
       }
      }
     },
     "metadata": {},
     "output_type": "display_data"
    },
    {
     "data": {
      "application/vnd.plotly.v1+json": {
       "data": [
        {
         "hovertemplate": "x=%{x}<br>y=%{y}<br>color=%{marker.color}<extra></extra>",
         "legendgroup": "",
         "marker": {
          "color": {
           "dtype": "i1",
           "bdata": "AQgEAgYFCgwJFAM="
          },
          "coloraxis": "coloraxis",
          "pattern": {
           "shape": ""
          }
         },
         "name": "",
         "orientation": "v",
         "showlegend": false,
         "textposition": "auto",
         "x": {
          "dtype": "i1",
          "bdata": "AQgEAgYFCgwJFAM="
         },
         "xaxis": "x",
         "y": {
          "dtype": "i2",
          "bdata": "TQEpAbIAmQAbAA0ACwACAAIAAgACAA=="
         },
         "yaxis": "y",
         "type": "bar"
        }
       ],
       "layout": {
        "template": {
         "data": {
          "histogram2dcontour": [
           {
            "type": "histogram2dcontour",
            "colorbar": {
             "outlinewidth": 0,
             "ticks": ""
            },
            "colorscale": [
             [
              0.0,
              "#0d0887"
             ],
             [
              0.1111111111111111,
              "#46039f"
             ],
             [
              0.2222222222222222,
              "#7201a8"
             ],
             [
              0.3333333333333333,
              "#9c179e"
             ],
             [
              0.4444444444444444,
              "#bd3786"
             ],
             [
              0.5555555555555556,
              "#d8576b"
             ],
             [
              0.6666666666666666,
              "#ed7953"
             ],
             [
              0.7777777777777778,
              "#fb9f3a"
             ],
             [
              0.8888888888888888,
              "#fdca26"
             ],
             [
              1.0,
              "#f0f921"
             ]
            ]
           }
          ],
          "choropleth": [
           {
            "type": "choropleth",
            "colorbar": {
             "outlinewidth": 0,
             "ticks": ""
            }
           }
          ],
          "histogram2d": [
           {
            "type": "histogram2d",
            "colorbar": {
             "outlinewidth": 0,
             "ticks": ""
            },
            "colorscale": [
             [
              0.0,
              "#0d0887"
             ],
             [
              0.1111111111111111,
              "#46039f"
             ],
             [
              0.2222222222222222,
              "#7201a8"
             ],
             [
              0.3333333333333333,
              "#9c179e"
             ],
             [
              0.4444444444444444,
              "#bd3786"
             ],
             [
              0.5555555555555556,
              "#d8576b"
             ],
             [
              0.6666666666666666,
              "#ed7953"
             ],
             [
              0.7777777777777778,
              "#fb9f3a"
             ],
             [
              0.8888888888888888,
              "#fdca26"
             ],
             [
              1.0,
              "#f0f921"
             ]
            ]
           }
          ],
          "heatmap": [
           {
            "type": "heatmap",
            "colorbar": {
             "outlinewidth": 0,
             "ticks": ""
            },
            "colorscale": [
             [
              0.0,
              "#0d0887"
             ],
             [
              0.1111111111111111,
              "#46039f"
             ],
             [
              0.2222222222222222,
              "#7201a8"
             ],
             [
              0.3333333333333333,
              "#9c179e"
             ],
             [
              0.4444444444444444,
              "#bd3786"
             ],
             [
              0.5555555555555556,
              "#d8576b"
             ],
             [
              0.6666666666666666,
              "#ed7953"
             ],
             [
              0.7777777777777778,
              "#fb9f3a"
             ],
             [
              0.8888888888888888,
              "#fdca26"
             ],
             [
              1.0,
              "#f0f921"
             ]
            ]
           }
          ],
          "contourcarpet": [
           {
            "type": "contourcarpet",
            "colorbar": {
             "outlinewidth": 0,
             "ticks": ""
            }
           }
          ],
          "contour": [
           {
            "type": "contour",
            "colorbar": {
             "outlinewidth": 0,
             "ticks": ""
            },
            "colorscale": [
             [
              0.0,
              "#0d0887"
             ],
             [
              0.1111111111111111,
              "#46039f"
             ],
             [
              0.2222222222222222,
              "#7201a8"
             ],
             [
              0.3333333333333333,
              "#9c179e"
             ],
             [
              0.4444444444444444,
              "#bd3786"
             ],
             [
              0.5555555555555556,
              "#d8576b"
             ],
             [
              0.6666666666666666,
              "#ed7953"
             ],
             [
              0.7777777777777778,
              "#fb9f3a"
             ],
             [
              0.8888888888888888,
              "#fdca26"
             ],
             [
              1.0,
              "#f0f921"
             ]
            ]
           }
          ],
          "surface": [
           {
            "type": "surface",
            "colorbar": {
             "outlinewidth": 0,
             "ticks": ""
            },
            "colorscale": [
             [
              0.0,
              "#0d0887"
             ],
             [
              0.1111111111111111,
              "#46039f"
             ],
             [
              0.2222222222222222,
              "#7201a8"
             ],
             [
              0.3333333333333333,
              "#9c179e"
             ],
             [
              0.4444444444444444,
              "#bd3786"
             ],
             [
              0.5555555555555556,
              "#d8576b"
             ],
             [
              0.6666666666666666,
              "#ed7953"
             ],
             [
              0.7777777777777778,
              "#fb9f3a"
             ],
             [
              0.8888888888888888,
              "#fdca26"
             ],
             [
              1.0,
              "#f0f921"
             ]
            ]
           }
          ],
          "mesh3d": [
           {
            "type": "mesh3d",
            "colorbar": {
             "outlinewidth": 0,
             "ticks": ""
            }
           }
          ],
          "scatter": [
           {
            "marker": {
             "line": {
              "color": "#283442"
             }
            },
            "type": "scatter"
           }
          ],
          "parcoords": [
           {
            "type": "parcoords",
            "line": {
             "colorbar": {
              "outlinewidth": 0,
              "ticks": ""
             }
            }
           }
          ],
          "scatterpolargl": [
           {
            "type": "scatterpolargl",
            "marker": {
             "colorbar": {
              "outlinewidth": 0,
              "ticks": ""
             }
            }
           }
          ],
          "bar": [
           {
            "error_x": {
             "color": "#f2f5fa"
            },
            "error_y": {
             "color": "#f2f5fa"
            },
            "marker": {
             "line": {
              "color": "rgb(17,17,17)",
              "width": 0.5
             },
             "pattern": {
              "fillmode": "overlay",
              "size": 10,
              "solidity": 0.2
             }
            },
            "type": "bar"
           }
          ],
          "scattergeo": [
           {
            "type": "scattergeo",
            "marker": {
             "colorbar": {
              "outlinewidth": 0,
              "ticks": ""
             }
            }
           }
          ],
          "scatterpolar": [
           {
            "type": "scatterpolar",
            "marker": {
             "colorbar": {
              "outlinewidth": 0,
              "ticks": ""
             }
            }
           }
          ],
          "histogram": [
           {
            "marker": {
             "pattern": {
              "fillmode": "overlay",
              "size": 10,
              "solidity": 0.2
             }
            },
            "type": "histogram"
           }
          ],
          "scattergl": [
           {
            "marker": {
             "line": {
              "color": "#283442"
             }
            },
            "type": "scattergl"
           }
          ],
          "scatter3d": [
           {
            "type": "scatter3d",
            "line": {
             "colorbar": {
              "outlinewidth": 0,
              "ticks": ""
             }
            },
            "marker": {
             "colorbar": {
              "outlinewidth": 0,
              "ticks": ""
             }
            }
           }
          ],
          "scattermap": [
           {
            "type": "scattermap",
            "marker": {
             "colorbar": {
              "outlinewidth": 0,
              "ticks": ""
             }
            }
           }
          ],
          "scattermapbox": [
           {
            "type": "scattermapbox",
            "marker": {
             "colorbar": {
              "outlinewidth": 0,
              "ticks": ""
             }
            }
           }
          ],
          "scatterternary": [
           {
            "type": "scatterternary",
            "marker": {
             "colorbar": {
              "outlinewidth": 0,
              "ticks": ""
             }
            }
           }
          ],
          "scattercarpet": [
           {
            "type": "scattercarpet",
            "marker": {
             "colorbar": {
              "outlinewidth": 0,
              "ticks": ""
             }
            }
           }
          ],
          "carpet": [
           {
            "aaxis": {
             "endlinecolor": "#A2B1C6",
             "gridcolor": "#506784",
             "linecolor": "#506784",
             "minorgridcolor": "#506784",
             "startlinecolor": "#A2B1C6"
            },
            "baxis": {
             "endlinecolor": "#A2B1C6",
             "gridcolor": "#506784",
             "linecolor": "#506784",
             "minorgridcolor": "#506784",
             "startlinecolor": "#A2B1C6"
            },
            "type": "carpet"
           }
          ],
          "table": [
           {
            "cells": {
             "fill": {
              "color": "#506784"
             },
             "line": {
              "color": "rgb(17,17,17)"
             }
            },
            "header": {
             "fill": {
              "color": "#2a3f5f"
             },
             "line": {
              "color": "rgb(17,17,17)"
             }
            },
            "type": "table"
           }
          ],
          "barpolar": [
           {
            "marker": {
             "line": {
              "color": "rgb(17,17,17)",
              "width": 0.5
             },
             "pattern": {
              "fillmode": "overlay",
              "size": 10,
              "solidity": 0.2
             }
            },
            "type": "barpolar"
           }
          ],
          "pie": [
           {
            "automargin": true,
            "type": "pie"
           }
          ]
         },
         "layout": {
          "autotypenumbers": "strict",
          "colorway": [
           "#636efa",
           "#EF553B",
           "#00cc96",
           "#ab63fa",
           "#FFA15A",
           "#19d3f3",
           "#FF6692",
           "#B6E880",
           "#FF97FF",
           "#FECB52"
          ],
          "font": {
           "color": "#f2f5fa"
          },
          "hovermode": "closest",
          "hoverlabel": {
           "align": "left"
          },
          "paper_bgcolor": "rgb(17,17,17)",
          "plot_bgcolor": "rgb(17,17,17)",
          "polar": {
           "bgcolor": "rgb(17,17,17)",
           "angularaxis": {
            "gridcolor": "#506784",
            "linecolor": "#506784",
            "ticks": ""
           },
           "radialaxis": {
            "gridcolor": "#506784",
            "linecolor": "#506784",
            "ticks": ""
           }
          },
          "ternary": {
           "bgcolor": "rgb(17,17,17)",
           "aaxis": {
            "gridcolor": "#506784",
            "linecolor": "#506784",
            "ticks": ""
           },
           "baxis": {
            "gridcolor": "#506784",
            "linecolor": "#506784",
            "ticks": ""
           },
           "caxis": {
            "gridcolor": "#506784",
            "linecolor": "#506784",
            "ticks": ""
           }
          },
          "coloraxis": {
           "colorbar": {
            "outlinewidth": 0,
            "ticks": ""
           }
          },
          "colorscale": {
           "sequential": [
            [
             0.0,
             "#0d0887"
            ],
            [
             0.1111111111111111,
             "#46039f"
            ],
            [
             0.2222222222222222,
             "#7201a8"
            ],
            [
             0.3333333333333333,
             "#9c179e"
            ],
            [
             0.4444444444444444,
             "#bd3786"
            ],
            [
             0.5555555555555556,
             "#d8576b"
            ],
            [
             0.6666666666666666,
             "#ed7953"
            ],
            [
             0.7777777777777778,
             "#fb9f3a"
            ],
            [
             0.8888888888888888,
             "#fdca26"
            ],
            [
             1.0,
             "#f0f921"
            ]
           ],
           "sequentialminus": [
            [
             0.0,
             "#0d0887"
            ],
            [
             0.1111111111111111,
             "#46039f"
            ],
            [
             0.2222222222222222,
             "#7201a8"
            ],
            [
             0.3333333333333333,
             "#9c179e"
            ],
            [
             0.4444444444444444,
             "#bd3786"
            ],
            [
             0.5555555555555556,
             "#d8576b"
            ],
            [
             0.6666666666666666,
             "#ed7953"
            ],
            [
             0.7777777777777778,
             "#fb9f3a"
            ],
            [
             0.8888888888888888,
             "#fdca26"
            ],
            [
             1.0,
             "#f0f921"
            ]
           ],
           "diverging": [
            [
             0,
             "#8e0152"
            ],
            [
             0.1,
             "#c51b7d"
            ],
            [
             0.2,
             "#de77ae"
            ],
            [
             0.3,
             "#f1b6da"
            ],
            [
             0.4,
             "#fde0ef"
            ],
            [
             0.5,
             "#f7f7f7"
            ],
            [
             0.6,
             "#e6f5d0"
            ],
            [
             0.7,
             "#b8e186"
            ],
            [
             0.8,
             "#7fbc41"
            ],
            [
             0.9,
             "#4d9221"
            ],
            [
             1,
             "#276419"
            ]
           ]
          },
          "xaxis": {
           "gridcolor": "#283442",
           "linecolor": "#506784",
           "ticks": "",
           "title": {
            "standoff": 15
           },
           "zerolinecolor": "#283442",
           "automargin": true,
           "zerolinewidth": 2
          },
          "yaxis": {
           "gridcolor": "#283442",
           "linecolor": "#506784",
           "ticks": "",
           "title": {
            "standoff": 15
           },
           "zerolinecolor": "#283442",
           "automargin": true,
           "zerolinewidth": 2
          },
          "scene": {
           "xaxis": {
            "backgroundcolor": "rgb(17,17,17)",
            "gridcolor": "#506784",
            "linecolor": "#506784",
            "showbackground": true,
            "ticks": "",
            "zerolinecolor": "#C8D4E3",
            "gridwidth": 2
           },
           "yaxis": {
            "backgroundcolor": "rgb(17,17,17)",
            "gridcolor": "#506784",
            "linecolor": "#506784",
            "showbackground": true,
            "ticks": "",
            "zerolinecolor": "#C8D4E3",
            "gridwidth": 2
           },
           "zaxis": {
            "backgroundcolor": "rgb(17,17,17)",
            "gridcolor": "#506784",
            "linecolor": "#506784",
            "showbackground": true,
            "ticks": "",
            "zerolinecolor": "#C8D4E3",
            "gridwidth": 2
           }
          },
          "shapedefaults": {
           "line": {
            "color": "#f2f5fa"
           }
          },
          "annotationdefaults": {
           "arrowcolor": "#f2f5fa",
           "arrowhead": 0,
           "arrowwidth": 1
          },
          "geo": {
           "bgcolor": "rgb(17,17,17)",
           "landcolor": "rgb(17,17,17)",
           "subunitcolor": "#506784",
           "showland": true,
           "showlakes": true,
           "lakecolor": "rgb(17,17,17)"
          },
          "title": {
           "x": 0.05
          },
          "updatemenudefaults": {
           "bgcolor": "#506784",
           "borderwidth": 0
          },
          "sliderdefaults": {
           "bgcolor": "#C8D4E3",
           "borderwidth": 1,
           "bordercolor": "rgb(17,17,17)",
           "tickwidth": 0
          },
          "mapbox": {
           "style": "dark"
          }
         }
        },
        "xaxis": {
         "anchor": "y",
         "domain": [
          0.0,
          1.0
         ],
         "title": {
          "text": "x"
         }
        },
        "yaxis": {
         "anchor": "x",
         "domain": [
          0.0,
          1.0
         ],
         "title": {
          "text": "y"
         }
        },
        "coloraxis": {
         "colorbar": {
          "title": {
           "text": "color"
          }
         },
         "colorscale": [
          [
           0.0,
           "rgb(253, 224, 197)"
          ],
          [
           0.16666666666666666,
           "rgb(250, 203, 166)"
          ],
          [
           0.3333333333333333,
           "rgb(248, 181, 139)"
          ],
          [
           0.5,
           "rgb(245, 158, 114)"
          ],
          [
           0.6666666666666666,
           "rgb(242, 133, 93)"
          ],
          [
           0.8333333333333334,
           "rgb(239, 106, 76)"
          ],
          [
           1.0,
           "rgb(235, 74, 64)"
          ]
         ]
        },
        "legend": {
         "tracegroupgap": 0
        },
        "title": {
         "text": "Number of processor core(s)"
        },
        "barmode": "relative",
        "height": 750
       },
       "config": {
        "plotlyServerURL": "https://plot.ly"
       }
      }
     },
     "metadata": {},
     "output_type": "display_data"
    }
   ],
   "execution_count": 39
  },
  {
   "metadata": {
    "collapsed": true,
    "jupyter": {
     "outputs_hidden": true
    },
    "ExecuteTime": {
     "end_time": "2025-06-09T11:04:06.951062Z",
     "start_time": "2025-06-09T11:04:06.647699Z"
    }
   },
   "cell_type": "code",
   "source": [
    "dfTemp = dfN.dropna(subset='Serie').copy()\n",
    "HProComp=dfTemp[f'{col[0]}'].value_counts().to_dict()\n",
    "HProSerie=dfTemp[f'{col[1]}'].value_counts().to_dict()\n",
    "\n",
    "figHist = px.histogram(x=HProComp.keys(), y=HProComp.values(), color=HProComp.keys(), color_discrete_sequence=px.colors.qualitative.Antique,)\n",
    "figHist.show()\n",
    "\n",
    "figHist2 = px.histogram(x=HProSerie.keys(), y=HProSerie.values(), color=HProSerie.keys(), color_discrete_sequence=px.colors.qualitative.Antique)\n",
    "figHist2.show()\n"
   ],
   "id": "92cc2209751cfcf",
   "outputs": [
    {
     "data": {
      "application/vnd.plotly.v1+json": {
       "data": [
        {
         "bingroup": "x",
         "histfunc": "sum",
         "hovertemplate": "color=Qualcomm<br>x=%{x}<br>sum of y=%{y}<extra></extra>",
         "legendgroup": "Qualcomm",
         "marker": {
          "color": "rgb(133, 92, 117)",
          "pattern": {
           "shape": ""
          }
         },
         "name": "Qualcomm",
         "orientation": "v",
         "showlegend": true,
         "x": [
          "Qualcomm"
         ],
         "xaxis": "x",
         "y": {
          "dtype": "i2",
          "bdata": "2AA="
         },
         "yaxis": "y",
         "type": "histogram"
        },
        {
         "bingroup": "x",
         "histfunc": "sum",
         "hovertemplate": "color=MediaTek<br>x=%{x}<br>sum of y=%{y}<extra></extra>",
         "legendgroup": "MediaTek",
         "marker": {
          "color": "rgb(217, 175, 107)",
          "pattern": {
           "shape": ""
          }
         },
         "name": "MediaTek",
         "orientation": "v",
         "showlegend": true,
         "x": [
          "MediaTek"
         ],
         "xaxis": "x",
         "y": {
          "dtype": "i1",
          "bdata": "Yg=="
         },
         "yaxis": "y",
         "type": "histogram"
        },
        {
         "bingroup": "x",
         "histfunc": "sum",
         "hovertemplate": "color=Intel<br>x=%{x}<br>sum of y=%{y}<extra></extra>",
         "legendgroup": "Intel",
         "marker": {
          "color": "rgb(175, 100, 88)",
          "pattern": {
           "shape": ""
          }
         },
         "name": "Intel",
         "orientation": "v",
         "showlegend": true,
         "x": [
          "Intel"
         ],
         "xaxis": "x",
         "y": {
          "dtype": "i1",
          "bdata": "VQ=="
         },
         "yaxis": "y",
         "type": "histogram"
        },
        {
         "bingroup": "x",
         "histfunc": "sum",
         "hovertemplate": "color=Samsung<br>x=%{x}<br>sum of y=%{y}<extra></extra>",
         "legendgroup": "Samsung",
         "marker": {
          "color": "rgb(115, 111, 76)",
          "pattern": {
           "shape": ""
          }
         },
         "name": "Samsung",
         "orientation": "v",
         "showlegend": true,
         "x": [
          "Samsung"
         ],
         "xaxis": "x",
         "y": {
          "dtype": "i1",
          "bdata": "Pg=="
         },
         "yaxis": "y",
         "type": "histogram"
        },
        {
         "bingroup": "x",
         "histfunc": "sum",
         "hovertemplate": "color=HiSilicon<br>x=%{x}<br>sum of y=%{y}<extra></extra>",
         "legendgroup": "HiSilicon",
         "marker": {
          "color": "rgb(82, 106, 131)",
          "pattern": {
           "shape": ""
          }
         },
         "name": "HiSilicon",
         "orientation": "v",
         "showlegend": true,
         "x": [
          "HiSilicon"
         ],
         "xaxis": "x",
         "y": {
          "dtype": "i1",
          "bdata": "LA=="
         },
         "yaxis": "y",
         "type": "histogram"
        },
        {
         "bingroup": "x",
         "histfunc": "sum",
         "hovertemplate": "color=Texas Instruments<br>x=%{x}<br>sum of y=%{y}<extra></extra>",
         "legendgroup": "Texas Instruments",
         "marker": {
          "color": "rgb(98, 83, 119)",
          "pattern": {
           "shape": ""
          }
         },
         "name": "Texas Instruments",
         "orientation": "v",
         "showlegend": true,
         "x": [
          "Texas Instruments"
         ],
         "xaxis": "x",
         "y": {
          "dtype": "i1",
          "bdata": "Kw=="
         },
         "yaxis": "y",
         "type": "histogram"
        },
        {
         "bingroup": "x",
         "histfunc": "sum",
         "hovertemplate": "color=NVIDIA<br>x=%{x}<br>sum of y=%{y}<extra></extra>",
         "legendgroup": "NVIDIA",
         "marker": {
          "color": "rgb(104, 133, 92)",
          "pattern": {
           "shape": ""
          }
         },
         "name": "NVIDIA",
         "orientation": "v",
         "showlegend": true,
         "x": [
          "NVIDIA"
         ],
         "xaxis": "x",
         "y": {
          "dtype": "i1",
          "bdata": "Fg=="
         },
         "yaxis": "y",
         "type": "histogram"
        },
        {
         "bingroup": "x",
         "histfunc": "sum",
         "hovertemplate": "color=UNISOC<br>x=%{x}<br>sum of y=%{y}<extra></extra>",
         "legendgroup": "UNISOC",
         "marker": {
          "color": "rgb(156, 156, 94)",
          "pattern": {
           "shape": ""
          }
         },
         "name": "UNISOC",
         "orientation": "v",
         "showlegend": true,
         "x": [
          "UNISOC"
         ],
         "xaxis": "x",
         "y": {
          "dtype": "i1",
          "bdata": "DA=="
         },
         "yaxis": "y",
         "type": "histogram"
        },
        {
         "bingroup": "x",
         "histfunc": "sum",
         "hovertemplate": "color=Apple<br>x=%{x}<br>sum of y=%{y}<extra></extra>",
         "legendgroup": "Apple",
         "marker": {
          "color": "rgb(160, 97, 119)",
          "pattern": {
           "shape": ""
          }
         },
         "name": "Apple",
         "orientation": "v",
         "showlegend": true,
         "x": [
          "Apple"
         ],
         "xaxis": "x",
         "y": {
          "dtype": "i1",
          "bdata": "Cw=="
         },
         "yaxis": "y",
         "type": "histogram"
        },
        {
         "bingroup": "x",
         "histfunc": "sum",
         "hovertemplate": "color=Rockchip<br>x=%{x}<br>sum of y=%{y}<extra></extra>",
         "legendgroup": "Rockchip",
         "marker": {
          "color": "rgb(140, 120, 93)",
          "pattern": {
           "shape": ""
          }
         },
         "name": "Rockchip",
         "orientation": "v",
         "showlegend": true,
         "x": [
          "Rockchip"
         ],
         "xaxis": "x",
         "y": {
          "dtype": "i1",
          "bdata": "Cw=="
         },
         "yaxis": "y",
         "type": "histogram"
        },
        {
         "bingroup": "x",
         "histfunc": "sum",
         "hovertemplate": "color=Marvell<br>x=%{x}<br>sum of y=%{y}<extra></extra>",
         "legendgroup": "Marvell",
         "marker": {
          "color": "rgb(124, 124, 124)",
          "pattern": {
           "shape": ""
          }
         },
         "name": "Marvell",
         "orientation": "v",
         "showlegend": true,
         "x": [
          "Marvell"
         ],
         "xaxis": "x",
         "y": {
          "dtype": "i1",
          "bdata": "CQ=="
         },
         "yaxis": "y",
         "type": "histogram"
        },
        {
         "bingroup": "x",
         "histfunc": "sum",
         "hovertemplate": "color=ST-Ericsson<br>x=%{x}<br>sum of y=%{y}<extra></extra>",
         "legendgroup": "ST-Ericsson",
         "marker": {
          "color": "rgb(133, 92, 117)",
          "pattern": {
           "shape": ""
          }
         },
         "name": "ST-Ericsson",
         "orientation": "v",
         "showlegend": true,
         "x": [
          "ST-Ericsson"
         ],
         "xaxis": "x",
         "y": {
          "dtype": "i1",
          "bdata": "CQ=="
         },
         "yaxis": "y",
         "type": "histogram"
        },
        {
         "bingroup": "x",
         "histfunc": "sum",
         "hovertemplate": "color=STMicroelectronics<br>x=%{x}<br>sum of y=%{y}<extra></extra>",
         "legendgroup": "STMicroelectronics",
         "marker": {
          "color": "rgb(217, 175, 107)",
          "pattern": {
           "shape": ""
          }
         },
         "name": "STMicroelectronics",
         "orientation": "v",
         "showlegend": true,
         "x": [
          "STMicroelectronics"
         ],
         "xaxis": "x",
         "y": {
          "dtype": "i1",
          "bdata": "Bw=="
         },
         "yaxis": "y",
         "type": "histogram"
        },
        {
         "bingroup": "x",
         "histfunc": "sum",
         "hovertemplate": "color=Toshiba<br>x=%{x}<br>sum of y=%{y}<extra></extra>",
         "legendgroup": "Toshiba",
         "marker": {
          "color": "rgb(175, 100, 88)",
          "pattern": {
           "shape": ""
          }
         },
         "name": "Toshiba",
         "orientation": "v",
         "showlegend": true,
         "x": [
          "Toshiba"
         ],
         "xaxis": "x",
         "y": {
          "dtype": "i1",
          "bdata": "Bg=="
         },
         "yaxis": "y",
         "type": "histogram"
        },
        {
         "bingroup": "x",
         "histfunc": "sum",
         "hovertemplate": "color=AMD<br>x=%{x}<br>sum of y=%{y}<extra></extra>",
         "legendgroup": "AMD",
         "marker": {
          "color": "rgb(115, 111, 76)",
          "pattern": {
           "shape": ""
          }
         },
         "name": "AMD",
         "orientation": "v",
         "showlegend": true,
         "x": [
          "AMD"
         ],
         "xaxis": "x",
         "y": {
          "dtype": "i1",
          "bdata": "BQ=="
         },
         "yaxis": "y",
         "type": "histogram"
        },
        {
         "bingroup": "x",
         "histfunc": "sum",
         "hovertemplate": "color=Centrality<br>x=%{x}<br>sum of y=%{y}<extra></extra>",
         "legendgroup": "Centrality",
         "marker": {
          "color": "rgb(82, 106, 131)",
          "pattern": {
           "shape": ""
          }
         },
         "name": "Centrality",
         "orientation": "v",
         "showlegend": true,
         "x": [
          "Centrality"
         ],
         "xaxis": "x",
         "y": {
          "dtype": "i1",
          "bdata": "BQ=="
         },
         "yaxis": "y",
         "type": "histogram"
        },
        {
         "bingroup": "x",
         "histfunc": "sum",
         "hovertemplate": "color=Nokia<br>x=%{x}<br>sum of y=%{y}<extra></extra>",
         "legendgroup": "Nokia",
         "marker": {
          "color": "rgb(98, 83, 119)",
          "pattern": {
           "shape": ""
          }
         },
         "name": "Nokia",
         "orientation": "v",
         "showlegend": true,
         "x": [
          "Nokia"
         ],
         "xaxis": "x",
         "y": {
          "dtype": "i1",
          "bdata": "BA=="
         },
         "yaxis": "y",
         "type": "histogram"
        },
        {
         "bingroup": "x",
         "histfunc": "sum",
         "hovertemplate": "color=Leadcore<br>x=%{x}<br>sum of y=%{y}<extra></extra>",
         "legendgroup": "Leadcore",
         "marker": {
          "color": "rgb(104, 133, 92)",
          "pattern": {
           "shape": ""
          }
         },
         "name": "Leadcore",
         "orientation": "v",
         "showlegend": true,
         "x": [
          "Leadcore"
         ],
         "xaxis": "x",
         "y": {
          "dtype": "i1",
          "bdata": "BA=="
         },
         "yaxis": "y",
         "type": "histogram"
        },
        {
         "bingroup": "x",
         "histfunc": "sum",
         "hovertemplate": "color=VIA<br>x=%{x}<br>sum of y=%{y}<extra></extra>",
         "legendgroup": "VIA",
         "marker": {
          "color": "rgb(156, 156, 94)",
          "pattern": {
           "shape": ""
          }
         },
         "name": "VIA",
         "orientation": "v",
         "showlegend": true,
         "x": [
          "VIA"
         ],
         "xaxis": "x",
         "y": {
          "dtype": "i1",
          "bdata": "BA=="
         },
         "yaxis": "y",
         "type": "histogram"
        },
        {
         "bingroup": "x",
         "histfunc": "sum",
         "hovertemplate": "color=Motorola<br>x=%{x}<br>sum of y=%{y}<extra></extra>",
         "legendgroup": "Motorola",
         "marker": {
          "color": "rgb(160, 97, 119)",
          "pattern": {
           "shape": ""
          }
         },
         "name": "Motorola",
         "orientation": "v",
         "showlegend": true,
         "x": [
          "Motorola"
         ],
         "xaxis": "x",
         "y": {
          "dtype": "i1",
          "bdata": "BA=="
         },
         "yaxis": "y",
         "type": "histogram"
        },
        {
         "bingroup": "x",
         "histfunc": "sum",
         "hovertemplate": "color=SiRF<br>x=%{x}<br>sum of y=%{y}<extra></extra>",
         "legendgroup": "SiRF",
         "marker": {
          "color": "rgb(140, 120, 93)",
          "pattern": {
           "shape": ""
          }
         },
         "name": "SiRF",
         "orientation": "v",
         "showlegend": true,
         "x": [
          "SiRF"
         ],
         "xaxis": "x",
         "y": {
          "dtype": "i1",
          "bdata": "BA=="
         },
         "yaxis": "y",
         "type": "histogram"
        },
        {
         "bingroup": "x",
         "histfunc": "sum",
         "hovertemplate": "color=Philips<br>x=%{x}<br>sum of y=%{y}<extra></extra>",
         "legendgroup": "Philips",
         "marker": {
          "color": "rgb(124, 124, 124)",
          "pattern": {
           "shape": ""
          }
         },
         "name": "Philips",
         "orientation": "v",
         "showlegend": true,
         "x": [
          "Philips"
         ],
         "xaxis": "x",
         "y": {
          "dtype": "i1",
          "bdata": "Aw=="
         },
         "yaxis": "y",
         "type": "histogram"
        },
        {
         "bingroup": "x",
         "histfunc": "sum",
         "hovertemplate": "color=Xiaomi<br>x=%{x}<br>sum of y=%{y}<extra></extra>",
         "legendgroup": "Xiaomi",
         "marker": {
          "color": "rgb(133, 92, 117)",
          "pattern": {
           "shape": ""
          }
         },
         "name": "Xiaomi",
         "orientation": "v",
         "showlegend": true,
         "x": [
          "Xiaomi"
         ],
         "xaxis": "x",
         "y": {
          "dtype": "i1",
          "bdata": "Ag=="
         },
         "yaxis": "y",
         "type": "histogram"
        },
        {
         "bingroup": "x",
         "histfunc": "sum",
         "hovertemplate": "color=RMI<br>x=%{x}<br>sum of y=%{y}<extra></extra>",
         "legendgroup": "RMI",
         "marker": {
          "color": "rgb(217, 175, 107)",
          "pattern": {
           "shape": ""
          }
         },
         "name": "RMI",
         "orientation": "v",
         "showlegend": true,
         "x": [
          "RMI"
         ],
         "xaxis": "x",
         "y": {
          "dtype": "i1",
          "bdata": "Ag=="
         },
         "yaxis": "y",
         "type": "histogram"
        },
        {
         "bingroup": "x",
         "histfunc": "sum",
         "hovertemplate": "color=Hitachi<br>x=%{x}<br>sum of y=%{y}<extra></extra>",
         "legendgroup": "Hitachi",
         "marker": {
          "color": "rgb(175, 100, 88)",
          "pattern": {
           "shape": ""
          }
         },
         "name": "Hitachi",
         "orientation": "v",
         "showlegend": true,
         "x": [
          "Hitachi"
         ],
         "xaxis": "x",
         "y": {
          "dtype": "i1",
          "bdata": "Ag=="
         },
         "yaxis": "y",
         "type": "histogram"
        },
        {
         "bingroup": "x",
         "histfunc": "sum",
         "hovertemplate": "color=Sony<br>x=%{x}<br>sum of y=%{y}<extra></extra>",
         "legendgroup": "Sony",
         "marker": {
          "color": "rgb(115, 111, 76)",
          "pattern": {
           "shape": ""
          }
         },
         "name": "Sony",
         "orientation": "v",
         "showlegend": true,
         "x": [
          "Sony"
         ],
         "xaxis": "x",
         "y": {
          "dtype": "i1",
          "bdata": "AQ=="
         },
         "yaxis": "y",
         "type": "histogram"
        },
        {
         "bingroup": "x",
         "histfunc": "sum",
         "hovertemplate": "color=Renesas<br>x=%{x}<br>sum of y=%{y}<extra></extra>",
         "legendgroup": "Renesas",
         "marker": {
          "color": "rgb(82, 106, 131)",
          "pattern": {
           "shape": ""
          }
         },
         "name": "Renesas",
         "orientation": "v",
         "showlegend": true,
         "x": [
          "Renesas"
         ],
         "xaxis": "x",
         "y": {
          "dtype": "i1",
          "bdata": "AQ=="
         },
         "yaxis": "y",
         "type": "histogram"
        }
       ],
       "layout": {
        "template": {
         "data": {
          "histogram2dcontour": [
           {
            "type": "histogram2dcontour",
            "colorbar": {
             "outlinewidth": 0,
             "ticks": ""
            },
            "colorscale": [
             [
              0.0,
              "#0d0887"
             ],
             [
              0.1111111111111111,
              "#46039f"
             ],
             [
              0.2222222222222222,
              "#7201a8"
             ],
             [
              0.3333333333333333,
              "#9c179e"
             ],
             [
              0.4444444444444444,
              "#bd3786"
             ],
             [
              0.5555555555555556,
              "#d8576b"
             ],
             [
              0.6666666666666666,
              "#ed7953"
             ],
             [
              0.7777777777777778,
              "#fb9f3a"
             ],
             [
              0.8888888888888888,
              "#fdca26"
             ],
             [
              1.0,
              "#f0f921"
             ]
            ]
           }
          ],
          "choropleth": [
           {
            "type": "choropleth",
            "colorbar": {
             "outlinewidth": 0,
             "ticks": ""
            }
           }
          ],
          "histogram2d": [
           {
            "type": "histogram2d",
            "colorbar": {
             "outlinewidth": 0,
             "ticks": ""
            },
            "colorscale": [
             [
              0.0,
              "#0d0887"
             ],
             [
              0.1111111111111111,
              "#46039f"
             ],
             [
              0.2222222222222222,
              "#7201a8"
             ],
             [
              0.3333333333333333,
              "#9c179e"
             ],
             [
              0.4444444444444444,
              "#bd3786"
             ],
             [
              0.5555555555555556,
              "#d8576b"
             ],
             [
              0.6666666666666666,
              "#ed7953"
             ],
             [
              0.7777777777777778,
              "#fb9f3a"
             ],
             [
              0.8888888888888888,
              "#fdca26"
             ],
             [
              1.0,
              "#f0f921"
             ]
            ]
           }
          ],
          "heatmap": [
           {
            "type": "heatmap",
            "colorbar": {
             "outlinewidth": 0,
             "ticks": ""
            },
            "colorscale": [
             [
              0.0,
              "#0d0887"
             ],
             [
              0.1111111111111111,
              "#46039f"
             ],
             [
              0.2222222222222222,
              "#7201a8"
             ],
             [
              0.3333333333333333,
              "#9c179e"
             ],
             [
              0.4444444444444444,
              "#bd3786"
             ],
             [
              0.5555555555555556,
              "#d8576b"
             ],
             [
              0.6666666666666666,
              "#ed7953"
             ],
             [
              0.7777777777777778,
              "#fb9f3a"
             ],
             [
              0.8888888888888888,
              "#fdca26"
             ],
             [
              1.0,
              "#f0f921"
             ]
            ]
           }
          ],
          "contourcarpet": [
           {
            "type": "contourcarpet",
            "colorbar": {
             "outlinewidth": 0,
             "ticks": ""
            }
           }
          ],
          "contour": [
           {
            "type": "contour",
            "colorbar": {
             "outlinewidth": 0,
             "ticks": ""
            },
            "colorscale": [
             [
              0.0,
              "#0d0887"
             ],
             [
              0.1111111111111111,
              "#46039f"
             ],
             [
              0.2222222222222222,
              "#7201a8"
             ],
             [
              0.3333333333333333,
              "#9c179e"
             ],
             [
              0.4444444444444444,
              "#bd3786"
             ],
             [
              0.5555555555555556,
              "#d8576b"
             ],
             [
              0.6666666666666666,
              "#ed7953"
             ],
             [
              0.7777777777777778,
              "#fb9f3a"
             ],
             [
              0.8888888888888888,
              "#fdca26"
             ],
             [
              1.0,
              "#f0f921"
             ]
            ]
           }
          ],
          "surface": [
           {
            "type": "surface",
            "colorbar": {
             "outlinewidth": 0,
             "ticks": ""
            },
            "colorscale": [
             [
              0.0,
              "#0d0887"
             ],
             [
              0.1111111111111111,
              "#46039f"
             ],
             [
              0.2222222222222222,
              "#7201a8"
             ],
             [
              0.3333333333333333,
              "#9c179e"
             ],
             [
              0.4444444444444444,
              "#bd3786"
             ],
             [
              0.5555555555555556,
              "#d8576b"
             ],
             [
              0.6666666666666666,
              "#ed7953"
             ],
             [
              0.7777777777777778,
              "#fb9f3a"
             ],
             [
              0.8888888888888888,
              "#fdca26"
             ],
             [
              1.0,
              "#f0f921"
             ]
            ]
           }
          ],
          "mesh3d": [
           {
            "type": "mesh3d",
            "colorbar": {
             "outlinewidth": 0,
             "ticks": ""
            }
           }
          ],
          "scatter": [
           {
            "marker": {
             "line": {
              "color": "#283442"
             }
            },
            "type": "scatter"
           }
          ],
          "parcoords": [
           {
            "type": "parcoords",
            "line": {
             "colorbar": {
              "outlinewidth": 0,
              "ticks": ""
             }
            }
           }
          ],
          "scatterpolargl": [
           {
            "type": "scatterpolargl",
            "marker": {
             "colorbar": {
              "outlinewidth": 0,
              "ticks": ""
             }
            }
           }
          ],
          "bar": [
           {
            "error_x": {
             "color": "#f2f5fa"
            },
            "error_y": {
             "color": "#f2f5fa"
            },
            "marker": {
             "line": {
              "color": "rgb(17,17,17)",
              "width": 0.5
             },
             "pattern": {
              "fillmode": "overlay",
              "size": 10,
              "solidity": 0.2
             }
            },
            "type": "bar"
           }
          ],
          "scattergeo": [
           {
            "type": "scattergeo",
            "marker": {
             "colorbar": {
              "outlinewidth": 0,
              "ticks": ""
             }
            }
           }
          ],
          "scatterpolar": [
           {
            "type": "scatterpolar",
            "marker": {
             "colorbar": {
              "outlinewidth": 0,
              "ticks": ""
             }
            }
           }
          ],
          "histogram": [
           {
            "marker": {
             "pattern": {
              "fillmode": "overlay",
              "size": 10,
              "solidity": 0.2
             }
            },
            "type": "histogram"
           }
          ],
          "scattergl": [
           {
            "marker": {
             "line": {
              "color": "#283442"
             }
            },
            "type": "scattergl"
           }
          ],
          "scatter3d": [
           {
            "type": "scatter3d",
            "line": {
             "colorbar": {
              "outlinewidth": 0,
              "ticks": ""
             }
            },
            "marker": {
             "colorbar": {
              "outlinewidth": 0,
              "ticks": ""
             }
            }
           }
          ],
          "scattermap": [
           {
            "type": "scattermap",
            "marker": {
             "colorbar": {
              "outlinewidth": 0,
              "ticks": ""
             }
            }
           }
          ],
          "scattermapbox": [
           {
            "type": "scattermapbox",
            "marker": {
             "colorbar": {
              "outlinewidth": 0,
              "ticks": ""
             }
            }
           }
          ],
          "scatterternary": [
           {
            "type": "scatterternary",
            "marker": {
             "colorbar": {
              "outlinewidth": 0,
              "ticks": ""
             }
            }
           }
          ],
          "scattercarpet": [
           {
            "type": "scattercarpet",
            "marker": {
             "colorbar": {
              "outlinewidth": 0,
              "ticks": ""
             }
            }
           }
          ],
          "carpet": [
           {
            "aaxis": {
             "endlinecolor": "#A2B1C6",
             "gridcolor": "#506784",
             "linecolor": "#506784",
             "minorgridcolor": "#506784",
             "startlinecolor": "#A2B1C6"
            },
            "baxis": {
             "endlinecolor": "#A2B1C6",
             "gridcolor": "#506784",
             "linecolor": "#506784",
             "minorgridcolor": "#506784",
             "startlinecolor": "#A2B1C6"
            },
            "type": "carpet"
           }
          ],
          "table": [
           {
            "cells": {
             "fill": {
              "color": "#506784"
             },
             "line": {
              "color": "rgb(17,17,17)"
             }
            },
            "header": {
             "fill": {
              "color": "#2a3f5f"
             },
             "line": {
              "color": "rgb(17,17,17)"
             }
            },
            "type": "table"
           }
          ],
          "barpolar": [
           {
            "marker": {
             "line": {
              "color": "rgb(17,17,17)",
              "width": 0.5
             },
             "pattern": {
              "fillmode": "overlay",
              "size": 10,
              "solidity": 0.2
             }
            },
            "type": "barpolar"
           }
          ],
          "pie": [
           {
            "automargin": true,
            "type": "pie"
           }
          ]
         },
         "layout": {
          "autotypenumbers": "strict",
          "colorway": [
           "#636efa",
           "#EF553B",
           "#00cc96",
           "#ab63fa",
           "#FFA15A",
           "#19d3f3",
           "#FF6692",
           "#B6E880",
           "#FF97FF",
           "#FECB52"
          ],
          "font": {
           "color": "#f2f5fa"
          },
          "hovermode": "closest",
          "hoverlabel": {
           "align": "left"
          },
          "paper_bgcolor": "rgb(17,17,17)",
          "plot_bgcolor": "rgb(17,17,17)",
          "polar": {
           "bgcolor": "rgb(17,17,17)",
           "angularaxis": {
            "gridcolor": "#506784",
            "linecolor": "#506784",
            "ticks": ""
           },
           "radialaxis": {
            "gridcolor": "#506784",
            "linecolor": "#506784",
            "ticks": ""
           }
          },
          "ternary": {
           "bgcolor": "rgb(17,17,17)",
           "aaxis": {
            "gridcolor": "#506784",
            "linecolor": "#506784",
            "ticks": ""
           },
           "baxis": {
            "gridcolor": "#506784",
            "linecolor": "#506784",
            "ticks": ""
           },
           "caxis": {
            "gridcolor": "#506784",
            "linecolor": "#506784",
            "ticks": ""
           }
          },
          "coloraxis": {
           "colorbar": {
            "outlinewidth": 0,
            "ticks": ""
           }
          },
          "colorscale": {
           "sequential": [
            [
             0.0,
             "#0d0887"
            ],
            [
             0.1111111111111111,
             "#46039f"
            ],
            [
             0.2222222222222222,
             "#7201a8"
            ],
            [
             0.3333333333333333,
             "#9c179e"
            ],
            [
             0.4444444444444444,
             "#bd3786"
            ],
            [
             0.5555555555555556,
             "#d8576b"
            ],
            [
             0.6666666666666666,
             "#ed7953"
            ],
            [
             0.7777777777777778,
             "#fb9f3a"
            ],
            [
             0.8888888888888888,
             "#fdca26"
            ],
            [
             1.0,
             "#f0f921"
            ]
           ],
           "sequentialminus": [
            [
             0.0,
             "#0d0887"
            ],
            [
             0.1111111111111111,
             "#46039f"
            ],
            [
             0.2222222222222222,
             "#7201a8"
            ],
            [
             0.3333333333333333,
             "#9c179e"
            ],
            [
             0.4444444444444444,
             "#bd3786"
            ],
            [
             0.5555555555555556,
             "#d8576b"
            ],
            [
             0.6666666666666666,
             "#ed7953"
            ],
            [
             0.7777777777777778,
             "#fb9f3a"
            ],
            [
             0.8888888888888888,
             "#fdca26"
            ],
            [
             1.0,
             "#f0f921"
            ]
           ],
           "diverging": [
            [
             0,
             "#8e0152"
            ],
            [
             0.1,
             "#c51b7d"
            ],
            [
             0.2,
             "#de77ae"
            ],
            [
             0.3,
             "#f1b6da"
            ],
            [
             0.4,
             "#fde0ef"
            ],
            [
             0.5,
             "#f7f7f7"
            ],
            [
             0.6,
             "#e6f5d0"
            ],
            [
             0.7,
             "#b8e186"
            ],
            [
             0.8,
             "#7fbc41"
            ],
            [
             0.9,
             "#4d9221"
            ],
            [
             1,
             "#276419"
            ]
           ]
          },
          "xaxis": {
           "gridcolor": "#283442",
           "linecolor": "#506784",
           "ticks": "",
           "title": {
            "standoff": 15
           },
           "zerolinecolor": "#283442",
           "automargin": true,
           "zerolinewidth": 2
          },
          "yaxis": {
           "gridcolor": "#283442",
           "linecolor": "#506784",
           "ticks": "",
           "title": {
            "standoff": 15
           },
           "zerolinecolor": "#283442",
           "automargin": true,
           "zerolinewidth": 2
          },
          "scene": {
           "xaxis": {
            "backgroundcolor": "rgb(17,17,17)",
            "gridcolor": "#506784",
            "linecolor": "#506784",
            "showbackground": true,
            "ticks": "",
            "zerolinecolor": "#C8D4E3",
            "gridwidth": 2
           },
           "yaxis": {
            "backgroundcolor": "rgb(17,17,17)",
            "gridcolor": "#506784",
            "linecolor": "#506784",
            "showbackground": true,
            "ticks": "",
            "zerolinecolor": "#C8D4E3",
            "gridwidth": 2
           },
           "zaxis": {
            "backgroundcolor": "rgb(17,17,17)",
            "gridcolor": "#506784",
            "linecolor": "#506784",
            "showbackground": true,
            "ticks": "",
            "zerolinecolor": "#C8D4E3",
            "gridwidth": 2
           }
          },
          "shapedefaults": {
           "line": {
            "color": "#f2f5fa"
           }
          },
          "annotationdefaults": {
           "arrowcolor": "#f2f5fa",
           "arrowhead": 0,
           "arrowwidth": 1
          },
          "geo": {
           "bgcolor": "rgb(17,17,17)",
           "landcolor": "rgb(17,17,17)",
           "subunitcolor": "#506784",
           "showland": true,
           "showlakes": true,
           "lakecolor": "rgb(17,17,17)"
          },
          "title": {
           "x": 0.05
          },
          "updatemenudefaults": {
           "bgcolor": "#506784",
           "borderwidth": 0
          },
          "sliderdefaults": {
           "bgcolor": "#C8D4E3",
           "borderwidth": 1,
           "bordercolor": "rgb(17,17,17)",
           "tickwidth": 0
          },
          "mapbox": {
           "style": "dark"
          }
         }
        },
        "xaxis": {
         "anchor": "y",
         "domain": [
          0.0,
          1.0
         ],
         "title": {
          "text": "x"
         }
        },
        "yaxis": {
         "anchor": "x",
         "domain": [
          0.0,
          1.0
         ],
         "title": {
          "text": "sum of y"
         }
        },
        "legend": {
         "title": {
          "text": "color"
         },
         "tracegroupgap": 0
        },
        "margin": {
         "t": 60
        },
        "barmode": "relative"
       },
       "config": {
        "plotlyServerURL": "https://plot.ly"
       }
      }
     },
     "metadata": {},
     "output_type": "display_data"
    },
    {
     "data": {
      "application/vnd.plotly.v1+json": {
       "data": [
        {
         "bingroup": "x",
         "histfunc": "sum",
         "hovertemplate": "color=Snapdragon<br>x=%{x}<br>sum of y=%{y}<extra></extra>",
         "legendgroup": "Snapdragon",
         "marker": {
          "color": "rgb(133, 92, 117)",
          "pattern": {
           "shape": ""
          }
         },
         "name": "Snapdragon",
         "orientation": "v",
         "showlegend": true,
         "x": [
          "Snapdragon"
         ],
         "xaxis": "x",
         "y": {
          "dtype": "i2",
          "bdata": "vQA="
         },
         "yaxis": "y",
         "type": "histogram"
        },
        {
         "bingroup": "x",
         "histfunc": "sum",
         "hovertemplate": "color=Exynos<br>x=%{x}<br>sum of y=%{y}<extra></extra>",
         "legendgroup": "Exynos",
         "marker": {
          "color": "rgb(217, 175, 107)",
          "pattern": {
           "shape": ""
          }
         },
         "name": "Exynos",
         "orientation": "v",
         "showlegend": true,
         "x": [
          "Exynos"
         ],
         "xaxis": "x",
         "y": {
          "dtype": "i1",
          "bdata": "Og=="
         },
         "yaxis": "y",
         "type": "histogram"
        },
        {
         "bingroup": "x",
         "histfunc": "sum",
         "hovertemplate": "color=Dimensity<br>x=%{x}<br>sum of y=%{y}<extra></extra>",
         "legendgroup": "Dimensity",
         "marker": {
          "color": "rgb(175, 100, 88)",
          "pattern": {
           "shape": ""
          }
         },
         "name": "Dimensity",
         "orientation": "v",
         "showlegend": true,
         "x": [
          "Dimensity"
         ],
         "xaxis": "x",
         "y": {
          "dtype": "i1",
          "bdata": "Mg=="
         },
         "yaxis": "y",
         "type": "histogram"
        },
        {
         "bingroup": "x",
         "histfunc": "sum",
         "hovertemplate": "color=Helio<br>x=%{x}<br>sum of y=%{y}<extra></extra>",
         "legendgroup": "Helio",
         "marker": {
          "color": "rgb(115, 111, 76)",
          "pattern": {
           "shape": ""
          }
         },
         "name": "Helio",
         "orientation": "v",
         "showlegend": true,
         "x": [
          "Helio"
         ],
         "xaxis": "x",
         "y": {
          "dtype": "i1",
          "bdata": "LQ=="
         },
         "yaxis": "y",
         "type": "histogram"
        },
        {
         "bingroup": "x",
         "histfunc": "sum",
         "hovertemplate": "color=KIRIN<br>x=%{x}<br>sum of y=%{y}<extra></extra>",
         "legendgroup": "KIRIN",
         "marker": {
          "color": "rgb(82, 106, 131)",
          "pattern": {
           "shape": ""
          }
         },
         "name": "KIRIN",
         "orientation": "v",
         "showlegend": true,
         "x": [
          "KIRIN"
         ],
         "xaxis": "x",
         "y": {
          "dtype": "i1",
          "bdata": "LA=="
         },
         "yaxis": "y",
         "type": "histogram"
        },
        {
         "bingroup": "x",
         "histfunc": "sum",
         "hovertemplate": "color=OMAP<br>x=%{x}<br>sum of y=%{y}<extra></extra>",
         "legendgroup": "OMAP",
         "marker": {
          "color": "rgb(98, 83, 119)",
          "pattern": {
           "shape": ""
          }
         },
         "name": "OMAP",
         "orientation": "v",
         "showlegend": true,
         "x": [
          "OMAP"
         ],
         "xaxis": "x",
         "y": {
          "dtype": "i1",
          "bdata": "KA=="
         },
         "yaxis": "y",
         "type": "histogram"
        },
        {
         "bingroup": "x",
         "histfunc": "sum",
         "hovertemplate": "color=Atom<br>x=%{x}<br>sum of y=%{y}<extra></extra>",
         "legendgroup": "Atom",
         "marker": {
          "color": "rgb(104, 133, 92)",
          "pattern": {
           "shape": ""
          }
         },
         "name": "Atom",
         "orientation": "v",
         "showlegend": true,
         "x": [
          "Atom"
         ],
         "xaxis": "x",
         "y": {
          "dtype": "i1",
          "bdata": "Jg=="
         },
         "yaxis": "y",
         "type": "histogram"
        },
        {
         "bingroup": "x",
         "histfunc": "sum",
         "hovertemplate": "color=Core<br>x=%{x}<br>sum of y=%{y}<extra></extra>",
         "legendgroup": "Core",
         "marker": {
          "color": "rgb(156, 156, 94)",
          "pattern": {
           "shape": ""
          }
         },
         "name": "Core",
         "orientation": "v",
         "showlegend": true,
         "x": [
          "Core"
         ],
         "xaxis": "x",
         "y": {
          "dtype": "i1",
          "bdata": "Gg=="
         },
         "yaxis": "y",
         "type": "histogram"
        },
        {
         "bingroup": "x",
         "histfunc": "sum",
         "hovertemplate": "color=MSM<br>x=%{x}<br>sum of y=%{y}<extra></extra>",
         "legendgroup": "MSM",
         "marker": {
          "color": "rgb(160, 97, 119)",
          "pattern": {
           "shape": ""
          }
         },
         "name": "MSM",
         "orientation": "v",
         "showlegend": true,
         "x": [
          "MSM"
         ],
         "xaxis": "x",
         "y": {
          "dtype": "i1",
          "bdata": "GQ=="
         },
         "yaxis": "y",
         "type": "histogram"
        },
        {
         "bingroup": "x",
         "histfunc": "sum",
         "hovertemplate": "color=Tegra<br>x=%{x}<br>sum of y=%{y}<extra></extra>",
         "legendgroup": "Tegra",
         "marker": {
          "color": "rgb(140, 120, 93)",
          "pattern": {
           "shape": ""
          }
         },
         "name": "Tegra",
         "orientation": "v",
         "showlegend": true,
         "x": [
          "Tegra"
         ],
         "xaxis": "x",
         "y": {
          "dtype": "i1",
          "bdata": "Fg=="
         },
         "yaxis": "y",
         "type": "histogram"
        },
        {
         "bingroup": "x",
         "histfunc": "sum",
         "hovertemplate": "color=XScale<br>x=%{x}<br>sum of y=%{y}<extra></extra>",
         "legendgroup": "XScale",
         "marker": {
          "color": "rgb(124, 124, 124)",
          "pattern": {
           "shape": ""
          }
         },
         "name": "XScale",
         "orientation": "v",
         "showlegend": true,
         "x": [
          "XScale"
         ],
         "xaxis": "x",
         "y": {
          "dtype": "i1",
          "bdata": "DA=="
         },
         "yaxis": "y",
         "type": "histogram"
        },
        {
         "bingroup": "x",
         "histfunc": "sum",
         "hovertemplate": "color=Bionic<br>x=%{x}<br>sum of y=%{y}<extra></extra>",
         "legendgroup": "Bionic",
         "marker": {
          "color": "rgb(133, 92, 117)",
          "pattern": {
           "shape": ""
          }
         },
         "name": "Bionic",
         "orientation": "v",
         "showlegend": true,
         "x": [
          "Bionic"
         ],
         "xaxis": "x",
         "y": {
          "dtype": "i1",
          "bdata": "Cw=="
         },
         "yaxis": "y",
         "type": "histogram"
        },
        {
         "bingroup": "x",
         "histfunc": "sum",
         "hovertemplate": "color=RK<br>x=%{x}<br>sum of y=%{y}<extra></extra>",
         "legendgroup": "RK",
         "marker": {
          "color": "rgb(217, 175, 107)",
          "pattern": {
           "shape": ""
          }
         },
         "name": "RK",
         "orientation": "v",
         "showlegend": true,
         "x": [
          "RK"
         ],
         "xaxis": "x",
         "y": {
          "dtype": "i1",
          "bdata": "Cw=="
         },
         "yaxis": "y",
         "type": "histogram"
        },
        {
         "bingroup": "x",
         "histfunc": "sum",
         "hovertemplate": "color=ARMADA<br>x=%{x}<br>sum of y=%{y}<extra></extra>",
         "legendgroup": "ARMADA",
         "marker": {
          "color": "rgb(175, 100, 88)",
          "pattern": {
           "shape": ""
          }
         },
         "name": "ARMADA",
         "orientation": "v",
         "showlegend": true,
         "x": [
          "ARMADA"
         ],
         "xaxis": "x",
         "y": {
          "dtype": "i1",
          "bdata": "CQ=="
         },
         "yaxis": "y",
         "type": "histogram"
        },
        {
         "bingroup": "x",
         "histfunc": "sum",
         "hovertemplate": "color=Celeron<br>x=%{x}<br>sum of y=%{y}<extra></extra>",
         "legendgroup": "Celeron",
         "marker": {
          "color": "rgb(115, 111, 76)",
          "pattern": {
           "shape": ""
          }
         },
         "name": "Celeron",
         "orientation": "v",
         "showlegend": true,
         "x": [
          "Celeron"
         ],
         "xaxis": "x",
         "y": {
          "dtype": "i1",
          "bdata": "CA=="
         },
         "yaxis": "y",
         "type": "histogram"
        },
        {
         "bingroup": "x",
         "histfunc": "sum",
         "hovertemplate": "color=Tiger<br>x=%{x}<br>sum of y=%{y}<extra></extra>",
         "legendgroup": "Tiger",
         "marker": {
          "color": "rgb(82, 106, 131)",
          "pattern": {
           "shape": ""
          }
         },
         "name": "Tiger",
         "orientation": "v",
         "showlegend": true,
         "x": [
          "Tiger"
         ],
         "xaxis": "x",
         "y": {
          "dtype": "i1",
          "bdata": "Bw=="
         },
         "yaxis": "y",
         "type": "histogram"
        },
        {
         "bingroup": "x",
         "histfunc": "sum",
         "hovertemplate": "color=Atlas<br>x=%{x}<br>sum of y=%{y}<extra></extra>",
         "legendgroup": "Atlas",
         "marker": {
          "color": "rgb(98, 83, 119)",
          "pattern": {
           "shape": ""
          }
         },
         "name": "Atlas",
         "orientation": "v",
         "showlegend": true,
         "x": [
          "Atlas"
         ],
         "xaxis": "x",
         "y": {
          "dtype": "i1",
          "bdata": "Bw=="
         },
         "yaxis": "y",
         "type": "histogram"
        },
        {
         "bingroup": "x",
         "histfunc": "sum",
         "hovertemplate": "color=Nomadik<br>x=%{x}<br>sum of y=%{y}<extra></extra>",
         "legendgroup": "Nomadik",
         "marker": {
          "color": "rgb(104, 133, 92)",
          "pattern": {
           "shape": ""
          }
         },
         "name": "Nomadik",
         "orientation": "v",
         "showlegend": true,
         "x": [
          "Nomadik"
         ],
         "xaxis": "x",
         "y": {
          "dtype": "i1",
          "bdata": "Bw=="
         },
         "yaxis": "y",
         "type": "histogram"
        },
        {
         "bingroup": "x",
         "histfunc": "sum",
         "hovertemplate": "color=TMPR<br>x=%{x}<br>sum of y=%{y}<extra></extra>",
         "legendgroup": "TMPR",
         "marker": {
          "color": "rgb(156, 156, 94)",
          "pattern": {
           "shape": ""
          }
         },
         "name": "TMPR",
         "orientation": "v",
         "showlegend": true,
         "x": [
          "TMPR"
         ],
         "xaxis": "x",
         "y": {
          "dtype": "i1",
          "bdata": "Bg=="
         },
         "yaxis": "y",
         "type": "histogram"
        },
        {
         "bingroup": "x",
         "histfunc": "sum",
         "hovertemplate": "color=NovaThor<br>x=%{x}<br>sum of y=%{y}<extra></extra>",
         "legendgroup": "NovaThor",
         "marker": {
          "color": "rgb(160, 97, 119)",
          "pattern": {
           "shape": ""
          }
         },
         "name": "NovaThor",
         "orientation": "v",
         "showlegend": true,
         "x": [
          "NovaThor"
         ],
         "xaxis": "x",
         "y": {
          "dtype": "i1",
          "bdata": "Bg=="
         },
         "yaxis": "y",
         "type": "histogram"
        },
        {
         "bingroup": "x",
         "histfunc": "sum",
         "hovertemplate": "color=Tanggula<br>x=%{x}<br>sum of y=%{y}<extra></extra>",
         "legendgroup": "Tanggula",
         "marker": {
          "color": "rgb(140, 120, 93)",
          "pattern": {
           "shape": ""
          }
         },
         "name": "Tanggula",
         "orientation": "v",
         "showlegend": true,
         "x": [
          "Tanggula"
         ],
         "xaxis": "x",
         "y": {
          "dtype": "i1",
          "bdata": "BQ=="
         },
         "yaxis": "y",
         "type": "histogram"
        },
        {
         "bingroup": "x",
         "histfunc": "sum",
         "hovertemplate": "color=Google tensor<br>x=%{x}<br>sum of y=%{y}<extra></extra>",
         "legendgroup": "Google tensor",
         "marker": {
          "color": "rgb(124, 124, 124)",
          "pattern": {
           "shape": ""
          }
         },
         "name": "Google tensor",
         "orientation": "v",
         "showlegend": true,
         "x": [
          "Google tensor"
         ],
         "xaxis": "x",
         "y": {
          "dtype": "i1",
          "bdata": "BA=="
         },
         "yaxis": "y",
         "type": "histogram"
        },
        {
         "bingroup": "x",
         "histfunc": "sum",
         "hovertemplate": "color=InnoPower<br>x=%{x}<br>sum of y=%{y}<extra></extra>",
         "legendgroup": "InnoPower",
         "marker": {
          "color": "rgb(133, 92, 117)",
          "pattern": {
           "shape": ""
          }
         },
         "name": "InnoPower",
         "orientation": "v",
         "showlegend": true,
         "x": [
          "InnoPower"
         ],
         "xaxis": "x",
         "y": {
          "dtype": "i1",
          "bdata": "BA=="
         },
         "yaxis": "y",
         "type": "histogram"
        },
        {
         "bingroup": "x",
         "histfunc": "sum",
         "hovertemplate": "color=WonderMedia PRIZM<br>x=%{x}<br>sum of y=%{y}<extra></extra>",
         "legendgroup": "WonderMedia PRIZM",
         "marker": {
          "color": "rgb(217, 175, 107)",
          "pattern": {
           "shape": ""
          }
         },
         "name": "WonderMedia PRIZM",
         "orientation": "v",
         "showlegend": true,
         "x": [
          "WonderMedia PRIZM"
         ],
         "xaxis": "x",
         "y": {
          "dtype": "i1",
          "bdata": "BA=="
         },
         "yaxis": "y",
         "type": "histogram"
        },
        {
         "bingroup": "x",
         "histfunc": "sum",
         "hovertemplate": "color=Rapido<br>x=%{x}<br>sum of y=%{y}<extra></extra>",
         "legendgroup": "Rapido",
         "marker": {
          "color": "rgb(175, 100, 88)",
          "pattern": {
           "shape": ""
          }
         },
         "name": "Rapido",
         "orientation": "v",
         "showlegend": true,
         "x": [
          "Rapido"
         ],
         "xaxis": "x",
         "y": {
          "dtype": "i1",
          "bdata": "BA=="
         },
         "yaxis": "y",
         "type": "histogram"
        },
        {
         "bingroup": "x",
         "histfunc": "sum",
         "hovertemplate": "color=DragonBall<br>x=%{x}<br>sum of y=%{y}<extra></extra>",
         "legendgroup": "DragonBall",
         "marker": {
          "color": "rgb(115, 111, 76)",
          "pattern": {
           "shape": ""
          }
         },
         "name": "DragonBall",
         "orientation": "v",
         "showlegend": true,
         "x": [
          "DragonBall"
         ],
         "xaxis": "x",
         "y": {
          "dtype": "i1",
          "bdata": "BA=="
         },
         "yaxis": "y",
         "type": "histogram"
        },
        {
         "bingroup": "x",
         "histfunc": "sum",
         "hovertemplate": "color=Kompanio<br>x=%{x}<br>sum of y=%{y}<extra></extra>",
         "legendgroup": "Kompanio",
         "marker": {
          "color": "rgb(82, 106, 131)",
          "pattern": {
           "shape": ""
          }
         },
         "name": "Kompanio",
         "orientation": "v",
         "showlegend": true,
         "x": [
          "Kompanio"
         ],
         "xaxis": "x",
         "y": {
          "dtype": "i1",
          "bdata": "Aw=="
         },
         "yaxis": "y",
         "type": "histogram"
        },
        {
         "bingroup": "x",
         "histfunc": "sum",
         "hovertemplate": "color=Nova<br>x=%{x}<br>sum of y=%{y}<extra></extra>",
         "legendgroup": "Nova",
         "marker": {
          "color": "rgb(98, 83, 119)",
          "pattern": {
           "shape": ""
          }
         },
         "name": "Nova",
         "orientation": "v",
         "showlegend": true,
         "x": [
          "Nova"
         ],
         "xaxis": "x",
         "y": {
          "dtype": "i1",
          "bdata": "Aw=="
         },
         "yaxis": "y",
         "type": "histogram"
        },
        {
         "bingroup": "x",
         "histfunc": "sum",
         "hovertemplate": "color=SuperH<br>x=%{x}<br>sum of y=%{y}<extra></extra>",
         "legendgroup": "SuperH",
         "marker": {
          "color": "rgb(104, 133, 92)",
          "pattern": {
           "shape": ""
          }
         },
         "name": "SuperH",
         "orientation": "v",
         "showlegend": true,
         "x": [
          "SuperH"
         ],
         "xaxis": "x",
         "y": {
          "dtype": "i1",
          "bdata": "Aw=="
         },
         "yaxis": "y",
         "type": "histogram"
        },
        {
         "bingroup": "x",
         "histfunc": "sum",
         "hovertemplate": "color=Elan<br>x=%{x}<br>sum of y=%{y}<extra></extra>",
         "legendgroup": "Elan",
         "marker": {
          "color": "rgb(156, 156, 94)",
          "pattern": {
           "shape": ""
          }
         },
         "name": "Elan",
         "orientation": "v",
         "showlegend": true,
         "x": [
          "Elan"
         ],
         "xaxis": "x",
         "y": {
          "dtype": "i1",
          "bdata": "Aw=="
         },
         "yaxis": "y",
         "type": "histogram"
        },
        {
         "bingroup": "x",
         "histfunc": "sum",
         "hovertemplate": "color=Nexperia<br>x=%{x}<br>sum of y=%{y}<extra></extra>",
         "legendgroup": "Nexperia",
         "marker": {
          "color": "rgb(160, 97, 119)",
          "pattern": {
           "shape": ""
          }
         },
         "name": "Nexperia",
         "orientation": "v",
         "showlegend": true,
         "x": [
          "Nexperia"
         ],
         "xaxis": "x",
         "y": {
          "dtype": "i1",
          "bdata": "Aw=="
         },
         "yaxis": "y",
         "type": "histogram"
        },
        {
         "bingroup": "x",
         "histfunc": "sum",
         "hovertemplate": "color=Pinecone<br>x=%{x}<br>sum of y=%{y}<extra></extra>",
         "legendgroup": "Pinecone",
         "marker": {
          "color": "rgb(140, 120, 93)",
          "pattern": {
           "shape": ""
          }
         },
         "name": "Pinecone",
         "orientation": "v",
         "showlegend": true,
         "x": [
          "Pinecone"
         ],
         "xaxis": "x",
         "y": {
          "dtype": "i1",
          "bdata": "Ag=="
         },
         "yaxis": "y",
         "type": "histogram"
        },
        {
         "bingroup": "x",
         "histfunc": "sum",
         "hovertemplate": "color=Am<br>x=%{x}<br>sum of y=%{y}<extra></extra>",
         "legendgroup": "Am",
         "marker": {
          "color": "rgb(124, 124, 124)",
          "pattern": {
           "shape": ""
          }
         },
         "name": "Am",
         "orientation": "v",
         "showlegend": true,
         "x": [
          "Am"
         ],
         "xaxis": "x",
         "y": {
          "dtype": "i1",
          "bdata": "Ag=="
         },
         "yaxis": "y",
         "type": "histogram"
        },
        {
         "bingroup": "x",
         "histfunc": "sum",
         "hovertemplate": "color=Sitara<br>x=%{x}<br>sum of y=%{y}<extra></extra>",
         "legendgroup": "Sitara",
         "marker": {
          "color": "rgb(133, 92, 117)",
          "pattern": {
           "shape": ""
          }
         },
         "name": "Sitara",
         "orientation": "v",
         "showlegend": true,
         "x": [
          "Sitara"
         ],
         "xaxis": "x",
         "y": {
          "dtype": "i1",
          "bdata": "Ag=="
         },
         "yaxis": "y",
         "type": "histogram"
        },
        {
         "bingroup": "x",
         "histfunc": "sum",
         "hovertemplate": "color=ESM<br>x=%{x}<br>sum of y=%{y}<extra></extra>",
         "legendgroup": "ESM",
         "marker": {
          "color": "rgb(217, 175, 107)",
          "pattern": {
           "shape": ""
          }
         },
         "name": "ESM",
         "orientation": "v",
         "showlegend": true,
         "x": [
          "ESM"
         ],
         "xaxis": "x",
         "y": {
          "dtype": "i1",
          "bdata": "Ag=="
         },
         "yaxis": "y",
         "type": "histogram"
        },
        {
         "bingroup": "x",
         "histfunc": "sum",
         "hovertemplate": "color=Alchemy<br>x=%{x}<br>sum of y=%{y}<extra></extra>",
         "legendgroup": "Alchemy",
         "marker": {
          "color": "rgb(175, 100, 88)",
          "pattern": {
           "shape": ""
          }
         },
         "name": "Alchemy",
         "orientation": "v",
         "showlegend": true,
         "x": [
          "Alchemy"
         ],
         "xaxis": "x",
         "y": {
          "dtype": "i1",
          "bdata": "Ag=="
         },
         "yaxis": "y",
         "type": "histogram"
        },
        {
         "bingroup": "x",
         "histfunc": "sum",
         "hovertemplate": "color=Titan<br>x=%{x}<br>sum of y=%{y}<extra></extra>",
         "legendgroup": "Titan",
         "marker": {
          "color": "rgb(115, 111, 76)",
          "pattern": {
           "shape": ""
          }
         },
         "name": "Titan",
         "orientation": "v",
         "showlegend": true,
         "x": [
          "Titan"
         ],
         "xaxis": "x",
         "y": {
          "dtype": "i1",
          "bdata": "Ag=="
         },
         "yaxis": "y",
         "type": "histogram"
        },
        {
         "bingroup": "x",
         "histfunc": "sum",
         "hovertemplate": "color=Pentium<br>x=%{x}<br>sum of y=%{y}<extra></extra>",
         "legendgroup": "Pentium",
         "marker": {
          "color": "rgb(82, 106, 131)",
          "pattern": {
           "shape": ""
          }
         },
         "name": "Pentium",
         "orientation": "v",
         "showlegend": true,
         "x": [
          "Pentium"
         ],
         "xaxis": "x",
         "y": {
          "dtype": "i1",
          "bdata": "AQ=="
         },
         "yaxis": "y",
         "type": "histogram"
        },
        {
         "bingroup": "x",
         "histfunc": "sum",
         "hovertemplate": "color=DaVinci<br>x=%{x}<br>sum of y=%{y}<extra></extra>",
         "legendgroup": "DaVinci",
         "marker": {
          "color": "rgb(98, 83, 119)",
          "pattern": {
           "shape": ""
          }
         },
         "name": "DaVinci",
         "orientation": "v",
         "showlegend": true,
         "x": [
          "DaVinci"
         ],
         "xaxis": "x",
         "y": {
          "dtype": "i1",
          "bdata": "AQ=="
         },
         "yaxis": "y",
         "type": "histogram"
        },
        {
         "bingroup": "x",
         "histfunc": "sum",
         "hovertemplate": "color=CXD<br>x=%{x}<br>sum of y=%{y}<extra></extra>",
         "legendgroup": "CXD",
         "marker": {
          "color": "rgb(104, 133, 92)",
          "pattern": {
           "shape": ""
          }
         },
         "name": "CXD",
         "orientation": "v",
         "showlegend": true,
         "x": [
          "CXD"
         ],
         "xaxis": "x",
         "y": {
          "dtype": "i1",
          "bdata": "AQ=="
         },
         "yaxis": "y",
         "type": "histogram"
        }
       ],
       "layout": {
        "template": {
         "data": {
          "histogram2dcontour": [
           {
            "type": "histogram2dcontour",
            "colorbar": {
             "outlinewidth": 0,
             "ticks": ""
            },
            "colorscale": [
             [
              0.0,
              "#0d0887"
             ],
             [
              0.1111111111111111,
              "#46039f"
             ],
             [
              0.2222222222222222,
              "#7201a8"
             ],
             [
              0.3333333333333333,
              "#9c179e"
             ],
             [
              0.4444444444444444,
              "#bd3786"
             ],
             [
              0.5555555555555556,
              "#d8576b"
             ],
             [
              0.6666666666666666,
              "#ed7953"
             ],
             [
              0.7777777777777778,
              "#fb9f3a"
             ],
             [
              0.8888888888888888,
              "#fdca26"
             ],
             [
              1.0,
              "#f0f921"
             ]
            ]
           }
          ],
          "choropleth": [
           {
            "type": "choropleth",
            "colorbar": {
             "outlinewidth": 0,
             "ticks": ""
            }
           }
          ],
          "histogram2d": [
           {
            "type": "histogram2d",
            "colorbar": {
             "outlinewidth": 0,
             "ticks": ""
            },
            "colorscale": [
             [
              0.0,
              "#0d0887"
             ],
             [
              0.1111111111111111,
              "#46039f"
             ],
             [
              0.2222222222222222,
              "#7201a8"
             ],
             [
              0.3333333333333333,
              "#9c179e"
             ],
             [
              0.4444444444444444,
              "#bd3786"
             ],
             [
              0.5555555555555556,
              "#d8576b"
             ],
             [
              0.6666666666666666,
              "#ed7953"
             ],
             [
              0.7777777777777778,
              "#fb9f3a"
             ],
             [
              0.8888888888888888,
              "#fdca26"
             ],
             [
              1.0,
              "#f0f921"
             ]
            ]
           }
          ],
          "heatmap": [
           {
            "type": "heatmap",
            "colorbar": {
             "outlinewidth": 0,
             "ticks": ""
            },
            "colorscale": [
             [
              0.0,
              "#0d0887"
             ],
             [
              0.1111111111111111,
              "#46039f"
             ],
             [
              0.2222222222222222,
              "#7201a8"
             ],
             [
              0.3333333333333333,
              "#9c179e"
             ],
             [
              0.4444444444444444,
              "#bd3786"
             ],
             [
              0.5555555555555556,
              "#d8576b"
             ],
             [
              0.6666666666666666,
              "#ed7953"
             ],
             [
              0.7777777777777778,
              "#fb9f3a"
             ],
             [
              0.8888888888888888,
              "#fdca26"
             ],
             [
              1.0,
              "#f0f921"
             ]
            ]
           }
          ],
          "contourcarpet": [
           {
            "type": "contourcarpet",
            "colorbar": {
             "outlinewidth": 0,
             "ticks": ""
            }
           }
          ],
          "contour": [
           {
            "type": "contour",
            "colorbar": {
             "outlinewidth": 0,
             "ticks": ""
            },
            "colorscale": [
             [
              0.0,
              "#0d0887"
             ],
             [
              0.1111111111111111,
              "#46039f"
             ],
             [
              0.2222222222222222,
              "#7201a8"
             ],
             [
              0.3333333333333333,
              "#9c179e"
             ],
             [
              0.4444444444444444,
              "#bd3786"
             ],
             [
              0.5555555555555556,
              "#d8576b"
             ],
             [
              0.6666666666666666,
              "#ed7953"
             ],
             [
              0.7777777777777778,
              "#fb9f3a"
             ],
             [
              0.8888888888888888,
              "#fdca26"
             ],
             [
              1.0,
              "#f0f921"
             ]
            ]
           }
          ],
          "surface": [
           {
            "type": "surface",
            "colorbar": {
             "outlinewidth": 0,
             "ticks": ""
            },
            "colorscale": [
             [
              0.0,
              "#0d0887"
             ],
             [
              0.1111111111111111,
              "#46039f"
             ],
             [
              0.2222222222222222,
              "#7201a8"
             ],
             [
              0.3333333333333333,
              "#9c179e"
             ],
             [
              0.4444444444444444,
              "#bd3786"
             ],
             [
              0.5555555555555556,
              "#d8576b"
             ],
             [
              0.6666666666666666,
              "#ed7953"
             ],
             [
              0.7777777777777778,
              "#fb9f3a"
             ],
             [
              0.8888888888888888,
              "#fdca26"
             ],
             [
              1.0,
              "#f0f921"
             ]
            ]
           }
          ],
          "mesh3d": [
           {
            "type": "mesh3d",
            "colorbar": {
             "outlinewidth": 0,
             "ticks": ""
            }
           }
          ],
          "scatter": [
           {
            "marker": {
             "line": {
              "color": "#283442"
             }
            },
            "type": "scatter"
           }
          ],
          "parcoords": [
           {
            "type": "parcoords",
            "line": {
             "colorbar": {
              "outlinewidth": 0,
              "ticks": ""
             }
            }
           }
          ],
          "scatterpolargl": [
           {
            "type": "scatterpolargl",
            "marker": {
             "colorbar": {
              "outlinewidth": 0,
              "ticks": ""
             }
            }
           }
          ],
          "bar": [
           {
            "error_x": {
             "color": "#f2f5fa"
            },
            "error_y": {
             "color": "#f2f5fa"
            },
            "marker": {
             "line": {
              "color": "rgb(17,17,17)",
              "width": 0.5
             },
             "pattern": {
              "fillmode": "overlay",
              "size": 10,
              "solidity": 0.2
             }
            },
            "type": "bar"
           }
          ],
          "scattergeo": [
           {
            "type": "scattergeo",
            "marker": {
             "colorbar": {
              "outlinewidth": 0,
              "ticks": ""
             }
            }
           }
          ],
          "scatterpolar": [
           {
            "type": "scatterpolar",
            "marker": {
             "colorbar": {
              "outlinewidth": 0,
              "ticks": ""
             }
            }
           }
          ],
          "histogram": [
           {
            "marker": {
             "pattern": {
              "fillmode": "overlay",
              "size": 10,
              "solidity": 0.2
             }
            },
            "type": "histogram"
           }
          ],
          "scattergl": [
           {
            "marker": {
             "line": {
              "color": "#283442"
             }
            },
            "type": "scattergl"
           }
          ],
          "scatter3d": [
           {
            "type": "scatter3d",
            "line": {
             "colorbar": {
              "outlinewidth": 0,
              "ticks": ""
             }
            },
            "marker": {
             "colorbar": {
              "outlinewidth": 0,
              "ticks": ""
             }
            }
           }
          ],
          "scattermap": [
           {
            "type": "scattermap",
            "marker": {
             "colorbar": {
              "outlinewidth": 0,
              "ticks": ""
             }
            }
           }
          ],
          "scattermapbox": [
           {
            "type": "scattermapbox",
            "marker": {
             "colorbar": {
              "outlinewidth": 0,
              "ticks": ""
             }
            }
           }
          ],
          "scatterternary": [
           {
            "type": "scatterternary",
            "marker": {
             "colorbar": {
              "outlinewidth": 0,
              "ticks": ""
             }
            }
           }
          ],
          "scattercarpet": [
           {
            "type": "scattercarpet",
            "marker": {
             "colorbar": {
              "outlinewidth": 0,
              "ticks": ""
             }
            }
           }
          ],
          "carpet": [
           {
            "aaxis": {
             "endlinecolor": "#A2B1C6",
             "gridcolor": "#506784",
             "linecolor": "#506784",
             "minorgridcolor": "#506784",
             "startlinecolor": "#A2B1C6"
            },
            "baxis": {
             "endlinecolor": "#A2B1C6",
             "gridcolor": "#506784",
             "linecolor": "#506784",
             "minorgridcolor": "#506784",
             "startlinecolor": "#A2B1C6"
            },
            "type": "carpet"
           }
          ],
          "table": [
           {
            "cells": {
             "fill": {
              "color": "#506784"
             },
             "line": {
              "color": "rgb(17,17,17)"
             }
            },
            "header": {
             "fill": {
              "color": "#2a3f5f"
             },
             "line": {
              "color": "rgb(17,17,17)"
             }
            },
            "type": "table"
           }
          ],
          "barpolar": [
           {
            "marker": {
             "line": {
              "color": "rgb(17,17,17)",
              "width": 0.5
             },
             "pattern": {
              "fillmode": "overlay",
              "size": 10,
              "solidity": 0.2
             }
            },
            "type": "barpolar"
           }
          ],
          "pie": [
           {
            "automargin": true,
            "type": "pie"
           }
          ]
         },
         "layout": {
          "autotypenumbers": "strict",
          "colorway": [
           "#636efa",
           "#EF553B",
           "#00cc96",
           "#ab63fa",
           "#FFA15A",
           "#19d3f3",
           "#FF6692",
           "#B6E880",
           "#FF97FF",
           "#FECB52"
          ],
          "font": {
           "color": "#f2f5fa"
          },
          "hovermode": "closest",
          "hoverlabel": {
           "align": "left"
          },
          "paper_bgcolor": "rgb(17,17,17)",
          "plot_bgcolor": "rgb(17,17,17)",
          "polar": {
           "bgcolor": "rgb(17,17,17)",
           "angularaxis": {
            "gridcolor": "#506784",
            "linecolor": "#506784",
            "ticks": ""
           },
           "radialaxis": {
            "gridcolor": "#506784",
            "linecolor": "#506784",
            "ticks": ""
           }
          },
          "ternary": {
           "bgcolor": "rgb(17,17,17)",
           "aaxis": {
            "gridcolor": "#506784",
            "linecolor": "#506784",
            "ticks": ""
           },
           "baxis": {
            "gridcolor": "#506784",
            "linecolor": "#506784",
            "ticks": ""
           },
           "caxis": {
            "gridcolor": "#506784",
            "linecolor": "#506784",
            "ticks": ""
           }
          },
          "coloraxis": {
           "colorbar": {
            "outlinewidth": 0,
            "ticks": ""
           }
          },
          "colorscale": {
           "sequential": [
            [
             0.0,
             "#0d0887"
            ],
            [
             0.1111111111111111,
             "#46039f"
            ],
            [
             0.2222222222222222,
             "#7201a8"
            ],
            [
             0.3333333333333333,
             "#9c179e"
            ],
            [
             0.4444444444444444,
             "#bd3786"
            ],
            [
             0.5555555555555556,
             "#d8576b"
            ],
            [
             0.6666666666666666,
             "#ed7953"
            ],
            [
             0.7777777777777778,
             "#fb9f3a"
            ],
            [
             0.8888888888888888,
             "#fdca26"
            ],
            [
             1.0,
             "#f0f921"
            ]
           ],
           "sequentialminus": [
            [
             0.0,
             "#0d0887"
            ],
            [
             0.1111111111111111,
             "#46039f"
            ],
            [
             0.2222222222222222,
             "#7201a8"
            ],
            [
             0.3333333333333333,
             "#9c179e"
            ],
            [
             0.4444444444444444,
             "#bd3786"
            ],
            [
             0.5555555555555556,
             "#d8576b"
            ],
            [
             0.6666666666666666,
             "#ed7953"
            ],
            [
             0.7777777777777778,
             "#fb9f3a"
            ],
            [
             0.8888888888888888,
             "#fdca26"
            ],
            [
             1.0,
             "#f0f921"
            ]
           ],
           "diverging": [
            [
             0,
             "#8e0152"
            ],
            [
             0.1,
             "#c51b7d"
            ],
            [
             0.2,
             "#de77ae"
            ],
            [
             0.3,
             "#f1b6da"
            ],
            [
             0.4,
             "#fde0ef"
            ],
            [
             0.5,
             "#f7f7f7"
            ],
            [
             0.6,
             "#e6f5d0"
            ],
            [
             0.7,
             "#b8e186"
            ],
            [
             0.8,
             "#7fbc41"
            ],
            [
             0.9,
             "#4d9221"
            ],
            [
             1,
             "#276419"
            ]
           ]
          },
          "xaxis": {
           "gridcolor": "#283442",
           "linecolor": "#506784",
           "ticks": "",
           "title": {
            "standoff": 15
           },
           "zerolinecolor": "#283442",
           "automargin": true,
           "zerolinewidth": 2
          },
          "yaxis": {
           "gridcolor": "#283442",
           "linecolor": "#506784",
           "ticks": "",
           "title": {
            "standoff": 15
           },
           "zerolinecolor": "#283442",
           "automargin": true,
           "zerolinewidth": 2
          },
          "scene": {
           "xaxis": {
            "backgroundcolor": "rgb(17,17,17)",
            "gridcolor": "#506784",
            "linecolor": "#506784",
            "showbackground": true,
            "ticks": "",
            "zerolinecolor": "#C8D4E3",
            "gridwidth": 2
           },
           "yaxis": {
            "backgroundcolor": "rgb(17,17,17)",
            "gridcolor": "#506784",
            "linecolor": "#506784",
            "showbackground": true,
            "ticks": "",
            "zerolinecolor": "#C8D4E3",
            "gridwidth": 2
           },
           "zaxis": {
            "backgroundcolor": "rgb(17,17,17)",
            "gridcolor": "#506784",
            "linecolor": "#506784",
            "showbackground": true,
            "ticks": "",
            "zerolinecolor": "#C8D4E3",
            "gridwidth": 2
           }
          },
          "shapedefaults": {
           "line": {
            "color": "#f2f5fa"
           }
          },
          "annotationdefaults": {
           "arrowcolor": "#f2f5fa",
           "arrowhead": 0,
           "arrowwidth": 1
          },
          "geo": {
           "bgcolor": "rgb(17,17,17)",
           "landcolor": "rgb(17,17,17)",
           "subunitcolor": "#506784",
           "showland": true,
           "showlakes": true,
           "lakecolor": "rgb(17,17,17)"
          },
          "title": {
           "x": 0.05
          },
          "updatemenudefaults": {
           "bgcolor": "#506784",
           "borderwidth": 0
          },
          "sliderdefaults": {
           "bgcolor": "#C8D4E3",
           "borderwidth": 1,
           "bordercolor": "rgb(17,17,17)",
           "tickwidth": 0
          },
          "mapbox": {
           "style": "dark"
          }
         }
        },
        "xaxis": {
         "anchor": "y",
         "domain": [
          0.0,
          1.0
         ],
         "title": {
          "text": "x"
         }
        },
        "yaxis": {
         "anchor": "x",
         "domain": [
          0.0,
          1.0
         ],
         "title": {
          "text": "sum of y"
         }
        },
        "legend": {
         "title": {
          "text": "color"
         },
         "tracegroupgap": 0
        },
        "margin": {
         "t": 60
        },
        "barmode": "relative"
       },
       "config": {
        "plotlyServerURL": "https://plot.ly"
       }
      }
     },
     "metadata": {},
     "output_type": "display_data"
    }
   ],
   "execution_count": 40
  },
  {
   "metadata": {
    "ExecuteTime": {
     "end_time": "2025-06-09T11:04:07.307284Z",
     "start_time": "2025-06-09T11:04:06.985306Z"
    }
   },
   "cell_type": "code",
   "source": [
    "dfTemp = dfN.dropna(subset='Serie').copy()\n",
    "HProComp=dfTemp[f'{col[0]}'].value_counts().to_dict()\n",
    "HProSerie=dfTemp[f'{col[1]}'].value_counts().to_dict()\n",
    "\n",
    "figHist = px.histogram(x=HProComp.keys(), y=HProComp.values(), color=HProComp.keys(), color_discrete_sequence=px.colors.qualitative.Antique,)\n",
    "figHist.show()\n",
    "\n",
    "figHist2 = px.histogram(x=HProSerie.keys(), y=HProSerie.values(), color=HProSerie.keys(), color_discrete_sequence=px.colors.qualitative.Antique)\n",
    "figHist2.show()\n"
   ],
   "id": "f23fb25395f25886",
   "outputs": [
    {
     "data": {
      "application/vnd.plotly.v1+json": {
       "data": [
        {
         "bingroup": "x",
         "histfunc": "sum",
         "hovertemplate": "color=Qualcomm<br>x=%{x}<br>sum of y=%{y}<extra></extra>",
         "legendgroup": "Qualcomm",
         "marker": {
          "color": "rgb(133, 92, 117)",
          "pattern": {
           "shape": ""
          }
         },
         "name": "Qualcomm",
         "orientation": "v",
         "showlegend": true,
         "x": [
          "Qualcomm"
         ],
         "xaxis": "x",
         "y": {
          "dtype": "i2",
          "bdata": "2AA="
         },
         "yaxis": "y",
         "type": "histogram"
        },
        {
         "bingroup": "x",
         "histfunc": "sum",
         "hovertemplate": "color=MediaTek<br>x=%{x}<br>sum of y=%{y}<extra></extra>",
         "legendgroup": "MediaTek",
         "marker": {
          "color": "rgb(217, 175, 107)",
          "pattern": {
           "shape": ""
          }
         },
         "name": "MediaTek",
         "orientation": "v",
         "showlegend": true,
         "x": [
          "MediaTek"
         ],
         "xaxis": "x",
         "y": {
          "dtype": "i1",
          "bdata": "Yg=="
         },
         "yaxis": "y",
         "type": "histogram"
        },
        {
         "bingroup": "x",
         "histfunc": "sum",
         "hovertemplate": "color=Intel<br>x=%{x}<br>sum of y=%{y}<extra></extra>",
         "legendgroup": "Intel",
         "marker": {
          "color": "rgb(175, 100, 88)",
          "pattern": {
           "shape": ""
          }
         },
         "name": "Intel",
         "orientation": "v",
         "showlegend": true,
         "x": [
          "Intel"
         ],
         "xaxis": "x",
         "y": {
          "dtype": "i1",
          "bdata": "VQ=="
         },
         "yaxis": "y",
         "type": "histogram"
        },
        {
         "bingroup": "x",
         "histfunc": "sum",
         "hovertemplate": "color=Samsung<br>x=%{x}<br>sum of y=%{y}<extra></extra>",
         "legendgroup": "Samsung",
         "marker": {
          "color": "rgb(115, 111, 76)",
          "pattern": {
           "shape": ""
          }
         },
         "name": "Samsung",
         "orientation": "v",
         "showlegend": true,
         "x": [
          "Samsung"
         ],
         "xaxis": "x",
         "y": {
          "dtype": "i1",
          "bdata": "Pg=="
         },
         "yaxis": "y",
         "type": "histogram"
        },
        {
         "bingroup": "x",
         "histfunc": "sum",
         "hovertemplate": "color=HiSilicon<br>x=%{x}<br>sum of y=%{y}<extra></extra>",
         "legendgroup": "HiSilicon",
         "marker": {
          "color": "rgb(82, 106, 131)",
          "pattern": {
           "shape": ""
          }
         },
         "name": "HiSilicon",
         "orientation": "v",
         "showlegend": true,
         "x": [
          "HiSilicon"
         ],
         "xaxis": "x",
         "y": {
          "dtype": "i1",
          "bdata": "LA=="
         },
         "yaxis": "y",
         "type": "histogram"
        },
        {
         "bingroup": "x",
         "histfunc": "sum",
         "hovertemplate": "color=Texas Instruments<br>x=%{x}<br>sum of y=%{y}<extra></extra>",
         "legendgroup": "Texas Instruments",
         "marker": {
          "color": "rgb(98, 83, 119)",
          "pattern": {
           "shape": ""
          }
         },
         "name": "Texas Instruments",
         "orientation": "v",
         "showlegend": true,
         "x": [
          "Texas Instruments"
         ],
         "xaxis": "x",
         "y": {
          "dtype": "i1",
          "bdata": "Kw=="
         },
         "yaxis": "y",
         "type": "histogram"
        },
        {
         "bingroup": "x",
         "histfunc": "sum",
         "hovertemplate": "color=NVIDIA<br>x=%{x}<br>sum of y=%{y}<extra></extra>",
         "legendgroup": "NVIDIA",
         "marker": {
          "color": "rgb(104, 133, 92)",
          "pattern": {
           "shape": ""
          }
         },
         "name": "NVIDIA",
         "orientation": "v",
         "showlegend": true,
         "x": [
          "NVIDIA"
         ],
         "xaxis": "x",
         "y": {
          "dtype": "i1",
          "bdata": "Fg=="
         },
         "yaxis": "y",
         "type": "histogram"
        },
        {
         "bingroup": "x",
         "histfunc": "sum",
         "hovertemplate": "color=UNISOC<br>x=%{x}<br>sum of y=%{y}<extra></extra>",
         "legendgroup": "UNISOC",
         "marker": {
          "color": "rgb(156, 156, 94)",
          "pattern": {
           "shape": ""
          }
         },
         "name": "UNISOC",
         "orientation": "v",
         "showlegend": true,
         "x": [
          "UNISOC"
         ],
         "xaxis": "x",
         "y": {
          "dtype": "i1",
          "bdata": "DA=="
         },
         "yaxis": "y",
         "type": "histogram"
        },
        {
         "bingroup": "x",
         "histfunc": "sum",
         "hovertemplate": "color=Apple<br>x=%{x}<br>sum of y=%{y}<extra></extra>",
         "legendgroup": "Apple",
         "marker": {
          "color": "rgb(160, 97, 119)",
          "pattern": {
           "shape": ""
          }
         },
         "name": "Apple",
         "orientation": "v",
         "showlegend": true,
         "x": [
          "Apple"
         ],
         "xaxis": "x",
         "y": {
          "dtype": "i1",
          "bdata": "Cw=="
         },
         "yaxis": "y",
         "type": "histogram"
        },
        {
         "bingroup": "x",
         "histfunc": "sum",
         "hovertemplate": "color=Rockchip<br>x=%{x}<br>sum of y=%{y}<extra></extra>",
         "legendgroup": "Rockchip",
         "marker": {
          "color": "rgb(140, 120, 93)",
          "pattern": {
           "shape": ""
          }
         },
         "name": "Rockchip",
         "orientation": "v",
         "showlegend": true,
         "x": [
          "Rockchip"
         ],
         "xaxis": "x",
         "y": {
          "dtype": "i1",
          "bdata": "Cw=="
         },
         "yaxis": "y",
         "type": "histogram"
        },
        {
         "bingroup": "x",
         "histfunc": "sum",
         "hovertemplate": "color=Marvell<br>x=%{x}<br>sum of y=%{y}<extra></extra>",
         "legendgroup": "Marvell",
         "marker": {
          "color": "rgb(124, 124, 124)",
          "pattern": {
           "shape": ""
          }
         },
         "name": "Marvell",
         "orientation": "v",
         "showlegend": true,
         "x": [
          "Marvell"
         ],
         "xaxis": "x",
         "y": {
          "dtype": "i1",
          "bdata": "CQ=="
         },
         "yaxis": "y",
         "type": "histogram"
        },
        {
         "bingroup": "x",
         "histfunc": "sum",
         "hovertemplate": "color=ST-Ericsson<br>x=%{x}<br>sum of y=%{y}<extra></extra>",
         "legendgroup": "ST-Ericsson",
         "marker": {
          "color": "rgb(133, 92, 117)",
          "pattern": {
           "shape": ""
          }
         },
         "name": "ST-Ericsson",
         "orientation": "v",
         "showlegend": true,
         "x": [
          "ST-Ericsson"
         ],
         "xaxis": "x",
         "y": {
          "dtype": "i1",
          "bdata": "CQ=="
         },
         "yaxis": "y",
         "type": "histogram"
        },
        {
         "bingroup": "x",
         "histfunc": "sum",
         "hovertemplate": "color=STMicroelectronics<br>x=%{x}<br>sum of y=%{y}<extra></extra>",
         "legendgroup": "STMicroelectronics",
         "marker": {
          "color": "rgb(217, 175, 107)",
          "pattern": {
           "shape": ""
          }
         },
         "name": "STMicroelectronics",
         "orientation": "v",
         "showlegend": true,
         "x": [
          "STMicroelectronics"
         ],
         "xaxis": "x",
         "y": {
          "dtype": "i1",
          "bdata": "Bw=="
         },
         "yaxis": "y",
         "type": "histogram"
        },
        {
         "bingroup": "x",
         "histfunc": "sum",
         "hovertemplate": "color=Toshiba<br>x=%{x}<br>sum of y=%{y}<extra></extra>",
         "legendgroup": "Toshiba",
         "marker": {
          "color": "rgb(175, 100, 88)",
          "pattern": {
           "shape": ""
          }
         },
         "name": "Toshiba",
         "orientation": "v",
         "showlegend": true,
         "x": [
          "Toshiba"
         ],
         "xaxis": "x",
         "y": {
          "dtype": "i1",
          "bdata": "Bg=="
         },
         "yaxis": "y",
         "type": "histogram"
        },
        {
         "bingroup": "x",
         "histfunc": "sum",
         "hovertemplate": "color=AMD<br>x=%{x}<br>sum of y=%{y}<extra></extra>",
         "legendgroup": "AMD",
         "marker": {
          "color": "rgb(115, 111, 76)",
          "pattern": {
           "shape": ""
          }
         },
         "name": "AMD",
         "orientation": "v",
         "showlegend": true,
         "x": [
          "AMD"
         ],
         "xaxis": "x",
         "y": {
          "dtype": "i1",
          "bdata": "BQ=="
         },
         "yaxis": "y",
         "type": "histogram"
        },
        {
         "bingroup": "x",
         "histfunc": "sum",
         "hovertemplate": "color=Centrality<br>x=%{x}<br>sum of y=%{y}<extra></extra>",
         "legendgroup": "Centrality",
         "marker": {
          "color": "rgb(82, 106, 131)",
          "pattern": {
           "shape": ""
          }
         },
         "name": "Centrality",
         "orientation": "v",
         "showlegend": true,
         "x": [
          "Centrality"
         ],
         "xaxis": "x",
         "y": {
          "dtype": "i1",
          "bdata": "BQ=="
         },
         "yaxis": "y",
         "type": "histogram"
        },
        {
         "bingroup": "x",
         "histfunc": "sum",
         "hovertemplate": "color=Nokia<br>x=%{x}<br>sum of y=%{y}<extra></extra>",
         "legendgroup": "Nokia",
         "marker": {
          "color": "rgb(98, 83, 119)",
          "pattern": {
           "shape": ""
          }
         },
         "name": "Nokia",
         "orientation": "v",
         "showlegend": true,
         "x": [
          "Nokia"
         ],
         "xaxis": "x",
         "y": {
          "dtype": "i1",
          "bdata": "BA=="
         },
         "yaxis": "y",
         "type": "histogram"
        },
        {
         "bingroup": "x",
         "histfunc": "sum",
         "hovertemplate": "color=Leadcore<br>x=%{x}<br>sum of y=%{y}<extra></extra>",
         "legendgroup": "Leadcore",
         "marker": {
          "color": "rgb(104, 133, 92)",
          "pattern": {
           "shape": ""
          }
         },
         "name": "Leadcore",
         "orientation": "v",
         "showlegend": true,
         "x": [
          "Leadcore"
         ],
         "xaxis": "x",
         "y": {
          "dtype": "i1",
          "bdata": "BA=="
         },
         "yaxis": "y",
         "type": "histogram"
        },
        {
         "bingroup": "x",
         "histfunc": "sum",
         "hovertemplate": "color=VIA<br>x=%{x}<br>sum of y=%{y}<extra></extra>",
         "legendgroup": "VIA",
         "marker": {
          "color": "rgb(156, 156, 94)",
          "pattern": {
           "shape": ""
          }
         },
         "name": "VIA",
         "orientation": "v",
         "showlegend": true,
         "x": [
          "VIA"
         ],
         "xaxis": "x",
         "y": {
          "dtype": "i1",
          "bdata": "BA=="
         },
         "yaxis": "y",
         "type": "histogram"
        },
        {
         "bingroup": "x",
         "histfunc": "sum",
         "hovertemplate": "color=Motorola<br>x=%{x}<br>sum of y=%{y}<extra></extra>",
         "legendgroup": "Motorola",
         "marker": {
          "color": "rgb(160, 97, 119)",
          "pattern": {
           "shape": ""
          }
         },
         "name": "Motorola",
         "orientation": "v",
         "showlegend": true,
         "x": [
          "Motorola"
         ],
         "xaxis": "x",
         "y": {
          "dtype": "i1",
          "bdata": "BA=="
         },
         "yaxis": "y",
         "type": "histogram"
        },
        {
         "bingroup": "x",
         "histfunc": "sum",
         "hovertemplate": "color=SiRF<br>x=%{x}<br>sum of y=%{y}<extra></extra>",
         "legendgroup": "SiRF",
         "marker": {
          "color": "rgb(140, 120, 93)",
          "pattern": {
           "shape": ""
          }
         },
         "name": "SiRF",
         "orientation": "v",
         "showlegend": true,
         "x": [
          "SiRF"
         ],
         "xaxis": "x",
         "y": {
          "dtype": "i1",
          "bdata": "BA=="
         },
         "yaxis": "y",
         "type": "histogram"
        },
        {
         "bingroup": "x",
         "histfunc": "sum",
         "hovertemplate": "color=Philips<br>x=%{x}<br>sum of y=%{y}<extra></extra>",
         "legendgroup": "Philips",
         "marker": {
          "color": "rgb(124, 124, 124)",
          "pattern": {
           "shape": ""
          }
         },
         "name": "Philips",
         "orientation": "v",
         "showlegend": true,
         "x": [
          "Philips"
         ],
         "xaxis": "x",
         "y": {
          "dtype": "i1",
          "bdata": "Aw=="
         },
         "yaxis": "y",
         "type": "histogram"
        },
        {
         "bingroup": "x",
         "histfunc": "sum",
         "hovertemplate": "color=Xiaomi<br>x=%{x}<br>sum of y=%{y}<extra></extra>",
         "legendgroup": "Xiaomi",
         "marker": {
          "color": "rgb(133, 92, 117)",
          "pattern": {
           "shape": ""
          }
         },
         "name": "Xiaomi",
         "orientation": "v",
         "showlegend": true,
         "x": [
          "Xiaomi"
         ],
         "xaxis": "x",
         "y": {
          "dtype": "i1",
          "bdata": "Ag=="
         },
         "yaxis": "y",
         "type": "histogram"
        },
        {
         "bingroup": "x",
         "histfunc": "sum",
         "hovertemplate": "color=RMI<br>x=%{x}<br>sum of y=%{y}<extra></extra>",
         "legendgroup": "RMI",
         "marker": {
          "color": "rgb(217, 175, 107)",
          "pattern": {
           "shape": ""
          }
         },
         "name": "RMI",
         "orientation": "v",
         "showlegend": true,
         "x": [
          "RMI"
         ],
         "xaxis": "x",
         "y": {
          "dtype": "i1",
          "bdata": "Ag=="
         },
         "yaxis": "y",
         "type": "histogram"
        },
        {
         "bingroup": "x",
         "histfunc": "sum",
         "hovertemplate": "color=Hitachi<br>x=%{x}<br>sum of y=%{y}<extra></extra>",
         "legendgroup": "Hitachi",
         "marker": {
          "color": "rgb(175, 100, 88)",
          "pattern": {
           "shape": ""
          }
         },
         "name": "Hitachi",
         "orientation": "v",
         "showlegend": true,
         "x": [
          "Hitachi"
         ],
         "xaxis": "x",
         "y": {
          "dtype": "i1",
          "bdata": "Ag=="
         },
         "yaxis": "y",
         "type": "histogram"
        },
        {
         "bingroup": "x",
         "histfunc": "sum",
         "hovertemplate": "color=Sony<br>x=%{x}<br>sum of y=%{y}<extra></extra>",
         "legendgroup": "Sony",
         "marker": {
          "color": "rgb(115, 111, 76)",
          "pattern": {
           "shape": ""
          }
         },
         "name": "Sony",
         "orientation": "v",
         "showlegend": true,
         "x": [
          "Sony"
         ],
         "xaxis": "x",
         "y": {
          "dtype": "i1",
          "bdata": "AQ=="
         },
         "yaxis": "y",
         "type": "histogram"
        },
        {
         "bingroup": "x",
         "histfunc": "sum",
         "hovertemplate": "color=Renesas<br>x=%{x}<br>sum of y=%{y}<extra></extra>",
         "legendgroup": "Renesas",
         "marker": {
          "color": "rgb(82, 106, 131)",
          "pattern": {
           "shape": ""
          }
         },
         "name": "Renesas",
         "orientation": "v",
         "showlegend": true,
         "x": [
          "Renesas"
         ],
         "xaxis": "x",
         "y": {
          "dtype": "i1",
          "bdata": "AQ=="
         },
         "yaxis": "y",
         "type": "histogram"
        }
       ],
       "layout": {
        "template": {
         "data": {
          "histogram2dcontour": [
           {
            "type": "histogram2dcontour",
            "colorbar": {
             "outlinewidth": 0,
             "ticks": ""
            },
            "colorscale": [
             [
              0.0,
              "#0d0887"
             ],
             [
              0.1111111111111111,
              "#46039f"
             ],
             [
              0.2222222222222222,
              "#7201a8"
             ],
             [
              0.3333333333333333,
              "#9c179e"
             ],
             [
              0.4444444444444444,
              "#bd3786"
             ],
             [
              0.5555555555555556,
              "#d8576b"
             ],
             [
              0.6666666666666666,
              "#ed7953"
             ],
             [
              0.7777777777777778,
              "#fb9f3a"
             ],
             [
              0.8888888888888888,
              "#fdca26"
             ],
             [
              1.0,
              "#f0f921"
             ]
            ]
           }
          ],
          "choropleth": [
           {
            "type": "choropleth",
            "colorbar": {
             "outlinewidth": 0,
             "ticks": ""
            }
           }
          ],
          "histogram2d": [
           {
            "type": "histogram2d",
            "colorbar": {
             "outlinewidth": 0,
             "ticks": ""
            },
            "colorscale": [
             [
              0.0,
              "#0d0887"
             ],
             [
              0.1111111111111111,
              "#46039f"
             ],
             [
              0.2222222222222222,
              "#7201a8"
             ],
             [
              0.3333333333333333,
              "#9c179e"
             ],
             [
              0.4444444444444444,
              "#bd3786"
             ],
             [
              0.5555555555555556,
              "#d8576b"
             ],
             [
              0.6666666666666666,
              "#ed7953"
             ],
             [
              0.7777777777777778,
              "#fb9f3a"
             ],
             [
              0.8888888888888888,
              "#fdca26"
             ],
             [
              1.0,
              "#f0f921"
             ]
            ]
           }
          ],
          "heatmap": [
           {
            "type": "heatmap",
            "colorbar": {
             "outlinewidth": 0,
             "ticks": ""
            },
            "colorscale": [
             [
              0.0,
              "#0d0887"
             ],
             [
              0.1111111111111111,
              "#46039f"
             ],
             [
              0.2222222222222222,
              "#7201a8"
             ],
             [
              0.3333333333333333,
              "#9c179e"
             ],
             [
              0.4444444444444444,
              "#bd3786"
             ],
             [
              0.5555555555555556,
              "#d8576b"
             ],
             [
              0.6666666666666666,
              "#ed7953"
             ],
             [
              0.7777777777777778,
              "#fb9f3a"
             ],
             [
              0.8888888888888888,
              "#fdca26"
             ],
             [
              1.0,
              "#f0f921"
             ]
            ]
           }
          ],
          "contourcarpet": [
           {
            "type": "contourcarpet",
            "colorbar": {
             "outlinewidth": 0,
             "ticks": ""
            }
           }
          ],
          "contour": [
           {
            "type": "contour",
            "colorbar": {
             "outlinewidth": 0,
             "ticks": ""
            },
            "colorscale": [
             [
              0.0,
              "#0d0887"
             ],
             [
              0.1111111111111111,
              "#46039f"
             ],
             [
              0.2222222222222222,
              "#7201a8"
             ],
             [
              0.3333333333333333,
              "#9c179e"
             ],
             [
              0.4444444444444444,
              "#bd3786"
             ],
             [
              0.5555555555555556,
              "#d8576b"
             ],
             [
              0.6666666666666666,
              "#ed7953"
             ],
             [
              0.7777777777777778,
              "#fb9f3a"
             ],
             [
              0.8888888888888888,
              "#fdca26"
             ],
             [
              1.0,
              "#f0f921"
             ]
            ]
           }
          ],
          "surface": [
           {
            "type": "surface",
            "colorbar": {
             "outlinewidth": 0,
             "ticks": ""
            },
            "colorscale": [
             [
              0.0,
              "#0d0887"
             ],
             [
              0.1111111111111111,
              "#46039f"
             ],
             [
              0.2222222222222222,
              "#7201a8"
             ],
             [
              0.3333333333333333,
              "#9c179e"
             ],
             [
              0.4444444444444444,
              "#bd3786"
             ],
             [
              0.5555555555555556,
              "#d8576b"
             ],
             [
              0.6666666666666666,
              "#ed7953"
             ],
             [
              0.7777777777777778,
              "#fb9f3a"
             ],
             [
              0.8888888888888888,
              "#fdca26"
             ],
             [
              1.0,
              "#f0f921"
             ]
            ]
           }
          ],
          "mesh3d": [
           {
            "type": "mesh3d",
            "colorbar": {
             "outlinewidth": 0,
             "ticks": ""
            }
           }
          ],
          "scatter": [
           {
            "marker": {
             "line": {
              "color": "#283442"
             }
            },
            "type": "scatter"
           }
          ],
          "parcoords": [
           {
            "type": "parcoords",
            "line": {
             "colorbar": {
              "outlinewidth": 0,
              "ticks": ""
             }
            }
           }
          ],
          "scatterpolargl": [
           {
            "type": "scatterpolargl",
            "marker": {
             "colorbar": {
              "outlinewidth": 0,
              "ticks": ""
             }
            }
           }
          ],
          "bar": [
           {
            "error_x": {
             "color": "#f2f5fa"
            },
            "error_y": {
             "color": "#f2f5fa"
            },
            "marker": {
             "line": {
              "color": "rgb(17,17,17)",
              "width": 0.5
             },
             "pattern": {
              "fillmode": "overlay",
              "size": 10,
              "solidity": 0.2
             }
            },
            "type": "bar"
           }
          ],
          "scattergeo": [
           {
            "type": "scattergeo",
            "marker": {
             "colorbar": {
              "outlinewidth": 0,
              "ticks": ""
             }
            }
           }
          ],
          "scatterpolar": [
           {
            "type": "scatterpolar",
            "marker": {
             "colorbar": {
              "outlinewidth": 0,
              "ticks": ""
             }
            }
           }
          ],
          "histogram": [
           {
            "marker": {
             "pattern": {
              "fillmode": "overlay",
              "size": 10,
              "solidity": 0.2
             }
            },
            "type": "histogram"
           }
          ],
          "scattergl": [
           {
            "marker": {
             "line": {
              "color": "#283442"
             }
            },
            "type": "scattergl"
           }
          ],
          "scatter3d": [
           {
            "type": "scatter3d",
            "line": {
             "colorbar": {
              "outlinewidth": 0,
              "ticks": ""
             }
            },
            "marker": {
             "colorbar": {
              "outlinewidth": 0,
              "ticks": ""
             }
            }
           }
          ],
          "scattermap": [
           {
            "type": "scattermap",
            "marker": {
             "colorbar": {
              "outlinewidth": 0,
              "ticks": ""
             }
            }
           }
          ],
          "scattermapbox": [
           {
            "type": "scattermapbox",
            "marker": {
             "colorbar": {
              "outlinewidth": 0,
              "ticks": ""
             }
            }
           }
          ],
          "scatterternary": [
           {
            "type": "scatterternary",
            "marker": {
             "colorbar": {
              "outlinewidth": 0,
              "ticks": ""
             }
            }
           }
          ],
          "scattercarpet": [
           {
            "type": "scattercarpet",
            "marker": {
             "colorbar": {
              "outlinewidth": 0,
              "ticks": ""
             }
            }
           }
          ],
          "carpet": [
           {
            "aaxis": {
             "endlinecolor": "#A2B1C6",
             "gridcolor": "#506784",
             "linecolor": "#506784",
             "minorgridcolor": "#506784",
             "startlinecolor": "#A2B1C6"
            },
            "baxis": {
             "endlinecolor": "#A2B1C6",
             "gridcolor": "#506784",
             "linecolor": "#506784",
             "minorgridcolor": "#506784",
             "startlinecolor": "#A2B1C6"
            },
            "type": "carpet"
           }
          ],
          "table": [
           {
            "cells": {
             "fill": {
              "color": "#506784"
             },
             "line": {
              "color": "rgb(17,17,17)"
             }
            },
            "header": {
             "fill": {
              "color": "#2a3f5f"
             },
             "line": {
              "color": "rgb(17,17,17)"
             }
            },
            "type": "table"
           }
          ],
          "barpolar": [
           {
            "marker": {
             "line": {
              "color": "rgb(17,17,17)",
              "width": 0.5
             },
             "pattern": {
              "fillmode": "overlay",
              "size": 10,
              "solidity": 0.2
             }
            },
            "type": "barpolar"
           }
          ],
          "pie": [
           {
            "automargin": true,
            "type": "pie"
           }
          ]
         },
         "layout": {
          "autotypenumbers": "strict",
          "colorway": [
           "#636efa",
           "#EF553B",
           "#00cc96",
           "#ab63fa",
           "#FFA15A",
           "#19d3f3",
           "#FF6692",
           "#B6E880",
           "#FF97FF",
           "#FECB52"
          ],
          "font": {
           "color": "#f2f5fa"
          },
          "hovermode": "closest",
          "hoverlabel": {
           "align": "left"
          },
          "paper_bgcolor": "rgb(17,17,17)",
          "plot_bgcolor": "rgb(17,17,17)",
          "polar": {
           "bgcolor": "rgb(17,17,17)",
           "angularaxis": {
            "gridcolor": "#506784",
            "linecolor": "#506784",
            "ticks": ""
           },
           "radialaxis": {
            "gridcolor": "#506784",
            "linecolor": "#506784",
            "ticks": ""
           }
          },
          "ternary": {
           "bgcolor": "rgb(17,17,17)",
           "aaxis": {
            "gridcolor": "#506784",
            "linecolor": "#506784",
            "ticks": ""
           },
           "baxis": {
            "gridcolor": "#506784",
            "linecolor": "#506784",
            "ticks": ""
           },
           "caxis": {
            "gridcolor": "#506784",
            "linecolor": "#506784",
            "ticks": ""
           }
          },
          "coloraxis": {
           "colorbar": {
            "outlinewidth": 0,
            "ticks": ""
           }
          },
          "colorscale": {
           "sequential": [
            [
             0.0,
             "#0d0887"
            ],
            [
             0.1111111111111111,
             "#46039f"
            ],
            [
             0.2222222222222222,
             "#7201a8"
            ],
            [
             0.3333333333333333,
             "#9c179e"
            ],
            [
             0.4444444444444444,
             "#bd3786"
            ],
            [
             0.5555555555555556,
             "#d8576b"
            ],
            [
             0.6666666666666666,
             "#ed7953"
            ],
            [
             0.7777777777777778,
             "#fb9f3a"
            ],
            [
             0.8888888888888888,
             "#fdca26"
            ],
            [
             1.0,
             "#f0f921"
            ]
           ],
           "sequentialminus": [
            [
             0.0,
             "#0d0887"
            ],
            [
             0.1111111111111111,
             "#46039f"
            ],
            [
             0.2222222222222222,
             "#7201a8"
            ],
            [
             0.3333333333333333,
             "#9c179e"
            ],
            [
             0.4444444444444444,
             "#bd3786"
            ],
            [
             0.5555555555555556,
             "#d8576b"
            ],
            [
             0.6666666666666666,
             "#ed7953"
            ],
            [
             0.7777777777777778,
             "#fb9f3a"
            ],
            [
             0.8888888888888888,
             "#fdca26"
            ],
            [
             1.0,
             "#f0f921"
            ]
           ],
           "diverging": [
            [
             0,
             "#8e0152"
            ],
            [
             0.1,
             "#c51b7d"
            ],
            [
             0.2,
             "#de77ae"
            ],
            [
             0.3,
             "#f1b6da"
            ],
            [
             0.4,
             "#fde0ef"
            ],
            [
             0.5,
             "#f7f7f7"
            ],
            [
             0.6,
             "#e6f5d0"
            ],
            [
             0.7,
             "#b8e186"
            ],
            [
             0.8,
             "#7fbc41"
            ],
            [
             0.9,
             "#4d9221"
            ],
            [
             1,
             "#276419"
            ]
           ]
          },
          "xaxis": {
           "gridcolor": "#283442",
           "linecolor": "#506784",
           "ticks": "",
           "title": {
            "standoff": 15
           },
           "zerolinecolor": "#283442",
           "automargin": true,
           "zerolinewidth": 2
          },
          "yaxis": {
           "gridcolor": "#283442",
           "linecolor": "#506784",
           "ticks": "",
           "title": {
            "standoff": 15
           },
           "zerolinecolor": "#283442",
           "automargin": true,
           "zerolinewidth": 2
          },
          "scene": {
           "xaxis": {
            "backgroundcolor": "rgb(17,17,17)",
            "gridcolor": "#506784",
            "linecolor": "#506784",
            "showbackground": true,
            "ticks": "",
            "zerolinecolor": "#C8D4E3",
            "gridwidth": 2
           },
           "yaxis": {
            "backgroundcolor": "rgb(17,17,17)",
            "gridcolor": "#506784",
            "linecolor": "#506784",
            "showbackground": true,
            "ticks": "",
            "zerolinecolor": "#C8D4E3",
            "gridwidth": 2
           },
           "zaxis": {
            "backgroundcolor": "rgb(17,17,17)",
            "gridcolor": "#506784",
            "linecolor": "#506784",
            "showbackground": true,
            "ticks": "",
            "zerolinecolor": "#C8D4E3",
            "gridwidth": 2
           }
          },
          "shapedefaults": {
           "line": {
            "color": "#f2f5fa"
           }
          },
          "annotationdefaults": {
           "arrowcolor": "#f2f5fa",
           "arrowhead": 0,
           "arrowwidth": 1
          },
          "geo": {
           "bgcolor": "rgb(17,17,17)",
           "landcolor": "rgb(17,17,17)",
           "subunitcolor": "#506784",
           "showland": true,
           "showlakes": true,
           "lakecolor": "rgb(17,17,17)"
          },
          "title": {
           "x": 0.05
          },
          "updatemenudefaults": {
           "bgcolor": "#506784",
           "borderwidth": 0
          },
          "sliderdefaults": {
           "bgcolor": "#C8D4E3",
           "borderwidth": 1,
           "bordercolor": "rgb(17,17,17)",
           "tickwidth": 0
          },
          "mapbox": {
           "style": "dark"
          }
         }
        },
        "xaxis": {
         "anchor": "y",
         "domain": [
          0.0,
          1.0
         ],
         "title": {
          "text": "x"
         }
        },
        "yaxis": {
         "anchor": "x",
         "domain": [
          0.0,
          1.0
         ],
         "title": {
          "text": "sum of y"
         }
        },
        "legend": {
         "title": {
          "text": "color"
         },
         "tracegroupgap": 0
        },
        "margin": {
         "t": 60
        },
        "barmode": "relative"
       },
       "config": {
        "plotlyServerURL": "https://plot.ly"
       }
      }
     },
     "metadata": {},
     "output_type": "display_data"
    },
    {
     "data": {
      "application/vnd.plotly.v1+json": {
       "data": [
        {
         "bingroup": "x",
         "histfunc": "sum",
         "hovertemplate": "color=Snapdragon<br>x=%{x}<br>sum of y=%{y}<extra></extra>",
         "legendgroup": "Snapdragon",
         "marker": {
          "color": "rgb(133, 92, 117)",
          "pattern": {
           "shape": ""
          }
         },
         "name": "Snapdragon",
         "orientation": "v",
         "showlegend": true,
         "x": [
          "Snapdragon"
         ],
         "xaxis": "x",
         "y": {
          "dtype": "i2",
          "bdata": "vQA="
         },
         "yaxis": "y",
         "type": "histogram"
        },
        {
         "bingroup": "x",
         "histfunc": "sum",
         "hovertemplate": "color=Exynos<br>x=%{x}<br>sum of y=%{y}<extra></extra>",
         "legendgroup": "Exynos",
         "marker": {
          "color": "rgb(217, 175, 107)",
          "pattern": {
           "shape": ""
          }
         },
         "name": "Exynos",
         "orientation": "v",
         "showlegend": true,
         "x": [
          "Exynos"
         ],
         "xaxis": "x",
         "y": {
          "dtype": "i1",
          "bdata": "Og=="
         },
         "yaxis": "y",
         "type": "histogram"
        },
        {
         "bingroup": "x",
         "histfunc": "sum",
         "hovertemplate": "color=Dimensity<br>x=%{x}<br>sum of y=%{y}<extra></extra>",
         "legendgroup": "Dimensity",
         "marker": {
          "color": "rgb(175, 100, 88)",
          "pattern": {
           "shape": ""
          }
         },
         "name": "Dimensity",
         "orientation": "v",
         "showlegend": true,
         "x": [
          "Dimensity"
         ],
         "xaxis": "x",
         "y": {
          "dtype": "i1",
          "bdata": "Mg=="
         },
         "yaxis": "y",
         "type": "histogram"
        },
        {
         "bingroup": "x",
         "histfunc": "sum",
         "hovertemplate": "color=Helio<br>x=%{x}<br>sum of y=%{y}<extra></extra>",
         "legendgroup": "Helio",
         "marker": {
          "color": "rgb(115, 111, 76)",
          "pattern": {
           "shape": ""
          }
         },
         "name": "Helio",
         "orientation": "v",
         "showlegend": true,
         "x": [
          "Helio"
         ],
         "xaxis": "x",
         "y": {
          "dtype": "i1",
          "bdata": "LQ=="
         },
         "yaxis": "y",
         "type": "histogram"
        },
        {
         "bingroup": "x",
         "histfunc": "sum",
         "hovertemplate": "color=KIRIN<br>x=%{x}<br>sum of y=%{y}<extra></extra>",
         "legendgroup": "KIRIN",
         "marker": {
          "color": "rgb(82, 106, 131)",
          "pattern": {
           "shape": ""
          }
         },
         "name": "KIRIN",
         "orientation": "v",
         "showlegend": true,
         "x": [
          "KIRIN"
         ],
         "xaxis": "x",
         "y": {
          "dtype": "i1",
          "bdata": "LA=="
         },
         "yaxis": "y",
         "type": "histogram"
        },
        {
         "bingroup": "x",
         "histfunc": "sum",
         "hovertemplate": "color=OMAP<br>x=%{x}<br>sum of y=%{y}<extra></extra>",
         "legendgroup": "OMAP",
         "marker": {
          "color": "rgb(98, 83, 119)",
          "pattern": {
           "shape": ""
          }
         },
         "name": "OMAP",
         "orientation": "v",
         "showlegend": true,
         "x": [
          "OMAP"
         ],
         "xaxis": "x",
         "y": {
          "dtype": "i1",
          "bdata": "KA=="
         },
         "yaxis": "y",
         "type": "histogram"
        },
        {
         "bingroup": "x",
         "histfunc": "sum",
         "hovertemplate": "color=Atom<br>x=%{x}<br>sum of y=%{y}<extra></extra>",
         "legendgroup": "Atom",
         "marker": {
          "color": "rgb(104, 133, 92)",
          "pattern": {
           "shape": ""
          }
         },
         "name": "Atom",
         "orientation": "v",
         "showlegend": true,
         "x": [
          "Atom"
         ],
         "xaxis": "x",
         "y": {
          "dtype": "i1",
          "bdata": "Jg=="
         },
         "yaxis": "y",
         "type": "histogram"
        },
        {
         "bingroup": "x",
         "histfunc": "sum",
         "hovertemplate": "color=Core<br>x=%{x}<br>sum of y=%{y}<extra></extra>",
         "legendgroup": "Core",
         "marker": {
          "color": "rgb(156, 156, 94)",
          "pattern": {
           "shape": ""
          }
         },
         "name": "Core",
         "orientation": "v",
         "showlegend": true,
         "x": [
          "Core"
         ],
         "xaxis": "x",
         "y": {
          "dtype": "i1",
          "bdata": "Gg=="
         },
         "yaxis": "y",
         "type": "histogram"
        },
        {
         "bingroup": "x",
         "histfunc": "sum",
         "hovertemplate": "color=MSM<br>x=%{x}<br>sum of y=%{y}<extra></extra>",
         "legendgroup": "MSM",
         "marker": {
          "color": "rgb(160, 97, 119)",
          "pattern": {
           "shape": ""
          }
         },
         "name": "MSM",
         "orientation": "v",
         "showlegend": true,
         "x": [
          "MSM"
         ],
         "xaxis": "x",
         "y": {
          "dtype": "i1",
          "bdata": "GQ=="
         },
         "yaxis": "y",
         "type": "histogram"
        },
        {
         "bingroup": "x",
         "histfunc": "sum",
         "hovertemplate": "color=Tegra<br>x=%{x}<br>sum of y=%{y}<extra></extra>",
         "legendgroup": "Tegra",
         "marker": {
          "color": "rgb(140, 120, 93)",
          "pattern": {
           "shape": ""
          }
         },
         "name": "Tegra",
         "orientation": "v",
         "showlegend": true,
         "x": [
          "Tegra"
         ],
         "xaxis": "x",
         "y": {
          "dtype": "i1",
          "bdata": "Fg=="
         },
         "yaxis": "y",
         "type": "histogram"
        },
        {
         "bingroup": "x",
         "histfunc": "sum",
         "hovertemplate": "color=XScale<br>x=%{x}<br>sum of y=%{y}<extra></extra>",
         "legendgroup": "XScale",
         "marker": {
          "color": "rgb(124, 124, 124)",
          "pattern": {
           "shape": ""
          }
         },
         "name": "XScale",
         "orientation": "v",
         "showlegend": true,
         "x": [
          "XScale"
         ],
         "xaxis": "x",
         "y": {
          "dtype": "i1",
          "bdata": "DA=="
         },
         "yaxis": "y",
         "type": "histogram"
        },
        {
         "bingroup": "x",
         "histfunc": "sum",
         "hovertemplate": "color=Bionic<br>x=%{x}<br>sum of y=%{y}<extra></extra>",
         "legendgroup": "Bionic",
         "marker": {
          "color": "rgb(133, 92, 117)",
          "pattern": {
           "shape": ""
          }
         },
         "name": "Bionic",
         "orientation": "v",
         "showlegend": true,
         "x": [
          "Bionic"
         ],
         "xaxis": "x",
         "y": {
          "dtype": "i1",
          "bdata": "Cw=="
         },
         "yaxis": "y",
         "type": "histogram"
        },
        {
         "bingroup": "x",
         "histfunc": "sum",
         "hovertemplate": "color=RK<br>x=%{x}<br>sum of y=%{y}<extra></extra>",
         "legendgroup": "RK",
         "marker": {
          "color": "rgb(217, 175, 107)",
          "pattern": {
           "shape": ""
          }
         },
         "name": "RK",
         "orientation": "v",
         "showlegend": true,
         "x": [
          "RK"
         ],
         "xaxis": "x",
         "y": {
          "dtype": "i1",
          "bdata": "Cw=="
         },
         "yaxis": "y",
         "type": "histogram"
        },
        {
         "bingroup": "x",
         "histfunc": "sum",
         "hovertemplate": "color=ARMADA<br>x=%{x}<br>sum of y=%{y}<extra></extra>",
         "legendgroup": "ARMADA",
         "marker": {
          "color": "rgb(175, 100, 88)",
          "pattern": {
           "shape": ""
          }
         },
         "name": "ARMADA",
         "orientation": "v",
         "showlegend": true,
         "x": [
          "ARMADA"
         ],
         "xaxis": "x",
         "y": {
          "dtype": "i1",
          "bdata": "CQ=="
         },
         "yaxis": "y",
         "type": "histogram"
        },
        {
         "bingroup": "x",
         "histfunc": "sum",
         "hovertemplate": "color=Celeron<br>x=%{x}<br>sum of y=%{y}<extra></extra>",
         "legendgroup": "Celeron",
         "marker": {
          "color": "rgb(115, 111, 76)",
          "pattern": {
           "shape": ""
          }
         },
         "name": "Celeron",
         "orientation": "v",
         "showlegend": true,
         "x": [
          "Celeron"
         ],
         "xaxis": "x",
         "y": {
          "dtype": "i1",
          "bdata": "CA=="
         },
         "yaxis": "y",
         "type": "histogram"
        },
        {
         "bingroup": "x",
         "histfunc": "sum",
         "hovertemplate": "color=Tiger<br>x=%{x}<br>sum of y=%{y}<extra></extra>",
         "legendgroup": "Tiger",
         "marker": {
          "color": "rgb(82, 106, 131)",
          "pattern": {
           "shape": ""
          }
         },
         "name": "Tiger",
         "orientation": "v",
         "showlegend": true,
         "x": [
          "Tiger"
         ],
         "xaxis": "x",
         "y": {
          "dtype": "i1",
          "bdata": "Bw=="
         },
         "yaxis": "y",
         "type": "histogram"
        },
        {
         "bingroup": "x",
         "histfunc": "sum",
         "hovertemplate": "color=Atlas<br>x=%{x}<br>sum of y=%{y}<extra></extra>",
         "legendgroup": "Atlas",
         "marker": {
          "color": "rgb(98, 83, 119)",
          "pattern": {
           "shape": ""
          }
         },
         "name": "Atlas",
         "orientation": "v",
         "showlegend": true,
         "x": [
          "Atlas"
         ],
         "xaxis": "x",
         "y": {
          "dtype": "i1",
          "bdata": "Bw=="
         },
         "yaxis": "y",
         "type": "histogram"
        },
        {
         "bingroup": "x",
         "histfunc": "sum",
         "hovertemplate": "color=Nomadik<br>x=%{x}<br>sum of y=%{y}<extra></extra>",
         "legendgroup": "Nomadik",
         "marker": {
          "color": "rgb(104, 133, 92)",
          "pattern": {
           "shape": ""
          }
         },
         "name": "Nomadik",
         "orientation": "v",
         "showlegend": true,
         "x": [
          "Nomadik"
         ],
         "xaxis": "x",
         "y": {
          "dtype": "i1",
          "bdata": "Bw=="
         },
         "yaxis": "y",
         "type": "histogram"
        },
        {
         "bingroup": "x",
         "histfunc": "sum",
         "hovertemplate": "color=TMPR<br>x=%{x}<br>sum of y=%{y}<extra></extra>",
         "legendgroup": "TMPR",
         "marker": {
          "color": "rgb(156, 156, 94)",
          "pattern": {
           "shape": ""
          }
         },
         "name": "TMPR",
         "orientation": "v",
         "showlegend": true,
         "x": [
          "TMPR"
         ],
         "xaxis": "x",
         "y": {
          "dtype": "i1",
          "bdata": "Bg=="
         },
         "yaxis": "y",
         "type": "histogram"
        },
        {
         "bingroup": "x",
         "histfunc": "sum",
         "hovertemplate": "color=NovaThor<br>x=%{x}<br>sum of y=%{y}<extra></extra>",
         "legendgroup": "NovaThor",
         "marker": {
          "color": "rgb(160, 97, 119)",
          "pattern": {
           "shape": ""
          }
         },
         "name": "NovaThor",
         "orientation": "v",
         "showlegend": true,
         "x": [
          "NovaThor"
         ],
         "xaxis": "x",
         "y": {
          "dtype": "i1",
          "bdata": "Bg=="
         },
         "yaxis": "y",
         "type": "histogram"
        },
        {
         "bingroup": "x",
         "histfunc": "sum",
         "hovertemplate": "color=Tanggula<br>x=%{x}<br>sum of y=%{y}<extra></extra>",
         "legendgroup": "Tanggula",
         "marker": {
          "color": "rgb(140, 120, 93)",
          "pattern": {
           "shape": ""
          }
         },
         "name": "Tanggula",
         "orientation": "v",
         "showlegend": true,
         "x": [
          "Tanggula"
         ],
         "xaxis": "x",
         "y": {
          "dtype": "i1",
          "bdata": "BQ=="
         },
         "yaxis": "y",
         "type": "histogram"
        },
        {
         "bingroup": "x",
         "histfunc": "sum",
         "hovertemplate": "color=Google tensor<br>x=%{x}<br>sum of y=%{y}<extra></extra>",
         "legendgroup": "Google tensor",
         "marker": {
          "color": "rgb(124, 124, 124)",
          "pattern": {
           "shape": ""
          }
         },
         "name": "Google tensor",
         "orientation": "v",
         "showlegend": true,
         "x": [
          "Google tensor"
         ],
         "xaxis": "x",
         "y": {
          "dtype": "i1",
          "bdata": "BA=="
         },
         "yaxis": "y",
         "type": "histogram"
        },
        {
         "bingroup": "x",
         "histfunc": "sum",
         "hovertemplate": "color=InnoPower<br>x=%{x}<br>sum of y=%{y}<extra></extra>",
         "legendgroup": "InnoPower",
         "marker": {
          "color": "rgb(133, 92, 117)",
          "pattern": {
           "shape": ""
          }
         },
         "name": "InnoPower",
         "orientation": "v",
         "showlegend": true,
         "x": [
          "InnoPower"
         ],
         "xaxis": "x",
         "y": {
          "dtype": "i1",
          "bdata": "BA=="
         },
         "yaxis": "y",
         "type": "histogram"
        },
        {
         "bingroup": "x",
         "histfunc": "sum",
         "hovertemplate": "color=WonderMedia PRIZM<br>x=%{x}<br>sum of y=%{y}<extra></extra>",
         "legendgroup": "WonderMedia PRIZM",
         "marker": {
          "color": "rgb(217, 175, 107)",
          "pattern": {
           "shape": ""
          }
         },
         "name": "WonderMedia PRIZM",
         "orientation": "v",
         "showlegend": true,
         "x": [
          "WonderMedia PRIZM"
         ],
         "xaxis": "x",
         "y": {
          "dtype": "i1",
          "bdata": "BA=="
         },
         "yaxis": "y",
         "type": "histogram"
        },
        {
         "bingroup": "x",
         "histfunc": "sum",
         "hovertemplate": "color=Rapido<br>x=%{x}<br>sum of y=%{y}<extra></extra>",
         "legendgroup": "Rapido",
         "marker": {
          "color": "rgb(175, 100, 88)",
          "pattern": {
           "shape": ""
          }
         },
         "name": "Rapido",
         "orientation": "v",
         "showlegend": true,
         "x": [
          "Rapido"
         ],
         "xaxis": "x",
         "y": {
          "dtype": "i1",
          "bdata": "BA=="
         },
         "yaxis": "y",
         "type": "histogram"
        },
        {
         "bingroup": "x",
         "histfunc": "sum",
         "hovertemplate": "color=DragonBall<br>x=%{x}<br>sum of y=%{y}<extra></extra>",
         "legendgroup": "DragonBall",
         "marker": {
          "color": "rgb(115, 111, 76)",
          "pattern": {
           "shape": ""
          }
         },
         "name": "DragonBall",
         "orientation": "v",
         "showlegend": true,
         "x": [
          "DragonBall"
         ],
         "xaxis": "x",
         "y": {
          "dtype": "i1",
          "bdata": "BA=="
         },
         "yaxis": "y",
         "type": "histogram"
        },
        {
         "bingroup": "x",
         "histfunc": "sum",
         "hovertemplate": "color=Kompanio<br>x=%{x}<br>sum of y=%{y}<extra></extra>",
         "legendgroup": "Kompanio",
         "marker": {
          "color": "rgb(82, 106, 131)",
          "pattern": {
           "shape": ""
          }
         },
         "name": "Kompanio",
         "orientation": "v",
         "showlegend": true,
         "x": [
          "Kompanio"
         ],
         "xaxis": "x",
         "y": {
          "dtype": "i1",
          "bdata": "Aw=="
         },
         "yaxis": "y",
         "type": "histogram"
        },
        {
         "bingroup": "x",
         "histfunc": "sum",
         "hovertemplate": "color=Nova<br>x=%{x}<br>sum of y=%{y}<extra></extra>",
         "legendgroup": "Nova",
         "marker": {
          "color": "rgb(98, 83, 119)",
          "pattern": {
           "shape": ""
          }
         },
         "name": "Nova",
         "orientation": "v",
         "showlegend": true,
         "x": [
          "Nova"
         ],
         "xaxis": "x",
         "y": {
          "dtype": "i1",
          "bdata": "Aw=="
         },
         "yaxis": "y",
         "type": "histogram"
        },
        {
         "bingroup": "x",
         "histfunc": "sum",
         "hovertemplate": "color=SuperH<br>x=%{x}<br>sum of y=%{y}<extra></extra>",
         "legendgroup": "SuperH",
         "marker": {
          "color": "rgb(104, 133, 92)",
          "pattern": {
           "shape": ""
          }
         },
         "name": "SuperH",
         "orientation": "v",
         "showlegend": true,
         "x": [
          "SuperH"
         ],
         "xaxis": "x",
         "y": {
          "dtype": "i1",
          "bdata": "Aw=="
         },
         "yaxis": "y",
         "type": "histogram"
        },
        {
         "bingroup": "x",
         "histfunc": "sum",
         "hovertemplate": "color=Elan<br>x=%{x}<br>sum of y=%{y}<extra></extra>",
         "legendgroup": "Elan",
         "marker": {
          "color": "rgb(156, 156, 94)",
          "pattern": {
           "shape": ""
          }
         },
         "name": "Elan",
         "orientation": "v",
         "showlegend": true,
         "x": [
          "Elan"
         ],
         "xaxis": "x",
         "y": {
          "dtype": "i1",
          "bdata": "Aw=="
         },
         "yaxis": "y",
         "type": "histogram"
        },
        {
         "bingroup": "x",
         "histfunc": "sum",
         "hovertemplate": "color=Nexperia<br>x=%{x}<br>sum of y=%{y}<extra></extra>",
         "legendgroup": "Nexperia",
         "marker": {
          "color": "rgb(160, 97, 119)",
          "pattern": {
           "shape": ""
          }
         },
         "name": "Nexperia",
         "orientation": "v",
         "showlegend": true,
         "x": [
          "Nexperia"
         ],
         "xaxis": "x",
         "y": {
          "dtype": "i1",
          "bdata": "Aw=="
         },
         "yaxis": "y",
         "type": "histogram"
        },
        {
         "bingroup": "x",
         "histfunc": "sum",
         "hovertemplate": "color=Pinecone<br>x=%{x}<br>sum of y=%{y}<extra></extra>",
         "legendgroup": "Pinecone",
         "marker": {
          "color": "rgb(140, 120, 93)",
          "pattern": {
           "shape": ""
          }
         },
         "name": "Pinecone",
         "orientation": "v",
         "showlegend": true,
         "x": [
          "Pinecone"
         ],
         "xaxis": "x",
         "y": {
          "dtype": "i1",
          "bdata": "Ag=="
         },
         "yaxis": "y",
         "type": "histogram"
        },
        {
         "bingroup": "x",
         "histfunc": "sum",
         "hovertemplate": "color=Am<br>x=%{x}<br>sum of y=%{y}<extra></extra>",
         "legendgroup": "Am",
         "marker": {
          "color": "rgb(124, 124, 124)",
          "pattern": {
           "shape": ""
          }
         },
         "name": "Am",
         "orientation": "v",
         "showlegend": true,
         "x": [
          "Am"
         ],
         "xaxis": "x",
         "y": {
          "dtype": "i1",
          "bdata": "Ag=="
         },
         "yaxis": "y",
         "type": "histogram"
        },
        {
         "bingroup": "x",
         "histfunc": "sum",
         "hovertemplate": "color=Sitara<br>x=%{x}<br>sum of y=%{y}<extra></extra>",
         "legendgroup": "Sitara",
         "marker": {
          "color": "rgb(133, 92, 117)",
          "pattern": {
           "shape": ""
          }
         },
         "name": "Sitara",
         "orientation": "v",
         "showlegend": true,
         "x": [
          "Sitara"
         ],
         "xaxis": "x",
         "y": {
          "dtype": "i1",
          "bdata": "Ag=="
         },
         "yaxis": "y",
         "type": "histogram"
        },
        {
         "bingroup": "x",
         "histfunc": "sum",
         "hovertemplate": "color=ESM<br>x=%{x}<br>sum of y=%{y}<extra></extra>",
         "legendgroup": "ESM",
         "marker": {
          "color": "rgb(217, 175, 107)",
          "pattern": {
           "shape": ""
          }
         },
         "name": "ESM",
         "orientation": "v",
         "showlegend": true,
         "x": [
          "ESM"
         ],
         "xaxis": "x",
         "y": {
          "dtype": "i1",
          "bdata": "Ag=="
         },
         "yaxis": "y",
         "type": "histogram"
        },
        {
         "bingroup": "x",
         "histfunc": "sum",
         "hovertemplate": "color=Alchemy<br>x=%{x}<br>sum of y=%{y}<extra></extra>",
         "legendgroup": "Alchemy",
         "marker": {
          "color": "rgb(175, 100, 88)",
          "pattern": {
           "shape": ""
          }
         },
         "name": "Alchemy",
         "orientation": "v",
         "showlegend": true,
         "x": [
          "Alchemy"
         ],
         "xaxis": "x",
         "y": {
          "dtype": "i1",
          "bdata": "Ag=="
         },
         "yaxis": "y",
         "type": "histogram"
        },
        {
         "bingroup": "x",
         "histfunc": "sum",
         "hovertemplate": "color=Titan<br>x=%{x}<br>sum of y=%{y}<extra></extra>",
         "legendgroup": "Titan",
         "marker": {
          "color": "rgb(115, 111, 76)",
          "pattern": {
           "shape": ""
          }
         },
         "name": "Titan",
         "orientation": "v",
         "showlegend": true,
         "x": [
          "Titan"
         ],
         "xaxis": "x",
         "y": {
          "dtype": "i1",
          "bdata": "Ag=="
         },
         "yaxis": "y",
         "type": "histogram"
        },
        {
         "bingroup": "x",
         "histfunc": "sum",
         "hovertemplate": "color=Pentium<br>x=%{x}<br>sum of y=%{y}<extra></extra>",
         "legendgroup": "Pentium",
         "marker": {
          "color": "rgb(82, 106, 131)",
          "pattern": {
           "shape": ""
          }
         },
         "name": "Pentium",
         "orientation": "v",
         "showlegend": true,
         "x": [
          "Pentium"
         ],
         "xaxis": "x",
         "y": {
          "dtype": "i1",
          "bdata": "AQ=="
         },
         "yaxis": "y",
         "type": "histogram"
        },
        {
         "bingroup": "x",
         "histfunc": "sum",
         "hovertemplate": "color=DaVinci<br>x=%{x}<br>sum of y=%{y}<extra></extra>",
         "legendgroup": "DaVinci",
         "marker": {
          "color": "rgb(98, 83, 119)",
          "pattern": {
           "shape": ""
          }
         },
         "name": "DaVinci",
         "orientation": "v",
         "showlegend": true,
         "x": [
          "DaVinci"
         ],
         "xaxis": "x",
         "y": {
          "dtype": "i1",
          "bdata": "AQ=="
         },
         "yaxis": "y",
         "type": "histogram"
        },
        {
         "bingroup": "x",
         "histfunc": "sum",
         "hovertemplate": "color=CXD<br>x=%{x}<br>sum of y=%{y}<extra></extra>",
         "legendgroup": "CXD",
         "marker": {
          "color": "rgb(104, 133, 92)",
          "pattern": {
           "shape": ""
          }
         },
         "name": "CXD",
         "orientation": "v",
         "showlegend": true,
         "x": [
          "CXD"
         ],
         "xaxis": "x",
         "y": {
          "dtype": "i1",
          "bdata": "AQ=="
         },
         "yaxis": "y",
         "type": "histogram"
        }
       ],
       "layout": {
        "template": {
         "data": {
          "histogram2dcontour": [
           {
            "type": "histogram2dcontour",
            "colorbar": {
             "outlinewidth": 0,
             "ticks": ""
            },
            "colorscale": [
             [
              0.0,
              "#0d0887"
             ],
             [
              0.1111111111111111,
              "#46039f"
             ],
             [
              0.2222222222222222,
              "#7201a8"
             ],
             [
              0.3333333333333333,
              "#9c179e"
             ],
             [
              0.4444444444444444,
              "#bd3786"
             ],
             [
              0.5555555555555556,
              "#d8576b"
             ],
             [
              0.6666666666666666,
              "#ed7953"
             ],
             [
              0.7777777777777778,
              "#fb9f3a"
             ],
             [
              0.8888888888888888,
              "#fdca26"
             ],
             [
              1.0,
              "#f0f921"
             ]
            ]
           }
          ],
          "choropleth": [
           {
            "type": "choropleth",
            "colorbar": {
             "outlinewidth": 0,
             "ticks": ""
            }
           }
          ],
          "histogram2d": [
           {
            "type": "histogram2d",
            "colorbar": {
             "outlinewidth": 0,
             "ticks": ""
            },
            "colorscale": [
             [
              0.0,
              "#0d0887"
             ],
             [
              0.1111111111111111,
              "#46039f"
             ],
             [
              0.2222222222222222,
              "#7201a8"
             ],
             [
              0.3333333333333333,
              "#9c179e"
             ],
             [
              0.4444444444444444,
              "#bd3786"
             ],
             [
              0.5555555555555556,
              "#d8576b"
             ],
             [
              0.6666666666666666,
              "#ed7953"
             ],
             [
              0.7777777777777778,
              "#fb9f3a"
             ],
             [
              0.8888888888888888,
              "#fdca26"
             ],
             [
              1.0,
              "#f0f921"
             ]
            ]
           }
          ],
          "heatmap": [
           {
            "type": "heatmap",
            "colorbar": {
             "outlinewidth": 0,
             "ticks": ""
            },
            "colorscale": [
             [
              0.0,
              "#0d0887"
             ],
             [
              0.1111111111111111,
              "#46039f"
             ],
             [
              0.2222222222222222,
              "#7201a8"
             ],
             [
              0.3333333333333333,
              "#9c179e"
             ],
             [
              0.4444444444444444,
              "#bd3786"
             ],
             [
              0.5555555555555556,
              "#d8576b"
             ],
             [
              0.6666666666666666,
              "#ed7953"
             ],
             [
              0.7777777777777778,
              "#fb9f3a"
             ],
             [
              0.8888888888888888,
              "#fdca26"
             ],
             [
              1.0,
              "#f0f921"
             ]
            ]
           }
          ],
          "contourcarpet": [
           {
            "type": "contourcarpet",
            "colorbar": {
             "outlinewidth": 0,
             "ticks": ""
            }
           }
          ],
          "contour": [
           {
            "type": "contour",
            "colorbar": {
             "outlinewidth": 0,
             "ticks": ""
            },
            "colorscale": [
             [
              0.0,
              "#0d0887"
             ],
             [
              0.1111111111111111,
              "#46039f"
             ],
             [
              0.2222222222222222,
              "#7201a8"
             ],
             [
              0.3333333333333333,
              "#9c179e"
             ],
             [
              0.4444444444444444,
              "#bd3786"
             ],
             [
              0.5555555555555556,
              "#d8576b"
             ],
             [
              0.6666666666666666,
              "#ed7953"
             ],
             [
              0.7777777777777778,
              "#fb9f3a"
             ],
             [
              0.8888888888888888,
              "#fdca26"
             ],
             [
              1.0,
              "#f0f921"
             ]
            ]
           }
          ],
          "surface": [
           {
            "type": "surface",
            "colorbar": {
             "outlinewidth": 0,
             "ticks": ""
            },
            "colorscale": [
             [
              0.0,
              "#0d0887"
             ],
             [
              0.1111111111111111,
              "#46039f"
             ],
             [
              0.2222222222222222,
              "#7201a8"
             ],
             [
              0.3333333333333333,
              "#9c179e"
             ],
             [
              0.4444444444444444,
              "#bd3786"
             ],
             [
              0.5555555555555556,
              "#d8576b"
             ],
             [
              0.6666666666666666,
              "#ed7953"
             ],
             [
              0.7777777777777778,
              "#fb9f3a"
             ],
             [
              0.8888888888888888,
              "#fdca26"
             ],
             [
              1.0,
              "#f0f921"
             ]
            ]
           }
          ],
          "mesh3d": [
           {
            "type": "mesh3d",
            "colorbar": {
             "outlinewidth": 0,
             "ticks": ""
            }
           }
          ],
          "scatter": [
           {
            "marker": {
             "line": {
              "color": "#283442"
             }
            },
            "type": "scatter"
           }
          ],
          "parcoords": [
           {
            "type": "parcoords",
            "line": {
             "colorbar": {
              "outlinewidth": 0,
              "ticks": ""
             }
            }
           }
          ],
          "scatterpolargl": [
           {
            "type": "scatterpolargl",
            "marker": {
             "colorbar": {
              "outlinewidth": 0,
              "ticks": ""
             }
            }
           }
          ],
          "bar": [
           {
            "error_x": {
             "color": "#f2f5fa"
            },
            "error_y": {
             "color": "#f2f5fa"
            },
            "marker": {
             "line": {
              "color": "rgb(17,17,17)",
              "width": 0.5
             },
             "pattern": {
              "fillmode": "overlay",
              "size": 10,
              "solidity": 0.2
             }
            },
            "type": "bar"
           }
          ],
          "scattergeo": [
           {
            "type": "scattergeo",
            "marker": {
             "colorbar": {
              "outlinewidth": 0,
              "ticks": ""
             }
            }
           }
          ],
          "scatterpolar": [
           {
            "type": "scatterpolar",
            "marker": {
             "colorbar": {
              "outlinewidth": 0,
              "ticks": ""
             }
            }
           }
          ],
          "histogram": [
           {
            "marker": {
             "pattern": {
              "fillmode": "overlay",
              "size": 10,
              "solidity": 0.2
             }
            },
            "type": "histogram"
           }
          ],
          "scattergl": [
           {
            "marker": {
             "line": {
              "color": "#283442"
             }
            },
            "type": "scattergl"
           }
          ],
          "scatter3d": [
           {
            "type": "scatter3d",
            "line": {
             "colorbar": {
              "outlinewidth": 0,
              "ticks": ""
             }
            },
            "marker": {
             "colorbar": {
              "outlinewidth": 0,
              "ticks": ""
             }
            }
           }
          ],
          "scattermap": [
           {
            "type": "scattermap",
            "marker": {
             "colorbar": {
              "outlinewidth": 0,
              "ticks": ""
             }
            }
           }
          ],
          "scattermapbox": [
           {
            "type": "scattermapbox",
            "marker": {
             "colorbar": {
              "outlinewidth": 0,
              "ticks": ""
             }
            }
           }
          ],
          "scatterternary": [
           {
            "type": "scatterternary",
            "marker": {
             "colorbar": {
              "outlinewidth": 0,
              "ticks": ""
             }
            }
           }
          ],
          "scattercarpet": [
           {
            "type": "scattercarpet",
            "marker": {
             "colorbar": {
              "outlinewidth": 0,
              "ticks": ""
             }
            }
           }
          ],
          "carpet": [
           {
            "aaxis": {
             "endlinecolor": "#A2B1C6",
             "gridcolor": "#506784",
             "linecolor": "#506784",
             "minorgridcolor": "#506784",
             "startlinecolor": "#A2B1C6"
            },
            "baxis": {
             "endlinecolor": "#A2B1C6",
             "gridcolor": "#506784",
             "linecolor": "#506784",
             "minorgridcolor": "#506784",
             "startlinecolor": "#A2B1C6"
            },
            "type": "carpet"
           }
          ],
          "table": [
           {
            "cells": {
             "fill": {
              "color": "#506784"
             },
             "line": {
              "color": "rgb(17,17,17)"
             }
            },
            "header": {
             "fill": {
              "color": "#2a3f5f"
             },
             "line": {
              "color": "rgb(17,17,17)"
             }
            },
            "type": "table"
           }
          ],
          "barpolar": [
           {
            "marker": {
             "line": {
              "color": "rgb(17,17,17)",
              "width": 0.5
             },
             "pattern": {
              "fillmode": "overlay",
              "size": 10,
              "solidity": 0.2
             }
            },
            "type": "barpolar"
           }
          ],
          "pie": [
           {
            "automargin": true,
            "type": "pie"
           }
          ]
         },
         "layout": {
          "autotypenumbers": "strict",
          "colorway": [
           "#636efa",
           "#EF553B",
           "#00cc96",
           "#ab63fa",
           "#FFA15A",
           "#19d3f3",
           "#FF6692",
           "#B6E880",
           "#FF97FF",
           "#FECB52"
          ],
          "font": {
           "color": "#f2f5fa"
          },
          "hovermode": "closest",
          "hoverlabel": {
           "align": "left"
          },
          "paper_bgcolor": "rgb(17,17,17)",
          "plot_bgcolor": "rgb(17,17,17)",
          "polar": {
           "bgcolor": "rgb(17,17,17)",
           "angularaxis": {
            "gridcolor": "#506784",
            "linecolor": "#506784",
            "ticks": ""
           },
           "radialaxis": {
            "gridcolor": "#506784",
            "linecolor": "#506784",
            "ticks": ""
           }
          },
          "ternary": {
           "bgcolor": "rgb(17,17,17)",
           "aaxis": {
            "gridcolor": "#506784",
            "linecolor": "#506784",
            "ticks": ""
           },
           "baxis": {
            "gridcolor": "#506784",
            "linecolor": "#506784",
            "ticks": ""
           },
           "caxis": {
            "gridcolor": "#506784",
            "linecolor": "#506784",
            "ticks": ""
           }
          },
          "coloraxis": {
           "colorbar": {
            "outlinewidth": 0,
            "ticks": ""
           }
          },
          "colorscale": {
           "sequential": [
            [
             0.0,
             "#0d0887"
            ],
            [
             0.1111111111111111,
             "#46039f"
            ],
            [
             0.2222222222222222,
             "#7201a8"
            ],
            [
             0.3333333333333333,
             "#9c179e"
            ],
            [
             0.4444444444444444,
             "#bd3786"
            ],
            [
             0.5555555555555556,
             "#d8576b"
            ],
            [
             0.6666666666666666,
             "#ed7953"
            ],
            [
             0.7777777777777778,
             "#fb9f3a"
            ],
            [
             0.8888888888888888,
             "#fdca26"
            ],
            [
             1.0,
             "#f0f921"
            ]
           ],
           "sequentialminus": [
            [
             0.0,
             "#0d0887"
            ],
            [
             0.1111111111111111,
             "#46039f"
            ],
            [
             0.2222222222222222,
             "#7201a8"
            ],
            [
             0.3333333333333333,
             "#9c179e"
            ],
            [
             0.4444444444444444,
             "#bd3786"
            ],
            [
             0.5555555555555556,
             "#d8576b"
            ],
            [
             0.6666666666666666,
             "#ed7953"
            ],
            [
             0.7777777777777778,
             "#fb9f3a"
            ],
            [
             0.8888888888888888,
             "#fdca26"
            ],
            [
             1.0,
             "#f0f921"
            ]
           ],
           "diverging": [
            [
             0,
             "#8e0152"
            ],
            [
             0.1,
             "#c51b7d"
            ],
            [
             0.2,
             "#de77ae"
            ],
            [
             0.3,
             "#f1b6da"
            ],
            [
             0.4,
             "#fde0ef"
            ],
            [
             0.5,
             "#f7f7f7"
            ],
            [
             0.6,
             "#e6f5d0"
            ],
            [
             0.7,
             "#b8e186"
            ],
            [
             0.8,
             "#7fbc41"
            ],
            [
             0.9,
             "#4d9221"
            ],
            [
             1,
             "#276419"
            ]
           ]
          },
          "xaxis": {
           "gridcolor": "#283442",
           "linecolor": "#506784",
           "ticks": "",
           "title": {
            "standoff": 15
           },
           "zerolinecolor": "#283442",
           "automargin": true,
           "zerolinewidth": 2
          },
          "yaxis": {
           "gridcolor": "#283442",
           "linecolor": "#506784",
           "ticks": "",
           "title": {
            "standoff": 15
           },
           "zerolinecolor": "#283442",
           "automargin": true,
           "zerolinewidth": 2
          },
          "scene": {
           "xaxis": {
            "backgroundcolor": "rgb(17,17,17)",
            "gridcolor": "#506784",
            "linecolor": "#506784",
            "showbackground": true,
            "ticks": "",
            "zerolinecolor": "#C8D4E3",
            "gridwidth": 2
           },
           "yaxis": {
            "backgroundcolor": "rgb(17,17,17)",
            "gridcolor": "#506784",
            "linecolor": "#506784",
            "showbackground": true,
            "ticks": "",
            "zerolinecolor": "#C8D4E3",
            "gridwidth": 2
           },
           "zaxis": {
            "backgroundcolor": "rgb(17,17,17)",
            "gridcolor": "#506784",
            "linecolor": "#506784",
            "showbackground": true,
            "ticks": "",
            "zerolinecolor": "#C8D4E3",
            "gridwidth": 2
           }
          },
          "shapedefaults": {
           "line": {
            "color": "#f2f5fa"
           }
          },
          "annotationdefaults": {
           "arrowcolor": "#f2f5fa",
           "arrowhead": 0,
           "arrowwidth": 1
          },
          "geo": {
           "bgcolor": "rgb(17,17,17)",
           "landcolor": "rgb(17,17,17)",
           "subunitcolor": "#506784",
           "showland": true,
           "showlakes": true,
           "lakecolor": "rgb(17,17,17)"
          },
          "title": {
           "x": 0.05
          },
          "updatemenudefaults": {
           "bgcolor": "#506784",
           "borderwidth": 0
          },
          "sliderdefaults": {
           "bgcolor": "#C8D4E3",
           "borderwidth": 1,
           "bordercolor": "rgb(17,17,17)",
           "tickwidth": 0
          },
          "mapbox": {
           "style": "dark"
          }
         }
        },
        "xaxis": {
         "anchor": "y",
         "domain": [
          0.0,
          1.0
         ],
         "title": {
          "text": "x"
         }
        },
        "yaxis": {
         "anchor": "x",
         "domain": [
          0.0,
          1.0
         ],
         "title": {
          "text": "sum of y"
         }
        },
        "legend": {
         "title": {
          "text": "color"
         },
         "tracegroupgap": 0
        },
        "margin": {
         "t": 60
        },
        "barmode": "relative"
       },
       "config": {
        "plotlyServerURL": "https://plot.ly"
       }
      }
     },
     "metadata": {},
     "output_type": "display_data"
    }
   ],
   "execution_count": 41
  },
  {
   "metadata": {
    "collapsed": true,
    "jupyter": {
     "outputs_hidden": true
    },
    "ExecuteTime": {
     "end_time": "2025-06-09T11:04:07.349622Z",
     "start_time": "2025-06-09T11:04:07.328618Z"
    }
   },
   "cell_type": "code",
   "source": [
    "dfTemp = dfN['Special Features'].str.split(',', expand= True)\n",
    "dfTemp.dropna(thresh=39).head(10)"
   ],
   "id": "9fd45936b42ab827",
   "outputs": [
    {
     "data": {
      "text/plain": [
       "                                                    0   \\\n",
       "71   single Qualcomm Kryo Prime (1x ARM Cortex-X3 u...   \n",
       "117  single Qualcomm Kryo Prime (1x ARM Cortex-X2 u...   \n",
       "144  single Qualcomm Kryo Prime (1x ARM Cortex-X2 u...   \n",
       "153  quad Qualcomm Kryo 485 Gold Harvard Superscala...   \n",
       "154  quad Qualcomm Kryo 585 Gold Harvard Superscala...   \n",
       "199  quad Qualcomm Kryo 585 Gold Harvard Superscala...   \n",
       "204  quad Qualcomm Kryo 585 Gold Harvard Superscala...   \n",
       "228                                            SDM855+   \n",
       "231                                             SDM855   \n",
       "256  quad Qualcomm Kryo 385 Gold Harvard Superscala...   \n",
       "\n",
       "                                                    1   \\\n",
       "71    1 Mbyte L2 cache) + dual Qualcomm Kryo Gold (...   \n",
       "117   1 Mbyte L2 cache) + triple Qualcomm Kryo Gold...   \n",
       "144   1 Mbyte L2 cache) + triple Qualcomm Kryo Gold...   \n",
       "153                   3x ARM Cortex-A76 up to 2419 MHz   \n",
       "154                    3x ARM Cortex-A77 up to 2.4 GHz   \n",
       "199                    3x ARM Cortex-A77 up to 2.4 GHz   \n",
       "204                   3x ARM Cortex-A77 up to 2.42 GHz   \n",
       "228   quad Qualcomm Kryo 485 Gold Harvard Superscal...   \n",
       "231   quad Qualcomm Kryo 485 Gold Harvard Superscal...   \n",
       "256   1 Mbyte L2 cluster cache) + quad Qualcomm Kry...   \n",
       "\n",
       "                                                    2   \\\n",
       "71    512 Kbyte L2 cache per core) + dual Qualcomm ...   \n",
       "117   512 Kbyte L2 cache per core) + quad Qualcomm ...   \n",
       "144   512 Kbyte L2 cache per core) + quad Qualcomm ...   \n",
       "153   1280 Kbyte L2 cluster cache) + quad Qualcomm ...   \n",
       "154   1 Mbyte L2 cluster cache) + quad Qualcomm Kry...   \n",
       "199   1 Mbyte L2 cluster cache) + quad Qualcomm Kry...   \n",
       "204   1 Mbyte L2 cluster cache) + quad Qualcomm Kry...   \n",
       "228                   3x ARM Cortex-A76 up to 2419 MHz   \n",
       "231                   3x ARM Cortex-A76 up to 2419 MHz   \n",
       "256   512 Kbyte L2 cluster cache) Harvard Superscal...   \n",
       "\n",
       "                                                    3   \\\n",
       "71    512 Kbyte L2 cache per core) + triple Qualcom...   \n",
       "117                                                HMP   \n",
       "144                                                HMP   \n",
       "153   512 Kbyte L2 cluster cache) Harvard Superscal...   \n",
       "154   512 Kbyte L2 cluster cache) Harvard Superscal...   \n",
       "199   512 Kbyte L2 cluster cache) Harvard Superscal...   \n",
       "204   512 Kbyte L2 cluster cache) Harvard Superscal...   \n",
       "228   1 Mbyte L2 cluster cache) + quad Qualcomm Kry...   \n",
       "231   1280 Kbyte L2 cluster cache) + quad Qualcomm ...   \n",
       "256                                                HMP   \n",
       "\n",
       "                                                    4                     5   \\\n",
       "71                                                 HMP            big.LITTLE   \n",
       "117                                         big.LITTLE   up to 16 GiB of RAM   \n",
       "144                                         big.LITTLE   up to 16 GiB of RAM   \n",
       "153                                                HMP            big.LITTLE   \n",
       "154                               3 Mbyte System cache                   HMP   \n",
       "199                               3 Mbyte System cache                   HMP   \n",
       "204                               3 Mbyte System cache                   HMP   \n",
       "228   512 Kbyte L2 cluster cache) Harvard Superscal...                   HMP   \n",
       "231   512 Kbyte L2 cluster cache) Harvard Superscal...                   HMP   \n",
       "256                                         big.LITTLE    eMMC 5.1 interface   \n",
       "\n",
       "                       6                                                  7   \\\n",
       "71    up to 16 GiB of RAM                                 4 GiB system cache   \n",
       "117    4 GiB system cache                                        Hexagon DSP   \n",
       "144    4 GiB system cache                                        Hexagon DSP   \n",
       "153      up to 16 GiB RAM                                    Hexagon 690 DSP   \n",
       "154            big.LITTLE   quad-channel 16-bit 2133 MHz LPDDR4X / 2750 M...   \n",
       "199            big.LITTLE   quad-channel 16-bit 2133 MHz LPDDR4X / 2750 M...   \n",
       "204            big.LITTLE   quad-channel 16-bit 2133 MHz LPDDR4X / 2750 M...   \n",
       "228            big.LITTLE                                   up to 12 GiB RAM   \n",
       "231            big.LITTLE                                   up to 16 GiB RAM   \n",
       "256       Hexagon 685 DSP                             Qualcomm X20 LTE Modem   \n",
       "\n",
       "                               8                             9   ...  \\\n",
       "71                    Hexagon DSP      Qualcomm X70 5G NR Modem  ...   \n",
       "117      Qualcomm X65 5G NR Modem   CDMA 2000 1x Adv./DO Rel 0.  ...   \n",
       "144      Qualcomm X65 5G NR Modem   CDMA 2000 1x Adv./DO Rel 0.  ...   \n",
       "153        Qualcomm X24 LTE Modem    CDMA 2000 1x Adv./DO Rel 0  ...   \n",
       "154               Hexagon 698 DSP      Qualcomm X55 5G NR Modem  ...   \n",
       "199               Hexagon 698 DSP      Qualcomm X55 5G NR Modem  ...   \n",
       "204               Hexagon 698 DSP      Qualcomm X55 5G NR Modem  ...   \n",
       "228               Hexagon 690 DSP        Qualcomm X24 LTE Modem  ...   \n",
       "231               Hexagon 690 DSP        Qualcomm X24 LTE Modem  ...   \n",
       "256   CDMA 2000 1x Adv./DO Rel 0.                      Rev. A/B  ...   \n",
       "\n",
       "                                                  34  \\\n",
       "71    18-bit triple Qualcomm Image Signal Processors   \n",
       "117   18-bit triple Qualcomm Image Signal Processors   \n",
       "144   18-bit triple Qualcomm Image Signal Processors   \n",
       "153                             Renderscript Compute   \n",
       "154                                       Vulkan 1.1   \n",
       "199                                       Vulkan 1.1   \n",
       "204                                       Vulkan 1.1   \n",
       "228                  Qualcomm VIVE 802.11ac/802.11ad   \n",
       "231                                       Vulkan 1.1   \n",
       "256                             Renderscript Compute   \n",
       "\n",
       "                                                    35  \\\n",
       "71                               200 MP camera support   \n",
       "117                              200 MP camera support   \n",
       "144                              200 MP camera support   \n",
       "153                                 FlexRender support   \n",
       "154   Qualcomm Spectra 14-bit dual Qualcomm Spectra...   \n",
       "199   Qualcomm Spectra 14-bit dual Qualcomm Spectra...   \n",
       "204   Qualcomm Spectra 14-bit dual Qualcomm Spectra...   \n",
       "228                               Renderscript Compute   \n",
       "231                    Qualcomm VIVE 802.11ac/802.11ad   \n",
       "256                                 FlexRender support   \n",
       "\n",
       "                                                    36  \\\n",
       "71              64 MP + 36 MP dual lens camera support   \n",
       "117             64 MP + 36 MP dual lens camera support   \n",
       "144             64 MP + 36 MP dual lens camera support   \n",
       "153   Qualcomm Spectra 14-bit dual Qualcomm Spectra...   \n",
       "154                               64 MP camera support   \n",
       "199                               64 MP camera support   \n",
       "204                               64 MP camera support   \n",
       "228                                 FlexRender support   \n",
       "231                               Renderscript Compute   \n",
       "256   Qualcomm Spectra 14-bit dual Qualcomm Spectra...   \n",
       "\n",
       "                                                    37  \\\n",
       "71                                             EIS 3.0   \n",
       "117                                            EIS 3.0   \n",
       "144                                            EIS 3.0   \n",
       "153                               48 MP camera support   \n",
       "154             25 MP + 25 MP dual lens camera support   \n",
       "199             25 MP + 25 MP dual lens camera support   \n",
       "204             25 MP + 25 MP dual lens camera support   \n",
       "228   Qualcomm Spectra 14-bit dual Qualcomm Spectra...   \n",
       "231                                 FlexRender support   \n",
       "256                                            EIS 3.0   \n",
       "\n",
       "                                                    38  \\\n",
       "71                             Qualcomm Quick Charge 5   \n",
       "117                                           HDMI 2.0   \n",
       "144                                           HDMI 2.0   \n",
       "153             24 MP + 24 MP dual lens camera support   \n",
       "154                                            EIS 3.0   \n",
       "199                                            EIS 3.0   \n",
       "204                                            EIS 3.0   \n",
       "228                               48 MP camera support   \n",
       "231   Qualcomm Spectra 14-bit dual Qualcomm Spectra...   \n",
       "256                                           HDMI 2.0   \n",
       "\n",
       "                                          39  \\\n",
       "71                                      None   \n",
       "117                                     None   \n",
       "144                                     None   \n",
       "153                                  EIS 3.0   \n",
       "154                                 HDMI 2.0   \n",
       "199                                 HDMI 2.0   \n",
       "204                                 HDMI 2.0   \n",
       "228   24 MP + 24 MP dual lens camera support   \n",
       "231                     48 MP camera support   \n",
       "256           Qualcomm Quick Charge 4.0/4.0+   \n",
       "\n",
       "                                          40                               41  \\\n",
       "71                                      None                             None   \n",
       "117                                     None                             None   \n",
       "144                                     None                             None   \n",
       "153                                 HDMI 2.0   Qualcomm Quick Charge 4.0/4.0+   \n",
       "154           Qualcomm Quick Charge 4.0/4.0+                             None   \n",
       "199           Qualcomm Quick Charge 4.0/4.0+                             None   \n",
       "204           Qualcomm Quick Charge 4.0/4.0+                             None   \n",
       "228                                  EIS 3.0                         HDMI 2.0   \n",
       "231   24 MP + 24 MP dual lens camera support                          EIS 3.0   \n",
       "256                       Qualcomm AI Engine                             None   \n",
       "\n",
       "                                  42                               43  \n",
       "71                              None                             None  \n",
       "117                             None                             None  \n",
       "144                             None                             None  \n",
       "153                             None                             None  \n",
       "154                             None                             None  \n",
       "199                             None                             None  \n",
       "204                             None                             None  \n",
       "228   Qualcomm Quick Charge 4.0/4.0+                             None  \n",
       "231                         HDMI 2.0   Qualcomm Quick Charge 4.0/4.0+  \n",
       "256                             None                             None  \n",
       "\n",
       "[10 rows x 44 columns]"
      ],
      "text/html": [
       "<div>\n",
       "<style scoped>\n",
       "    .dataframe tbody tr th:only-of-type {\n",
       "        vertical-align: middle;\n",
       "    }\n",
       "\n",
       "    .dataframe tbody tr th {\n",
       "        vertical-align: top;\n",
       "    }\n",
       "\n",
       "    .dataframe thead th {\n",
       "        text-align: right;\n",
       "    }\n",
       "</style>\n",
       "<table border=\"1\" class=\"dataframe\">\n",
       "  <thead>\n",
       "    <tr style=\"text-align: right;\">\n",
       "      <th></th>\n",
       "      <th>0</th>\n",
       "      <th>1</th>\n",
       "      <th>2</th>\n",
       "      <th>3</th>\n",
       "      <th>4</th>\n",
       "      <th>5</th>\n",
       "      <th>6</th>\n",
       "      <th>7</th>\n",
       "      <th>8</th>\n",
       "      <th>9</th>\n",
       "      <th>...</th>\n",
       "      <th>34</th>\n",
       "      <th>35</th>\n",
       "      <th>36</th>\n",
       "      <th>37</th>\n",
       "      <th>38</th>\n",
       "      <th>39</th>\n",
       "      <th>40</th>\n",
       "      <th>41</th>\n",
       "      <th>42</th>\n",
       "      <th>43</th>\n",
       "    </tr>\n",
       "  </thead>\n",
       "  <tbody>\n",
       "    <tr>\n",
       "      <th>71</th>\n",
       "      <td>single Qualcomm Kryo Prime (1x ARM Cortex-X3 u...</td>\n",
       "      <td>1 Mbyte L2 cache) + dual Qualcomm Kryo Gold (...</td>\n",
       "      <td>512 Kbyte L2 cache per core) + dual Qualcomm ...</td>\n",
       "      <td>512 Kbyte L2 cache per core) + triple Qualcom...</td>\n",
       "      <td>HMP</td>\n",
       "      <td>big.LITTLE</td>\n",
       "      <td>up to 16 GiB of RAM</td>\n",
       "      <td>4 GiB system cache</td>\n",
       "      <td>Hexagon DSP</td>\n",
       "      <td>Qualcomm X70 5G NR Modem</td>\n",
       "      <td>...</td>\n",
       "      <td>18-bit triple Qualcomm Image Signal Processors</td>\n",
       "      <td>200 MP camera support</td>\n",
       "      <td>64 MP + 36 MP dual lens camera support</td>\n",
       "      <td>EIS 3.0</td>\n",
       "      <td>Qualcomm Quick Charge 5</td>\n",
       "      <td>None</td>\n",
       "      <td>None</td>\n",
       "      <td>None</td>\n",
       "      <td>None</td>\n",
       "      <td>None</td>\n",
       "    </tr>\n",
       "    <tr>\n",
       "      <th>117</th>\n",
       "      <td>single Qualcomm Kryo Prime (1x ARM Cortex-X2 u...</td>\n",
       "      <td>1 Mbyte L2 cache) + triple Qualcomm Kryo Gold...</td>\n",
       "      <td>512 Kbyte L2 cache per core) + quad Qualcomm ...</td>\n",
       "      <td>HMP</td>\n",
       "      <td>big.LITTLE</td>\n",
       "      <td>up to 16 GiB of RAM</td>\n",
       "      <td>4 GiB system cache</td>\n",
       "      <td>Hexagon DSP</td>\n",
       "      <td>Qualcomm X65 5G NR Modem</td>\n",
       "      <td>CDMA 2000 1x Adv./DO Rel 0.</td>\n",
       "      <td>...</td>\n",
       "      <td>18-bit triple Qualcomm Image Signal Processors</td>\n",
       "      <td>200 MP camera support</td>\n",
       "      <td>64 MP + 36 MP dual lens camera support</td>\n",
       "      <td>EIS 3.0</td>\n",
       "      <td>HDMI 2.0</td>\n",
       "      <td>None</td>\n",
       "      <td>None</td>\n",
       "      <td>None</td>\n",
       "      <td>None</td>\n",
       "      <td>None</td>\n",
       "    </tr>\n",
       "    <tr>\n",
       "      <th>144</th>\n",
       "      <td>single Qualcomm Kryo Prime (1x ARM Cortex-X2 u...</td>\n",
       "      <td>1 Mbyte L2 cache) + triple Qualcomm Kryo Gold...</td>\n",
       "      <td>512 Kbyte L2 cache per core) + quad Qualcomm ...</td>\n",
       "      <td>HMP</td>\n",
       "      <td>big.LITTLE</td>\n",
       "      <td>up to 16 GiB of RAM</td>\n",
       "      <td>4 GiB system cache</td>\n",
       "      <td>Hexagon DSP</td>\n",
       "      <td>Qualcomm X65 5G NR Modem</td>\n",
       "      <td>CDMA 2000 1x Adv./DO Rel 0.</td>\n",
       "      <td>...</td>\n",
       "      <td>18-bit triple Qualcomm Image Signal Processors</td>\n",
       "      <td>200 MP camera support</td>\n",
       "      <td>64 MP + 36 MP dual lens camera support</td>\n",
       "      <td>EIS 3.0</td>\n",
       "      <td>HDMI 2.0</td>\n",
       "      <td>None</td>\n",
       "      <td>None</td>\n",
       "      <td>None</td>\n",
       "      <td>None</td>\n",
       "      <td>None</td>\n",
       "    </tr>\n",
       "    <tr>\n",
       "      <th>153</th>\n",
       "      <td>quad Qualcomm Kryo 485 Gold Harvard Superscala...</td>\n",
       "      <td>3x ARM Cortex-A76 up to 2419 MHz</td>\n",
       "      <td>1280 Kbyte L2 cluster cache) + quad Qualcomm ...</td>\n",
       "      <td>512 Kbyte L2 cluster cache) Harvard Superscal...</td>\n",
       "      <td>HMP</td>\n",
       "      <td>big.LITTLE</td>\n",
       "      <td>up to 16 GiB RAM</td>\n",
       "      <td>Hexagon 690 DSP</td>\n",
       "      <td>Qualcomm X24 LTE Modem</td>\n",
       "      <td>CDMA 2000 1x Adv./DO Rel 0</td>\n",
       "      <td>...</td>\n",
       "      <td>Renderscript Compute</td>\n",
       "      <td>FlexRender support</td>\n",
       "      <td>Qualcomm Spectra 14-bit dual Qualcomm Spectra...</td>\n",
       "      <td>48 MP camera support</td>\n",
       "      <td>24 MP + 24 MP dual lens camera support</td>\n",
       "      <td>EIS 3.0</td>\n",
       "      <td>HDMI 2.0</td>\n",
       "      <td>Qualcomm Quick Charge 4.0/4.0+</td>\n",
       "      <td>None</td>\n",
       "      <td>None</td>\n",
       "    </tr>\n",
       "    <tr>\n",
       "      <th>154</th>\n",
       "      <td>quad Qualcomm Kryo 585 Gold Harvard Superscala...</td>\n",
       "      <td>3x ARM Cortex-A77 up to 2.4 GHz</td>\n",
       "      <td>1 Mbyte L2 cluster cache) + quad Qualcomm Kry...</td>\n",
       "      <td>512 Kbyte L2 cluster cache) Harvard Superscal...</td>\n",
       "      <td>3 Mbyte System cache</td>\n",
       "      <td>HMP</td>\n",
       "      <td>big.LITTLE</td>\n",
       "      <td>quad-channel 16-bit 2133 MHz LPDDR4X / 2750 M...</td>\n",
       "      <td>Hexagon 698 DSP</td>\n",
       "      <td>Qualcomm X55 5G NR Modem</td>\n",
       "      <td>...</td>\n",
       "      <td>Vulkan 1.1</td>\n",
       "      <td>Qualcomm Spectra 14-bit dual Qualcomm Spectra...</td>\n",
       "      <td>64 MP camera support</td>\n",
       "      <td>25 MP + 25 MP dual lens camera support</td>\n",
       "      <td>EIS 3.0</td>\n",
       "      <td>HDMI 2.0</td>\n",
       "      <td>Qualcomm Quick Charge 4.0/4.0+</td>\n",
       "      <td>None</td>\n",
       "      <td>None</td>\n",
       "      <td>None</td>\n",
       "    </tr>\n",
       "    <tr>\n",
       "      <th>199</th>\n",
       "      <td>quad Qualcomm Kryo 585 Gold Harvard Superscala...</td>\n",
       "      <td>3x ARM Cortex-A77 up to 2.4 GHz</td>\n",
       "      <td>1 Mbyte L2 cluster cache) + quad Qualcomm Kry...</td>\n",
       "      <td>512 Kbyte L2 cluster cache) Harvard Superscal...</td>\n",
       "      <td>3 Mbyte System cache</td>\n",
       "      <td>HMP</td>\n",
       "      <td>big.LITTLE</td>\n",
       "      <td>quad-channel 16-bit 2133 MHz LPDDR4X / 2750 M...</td>\n",
       "      <td>Hexagon 698 DSP</td>\n",
       "      <td>Qualcomm X55 5G NR Modem</td>\n",
       "      <td>...</td>\n",
       "      <td>Vulkan 1.1</td>\n",
       "      <td>Qualcomm Spectra 14-bit dual Qualcomm Spectra...</td>\n",
       "      <td>64 MP camera support</td>\n",
       "      <td>25 MP + 25 MP dual lens camera support</td>\n",
       "      <td>EIS 3.0</td>\n",
       "      <td>HDMI 2.0</td>\n",
       "      <td>Qualcomm Quick Charge 4.0/4.0+</td>\n",
       "      <td>None</td>\n",
       "      <td>None</td>\n",
       "      <td>None</td>\n",
       "    </tr>\n",
       "    <tr>\n",
       "      <th>204</th>\n",
       "      <td>quad Qualcomm Kryo 585 Gold Harvard Superscala...</td>\n",
       "      <td>3x ARM Cortex-A77 up to 2.42 GHz</td>\n",
       "      <td>1 Mbyte L2 cluster cache) + quad Qualcomm Kry...</td>\n",
       "      <td>512 Kbyte L2 cluster cache) Harvard Superscal...</td>\n",
       "      <td>3 Mbyte System cache</td>\n",
       "      <td>HMP</td>\n",
       "      <td>big.LITTLE</td>\n",
       "      <td>quad-channel 16-bit 2133 MHz LPDDR4X / 2750 M...</td>\n",
       "      <td>Hexagon 698 DSP</td>\n",
       "      <td>Qualcomm X55 5G NR Modem</td>\n",
       "      <td>...</td>\n",
       "      <td>Vulkan 1.1</td>\n",
       "      <td>Qualcomm Spectra 14-bit dual Qualcomm Spectra...</td>\n",
       "      <td>64 MP camera support</td>\n",
       "      <td>25 MP + 25 MP dual lens camera support</td>\n",
       "      <td>EIS 3.0</td>\n",
       "      <td>HDMI 2.0</td>\n",
       "      <td>Qualcomm Quick Charge 4.0/4.0+</td>\n",
       "      <td>None</td>\n",
       "      <td>None</td>\n",
       "      <td>None</td>\n",
       "    </tr>\n",
       "    <tr>\n",
       "      <th>228</th>\n",
       "      <td>SDM855+</td>\n",
       "      <td>quad Qualcomm Kryo 485 Gold Harvard Superscal...</td>\n",
       "      <td>3x ARM Cortex-A76 up to 2419 MHz</td>\n",
       "      <td>1 Mbyte L2 cluster cache) + quad Qualcomm Kry...</td>\n",
       "      <td>512 Kbyte L2 cluster cache) Harvard Superscal...</td>\n",
       "      <td>HMP</td>\n",
       "      <td>big.LITTLE</td>\n",
       "      <td>up to 12 GiB RAM</td>\n",
       "      <td>Hexagon 690 DSP</td>\n",
       "      <td>Qualcomm X24 LTE Modem</td>\n",
       "      <td>...</td>\n",
       "      <td>Qualcomm VIVE 802.11ac/802.11ad</td>\n",
       "      <td>Renderscript Compute</td>\n",
       "      <td>FlexRender support</td>\n",
       "      <td>Qualcomm Spectra 14-bit dual Qualcomm Spectra...</td>\n",
       "      <td>48 MP camera support</td>\n",
       "      <td>24 MP + 24 MP dual lens camera support</td>\n",
       "      <td>EIS 3.0</td>\n",
       "      <td>HDMI 2.0</td>\n",
       "      <td>Qualcomm Quick Charge 4.0/4.0+</td>\n",
       "      <td>None</td>\n",
       "    </tr>\n",
       "    <tr>\n",
       "      <th>231</th>\n",
       "      <td>SDM855</td>\n",
       "      <td>quad Qualcomm Kryo 485 Gold Harvard Superscal...</td>\n",
       "      <td>3x ARM Cortex-A76 up to 2419 MHz</td>\n",
       "      <td>1280 Kbyte L2 cluster cache) + quad Qualcomm ...</td>\n",
       "      <td>512 Kbyte L2 cluster cache) Harvard Superscal...</td>\n",
       "      <td>HMP</td>\n",
       "      <td>big.LITTLE</td>\n",
       "      <td>up to 16 GiB RAM</td>\n",
       "      <td>Hexagon 690 DSP</td>\n",
       "      <td>Qualcomm X24 LTE Modem</td>\n",
       "      <td>...</td>\n",
       "      <td>Vulkan 1.1</td>\n",
       "      <td>Qualcomm VIVE 802.11ac/802.11ad</td>\n",
       "      <td>Renderscript Compute</td>\n",
       "      <td>FlexRender support</td>\n",
       "      <td>Qualcomm Spectra 14-bit dual Qualcomm Spectra...</td>\n",
       "      <td>48 MP camera support</td>\n",
       "      <td>24 MP + 24 MP dual lens camera support</td>\n",
       "      <td>EIS 3.0</td>\n",
       "      <td>HDMI 2.0</td>\n",
       "      <td>Qualcomm Quick Charge 4.0/4.0+</td>\n",
       "    </tr>\n",
       "    <tr>\n",
       "      <th>256</th>\n",
       "      <td>quad Qualcomm Kryo 385 Gold Harvard Superscala...</td>\n",
       "      <td>1 Mbyte L2 cluster cache) + quad Qualcomm Kry...</td>\n",
       "      <td>512 Kbyte L2 cluster cache) Harvard Superscal...</td>\n",
       "      <td>HMP</td>\n",
       "      <td>big.LITTLE</td>\n",
       "      <td>eMMC 5.1 interface</td>\n",
       "      <td>Hexagon 685 DSP</td>\n",
       "      <td>Qualcomm X20 LTE Modem</td>\n",
       "      <td>CDMA 2000 1x Adv./DO Rel 0.</td>\n",
       "      <td>Rev. A/B</td>\n",
       "      <td>...</td>\n",
       "      <td>Renderscript Compute</td>\n",
       "      <td>FlexRender support</td>\n",
       "      <td>Qualcomm Spectra 14-bit dual Qualcomm Spectra...</td>\n",
       "      <td>EIS 3.0</td>\n",
       "      <td>HDMI 2.0</td>\n",
       "      <td>Qualcomm Quick Charge 4.0/4.0+</td>\n",
       "      <td>Qualcomm AI Engine</td>\n",
       "      <td>None</td>\n",
       "      <td>None</td>\n",
       "      <td>None</td>\n",
       "    </tr>\n",
       "  </tbody>\n",
       "</table>\n",
       "<p>10 rows × 44 columns</p>\n",
       "</div>"
      ]
     },
     "execution_count": 42,
     "metadata": {},
     "output_type": "execute_result"
    }
   ],
   "execution_count": 42
  },
  {
   "metadata": {
    "collapsed": true,
    "jupyter": {
     "outputs_hidden": true
    },
    "ExecuteTime": {
     "end_time": "2025-06-09T11:04:07.404976Z",
     "start_time": "2025-06-09T11:04:07.363179Z"
    }
   },
   "cell_type": "code",
   "source": [
    "topDesigners = dfN[f'{col[1]}'].value_counts().head(15).to_dict()\n",
    "fig = px.pie(dfN.head(10), values=topDesigners.values(), names=topDesigners.keys())\n",
    "fig.show()\n"
   ],
   "id": "5a0bc1adbba42d65",
   "outputs": [
    {
     "data": {
      "application/vnd.plotly.v1+json": {
       "data": [
        {
         "domain": {
          "x": [
           0.0,
           1.0
          ],
          "y": [
           0.0,
           1.0
          ]
         },
         "hovertemplate": "label=%{label}<br>value=%{value}<extra></extra>",
         "labels": [
          "Snapdragon",
          "Exynos",
          "Dimensity",
          "Helio",
          "KIRIN",
          "OMAP",
          "Atom",
          "Core",
          "MSM",
          "Tegra",
          "XScale",
          "Bionic",
          "RK",
          "ARMADA",
          "Celeron"
         ],
         "legendgroup": "",
         "name": "",
         "showlegend": true,
         "values": {
          "dtype": "i2",
          "bdata": "vQA6ADIALQAsACgAJgAaABkAFgAMAAsACwAJAAgA"
         },
         "type": "pie"
        }
       ],
       "layout": {
        "template": {
         "data": {
          "histogram2dcontour": [
           {
            "type": "histogram2dcontour",
            "colorbar": {
             "outlinewidth": 0,
             "ticks": ""
            },
            "colorscale": [
             [
              0.0,
              "#0d0887"
             ],
             [
              0.1111111111111111,
              "#46039f"
             ],
             [
              0.2222222222222222,
              "#7201a8"
             ],
             [
              0.3333333333333333,
              "#9c179e"
             ],
             [
              0.4444444444444444,
              "#bd3786"
             ],
             [
              0.5555555555555556,
              "#d8576b"
             ],
             [
              0.6666666666666666,
              "#ed7953"
             ],
             [
              0.7777777777777778,
              "#fb9f3a"
             ],
             [
              0.8888888888888888,
              "#fdca26"
             ],
             [
              1.0,
              "#f0f921"
             ]
            ]
           }
          ],
          "choropleth": [
           {
            "type": "choropleth",
            "colorbar": {
             "outlinewidth": 0,
             "ticks": ""
            }
           }
          ],
          "histogram2d": [
           {
            "type": "histogram2d",
            "colorbar": {
             "outlinewidth": 0,
             "ticks": ""
            },
            "colorscale": [
             [
              0.0,
              "#0d0887"
             ],
             [
              0.1111111111111111,
              "#46039f"
             ],
             [
              0.2222222222222222,
              "#7201a8"
             ],
             [
              0.3333333333333333,
              "#9c179e"
             ],
             [
              0.4444444444444444,
              "#bd3786"
             ],
             [
              0.5555555555555556,
              "#d8576b"
             ],
             [
              0.6666666666666666,
              "#ed7953"
             ],
             [
              0.7777777777777778,
              "#fb9f3a"
             ],
             [
              0.8888888888888888,
              "#fdca26"
             ],
             [
              1.0,
              "#f0f921"
             ]
            ]
           }
          ],
          "heatmap": [
           {
            "type": "heatmap",
            "colorbar": {
             "outlinewidth": 0,
             "ticks": ""
            },
            "colorscale": [
             [
              0.0,
              "#0d0887"
             ],
             [
              0.1111111111111111,
              "#46039f"
             ],
             [
              0.2222222222222222,
              "#7201a8"
             ],
             [
              0.3333333333333333,
              "#9c179e"
             ],
             [
              0.4444444444444444,
              "#bd3786"
             ],
             [
              0.5555555555555556,
              "#d8576b"
             ],
             [
              0.6666666666666666,
              "#ed7953"
             ],
             [
              0.7777777777777778,
              "#fb9f3a"
             ],
             [
              0.8888888888888888,
              "#fdca26"
             ],
             [
              1.0,
              "#f0f921"
             ]
            ]
           }
          ],
          "contourcarpet": [
           {
            "type": "contourcarpet",
            "colorbar": {
             "outlinewidth": 0,
             "ticks": ""
            }
           }
          ],
          "contour": [
           {
            "type": "contour",
            "colorbar": {
             "outlinewidth": 0,
             "ticks": ""
            },
            "colorscale": [
             [
              0.0,
              "#0d0887"
             ],
             [
              0.1111111111111111,
              "#46039f"
             ],
             [
              0.2222222222222222,
              "#7201a8"
             ],
             [
              0.3333333333333333,
              "#9c179e"
             ],
             [
              0.4444444444444444,
              "#bd3786"
             ],
             [
              0.5555555555555556,
              "#d8576b"
             ],
             [
              0.6666666666666666,
              "#ed7953"
             ],
             [
              0.7777777777777778,
              "#fb9f3a"
             ],
             [
              0.8888888888888888,
              "#fdca26"
             ],
             [
              1.0,
              "#f0f921"
             ]
            ]
           }
          ],
          "surface": [
           {
            "type": "surface",
            "colorbar": {
             "outlinewidth": 0,
             "ticks": ""
            },
            "colorscale": [
             [
              0.0,
              "#0d0887"
             ],
             [
              0.1111111111111111,
              "#46039f"
             ],
             [
              0.2222222222222222,
              "#7201a8"
             ],
             [
              0.3333333333333333,
              "#9c179e"
             ],
             [
              0.4444444444444444,
              "#bd3786"
             ],
             [
              0.5555555555555556,
              "#d8576b"
             ],
             [
              0.6666666666666666,
              "#ed7953"
             ],
             [
              0.7777777777777778,
              "#fb9f3a"
             ],
             [
              0.8888888888888888,
              "#fdca26"
             ],
             [
              1.0,
              "#f0f921"
             ]
            ]
           }
          ],
          "mesh3d": [
           {
            "type": "mesh3d",
            "colorbar": {
             "outlinewidth": 0,
             "ticks": ""
            }
           }
          ],
          "scatter": [
           {
            "marker": {
             "line": {
              "color": "#283442"
             }
            },
            "type": "scatter"
           }
          ],
          "parcoords": [
           {
            "type": "parcoords",
            "line": {
             "colorbar": {
              "outlinewidth": 0,
              "ticks": ""
             }
            }
           }
          ],
          "scatterpolargl": [
           {
            "type": "scatterpolargl",
            "marker": {
             "colorbar": {
              "outlinewidth": 0,
              "ticks": ""
             }
            }
           }
          ],
          "bar": [
           {
            "error_x": {
             "color": "#f2f5fa"
            },
            "error_y": {
             "color": "#f2f5fa"
            },
            "marker": {
             "line": {
              "color": "rgb(17,17,17)",
              "width": 0.5
             },
             "pattern": {
              "fillmode": "overlay",
              "size": 10,
              "solidity": 0.2
             }
            },
            "type": "bar"
           }
          ],
          "scattergeo": [
           {
            "type": "scattergeo",
            "marker": {
             "colorbar": {
              "outlinewidth": 0,
              "ticks": ""
             }
            }
           }
          ],
          "scatterpolar": [
           {
            "type": "scatterpolar",
            "marker": {
             "colorbar": {
              "outlinewidth": 0,
              "ticks": ""
             }
            }
           }
          ],
          "histogram": [
           {
            "marker": {
             "pattern": {
              "fillmode": "overlay",
              "size": 10,
              "solidity": 0.2
             }
            },
            "type": "histogram"
           }
          ],
          "scattergl": [
           {
            "marker": {
             "line": {
              "color": "#283442"
             }
            },
            "type": "scattergl"
           }
          ],
          "scatter3d": [
           {
            "type": "scatter3d",
            "line": {
             "colorbar": {
              "outlinewidth": 0,
              "ticks": ""
             }
            },
            "marker": {
             "colorbar": {
              "outlinewidth": 0,
              "ticks": ""
             }
            }
           }
          ],
          "scattermap": [
           {
            "type": "scattermap",
            "marker": {
             "colorbar": {
              "outlinewidth": 0,
              "ticks": ""
             }
            }
           }
          ],
          "scattermapbox": [
           {
            "type": "scattermapbox",
            "marker": {
             "colorbar": {
              "outlinewidth": 0,
              "ticks": ""
             }
            }
           }
          ],
          "scatterternary": [
           {
            "type": "scatterternary",
            "marker": {
             "colorbar": {
              "outlinewidth": 0,
              "ticks": ""
             }
            }
           }
          ],
          "scattercarpet": [
           {
            "type": "scattercarpet",
            "marker": {
             "colorbar": {
              "outlinewidth": 0,
              "ticks": ""
             }
            }
           }
          ],
          "carpet": [
           {
            "aaxis": {
             "endlinecolor": "#A2B1C6",
             "gridcolor": "#506784",
             "linecolor": "#506784",
             "minorgridcolor": "#506784",
             "startlinecolor": "#A2B1C6"
            },
            "baxis": {
             "endlinecolor": "#A2B1C6",
             "gridcolor": "#506784",
             "linecolor": "#506784",
             "minorgridcolor": "#506784",
             "startlinecolor": "#A2B1C6"
            },
            "type": "carpet"
           }
          ],
          "table": [
           {
            "cells": {
             "fill": {
              "color": "#506784"
             },
             "line": {
              "color": "rgb(17,17,17)"
             }
            },
            "header": {
             "fill": {
              "color": "#2a3f5f"
             },
             "line": {
              "color": "rgb(17,17,17)"
             }
            },
            "type": "table"
           }
          ],
          "barpolar": [
           {
            "marker": {
             "line": {
              "color": "rgb(17,17,17)",
              "width": 0.5
             },
             "pattern": {
              "fillmode": "overlay",
              "size": 10,
              "solidity": 0.2
             }
            },
            "type": "barpolar"
           }
          ],
          "pie": [
           {
            "automargin": true,
            "type": "pie"
           }
          ]
         },
         "layout": {
          "autotypenumbers": "strict",
          "colorway": [
           "#636efa",
           "#EF553B",
           "#00cc96",
           "#ab63fa",
           "#FFA15A",
           "#19d3f3",
           "#FF6692",
           "#B6E880",
           "#FF97FF",
           "#FECB52"
          ],
          "font": {
           "color": "#f2f5fa"
          },
          "hovermode": "closest",
          "hoverlabel": {
           "align": "left"
          },
          "paper_bgcolor": "rgb(17,17,17)",
          "plot_bgcolor": "rgb(17,17,17)",
          "polar": {
           "bgcolor": "rgb(17,17,17)",
           "angularaxis": {
            "gridcolor": "#506784",
            "linecolor": "#506784",
            "ticks": ""
           },
           "radialaxis": {
            "gridcolor": "#506784",
            "linecolor": "#506784",
            "ticks": ""
           }
          },
          "ternary": {
           "bgcolor": "rgb(17,17,17)",
           "aaxis": {
            "gridcolor": "#506784",
            "linecolor": "#506784",
            "ticks": ""
           },
           "baxis": {
            "gridcolor": "#506784",
            "linecolor": "#506784",
            "ticks": ""
           },
           "caxis": {
            "gridcolor": "#506784",
            "linecolor": "#506784",
            "ticks": ""
           }
          },
          "coloraxis": {
           "colorbar": {
            "outlinewidth": 0,
            "ticks": ""
           }
          },
          "colorscale": {
           "sequential": [
            [
             0.0,
             "#0d0887"
            ],
            [
             0.1111111111111111,
             "#46039f"
            ],
            [
             0.2222222222222222,
             "#7201a8"
            ],
            [
             0.3333333333333333,
             "#9c179e"
            ],
            [
             0.4444444444444444,
             "#bd3786"
            ],
            [
             0.5555555555555556,
             "#d8576b"
            ],
            [
             0.6666666666666666,
             "#ed7953"
            ],
            [
             0.7777777777777778,
             "#fb9f3a"
            ],
            [
             0.8888888888888888,
             "#fdca26"
            ],
            [
             1.0,
             "#f0f921"
            ]
           ],
           "sequentialminus": [
            [
             0.0,
             "#0d0887"
            ],
            [
             0.1111111111111111,
             "#46039f"
            ],
            [
             0.2222222222222222,
             "#7201a8"
            ],
            [
             0.3333333333333333,
             "#9c179e"
            ],
            [
             0.4444444444444444,
             "#bd3786"
            ],
            [
             0.5555555555555556,
             "#d8576b"
            ],
            [
             0.6666666666666666,
             "#ed7953"
            ],
            [
             0.7777777777777778,
             "#fb9f3a"
            ],
            [
             0.8888888888888888,
             "#fdca26"
            ],
            [
             1.0,
             "#f0f921"
            ]
           ],
           "diverging": [
            [
             0,
             "#8e0152"
            ],
            [
             0.1,
             "#c51b7d"
            ],
            [
             0.2,
             "#de77ae"
            ],
            [
             0.3,
             "#f1b6da"
            ],
            [
             0.4,
             "#fde0ef"
            ],
            [
             0.5,
             "#f7f7f7"
            ],
            [
             0.6,
             "#e6f5d0"
            ],
            [
             0.7,
             "#b8e186"
            ],
            [
             0.8,
             "#7fbc41"
            ],
            [
             0.9,
             "#4d9221"
            ],
            [
             1,
             "#276419"
            ]
           ]
          },
          "xaxis": {
           "gridcolor": "#283442",
           "linecolor": "#506784",
           "ticks": "",
           "title": {
            "standoff": 15
           },
           "zerolinecolor": "#283442",
           "automargin": true,
           "zerolinewidth": 2
          },
          "yaxis": {
           "gridcolor": "#283442",
           "linecolor": "#506784",
           "ticks": "",
           "title": {
            "standoff": 15
           },
           "zerolinecolor": "#283442",
           "automargin": true,
           "zerolinewidth": 2
          },
          "scene": {
           "xaxis": {
            "backgroundcolor": "rgb(17,17,17)",
            "gridcolor": "#506784",
            "linecolor": "#506784",
            "showbackground": true,
            "ticks": "",
            "zerolinecolor": "#C8D4E3",
            "gridwidth": 2
           },
           "yaxis": {
            "backgroundcolor": "rgb(17,17,17)",
            "gridcolor": "#506784",
            "linecolor": "#506784",
            "showbackground": true,
            "ticks": "",
            "zerolinecolor": "#C8D4E3",
            "gridwidth": 2
           },
           "zaxis": {
            "backgroundcolor": "rgb(17,17,17)",
            "gridcolor": "#506784",
            "linecolor": "#506784",
            "showbackground": true,
            "ticks": "",
            "zerolinecolor": "#C8D4E3",
            "gridwidth": 2
           }
          },
          "shapedefaults": {
           "line": {
            "color": "#f2f5fa"
           }
          },
          "annotationdefaults": {
           "arrowcolor": "#f2f5fa",
           "arrowhead": 0,
           "arrowwidth": 1
          },
          "geo": {
           "bgcolor": "rgb(17,17,17)",
           "landcolor": "rgb(17,17,17)",
           "subunitcolor": "#506784",
           "showland": true,
           "showlakes": true,
           "lakecolor": "rgb(17,17,17)"
          },
          "title": {
           "x": 0.05
          },
          "updatemenudefaults": {
           "bgcolor": "#506784",
           "borderwidth": 0
          },
          "sliderdefaults": {
           "bgcolor": "#C8D4E3",
           "borderwidth": 1,
           "bordercolor": "rgb(17,17,17)",
           "tickwidth": 0
          },
          "mapbox": {
           "style": "dark"
          }
         }
        },
        "legend": {
         "tracegroupgap": 0
        },
        "margin": {
         "t": 60
        }
       },
       "config": {
        "plotlyServerURL": "https://plot.ly"
       }
      }
     },
     "metadata": {},
     "output_type": "display_data"
    }
   ],
   "execution_count": 43
  }
 ],
 "metadata": {
  "kernelspec": {
   "display_name": "Python 3 (ipykernel)",
   "language": "python",
   "name": "python3"
  },
  "language_info": {
   "codemirror_mode": {
    "name": "ipython",
    "version": 3
   },
   "file_extension": ".py",
   "mimetype": "text/x-python",
   "name": "python",
   "nbconvert_exporter": "python",
   "pygments_lexer": "ipython3",
   "version": "3.12.4"
  }
 },
 "nbformat": 4,
 "nbformat_minor": 5
}
