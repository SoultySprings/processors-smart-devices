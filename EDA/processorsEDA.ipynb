{
 "cells": [
  {
   "metadata": {},
   "cell_type": "markdown",
   "source": [
    "## Processors EDA\n",
    "`Processors.xlsx`"
   ],
   "id": "5ff5df9a1479127b"
  },
  {
   "metadata": {},
   "cell_type": "markdown",
   "source": "### Importing libraries for the project",
   "id": "9af9e0750fb460a6"
  },
  {
   "metadata": {
    "trusted": true,
    "execution": {
     "iopub.status.busy": "2025-06-09T10:55:57.589069Z",
     "iopub.execute_input": "2025-06-09T10:55:57.589430Z",
     "iopub.status.idle": "2025-06-09T10:55:59.392826Z",
     "shell.execute_reply.started": "2025-06-09T10:55:57.589403Z",
     "shell.execute_reply": "2025-06-09T10:55:59.391619Z"
    }
   },
   "cell_type": "code",
   "source": [
    "import pandas as pd, plotly.express as px\n",
    "import seaborn as sns\n",
    "import matplotlib.pyplot as plt"
   ],
   "id": "a4b1c5d6158314e1",
   "outputs": [],
   "execution_count": null
  },
  {
   "metadata": {},
   "cell_type": "markdown",
   "source": "### Reading Dataset through Excel as CSV isn't in proper format",
   "id": "3d5aea82a4cc7ea8"
  },
  {
   "metadata": {
    "trusted": true,
    "execution": {
     "iopub.status.busy": "2025-06-09T10:56:07.621517Z",
     "iopub.execute_input": "2025-06-09T10:56:07.622066Z",
     "iopub.status.idle": "2025-06-09T10:56:08.706642Z",
     "shell.execute_reply.started": "2025-06-09T10:56:07.622023Z",
     "shell.execute_reply": "2025-06-09T10:56:08.705452Z"
    }
   },
   "cell_type": "code",
   "source": "df = pd.read_excel('Processors.xlsx')",
   "id": "6d01bf425e0cbbf8",
   "outputs": [],
   "execution_count": null
  },
  {
   "metadata": {},
   "cell_type": "markdown",
   "source": "#### Removing columns that either have a lot of null data or are irrelevant to the analysis as well as checking the unique columns throughout the dataset",
   "id": "b20e8f60da3462f8"
  },
  {
   "metadata": {
    "trusted": true,
    "execution": {
     "iopub.status.busy": "2025-06-09T10:45:28.441075Z",
     "iopub.execute_input": "2025-06-09T10:45:28.441397Z",
     "iopub.status.idle": "2025-06-09T10:45:28.495193Z",
     "shell.execute_reply.started": "2025-06-09T10:45:28.441371Z",
     "shell.execute_reply": "2025-06-09T10:45:28.494089Z"
    }
   },
   "cell_type": "code",
   "source": [
    "dfN = df.drop_duplicates().drop(columns=['Codename','Address Bus Width','Non-volatile Memory Data Bus Width',]).copy()\n",
    "col = dfN.columns.tolist()\n",
    "dfN.info()\n",
    "print(col)"
   ],
   "id": "fba321aa223ea1b2",
   "outputs": [],
   "execution_count": null
  },
  {
   "metadata": {},
   "cell_type": "markdown",
   "source": "### Counting the number of unique quantities per column to their total to use for further Data Visualization",
   "id": "d12794d6af60ace5"
  },
  {
   "metadata": {
    "trusted": true,
    "execution": {
     "iopub.status.busy": "2025-06-09T10:57:29.440798Z",
     "iopub.execute_input": "2025-06-09T10:57:29.441162Z",
     "iopub.status.idle": "2025-06-09T10:57:29.448555Z",
     "shell.execute_reply.started": "2025-06-09T10:57:29.441136Z",
     "shell.execute_reply": "2025-06-09T10:57:29.447302Z"
    }
   },
   "cell_type": "code",
   "source": [
    "n=0\n",
    "for value in col:\n",
    "    unqiuePercentage = round(100-((dfN[f'{value}'].nunique())/(dfN[f'{value}'].count()))*100, 5)\n",
    "    print(f'{value:<40} : {dfN[f'{value}'].nunique() :<10} : {dfN[f'{value}'].count() :<10} : {unqiuePercentage}')\n",
    "    col.append(f'{value}')\n",
    "    n+=1\n",
    "    if n==48:\n",
    "        break"
   ],
   "id": "c7e5506ee31421e9",
   "outputs": [],
   "execution_count": null
  },
  {
   "metadata": {},
   "cell_type": "markdown",
   "source": "### Shortening it down to the ones which have higher uniquity to non-null data",
   "id": "dfa33acb57957e85"
  },
  {
   "metadata": {
    "trusted": true,
    "execution": {
     "iopub.status.busy": "2025-06-09T10:47:02.547627Z",
     "iopub.execute_input": "2025-06-09T10:47:02.547956Z",
     "iopub.status.idle": "2025-06-09T10:47:02.556145Z",
     "shell.execute_reply.started": "2025-06-09T10:47:02.547933Z",
     "shell.execute_reply": "2025-06-09T10:47:02.554416Z"
    }
   },
   "cell_type": "code",
   "source": [
    "dfTemp = dfN.fillna(value='N/A').copy()\n",
    "col2 = []\n",
    "for value in col:\n",
    "    if dfN[f'{value}'].count() > 1000 and (round(100-((dfN[f'{value}'].nunique())/(dfN[f'{value}'].count()))*100, 5)) > 90:\n",
    "        unqiuePercentage = round(100-((dfN[f'{value}'].nunique())/(dfN[f'{value}'].count()))*100, 5)\n",
    "        print(f'{value:<40} : {dfN[f'{value}'].nunique() :<10} : {dfN[f'{value}'].count()} : {unqiuePercentage}')\n",
    "        col2.append(f'{value}')\n",
    "\n",
    "print(f'\\n{col2}')"
   ],
   "id": "1684a1628966b99b",
   "outputs": [],
   "execution_count": null
  },
  {
   "metadata": {},
   "cell_type": "markdown",
   "source": "### Figuring the chips that have the highest Special Features and maybe successfull as well\n",
   "id": "b58c049b92ac859d"
  },
  {
   "metadata": {
    "collapsed": true,
    "jupyter": {
     "outputs_hidden": true
    }
   },
   "cell_type": "code",
   "source": [
    "dfTemp = dfN['Special Features'].str.split(',', expand= True)\n",
    "dfTemp.dropna(thresh=39).head(10)"
   ],
   "id": "8298ef8f2fe42e46",
   "outputs": [],
   "execution_count": null
  },
  {
   "metadata": {},
   "cell_type": "markdown",
   "source": [
    "### Graphing, however check github as kaggle doesn't allow proper rendering\n",
    "#### Below are the top companies and their count, text data also given for better understanding as visual is slightly impossible"
   ],
   "id": "d46135468d48ab0f"
  },
  {
   "metadata": {},
   "cell_type": "code",
   "source": [
    "dfTemp = dfN.dropna(subset='Serie').copy()\n",
    "HProComp=dfTemp[f'{col[0]}'].value_counts().to_dict()\n",
    "HProSerie=dfTemp[f'{col[1]}'].value_counts().to_dict()\n",
    "\n",
    "figHist1 = px.histogram(x=HProComp.keys(), y=HProComp.values(), color=HProComp.keys(), color_discrete_sequence=px.colors.qualitative.Antique, text_auto=True)\n",
    "for key, value in HProComp.items():\n",
    "    print(f'{key :<10} : {value :<10}')\n",
    "figHist1.update_layout(height=750).show()\n",
    "\n",
    "\n",
    "figHist2 = px.histogram(x=HProSerie.keys(), y=HProSerie.values(), color=HProSerie.keys(), color_discrete_sequence=px.colors.qualitative.Antique, text_auto=True)\n",
    "for key, value in HProSerie.items():\n",
    "    print(f'{key :<10} : {value :<10}')\n",
    "figHist2.update_layout(height=750).show()\n"
   ],
   "id": "ee2add37721f8ad",
   "outputs": [],
   "execution_count": null
  },
  {
   "metadata": {},
   "cell_type": "markdown",
   "source": "### Columns to their respective count",
   "id": "273b4d1cd8e0564c"
  },
  {
   "metadata": {
    "trusted": true,
    "execution": {
     "iopub.status.busy": "2025-06-09T10:57:20.233806Z",
     "iopub.execute_input": "2025-06-09T10:57:20.235074Z",
     "iopub.status.idle": "2025-06-09T10:57:20.255749Z",
     "shell.execute_reply.started": "2025-06-09T10:57:20.235027Z",
     "shell.execute_reply": "2025-06-09T10:57:20.254465Z"
    }
   },
   "cell_type": "code",
   "source": [
    "dfTemp = dfN.drop(columns=['Wireless LAN support','Supported Instruction Set(s)','Memory Interface(s)','Supported Audio/Video Interface','Supported USB Specification', 'Non-volatile Memory Interface'])\n",
    "temp = ['Wireless LAN support','Supported USB Specification', 'Supported Instruction Set(s)','Memory Interface(s)','Supported Audio/Video Interface','Non-volatile Memory Interface']\n",
    "col2 = set(col2) - set(temp)\n",
    "for value in col2:\n",
    "    if value == 'Year Released' or value == 'Number of processor core(s)':\n",
    "        dictTemp = dfTemp[f'{value}'].value_counts().to_dict()\n",
    "        figBar = px.bar(x=dictTemp.keys(), y=dictTemp.values(), color=dictTemp.keys(), color_continuous_scale=px.colors.sequential.Peach, title=f'{value}')\n",
    "        figBar.update_layout(height=750).show()\n",
    "    else:\n",
    "        dictTemp = dfTemp[f'{value}'].value_counts().to_dict()\n",
    "        figHist = px.histogram(x=dictTemp.keys(), y=dictTemp.values(), color=dictTemp.keys(), color_discrete_sequence=px.colors.qualitative.Vivid, title=f'{value}')\n",
    "        figHist.update_layout(height=750).show()"
   ],
   "id": "51bc591706b6335b",
   "outputs": [],
   "execution_count": null
  }
 ],
 "metadata": {
  "kernelspec": {
   "display_name": "Python 3 (ipykernel)",
   "language": "python",
   "name": "python3"
  },
  "language_info": {
   "codemirror_mode": {
    "name": "ipython",
    "version": 3
   },
   "file_extension": ".py",
   "mimetype": "text/x-python",
   "name": "python",
   "nbconvert_exporter": "python",
   "pygments_lexer": "ipython3",
   "version": "3.12.4"
  }
 },
 "nbformat": 4,
 "nbformat_minor": 5
}
